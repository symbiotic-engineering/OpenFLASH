{
 "cells": [
  {
   "cell_type": "code",
   "execution_count": null,
   "metadata": {
    "colab": {
     "base_uri": "https://localhost:8080/"
    },
    "id": "rSJf6s1tKGz7",
    "outputId": "d58c0339-e27d-4651-99ac-f4da2155a60f"
   },
   "outputs": [],
   "source": [
    "# This generates configuration values with Capytaine.\n",
    "\n",
    "#!pip install capytaine #uncomment if first time running\n",
    "\n",
    "import capytaine as cpt\n",
    "import numpy as np\n",
    "import matplotlib.pyplot as plt\n",
    "import copy\n",
    "from capytaine.bem.airy_waves import airy_waves_potential, airy_waves_velocity, froude_krylov_force\n"
   ]
  },
  {
   "cell_type": "code",
   "execution_count": null,
   "metadata": {
    "id": "ukVJNFS8XIfE"
   },
   "outputs": [],
   "source": [
    "def save_potential_array(title, arr):\n",
    "    file_path = title + \"-real\" + \".csv\"\n",
    "    np.savetxt(file_path, np.real(arr), delimiter=\",\", fmt=\"%.6e\")\n",
    "    file_path = title + \"-imag\" + \".csv\"\n",
    "    np.savetxt(file_path, np.imag(arr), delimiter=\",\", fmt=\"%.6e\")"
   ]
  },
  {
   "cell_type": "code",
   "execution_count": null,
   "metadata": {},
   "outputs": [],
   "source": [
    "# Making the body\n",
    "def body_from_profile(x,y,z,nphi):\n",
    "    xyz = np.array([np.array([x/np.sqrt(2),y/np.sqrt(2),z]) for x,y,z in zip(x,y,z)])    # /sqrt(2) to account for the scaling\n",
    "    body = cpt.FloatingBody(cpt.AxialSymmetricMesh.from_profile(xyz, nphi=nphi))\n",
    "    return body\n",
    "\n",
    "def make_surface(ztop, zbot, rin, rout, fdensity, tdensity):\n",
    "    zarr = np.linspace(- zbot, -ztop, fdensity)\n",
    "    rarr = np.linspace( rin, rout, fdensity)\n",
    "    return body_from_profile(rarr, rarr, zarr, tdensity)\n",
    "\n",
    "def make_shell(top, bottom, inner, outer, zdensity, rdensity, tdensity):\n",
    "    outer_surface = make_surface(top, bottom, outer, outer, zdensity, tdensity)\n",
    "    bottom_surface = make_surface(bottom, bottom, inner, outer, rdensity, tdensity)\n",
    "    top_surface = make_surface(top, top, inner, outer, rdensity, tdensity)\n",
    "    bod = outer_surface + bottom_surface + top_surface\n",
    "    if inner > 0:\n",
    "        inner_surface = make_surface(top, bottom, inner, inner, zdensity, tdensity)\n",
    "        bod = bod + inner_surface\n",
    "    return bod\n",
    "\n",
    "def make_bodies(attribute_lst): # Returns a list of shells, given parameters for each\n",
    "    bod_lst = []\n",
    "    for att in attribute_lst:\n",
    "        bod_lst.append(make_shell(att[\"top\"], att[\"bottom\"], att[\"inner\"], att[\"outer\"], att[\"zdensity\"], att[\"rdensity\"], att[\"tdensity\"]))\n",
    "    return bod_lst\n",
    "\n",
    "def add_heaves(bod_lst, heaving):\n",
    "    hcreate = False\n",
    "    screate = False\n",
    "    for i in range(len(heaving)): # Splits list of shells into those that are heaving and those that are not.\n",
    "        if heaving[i]:\n",
    "            if not hcreate:\n",
    "                heaving_body = bod_lst[i]\n",
    "                hcreate = True\n",
    "            else:\n",
    "                heaving_body = heaving_body + bod_lst[i]\n",
    "        else:\n",
    "            if not screate:\n",
    "                still_body = bod_lst[i]\n",
    "                screate = True\n",
    "            else:\n",
    "                still_body = still_body + bod_lst[i]\n",
    "    if hcreate: # Adds heave dof to the heaving collection\n",
    "        heaving_body.add_translation_dof(name='Heave')\n",
    "        if screate:\n",
    "            return (heaving_body + still_body)\n",
    "        else:\n",
    "            return (heaving_body)\n",
    "    else:\n",
    "        return (still_body)\n",
    "\n",
    "# getting an attribute list from the current multi-meem input setup\n",
    "def gen_to_att_lst(d, a, zdensities, rdensities, tdensities):\n",
    "    ct = len(d)\n",
    "    tops = [0] * ct\n",
    "    bottoms = d\n",
    "    inners = [0] + a[:-1]\n",
    "    outers = a\n",
    "    att_lst = []\n",
    "    key_lst = [\"top\", \"bottom\", \"inner\", \"outer\", \"zdensity\", \"rdensity\", \"tdensity\"]\n",
    "    for i in range(ct):\n",
    "        vals = [tops[i], bottoms[i], inners[i], outers[i], zdensities[i], rdensities[i], tdensities[i]]\n",
    "        att = {}\n",
    "        for j in range(len(key_lst)):\n",
    "            att[key_lst[j]] = vals[j]\n",
    "        att_lst.append(att)\n",
    "\n",
    "    return att_lst\n",
    "\n",
    "###################################\n",
    "# Solving\n",
    "solver = cpt.BEMSolver()\n",
    "\n",
    "def rb_solve(d, a, zdensities, rdensities, tdensities, heaving, m0, h, rho):\n",
    "    att_lst = gen_to_att_lst(d, a, zdensities, rdensities, tdensities)\n",
    "    bod_lst = make_bodies(att_lst)\n",
    "    body = add_heaves(bod_lst, heaving)\n",
    "    body = body.immersed_part() # removes points above z = 0\n",
    "    body.show_matplotlib()\n",
    "    \n",
    "    rad_problem = cpt.RadiationProblem(body = body, wavenumber = m0, water_depth = h, rho = rho)\n",
    "    results = solver.solve(rad_problem, keep_details = True)\n",
    "    print(results.added_mass)\n",
    "    print(results.radiation_damping)\n",
    "    return results"
   ]
  },
  {
   "cell_type": "code",
   "execution_count": null,
   "metadata": {
    "colab": {
     "base_uri": "https://localhost:8080/",
     "height": 410
    },
    "id": "fYujEq2e3QqD",
    "outputId": "75513233-38a3-46e6-d3bc-991bddeea24f"
   },
   "outputs": [],
   "source": [
    "#original  - compound cylinder\n",
    "h = 1.001\n",
    "d = [0.5, 0.25]\n",
    "a = [0.5, 1]\n",
    "w = 1\n",
    "rho = 1023 # density of our special material\n",
    "zdensities = [10, 10]\n",
    "rdensities = [20, 20]\n",
    "tdensities = [50, 100]\n",
    "config = \"config0\"\n",
    "heaving = [1, 1]\n",
    "\n",
    "result = rb_solve(d, a, zdensities, rdensities, tdensities, heaving, w, h, rho)"
   ]
  },
  {
   "cell_type": "code",
   "execution_count": null,
   "metadata": {
    "id": "gV2Sd-xRL_Z5"
   },
   "outputs": [],
   "source": [
    "#staircase  - compound cylinder\n",
    "h = 1.5\n",
    "d = [1.1, 0.85, 0.75, 0.4, 0.15]\n",
    "a = [0.3, 0.5, 1, 1.2, 1.6]\n",
    "w = 1\n",
    "rho = 1023 # density of our special material\n",
    "zdensities = [20, 10, 30, 20, 15]\n",
    "rdensities = [10, 10, 20, 10, 15]\n",
    "tdensities = [40, 50, 70, 80, 100]\n",
    "config = \"config1\"\n",
    "heaving = [1, 1, 1, 1, 1]\n",
    "\n",
    "result = rb_solve(d, a, zdensities, rdensities, tdensities, heaving, w, h, rho)"
   ]
  },
  {
   "cell_type": "code",
   "execution_count": null,
   "metadata": {
    "id": "G4aw1fAAb7Vh"
   },
   "outputs": [],
   "source": [
    "#really tall  - compound cylinder\n",
    "h = 100\n",
    "d = [29, 7, 4]\n",
    "a = [3, 5, 10]\n",
    "w = 1\n",
    "rho = 1023 # density of our special material\n",
    "zdensities = [40, 10, 10]\n",
    "rdensities = [15, 10, 25]\n",
    "tdensities = [50, 80, 200]\n",
    "config = \"config2\"\n",
    "heaving = [1, 1, 1]\n",
    "\n",
    "result = rb_solve(d, a, zdensities, rdensities, tdensities, heaving, w, h, rho)"
   ]
  },
  {
   "cell_type": "code",
   "execution_count": null,
   "metadata": {
    "id": "AjeiVwZRPpcy"
   },
   "outputs": [],
   "source": [
    "#indents  - compound cylinder\n",
    "h = 1.9\n",
    "d = [0.5, 0.7, 0.8, 0.2, 0.5]\n",
    "a = [0.3, 0.5, 1, 1.2, 1.6]\n",
    "w = 1\n",
    "rho = 1023 # density of our special material\n",
    "zdensities = [15, 10, 30, 15, 25]\n",
    "rdensities = [10, 10, 20, 10, 15]\n",
    "tdensities = [40, 50, 70, 80, 100]\n",
    "config = \"config3\"\n",
    "heaving = [1, 1, 1, 1, 1]\n",
    "\n",
    "result = rb_solve(d, a, zdensities, rdensities, tdensities, heaving, w, h, rho)"
   ]
  },
  {
   "cell_type": "code",
   "execution_count": null,
   "metadata": {},
   "outputs": [],
   "source": [
    "#original - only outer heaving\n",
    "h = 1.001\n",
    "d = [0.5, 0.25]\n",
    "a = [0.5, 1]\n",
    "w = 1\n",
    "rho = 1023 # density of our special material\n",
    "zdensities = [10, 10]\n",
    "rdensities = [20, 20]\n",
    "tdensities = [50, 100]\n",
    "config = \"config4\"\n",
    "heaving = [0, 1]\n",
    "\n",
    "result = rb_solve(d, a, zdensities, rdensities, tdensities, heaving, w, h, rho)"
   ]
  },
  {
   "cell_type": "code",
   "execution_count": null,
   "metadata": {},
   "outputs": [],
   "source": [
    "#original - only inner heaving\n",
    "h = 1.001\n",
    "d = [0.5, 0.25]\n",
    "a = [0.5, 1]\n",
    "w = 1\n",
    "rho = 1023 # density of our special material\n",
    "zdensities = [10, 10]\n",
    "rdensities = [20, 20]\n",
    "tdensities = [50, 100]\n",
    "config = \"config5\"\n",
    "heaving = [1, 0]\n",
    "\n",
    "result = rb_solve(d, a, zdensities, rdensities, tdensities, heaving, w, h, rho)"
   ]
  },
  {
   "cell_type": "code",
   "execution_count": null,
   "metadata": {},
   "outputs": [],
   "source": [
    "#really tall  - spar not heaving\n",
    "h = 100\n",
    "d = [29, 7, 4]\n",
    "a = [3, 5, 10]\n",
    "w = 1\n",
    "rho = 1023 # density of our special material\n",
    "zdensities = [40, 10, 10]\n",
    "rdensities = [15, 10, 25]\n",
    "tdensities = [50, 80, 200]\n",
    "config = \"config6\"\n",
    "heaving = [0, 1, 1]\n",
    "\n",
    "result = rb_solve(d, a, zdensities, rdensities, tdensities, heaving, w, h, rho)"
   ]
  },
  {
   "cell_type": "code",
   "execution_count": null,
   "metadata": {
    "id": "Y__0sy0z_D-7"
   },
   "outputs": [],
   "source": [
    "# Get potentials\n",
    "# Define the ranges for R and Z\n",
    "R_range = np.linspace(0.0, 2*a[-1], num=50)\n",
    "theta_range = np.linspace(-np.pi, np.pi, num=4)\n",
    "Z_range = np.linspace(0, -h, num=50) #h\n",
    "\n",
    "# Create mesh grids for R, theta, and Z\n",
    "R, theta, Z = np.meshgrid(R_range, theta_range, Z_range, indexing='ij')\n",
    "\n",
    "# Convert cylindrical coordinates to Cartesian coordinates for capytaine\n",
    "X = R * np.cos(theta)\n",
    "Y = R * np.sin(theta)\n",
    "Z = Z\n",
    "# Create an array of shape (N, 3)\n",
    "points = np.zeros((R.size, 3))\n",
    "\n",
    "# Assign the values of R, Z, and y to the array\n",
    "points[:, 0] = X.ravel()\n",
    "points[:, 1] = Y.ravel()\n",
    "points[:, 2] = Z.ravel()\n",
    "#need cartesian here\n",
    "phi_inc = solver.compute_potential(points,result) #rad problem\n",
    "\n",
    "regions = []\n",
    "regions.append((R <= a[0]) & (Z > -d[0]))\n",
    "for i in range(1, len(a)):\n",
    "    regions.append((R > a[i-1]) & (R <= a[i]) & (Z > -d[i]))\n",
    "regions.append(R > a[-1])\n",
    "\n",
    "# Apply masks to create a blank plot in specified regions\n",
    "phi_inc = phi_inc.reshape((50,4,50))\n",
    "\n",
    "for i in range(len(a)):\n",
    "  phi_inc[regions[i]] = np.nan\n",
    "\n"
   ]
  },
  {
   "cell_type": "code",
   "execution_count": null,
   "metadata": {
    "id": "rNvMTwcSHgNT"
   },
   "outputs": [],
   "source": [
    "# Get velocities\n",
    "vel_inc = solver.compute_velocity(points,result)\n",
    "velx_inc = vel_inc[:,0].reshape((50,4,50))\n",
    "vely_inc = vel_inc[:,1].reshape((50,4,50))\n",
    "velz_inc = vel_inc[:,2].reshape((50,4,50))\n",
    "for i in range(len(a)):\n",
    "  velx_inc[regions[i]] = np.nan\n",
    "  vely_inc[regions[i]] = np.nan\n",
    "  velz_inc[regions[i]] = np.nan"
   ]
  },
  {
   "cell_type": "code",
   "execution_count": null,
   "metadata": {
    "colab": {
     "base_uri": "https://localhost:8080/",
     "height": 1000
    },
    "id": "-7Zut1alw6zS",
    "outputId": "5cf0dff0-4741-408a-864a-e37a20e9caef"
   },
   "outputs": [],
   "source": [
    "# Plot potentials and velocities\n",
    "# The slicing limits the y-value to 0 because we only care about the x-z (r-z) plane.\n",
    "plt.contourf(R[:, 0, :], Z[:, 0, :], phi_inc[:, 0, :], cmap='viridis', levels = 50)\n",
    "plt.colorbar(label='Potential')\n",
    "plt.contour(R[:, 0, :], Z[:, 0, :], phi_inc[:, 0, :], colors='black', linestyles='solid', linewidths=0.05,levels=50)\n",
    "\n",
    "# Add labels and title\n",
    "plt.xlabel('R')\n",
    "plt.ylabel('Z')\n",
    "plt.title('Contour Plot of Re(Potential) using BEM')\n",
    "\n",
    "plt.show()\n",
    "\n",
    "imag_phi_inc = np.imag(phi_inc[:, 0, :])\n",
    "\n",
    "nan_mask = np.isnan(np.real(phi_inc[:, 0, :]))\n",
    "\n",
    "np.imag(phi_inc[:, 0, :])[nan_mask] = np.nan\n",
    "\n",
    "plt.contourf(R[:, 0, :], Z[:, 0, :], imag_phi_inc, cmap='viridis', levels = 50)\n",
    "plt.colorbar(label='Potential')\n",
    "plt.contour(R[:, 0, :], Z[:, 0, :], imag_phi_inc, colors='black', linestyles='solid', linewidths=0.05,levels=50)\n",
    "\n",
    "\n",
    "# Add labels and title\n",
    "plt.xlabel('R')\n",
    "plt.ylabel('Z')\n",
    "plt.title('Contour Plot of Im(Potential) using BEM')\n",
    "\n",
    "plt.show()\n",
    "\n",
    "def plot_vel(data, title):\n",
    "  plt.contourf(R[:, 0, :], Z[:, 0, :], data[:, 0, :], cmap='viridis', levels = 50)\n",
    "  plt.colorbar(label='V')\n",
    "  plt.contour(R[:, 0, :], Z[:, 0, :], data[:, 0, :], colors='black', linestyles='solid', linewidths=0.05,levels=50)\n",
    "\n",
    "  # Add labels and title\n",
    "  plt.xlabel('R')\n",
    "  plt.ylabel('Z')\n",
    "  plt.title(title)\n",
    "\n",
    "  plt.show()\n",
    "\n",
    "nan_mask = np.isnan(np.real(velx_inc))\n",
    "\n",
    "velx_imag = np.imag(velx_inc)\n",
    "velz_imag = np.imag(velz_inc)\n",
    "\n",
    "velx_imag[nan_mask] = np.nan\n",
    "velz_imag[nan_mask] = np.nan\n",
    "\n",
    "plot_vel(velx_inc, \"Contour Plot of Re(Vx) using BEM\")\n",
    "plot_vel(velx_imag, \"Contour Plot of Im(Vx) using BEM\")\n",
    "plot_vel(velz_inc, \"Contour Plot of Re(Vz) using BEM\")\n",
    "plot_vel(velz_imag, \"Contour Plot of Im(Vz) using BEM\")\n"
   ]
  },
  {
   "cell_type": "code",
   "execution_count": null,
   "metadata": {
    "colab": {
     "base_uri": "https://localhost:8080/"
    },
    "id": "sa0mkZllZw_V",
    "outputId": "b67eb2b3-636d-4bcb-b73a-74f5f7a5e070"
   },
   "outputs": [],
   "source": [
    "save_potential_array(config, phi_inc[:, 0, :])\n",
    "# WARNING: This overwrites existing files with the same name. Ensure that <config> is correct before running."
   ]
  },
  {
   "cell_type": "code",
   "execution_count": null,
   "metadata": {},
   "outputs": [],
   "source": [
    "print(result.added_mass)\n",
    "print(result.radiation_damping)\n",
    "print((result.added_mass)[\"Heave\"]/(result.radiation_damping)[\"Heave\"])"
   ]
  },
  {
   "cell_type": "code",
   "execution_count": null,
   "metadata": {},
   "outputs": [],
   "source": [
    "# Code blocks below are draft code or old code, not to run but may contain useful content for future reference if something bugs out."
   ]
  },
  {
   "cell_type": "code",
   "execution_count": null,
   "metadata": {},
   "outputs": [],
   "source": [
    "# This code cannot handle non-heaving regions, but matches significantly better for radiation_damping.\n",
    "# It also underestimates instead of overestimates added_mass wrt to the MEEM file.\n",
    "\n",
    "def body_from_profile(x,y,z,nphi):\n",
    "    xyz = np.array([np.array([x/np.sqrt(2),y/np.sqrt(2),z]) for x,y,z in zip(x,y,z)])    # /sqrt(2) to account for the scaling\n",
    "    body = cpt.FloatingBody(cpt.AxialSymmetricMesh.from_profile(xyz, nphi=nphi))\n",
    "    return body\n",
    "\n",
    "def make_surface(ztop, zbot, rin, rout, fdensity, tdensity):\n",
    "    zarr = np.linspace(- zbot, -ztop, fdensity)\n",
    "    rarr = np.linspace( rin, rout, fdensity)\n",
    "    return body_from_profile(rarr, rarr, zarr, tdensity)\n",
    "\n",
    "def make_body(d, a, zdensities, rdensities, tdensities):\n",
    "    # top_surface = make_surface(0, 0, 0, a[-1], fdensity, cdensity)\n",
    "    \n",
    "    bot_surface = make_surface(d[0], d[0], 0, a[0], rdensities[0], tdensities[0])\n",
    "\n",
    "    outer_surface = make_surface(0 , d[-1], a[-1], a[-1], zdensities[-1], tdensities[-1])\n",
    "\n",
    "    bod = bot_surface + outer_surface # + top_surface\n",
    "\n",
    "    for i in range(1, len(a)):\n",
    "      # make sides\n",
    "        side = make_surface( d[i] , d[i-1], a[i-1], a[i-1], zdensities[i-1], tdensities[i-1])\n",
    "      # make bottoms\n",
    "        bot = make_surface( d[i] , d[i], a[i-1], a[i], rdensities[i], tdensities[i])\n",
    "        bod = bod + side + bot\n",
    "\n",
    "    return bod\n",
    "\n",
    "solver = cpt.BEMSolver()\n",
    "def rb_solve(d, a, zdensities, rdensities, tdensities, rho):\n",
    "    body = make_body(d, a, zdensities, rdensities, tdensities)\n",
    "    body.add_translation_dof(name='Heave')\n",
    "    body = body.immersed_part()\n",
    "    body.show_matplotlib()\n",
    "    \n",
    "    rad_problem = cpt.RadiationProblem(body=body, wavenumber = w, water_depth=h, rho = rho)\n",
    "    results = solver.solve(rad_problem, keep_details = True)\n",
    "    return results"
   ]
  },
  {
   "cell_type": "code",
   "execution_count": null,
   "metadata": {},
   "outputs": [],
   "source": []
  }
 ],
 "metadata": {
  "colab": {
   "provenance": []
  },
  "kernelspec": {
   "display_name": "Python 3 (ipykernel)",
   "language": "python",
   "name": "python3"
  },
  "language_info": {
   "codemirror_mode": {
    "name": "ipython",
    "version": 3
   },
   "file_extension": ".py",
   "mimetype": "text/x-python",
   "name": "python",
   "nbconvert_exporter": "python",
   "pygments_lexer": "ipython3",
   "version": "3.11.10"
  }
 },
 "nbformat": 4,
 "nbformat_minor": 4
}
