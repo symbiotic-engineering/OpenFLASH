{
 "cells": [
  {
   "cell_type": "code",
   "execution_count": 1,
   "id": "1b641d8b-5164-41d9-8a7e-e1a0091bdf2b",
   "metadata": {},
   "outputs": [],
   "source": [
    "#import block\n",
    "import numpy as np\n",
    "from scipy.special import hankel1 as besselh\n",
    "import scipy.linalg as linalg\n",
    "from numpy import log, pi, sqrt"
   ]
  },
  {
   "cell_type": "code",
   "execution_count": 2,
   "id": "3f007c8e-2adb-42be-855b-582b69ee3497",
   "metadata": {},
   "outputs": [],
   "source": [
    "#variable block\n",
    "h = 1.001\n",
    "d = [0.5, 0.25]\n",
    "a = [0.5, 1]\n",
    "heaving = [0, 1]\n",
    "m0s = [0.0001, 0.001, 0.01]\n",
    "g = 9.81\n",
    "rho = 1023"
   ]
  },
  {
   "cell_type": "code",
   "execution_count": 3,
   "id": "3e166487-cc4a-458f-96af-7e0dc6c0af87",
   "metadata": {},
   "outputs": [],
   "source": [
    "#useful constants block\n",
    "bds = len(a) # number of boundaries"
   ]
  },
  {
   "cell_type": "code",
   "execution_count": 4,
   "id": "2aa3a2f8-164a-4ada-986b-6fd79ff2f40c",
   "metadata": {},
   "outputs": [],
   "source": [
    "def particular_potential(r, n):\n",
    "    if n >= bds: # free surface region\n",
    "        return 0\n",
    "    if heaving[n]:\n",
    "        return - (r**2)/(4 * (h - d[n]))\n",
    "    else:\n",
    "        return 0\n",
    "\n",
    "def diff_particular_potential_total(r, n):\n",
    "    if n >= bds: # free surface region\n",
    "        return 0\n",
    "    if heaving[n]:\n",
    "        return - r/2\n",
    "    else:\n",
    "        return 0\n",
    "\n",
    "def b_potential_entry(n):\n",
    "    return - particular_potential(a[n], n) + particular_potential(a[n], n + 1)\n",
    "\n",
    "def b_velocity_entry(n):\n",
    "    return - diff_particular_potential_total(a[n], n) + diff_particular_potential_total(a[n], n + 1)\n",
    "    \n",
    "# sets potential equation for nth boundary into the A matrix\n",
    "def potential_row(A, n, m0):\n",
    "    if n == 0:\n",
    "        if bds == 1: # single cylinder\n",
    "            A[0][0] = 1\n",
    "            A[0][1] = besselh(0, m0 * a[0])\n",
    "        else:\n",
    "            A[0][0] = 1\n",
    "            A[0][1] = 1\n",
    "            A[0][2] = log(a[0])\n",
    "    elif n == bds - 1:\n",
    "        A[n][2*n - 1] = 1\n",
    "        A[n][2*n] = log(a[n])\n",
    "        A[n][2*n + 1] = besselh(0, m0 * a[n])\n",
    "    else:\n",
    "        A[n][2*n - 1] = 1\n",
    "        A[n][2*n] = log(a[n])\n",
    "        A[n][2*n + 1] = 1\n",
    "        A[n][2*n + 2] = log(a[n])\n",
    "\n",
    "def velocity_row(A, n, m0):\n",
    "    if n == 0:\n",
    "        if bds == 1: # single cylinder\n",
    "            A[bds][0] = 0\n",
    "            A[bds][1] = - h * m0 * besselh(1, m0 * a[0])\n",
    "        else:\n",
    "            A[bds][0] = 0\n",
    "            A[bds][1] = 0\n",
    "            A[bds][2] = 1/a[0] * (h - d[1])\n",
    "    elif n == bds - 1:\n",
    "        A[bds + n][2*n - 1] = 0\n",
    "        A[bds + n][2*n] = 1/a[n] * (h - d[n])\n",
    "        A[bds + n][2*n + 1] = - h * m0 * besselh(1, m0 * a[n])\n",
    "    else:\n",
    "        A[bds + n][2*n - 1] = 0\n",
    "        A[bds + n][2*n] = 1/a[n] * (h - d[n])\n",
    "        A[bds + n][2*n + 1] = 0\n",
    "        A[bds + n][2*n + 2] = 1/a[n] * (h - d[n + 1])\n",
    "\n",
    "def build_A(m0):\n",
    "    A = np.zeros((2 * bds, 2 * bds), dtype = complex)\n",
    "    for n in range(bds):\n",
    "        potential_row(A, n, m0)\n",
    "        velocity_row(A, n, m0)\n",
    "    return A\n",
    "\n",
    "def build_B():\n",
    "    b1 = (np.vectorize(b_potential_entry, otypes = [float]))(list(range(bds)))\n",
    "    b2 = (np.vectorize(b_velocity_entry, otypes = [float]))(list(range(bds)))\n",
    "    return np.concatenate([b1, b2])\n",
    "    \n",
    "\n",
    "# modifies A matrix for a particular m0, all other parameters the same.\n",
    "def A_new_m0(A, m0):\n",
    "    A[bds-1][2*bds-1] = besselh(0, m0 * a[-1]) \n",
    "    A[2*bds-1][2*bds-1] = - h * m0 * besselh(1, m0 * a[-1])\n",
    "    "
   ]
  },
  {
   "cell_type": "code",
   "execution_count": 13,
   "id": "706c4ce5-0ada-472c-a626-7ca5ca0b0466",
   "metadata": {},
   "outputs": [],
   "source": [
    "# hydro coefficient calculation functions\n",
    "def particular_potential_int_eval(region, boundary):\n",
    "    return (a[boundary]**2)/(16 * (h - d[region]))\n",
    "\n",
    "def total_particular():\n",
    "    accumulator = 0\n",
    "    for region in range(bds):\n",
    "        if heaving[region]:\n",
    "            if region == 0:\n",
    "                accumulator += particular_potential_int_eval(0, 0)\n",
    "            else:\n",
    "                accumulator += particular_potential_int_eval(region, region) - particular_potential_int_eval(region, region - 1)\n",
    "    return accumulator\n",
    "\n",
    "#dphi/dz mandated to be 1 in the heaving regions, so just integrate potential * r\n",
    "\n",
    "def ln_potential_int_eval(bd):\n",
    "    return (a[bd]**2/2) * (log(a[bd]) - 1/2)\n",
    "\n",
    "def const_potential_int_eval(bd):\n",
    "    return (a[bd]**2/2)\n",
    "\n",
    "def create_c_vector():\n",
    "    c = []\n",
    "    for region in range(bds):\n",
    "        if region == 0:\n",
    "            if heaving[0]:\n",
    "                c.append(const_potential_int_eval(0))\n",
    "            else:\n",
    "                c.append(0)\n",
    "        else:\n",
    "            if heaving[region]:\n",
    "                c.append(const_potential_int_eval(region) - const_potential_int_eval(region - 1))\n",
    "                c.append(ln_potential_int_eval(region) - ln_potential_int_eval(region - 1))\n",
    "            else:\n",
    "                c.append(0)\n",
    "                c.append(0)\n",
    "    return c\n",
    "\n",
    "def get_hydro_coeffs(X, m0):\n",
    "    const = total_particular()\n",
    "    c = create_c_vector()\n",
    "    raw = np.dot(X, c) + const\n",
    "    total = 2 * pi * rho * raw * h**3 \n",
    "    return np.real(total), (np.imag(total)) # * omega_from_m0(m0))\n",
    "\n",
    "def to_nondim(coeff, a_norm):\n",
    "    return coeff/(pi * a_norm**3 * rho)\n",
    "\n",
    "def omega_from_m0(m0): # at small m0 approximation\n",
    "    return sqrt(m0**2 * h * g)\n",
    "\n",
    "def get_max_heaving_radius():\n",
    "    max_rad = a[0]\n",
    "    for i in range(bds - 1, 0, -1):\n",
    "        if heaving[i]:\n",
    "            max_rad = a[i]\n",
    "            break\n",
    "    return max_rad"
   ]
  },
  {
   "cell_type": "code",
   "execution_count": 6,
   "id": "23da91e8-3cda-4b8d-b37f-eeedb40addb3",
   "metadata": {},
   "outputs": [],
   "source": [
    "A = build_A(m0s[0])\n",
    "b = build_B()\n",
    "\n",
    "solutions = []\n",
    "\n",
    "for m0 in m0s:\n",
    "    A_new_m0(A, m0)\n",
    "    solutions.append(linalg.solve(A,b))"
   ]
  },
  {
   "cell_type": "code",
   "execution_count": 14,
   "id": "1dc992e4-d47e-43b8-89a9-dbafed4b748f",
   "metadata": {},
   "outputs": [
    {
     "name": "stdout",
     "output_type": "stream",
     "text": [
      "[(15393.495061672578, 2371.126784863897), (11917.687922270203, 2371.109178341888), (8440.072501356692, 2369.8895160061966)]\n",
      "[(4.789737694087725, 0.737784063555586), (3.7082286276752345, 0.7377785852271239), (2.6261569083966667, 0.737399083194615)]\n"
     ]
    }
   ],
   "source": [
    "regular_hydros = []\n",
    "nondim_hydros = []\n",
    "a_norm = get_max_heaving_radius()\n",
    "for i in range(len(m0s)):\n",
    "    added_mass, damping = get_hydro_coeffs(solutions[i][:-1], m0s[i])\n",
    "    regular_hydros.append((added_mass, damping))\n",
    "    nondim_hydros.append((to_nondim(added_mass, a_norm), to_nondim(damping, a_norm)))\n",
    "print(regular_hydros)\n",
    "print(nondim_hydros)"
   ]
  },
  {
   "cell_type": "code",
   "execution_count": 15,
   "id": "0b2473fe-0b68-4f9f-ba0f-f872f05086cf",
   "metadata": {},
   "outputs": [
    {
     "name": "stdout",
     "output_type": "stream",
     "text": [
      "[2.30028481 1.72521361 1.1501424 ]\n",
      "0.3923067749238004\n",
      "[2.58782041 1.94086531 1.2939102 ]\n",
      "0.44134512178927543\n"
     ]
    }
   ],
   "source": [
    "print((- a[0]/(2*h) * log (m0s * a[1])))\n",
    "print(pi * a[0] / (4 * h))\n",
    "print(-a[1]/(2*h)*(1 - (a[0]/a[1])**2)**2*log(m0s * a[1]))\n",
    "print(pi * a[1] / (4 * h) * (1 - (a[0]/a[1])**2)**2)"
   ]
  },
  {
   "cell_type": "code",
   "execution_count": 9,
   "id": "37b4f245-91ba-4138-a132-637a9644a8da",
   "metadata": {},
   "outputs": [
    {
     "name": "stdout",
     "output_type": "stream",
     "text": [
      "1\n"
     ]
    }
   ],
   "source": [
    "print(a_norm)"
   ]
  }
 ],
 "metadata": {
  "kernelspec": {
   "display_name": "Python 3 (ipykernel)",
   "language": "python",
   "name": "python3"
  },
  "language_info": {
   "codemirror_mode": {
    "name": "ipython",
    "version": 3
   },
   "file_extension": ".py",
   "mimetype": "text/x-python",
   "name": "python",
   "nbconvert_exporter": "python",
   "pygments_lexer": "ipython3",
   "version": "3.11.10"
  }
 },
 "nbformat": 4,
 "nbformat_minor": 5
}
