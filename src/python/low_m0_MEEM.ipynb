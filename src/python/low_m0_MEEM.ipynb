{
 "cells": [
  {
   "cell_type": "code",
   "execution_count": 1,
   "id": "1b641d8b-5164-41d9-8a7e-e1a0091bdf2b",
   "metadata": {},
   "outputs": [],
   "source": [
    "#import block\n",
    "import numpy as np\n",
    "from scipy.special import hankel1 as besselh\n",
    "import scipy.linalg as linalg\n",
    "from numpy import log, pi, sqrt\n",
    "import matplotlib.pyplot as plt"
   ]
  },
  {
   "cell_type": "code",
   "execution_count": 2,
   "id": "3f007c8e-2adb-42be-855b-582b69ee3497",
   "metadata": {},
   "outputs": [],
   "source": [
    "#variable block\n",
    "h = 1\n",
    "d = [0.5, 0.25]\n",
    "a = [0.5, 1]\n",
    "heaving = [1, 0]\n",
    "m0s = np.array(list(range(1, 101, 1))) * 1e-6\n",
    "g = 9.81\n",
    "rho = 1023"
   ]
  },
  {
   "cell_type": "code",
   "execution_count": 3,
   "id": "3e166487-cc4a-458f-96af-7e0dc6c0af87",
   "metadata": {},
   "outputs": [],
   "source": [
    "#useful constants block\n",
    "bds = len(a) # number of boundaries"
   ]
  },
  {
   "cell_type": "code",
   "execution_count": 4,
   "id": "2aa3a2f8-164a-4ada-986b-6fd79ff2f40c",
   "metadata": {},
   "outputs": [],
   "source": [
    "def particular_potential(r, n):\n",
    "    if n >= bds: # free surface region\n",
    "        return 0\n",
    "    if heaving[n]:\n",
    "        return - (r**2)/(4 * (h - d[n]))\n",
    "    else:\n",
    "        return 0\n",
    "\n",
    "def diff_particular_potential_total(r, n):\n",
    "    if n >= bds: # free surface region\n",
    "        return 0\n",
    "    if heaving[n]:\n",
    "        return - r/2\n",
    "    else:\n",
    "        return 0\n",
    "\n",
    "def b_potential_entry(n):\n",
    "    return - particular_potential(a[n], n) + particular_potential(a[n], n + 1)\n",
    "\n",
    "def b_velocity_entry(n):\n",
    "    return - diff_particular_potential_total(a[n], n) + diff_particular_potential_total(a[n], n + 1)\n",
    "    \n",
    "# sets potential equation for nth boundary into the A matrix\n",
    "def potential_row(A, n, m0):\n",
    "    if n == 0:\n",
    "        if bds == 1: # single cylinder\n",
    "            A[0][0] = 1\n",
    "            A[0][1] = - besselh(0, m0 * a[0])\n",
    "        else:\n",
    "            A[0][0] = 1\n",
    "            A[0][1] = - 1\n",
    "            A[0][2] = - log(a[0])\n",
    "    elif n == bds - 1:\n",
    "        A[n][2*n - 1] = 1\n",
    "        A[n][2*n] = log(a[n])\n",
    "        A[n][2*n + 1] = - besselh(0, m0 * a[n])\n",
    "    else:\n",
    "        A[n][2*n - 1] = 1\n",
    "        A[n][2*n] = log(a[n])\n",
    "        A[n][2*n + 1] = - 1\n",
    "        A[n][2*n + 2] = - log(a[n])\n",
    "\n",
    "def velocity_row(A, n, m0):\n",
    "    if n == 0:\n",
    "        if bds == 1: # single cylinder\n",
    "            A[bds][0] = 0\n",
    "            A[bds][1] = h * m0 * besselh(1, m0 * a[0])\n",
    "        else:\n",
    "            A[bds][0] = 0\n",
    "            A[bds][1] = 0\n",
    "            A[bds][2] = - 1/a[0] * (h - d[1])\n",
    "    elif n == bds - 1:\n",
    "        A[bds + n][2*n - 1] = 0\n",
    "        A[bds + n][2*n] = 1/a[n] * (h - d[n])\n",
    "        A[bds + n][2*n + 1] = h * m0 * besselh(1, m0 * a[n])\n",
    "    else:\n",
    "        A[bds + n][2*n - 1] = 0\n",
    "        A[bds + n][2*n] = 1/a[n] * (h - d[n])\n",
    "        A[bds + n][2*n + 1] = 0\n",
    "        A[bds + n][2*n + 2] = - 1/a[n] * (h - d[n + 1])\n",
    "\n",
    "def build_A(m0):\n",
    "    A = np.zeros((2 * bds, 2 * bds), dtype = complex)\n",
    "    for n in range(bds):\n",
    "        potential_row(A, n, m0)\n",
    "        velocity_row(A, n, m0)\n",
    "    return A\n",
    "\n",
    "def build_B():\n",
    "    b1 = (np.vectorize(b_potential_entry, otypes = [float]))(list(range(bds)))\n",
    "    b2 = (np.vectorize(b_velocity_entry, otypes = [float]))(list(range(bds)))\n",
    "    return np.concatenate([b1, b2])\n",
    "    \n",
    "\n",
    "# modifies A matrix for a particular m0, all other parameters the same.\n",
    "def A_new_m0(A, m0):\n",
    "    A[bds-1][2*bds-1] = - besselh(0, m0 * a[-1]) \n",
    "    A[2*bds-1][2*bds-1] = h * m0 * besselh(1, m0 * a[-1])\n",
    "    "
   ]
  },
  {
   "cell_type": "code",
   "execution_count": 5,
   "id": "706c4ce5-0ada-472c-a626-7ca5ca0b0466",
   "metadata": {},
   "outputs": [],
   "source": [
    "# hydro coefficient calculation functions\n",
    "def particular_potential_int_eval(region, boundary):\n",
    "    return -(a[boundary]**4)/(16 * (h - d[region]))\n",
    "\n",
    "def total_particular():\n",
    "    accumulator = 0\n",
    "    for region in range(bds):\n",
    "        if heaving[region]:\n",
    "            if region == 0:\n",
    "                accumulator += particular_potential_int_eval(0, 0)\n",
    "            else:\n",
    "                accumulator += particular_potential_int_eval(region, region) - particular_potential_int_eval(region, region - 1)\n",
    "    return accumulator\n",
    "\n",
    "#dphi/dz mandated to be 1 in the heaving regions, so just integrate potential * r\n",
    "\n",
    "def ln_potential_int_eval(bd):\n",
    "    return (a[bd]**2/2) * (log(a[bd]) - 1/2)\n",
    "\n",
    "def const_potential_int_eval(bd):\n",
    "    return (a[bd]**2/2)\n",
    "\n",
    "def create_c_vector():\n",
    "    c = []\n",
    "    for region in range(bds):\n",
    "        if region == 0:\n",
    "            if heaving[0]:\n",
    "                c.append(const_potential_int_eval(0))\n",
    "            else:\n",
    "                c.append(0)\n",
    "        else:\n",
    "            if heaving[region]:\n",
    "                c.append(const_potential_int_eval(region) - const_potential_int_eval(region - 1))\n",
    "                c.append(ln_potential_int_eval(region) - ln_potential_int_eval(region - 1))\n",
    "            else:\n",
    "                c.append(0)\n",
    "                c.append(0)\n",
    "    return c\n",
    "\n",
    "def get_hydro_coeffs(X, m0):\n",
    "    const = total_particular()\n",
    "    c = create_c_vector()\n",
    "    raw = np.dot(X, c) + const\n",
    "    total = 2 * pi * rho * raw #* h**3 \n",
    "    return np.real(total), (np.imag(total)) # * omega_from_m0(m0))\n",
    "\n",
    "def to_nondim(coeff, a_norm):\n",
    "    return coeff/(pi * a_norm**3 * rho)\n",
    "\n",
    "def omega_from_m0(m0): # at small m0 approximation\n",
    "    return sqrt(m0**2 * h * g)\n",
    "\n",
    "def get_max_heaving_radius():\n",
    "    max_rad = a[0]\n",
    "    for i in range(bds - 1, 0, -1):\n",
    "        if heaving[i]:\n",
    "            max_rad = a[i]\n",
    "            break\n",
    "    return max_rad"
   ]
  },
  {
   "cell_type": "code",
   "execution_count": 6,
   "id": "23da91e8-3cda-4b8d-b37f-eeedb40addb3",
   "metadata": {},
   "outputs": [],
   "source": [
    "A = build_A(m0s[0])\n",
    "b = build_B()\n",
    "\n",
    "solutions = []\n",
    "\n",
    "for m0 in m0s:\n",
    "    A_new_m0(A, m0)\n",
    "    solutions.append(linalg.solve(A,b))"
   ]
  },
  {
   "cell_type": "code",
   "execution_count": 7,
   "id": "1dc992e4-d47e-43b8-89a9-dbafed4b748f",
   "metadata": {},
   "outputs": [],
   "source": [
    "regular_hydros = []\n",
    "nondim_am = []\n",
    "nondim_d = []\n",
    "a_norm = get_max_heaving_radius()\n",
    "for i in range(len(m0s)):\n",
    "    added_mass, damping = get_hydro_coeffs(solutions[i][:-1], m0s[i])\n",
    "    nd_am, nd_d = to_nondim(added_mass, a_norm), to_nondim(damping, a_norm)\n",
    "    regular_hydros.append((added_mass, damping))\n",
    "    nondim_am.append(nd_am)\n",
    "    nondim_d.append(nd_d)"
   ]
  },
  {
   "cell_type": "code",
   "execution_count": 8,
   "id": "0b2473fe-0b68-4f9f-ba0f-f872f05086cf",
   "metadata": {},
   "outputs": [],
   "source": [
    "# 2012 solutions for low frequency\n",
    "\n",
    "a1, a2, d1, d2 = a[0], a[1], d[0], d[1]\n",
    "\n",
    "# Heaving outer cylinder\n",
    "def oc_heaving(m0):\n",
    "    term_1 = (a2/(2 * m0 * h)) * (1 - (a1/a2)**2) * (besselh(0, m0 * a2)) / (besselh(1, m0 * a2))\n",
    "    alpha = term_1 + ((a2**2 - a1**2)/4 + (a1**2/2) * log(a1/a2))/(h-d2)\n",
    "    beta = term_1 + ((a2**2)/4 - (a1**2/2) * log(a2))/(h-d2)\n",
    "    gamma = a1**2/(2 * (h-d2))\n",
    "    delta = (a2/(2 * m0 * h)) * (1 - (a1/a2)**2)/ (besselh(1, m0 * a2))\n",
    "    return [alpha, beta, gamma, delta]\n",
    "\n",
    "def oc_heaving_hydros(m0):\n",
    "    t1 = (a2**2 - a1**2)**2/(2 * h * m0 * a2) * (besselh(0, m0 * a2)) / (besselh(1, m0 * a2))\n",
    "    t2 = ((a2**2 - a1**2)**2 + 2 * a1**2 * (a1**2 - a2**2 + 2 * a1**2 * log(a2/a1)))/(8 * (h - d2))\n",
    "    val = (t1 + t2)/(a2 ** 3)\n",
    "    return np.real(val), np.imag(val)\n",
    "\n",
    "# Heaving inner cylinder\n",
    "def ic_heaving(m0):\n",
    "    term_1 = (a1**2/(2 * m0 * h * a2)) * (besselh(0, m0 * a2)) / (besselh(1, m0 * a2))\n",
    "    alpha = term_1 + (a1**2 * log(a2/a1))/(2 * (h-d2)) + a1**2/(4 * (h-d1))\n",
    "    beta = term_1 + (a1**2 * log(a2))/(2 * (h-d2))\n",
    "    gamma = -a1**2/(2 * (h-d2))\n",
    "    delta = (a1**2/(2 * m0 * h * a2))/ (besselh(1, m0 * a2))\n",
    "    return [alpha, beta, gamma, delta]\n",
    "\n",
    "def ic_heaving_hydros(m0):\n",
    "    t1 = (besselh(0, m0 * a2))/(h * m0 * a2 * besselh(1, m0 * a2))\n",
    "    t2 = log(a2/a1)/(h-d2) + 1/(4*(h-d1)) # I think it's an error that (eq. 84) has an 8 instead of a 4 here.\n",
    "    val = (a1/2) * (t1 + t2)\n",
    "    return np.real(val), np.imag(val)\n",
    "\n",
    "# the paper claims these as the limits but I'm not sure                    \n",
    "oc_heaving_ndr_hydros = -a[1]/(2*h)*(1 - (a[0]/a[1])**2)**2 * log(m0s * a[1])\n",
    "oc_heaving_ndi_hydros = len(m0s) * [pi * a[1] / (4 * h) * (1 - (a[0]/a[1])**2)**2]\n",
    "ic_heaving_ndr_hydros = - a[0]/(2*h) * log (m0s * a[1])\n",
    "ic_heaving_ndi_hydros = pi * a[0] / (4 * h)\n",
    "\n",
    "oc_coeffs = []\n",
    "ic_coeffs = []\n",
    "\n",
    "nondim_am_oc = []\n",
    "nondim_d_oc = []\n",
    "nondim_am_ic = []\n",
    "nondim_d_ic = []\n",
    "\n",
    "for m0 in m0s:\n",
    "    nd_oc_am, nd_oc_d = oc_heaving_hydros(m0)\n",
    "    nondim_am_oc.append(nd_oc_am)\n",
    "    nondim_d_oc.append(nd_oc_d)\n",
    "    nd_ic_am, nd_ic_d = ic_heaving_hydros(m0)\n",
    "    nondim_am_ic.append(nd_ic_am)\n",
    "    nondim_d_ic.append(nd_ic_d)\n",
    "    oc_coeffs.append(oc_heaving(m0))\n",
    "    ic_coeffs.append(ic_heaving(m0))"
   ]
  },
  {
   "cell_type": "code",
   "execution_count": 9,
   "id": "4fa2a631-807c-434f-afea-e7b2c37d35f0",
   "metadata": {},
   "outputs": [],
   "source": [
    "def coeff_comparisons(lst1, lst2, m0s):\n",
    "    for i in range(len(m0s)):\n",
    "        print(m0s[i])\n",
    "        print(lst1[i])\n",
    "        print(lst2[i])\n",
    "\n",
    "#coeff_comparisons(ic_coeffs, solutions, m0s)"
   ]
  },
  {
   "cell_type": "code",
   "execution_count": 10,
   "id": "5ed7976f-cb69-44cb-a719-3dc25dd1310e",
   "metadata": {},
   "outputs": [
    {
     "data": {
      "image/png": "[encoded data removed]",
      "text/plain": [
       "<Figure size 640x480 with 1 Axes>"
      ]
     },
     "metadata": {},
     "output_type": "display_data"
    }
   ],
   "source": [
    "def plot_compare(xs, ys1, ys2):\n",
    "    plt.plot(xs, ys1, color = \"blue\")\n",
    "    plt.plot(xs, ys2, color = \"red\")\n",
    "    #plt.plot(xs, ys3, color = \"green\")\n",
    "    #plt.plot(xs, np.array(ys1)-np.array(ys2), color = \"green\")\n",
    "\n",
    "plot_compare(m0s, nondim_am_ic, nondim_am)\n"
   ]
  },
  {
   "cell_type": "code",
   "execution_count": 11,
   "id": "93664e88-d8c5-48a6-8beb-8c3abf0a2461",
   "metadata": {},
   "outputs": [
    {
     "data": {
      "text/plain": [
       "[<matplotlib.lines.Line2D at 0x14c48cd50>]"
      ]
     },
     "execution_count": 11,
     "metadata": {},
     "output_type": "execute_result"
    },
    {
     "data": {
      "image/png": "[encoded data removed]",
      "text/plain": [
       "<Figure size 640x480 with 1 Axes>"
      ]
     },
     "metadata": {},
     "output_type": "display_data"
    }
   ],
   "source": [
    "plt.plot(m0s, np.array(nondim_am_ic)-np.array(nondim_am), color = \"green\")\n",
    "plt.plot(m0s, np.array(nondim_d)-np.array(nondim_d_ic), color = \"blue\")"
   ]
  },
  {
   "cell_type": "code",
   "execution_count": 12,
   "id": "cb02e216-08db-48b6-b892-1dc891ee54c1",
   "metadata": {},
   "outputs": [
    {
     "data": {
      "text/plain": [
       "[<matplotlib.lines.Line2D at 0x14a07e610>]"
      ]
     },
     "execution_count": 12,
     "metadata": {},
     "output_type": "execute_result"
    },
    {
     "data": {
      "image/png": "[encoded data removed]",
      "text/plain": [
       "<Figure size 640x480 with 1 Axes>"
      ]
     },
     "metadata": {},
     "output_type": "display_data"
    }
   ],
   "source": [
    "plt.plot(m0s, np.array(nondim_d)-np.array(ic_heaving_ndi_hydros), color = \"green\")"
   ]
  },
  {
   "cell_type": "code",
   "execution_count": 13,
   "id": "8511b980-0fd3-4c3d-b2f3-82af034c2929",
   "metadata": {},
   "outputs": [
    {
     "data": {
      "image/png": "[encoded data removed]",
      "text/plain": [
       "<Figure size 640x480 with 1 Axes>"
      ]
     },
     "metadata": {},
     "output_type": "display_data"
    }
   ],
   "source": [
    "plot_compare(m0s, nondim_d_ic, nondim_d)"
   ]
  },
  {
   "cell_type": "code",
   "execution_count": 14,
   "id": "966cc5ce-ad3d-47e4-9c39-2f67f47bd671",
   "metadata": {},
   "outputs": [],
   "source": [
    "def low_solver():\n",
    "    A = build_A(m0s[0])\n",
    "    b = build_B()\n",
    "    solutions = []\n",
    "    for m0 in m0s:\n",
    "        A_new_m0(A, m0)\n",
    "        solutions.append(linalg.solve(A,b))\n",
    "    \n",
    "    nondim_am = []\n",
    "    nondim_d = []\n",
    "    a_norm = get_max_heaving_radius()\n",
    "    for i in range(len(m0s)):\n",
    "        added_mass, damping = get_hydro_coeffs(solutions[i][:-1], m0s[i])\n",
    "        nd_am, nd_d = to_nondim(added_mass, a_norm), to_nondim(damping, a_norm)\n",
    "        nondim_am.append(nd_am)\n",
    "        nondim_d.append(nd_d)\n",
    "    return nondim_am, nondim_d\n",
    "\n",
    "added_mass_various = []\n",
    "damping_various = []"
   ]
  },
  {
   "cell_type": "code",
   "execution_count": 20,
   "id": "fc8b2a46-19bd-4808-9f81-1f389e0d00e9",
   "metadata": {},
   "outputs": [
    {
     "name": "stdout",
     "output_type": "stream",
     "text": [
      "1.3640262463216195\n",
      "2.5292031170945184\n",
      "3.6799572352241605\n",
      "4.830112987190839\n",
      "0.762195003759961\n",
      "0.7842040565083574\n",
      "0.7846076466946342\n",
      "0.7846134727493457\n"
     ]
    }
   ],
   "source": [
    "# config0 \n",
    "h = 1.001\n",
    "d = [0.5, 0.25]\n",
    "a = [0.5, 1]\n",
    "heaving = [1, 1]\n",
    "m0s = [0.1, 0.01, 0.001, 0.0001]\n",
    "\n",
    "bds = len(a) # number of boundaries\n",
    "\n",
    "added_mass, damping = low_solver()\n",
    "for am in added_mass:\n",
    "    print(am)\n",
    "for dmp in damping:\n",
    "    print(dmp)"
   ]
  },
  {
   "cell_type": "code",
   "execution_count": 19,
   "id": "66373c22-5c46-4b8c-8cde-0f5e4e045b79",
   "metadata": {},
   "outputs": [
    {
     "name": "stdout",
     "output_type": "stream",
     "text": [
      "1.1856963920659827\n",
      "2.4382407343103165\n",
      "3.667642581077993\n",
      "4.895719833223409\n",
      "0.7875175881343128\n",
      "0.8367400243252997\n",
      "0.8377429134078579\n",
      "0.8377578402971169\n"
     ]
    }
   ],
   "source": [
    "# config1\n",
    "h = 1.5\n",
    "d = [1.1, 0.85, 0.75, 0.4, 0.15]\n",
    "a = [0.3, 0.5, 1, 1.2, 1.6]\n",
    "heaving = [1, 1, 1, 1, 1]\n",
    "m0s = [0.1, 0.01, 0.001, 0.0001]\n",
    "\n",
    "bds = len(a) # number of boundaries\n",
    "\n",
    "added_mass, damping = low_solver()\n",
    "for am in added_mass:\n",
    "    print(am)\n",
    "for dmp in damping:\n",
    "    print(dmp)"
   ]
  },
  {
   "cell_type": "code",
   "execution_count": 21,
   "id": "6e400361-553c-402b-b640-3bc36592e30c",
   "metadata": {},
   "outputs": [
    {
     "name": "stdout",
     "output_type": "stream",
     "text": [
      "0.029734978422935793\n",
      "0.13243910771566925\n",
      "0.24907331248003647\n",
      "0.3642637997048136\n",
      "0.039593835603309264\n",
      "0.0762957198763721\n",
      "0.0784988260564866\n",
      "0.0785392254341329\n"
     ]
    }
   ],
   "source": [
    "# config2\n",
    "h = 100\n",
    "d = [29, 7, 4]\n",
    "a = [3, 5, 10]\n",
    "heaving = [1, 1, 1]\n",
    "\n",
    "bds = len(a) # number of boundaries\n",
    "\n",
    "added_mass, damping = low_solver()\n",
    "for am in added_mass:\n",
    "    print(am)\n",
    "for dmp in damping:\n",
    "    print(dmp)"
   ]
  },
  {
   "cell_type": "code",
   "execution_count": 22,
   "id": "2e28d720-ffd8-40ef-988e-7038039f52cc",
   "metadata": {},
   "outputs": [
    {
     "name": "stdout",
     "output_type": "stream",
     "text": [
      "0.9444870489527376\n",
      "1.9333378454614216\n",
      "2.9039182508043244\n",
      "3.8734529235507056\n",
      "0.6217244116849838\n",
      "0.6605842297304997\n",
      "0.6613759842693614\n",
      "0.6613877686556185\n"
     ]
    }
   ],
   "source": [
    "# config3\n",
    "h = 1.9\n",
    "d = [0.5, 0.7, 0.8, 0.2, 0.5]\n",
    "a = [0.3, 0.5, 1, 1.2, 1.6]\n",
    "heaving = [1, 1, 1, 1, 1]\n",
    "m0s = [0.1, 0.01, 0.001, 0.0001]\n",
    "\n",
    "bds = len(a) # number of boundaries\n",
    "\n",
    "added_mass, damping = low_solver()\n",
    "for am in added_mass:\n",
    "    print(am)\n",
    "for dmp in damping:\n",
    "    print(dmp)"
   ]
  },
  {
   "cell_type": "code",
   "execution_count": 23,
   "id": "56e2c44e-548f-4926-8260-2c98b30723da",
   "metadata": {},
   "outputs": [
    {
     "name": "stdout",
     "output_type": "stream",
     "text": [
      "0.7307707149903037\n",
      "1.3861827048000597\n",
      "2.0334818962479835\n",
      "2.68044450672924\n",
      "0.4287346896149781\n",
      "0.44111478178595115\n",
      "0.44134180126573175\n",
      "0.44134507842150694\n"
     ]
    }
   ],
   "source": [
    "# config4 \n",
    "h = 1.001\n",
    "d = [0.5, 0.25]\n",
    "a = [0.5, 1]\n",
    "heaving = [0, 1]\n",
    "m0s = [0.1, 0.01, 0.001, 0.0001]\n",
    "\n",
    "bds = len(a) # number of boundaries\n",
    "\n",
    "added_mass, damping = low_solver()\n",
    "for am in added_mass:\n",
    "    print(am)\n",
    "for dmp in damping:\n",
    "    print(dmp)"
   ]
  },
  {
   "cell_type": "code",
   "execution_count": 24,
   "id": "f1cf017c-2121-44ba-ba1d-194917f0f55b",
   "metadata": {},
   "outputs": [
    {
     "name": "stdout",
     "output_type": "stream",
     "text": [
      "0.9516871489179057\n",
      "1.5342755843043552\n",
      "2.1096526433691767\n",
      "2.6847305193525153\n",
      "0.3810975018799804\n",
      "0.3921020282541787\n",
      "0.39230382334731706\n",
      "0.3923067363746727\n"
     ]
    }
   ],
   "source": [
    "# config5\n",
    "h = 1.001\n",
    "d = [0.5, 0.25]\n",
    "a = [0.5, 1]\n",
    "heaving = [1, 0]\n",
    "m0s = [0.1, 0.01, 0.001, 0.0001]\n",
    "\n",
    "bds = len(a) # number of boundaries\n",
    "\n",
    "added_mass, damping = low_solver()\n",
    "for am in added_mass:\n",
    "    print(am)\n",
    "for dmp in damping:\n",
    "    print(dmp)"
   ]
  },
  {
   "cell_type": "code",
   "execution_count": 25,
   "id": "ce1e8510-b9d9-40b6-9fec-c67dffb1e647",
   "metadata": {},
   "outputs": [
    {
     "name": "stdout",
     "output_type": "stream",
     "text": [
      "0.02295458213957543\n",
      "0.10800387160688797\n",
      "0.2045886565722605\n",
      "0.2999778990430984\n",
      "0.032787655263100395\n",
      "0.06318048562962374\n",
      "0.06500487785737656\n",
      "0.06503833258200545\n"
     ]
    }
   ],
   "source": [
    "# config6\n",
    "h = 100\n",
    "d = [29, 7, 4]\n",
    "a = [3, 5, 10]\n",
    "heaving = [0, 1, 1]\n",
    "m0s = [0.1, 0.01, 0.001, 0.0001]\n",
    "\n",
    "bds = len(a) # number of boundaries\n",
    "\n",
    "added_mass, damping = low_solver()\n",
    "for am in added_mass:\n",
    "    print(am)\n",
    "for dmp in damping:\n",
    "    print(dmp)"
   ]
  }
 ],
 "metadata": {
  "kernelspec": {
   "display_name": "Python 3 (ipykernel)",
   "language": "python",
   "name": "python3"
  },
  "language_info": {
   "codemirror_mode": {
    "name": "ipython",
    "version": 3
   },
   "file_extension": ".py",
   "mimetype": "text/x-python",
   "name": "python",
   "nbconvert_exporter": "python",
   "pygments_lexer": "ipython3",
   "version": "3.11.10"
  }
 },
 "nbformat": 4,
 "nbformat_minor": 5
}
