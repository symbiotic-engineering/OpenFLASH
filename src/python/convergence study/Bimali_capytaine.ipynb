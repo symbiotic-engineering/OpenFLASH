{
 "cells": [
  {
   "cell_type": "code",
   "execution_count": 11,
   "metadata": {
    "colab": {
     "base_uri": "https://localhost:8080/"
    },
    "id": "rSJf6s1tKGz7",
    "outputId": "d58c0339-e27d-4651-99ac-f4da2155a60f"
   },
   "outputs": [],
   "source": [
    "# This generates configuration values with Capytaine.\n",
    "\n",
    "#!pip install capytaine #uncomment if first time running\n",
    "\n",
    "import capytaine as cpt\n",
    "import numpy as np\n",
    "import matplotlib.pyplot as plt\n",
    "import copy\n",
    "from capytaine.bem.airy_waves import airy_waves_potential, airy_waves_velocity, froude_krylov_force\n"
   ]
  },
  {
   "cell_type": "code",
   "execution_count": 2,
   "metadata": {
    "id": "ukVJNFS8XIfE"
   },
   "outputs": [],
   "source": [
    "def save_potential_array(title, arr):\n",
    "    file_path = title + \"-real\" + \".csv\"\n",
    "    np.savetxt(file_path, np.real(arr), delimiter=\",\", fmt=\"%.6e\")\n",
    "    file_path = title + \"-imag\" + \".csv\"\n",
    "    np.savetxt(file_path, np.imag(arr), delimiter=\",\", fmt=\"%.6e\")"
   ]
  },
  {
   "cell_type": "code",
   "execution_count": null,
   "metadata": {},
   "outputs": [],
   "source": [
    "def body_from_profile(x,y,z,nphi):\n",
    "    xyz = np.array([np.array([x/np.sqrt(2),y/np.sqrt(2),z]) for x,y,z in zip(x,y,z)])    # /sqrt(2) to account for the scaling\n",
    "    body = cpt.FloatingBody(cpt.AxialSymmetricMesh.from_profile(xyz, nphi=nphi))\n",
    "    return body\n",
    "\n",
    "def make_face(p1, p2, f_density, t_density):\n",
    "    zarr = np.linspace(p1[1], p2[1], f_density + 1)\n",
    "    rarr = np.linspace(p1[0], p2[0], f_density + 1)\n",
    "    return body_from_profile(rarr, rarr, zarr, t_density)\n",
    "\n",
    "def get_points(a, d): # These points define the outline of the body\n",
    "    d_prime = d + [0]\n",
    "    d_index = 0\n",
    "    a_index = 0\n",
    "    pt_lst = [(0, - d[0])]\n",
    "    for i in range(len(a)):\n",
    "        pt_lst.append((a[a_index], - d_prime[d_index]))\n",
    "        d_index +=1\n",
    "        pt_lst.append((a[a_index], - d_prime[d_index]))\n",
    "        a_index+=1\n",
    "    return pt_lst\n",
    "\n",
    "# compute number of panels along each surface given total number along the outline\n",
    "def get_f_densities(pt_lst, total_units):\n",
    "    face_lengths = np.array([])\n",
    "    for i in range(len(pt_lst) - 1):\n",
    "        p1, p2 = pt_lst[i], pt_lst[i + 1]\n",
    "        face_length = abs(p2[0] - p1[0]) + abs(p2[1] - p1[1]) # one of these two values will be zero\n",
    "        face_lengths = np.append(face_lengths, face_length)\n",
    "    total_length = sum(face_lengths)\n",
    "    each_face_densities = np.vectorize(lambda x: max(1, x/total_length * total_units))(face_lengths) # each face needs at least one panel\n",
    "    remainders = each_face_densities % 1\n",
    "    each_face_densities = each_face_densities.astype(int)\n",
    "    remaining_units = total_units - sum(each_face_densities)\n",
    "    if remaining_units < 0: # high proportion of small faces\n",
    "        for u in range(remaining_units * -1):\n",
    "            i = np.argmax(each_face_densities) # cut density from the largest faces\n",
    "            each_face_densities[i] = (each_face_densities[i]) - 1\n",
    "    else:\n",
    "        for u in range(remaining_units): # distribute remaining units where most needed\n",
    "            i = np.argmax(remainders)\n",
    "            each_face_densities[i] = (each_face_densities[i]) + 1\n",
    "            remainders[i] = 0\n",
    "    assert sum(each_face_densities) == total_units\n",
    "    return each_face_densities\n",
    "    \n",
    "def make_body(a, d, heaving, t_densities, face_units): \n",
    "    pts = get_points(a,d)\n",
    "    f_densities = get_f_densities(pts, face_units)\n",
    "    faces_and_heaves = []\n",
    "    panel_ct = 0\n",
    "    for i in range((len(pts) - 1) // 2):\n",
    "        p1, p2, p3 = pts[2 * i], pts[2 * i + 1], pts[2 * i + 2]\n",
    "        # make a horizontal face\n",
    "        h_face = make_face(p1, p2, f_densities[2 * i], t_densities[i])\n",
    "        h_heave = heaving[i]\n",
    "        faces_and_heaves.append((h_face, h_heave))\n",
    "        panel_ct += f_densities[2 * i] * t_densities[i]\n",
    "        # make a vertical face\n",
    "        if p2[1] < p3[1]: # body on left\n",
    "            region = i\n",
    "        else: # body on right\n",
    "            region = i + 1\n",
    "        v_face = make_face(p2, p3, f_densities[2 * i + 1], t_densities[region])\n",
    "        faces_and_heaves.append((v_face, heaving[region]))\n",
    "        panel_ct += f_densities[2 * i + 1] * t_densities[region]\n",
    "    body = add_heaves(faces_and_heaves)\n",
    "    return body, panel_ct\n",
    "    \n",
    "\n",
    "def add_heaves(faces_and_heaves):\n",
    "    hcreate = False\n",
    "    screate = False\n",
    "    for fh in faces_and_heaves: # Splits list of faces into those that are heaving and those that are not.\n",
    "        if fh[1]: #fh of the form (face, heaving)\n",
    "            if not hcreate:\n",
    "                heaving_body = fh[0]\n",
    "                hcreate = True\n",
    "            else:\n",
    "                heaving_body = heaving_body + fh[0]\n",
    "        else:\n",
    "            if not screate:\n",
    "                still_body = fh[0]\n",
    "                screate = True\n",
    "            else:\n",
    "                still_body = still_body + fh[0]\n",
    "    if hcreate: # Adds heave dof to the heaving collection\n",
    "        heaving_body.add_translation_dof(name='Heave')\n",
    "        if screate:\n",
    "            return (heaving_body + still_body)\n",
    "        else:\n",
    "            return (heaving_body)\n",
    "    else:\n",
    "        return (still_body)\n",
    "\n",
    "###################################\n",
    "# Solving\n",
    "solver = cpt.BEMSolver()\n",
    "\n",
    "def rb_solve(a, d, heaving, t_densities, face_units, m0, h, rho):\n",
    "    body, panel_count = make_body(a, d, heaving, t_densities, face_units)\n",
    "    body = body.immersed_part() # removes points above z = 0\n",
    "    # body.show_matplotlib()\n",
    "    \n",
    "    rad_problem = cpt.RadiationProblem(body = body, wavenumber = m0, water_depth = h, rho = rho)\n",
    "    results = solver.solve(rad_problem, keep_details = True)\n",
    "\n",
    "    rho = 1023 # density of our special material\n",
    "    g = 9.81\n",
    "    omega = np.sqrt(m0*np.tanh(m0*h)*g)\n",
    "\n",
    "    A = np.array(list(results.added_mass.values()))\n",
    "    B = np.array(list(results.radiation_damping.values()))\n",
    "    A_nondim = h**3 / (rho * np.pi * max(a)**3) * A\n",
    "    B_nondim = h**3 / (omega * rho * np.pi * max(a)**3) * B\n",
    "    # print(results.added_mass)\n",
    "    # print(type(results.added_mass))\n",
    "    # print(results.radiation_damping)\n",
    "    print(\"# of Panels: \", panel_count)\n",
    "    # return A, B, A_nondim, B_nondim\n",
    "    return A, B, A_nondim, B_nondim"
   ]
  },
  {
   "cell_type": "code",
   "execution_count": 8,
   "metadata": {},
   "outputs": [
    {
     "name": "stdout",
     "output_type": "stream",
     "text": [
      "# of Panels:  2500\n",
      "# of Panels:  2500\n",
      "# of Panels:  2500\n",
      "# of Panels:  2500\n",
      "# of Panels:  2500\n",
      "# of Panels:  2500\n",
      "# of Panels:  2500\n",
      "# of Panels:  2500\n",
      "# of Panels:  2500\n",
      "# of Panels:  2500\n",
      "# of Panels:  2500\n",
      "# of Panels:  2500\n",
      "# of Panels:  2500\n",
      "# of Panels:  2500\n",
      "# of Panels:  2500\n"
     ]
    },
    {
     "data": {
      "text/html": [
       "<pre style=\"white-space:pre;overflow-x:auto;line-height:normal;font-family:Menlo,'DejaVu Sans Mono',consolas,'Courier New',monospace\"><span style=\"color: #7fbfbf; text-decoration-color: #7fbfbf\">[22:52:59] </span><span style=\"color: #808000; text-decoration-color: #808000\">WARNING </span> Mesh resolution for <span style=\"color: #800080; text-decoration-color: #800080; font-weight: bold\">RadiationProblem</span><span style=\"font-weight: bold\">(</span><span style=\"color: #808000; text-decoration-color: #808000\">body</span>=<span style=\"color: #800080; text-decoration-color: #800080; font-weight: bold\">FloatingBody</span><span style=\"font-weight: bold\">(</span><span style=\"color: #808000; text-decoration-color: #808000\">...</span>,                                    \n",
       "<span style=\"color: #7fbfbf; text-decoration-color: #7fbfbf\">           </span>         <span style=\"color: #808000; text-decoration-color: #808000\">name</span>=<span style=\"color: #008000; text-decoration-color: #008000\">\"axisymmetric_mesh+axisymmetric_mesh+axisymmetric_mesh+axisymmetric_mesh+axisymmetric_mesh</span>\n",
       "<span style=\"color: #7fbfbf; text-decoration-color: #7fbfbf\">           </span>         <span style=\"color: #008000; text-decoration-color: #008000\">+axisymmetric_mesh\"</span><span style=\"font-weight: bold\">)</span>, <span style=\"color: #808000; text-decoration-color: #808000\">wavenumber</span>=<span style=\"color: #008080; text-decoration-color: #008080; font-weight: bold\">0.811</span>, <span style=\"color: #808000; text-decoration-color: #808000\">water_depth</span>=<span style=\"color: #008080; text-decoration-color: #008080; font-weight: bold\">20.0</span>, <span style=\"color: #808000; text-decoration-color: #808000\">radiating_dof</span>=<span style=\"color: #008000; text-decoration-color: #008000\">'Heave'</span>, <span style=\"color: #808000; text-decoration-color: #808000\">rho</span>=<span style=\"color: #008080; text-decoration-color: #008080; font-weight: bold\">1023.0</span><span style=\"font-weight: bold\">)</span>:  \n",
       "<span style=\"color: #7fbfbf; text-decoration-color: #7fbfbf\">           </span>         The resolution of the mesh of the body <span style=\"color: #800080; text-decoration-color: #800080; font-weight: bold\">FloatingBody</span><span style=\"font-weight: bold\">(</span><span style=\"color: #808000; text-decoration-color: #808000\">...</span>,                                       \n",
       "<span style=\"color: #7fbfbf; text-decoration-color: #7fbfbf\">           </span>         <span style=\"color: #808000; text-decoration-color: #808000\">name</span>=<span style=\"color: #008000; text-decoration-color: #008000\">\"axisymmetric_mesh+axisymmetric_mesh+axisymmetric_mesh+axisymmetric_mesh+axisymmetric_mesh</span>\n",
       "<span style=\"color: #7fbfbf; text-decoration-color: #7fbfbf\">           </span>         <span style=\"color: #008000; text-decoration-color: #008000\">+axisymmetric_mesh\"</span><span style=\"font-weight: bold\">)</span> might be insufficient for <span style=\"color: #808000; text-decoration-color: #808000\">wavenumber</span>=<span style=\"color: #008080; text-decoration-color: #008080; font-weight: bold\">0.8105263157894737</span>.                  \n",
       "<span style=\"color: #7fbfbf; text-decoration-color: #7fbfbf\">           </span>         This warning appears because the largest panel of this mesh has radius <span style=\"color: #008080; text-decoration-color: #008080; font-weight: bold\">0.992</span> &gt; wavelength/<span style=\"color: #008080; text-decoration-color: #008080; font-weight: bold\">8</span>.   \n",
       "</pre>\n"
      ],
      "text/plain": [
       "\u001b[2;36m[22:52:59]\u001b[0m\u001b[2;36m \u001b[0m\u001b[33mWARNING \u001b[0m Mesh resolution for \u001b[1;35mRadiationProblem\u001b[0m\u001b[1m(\u001b[0m\u001b[33mbody\u001b[0m=\u001b[1;35mFloatingBody\u001b[0m\u001b[1m(\u001b[0m\u001b[33m...\u001b[0m,                                    \n",
       "\u001b[2;36m           \u001b[0m         \u001b[33mname\u001b[0m=\u001b[32m\"axisymmetric_mesh\u001b[0m\u001b[32m+axisymmetric_mesh+axisymmetric_mesh+axisymmetric_mesh+axisymmetric_mesh\u001b[0m\n",
       "\u001b[2;36m           \u001b[0m         \u001b[32m+axisymmetric_mesh\"\u001b[0m\u001b[1m)\u001b[0m, \u001b[33mwavenumber\u001b[0m=\u001b[1;36m0\u001b[0m\u001b[1;36m.811\u001b[0m, \u001b[33mwater_depth\u001b[0m=\u001b[1;36m20\u001b[0m\u001b[1;36m.0\u001b[0m, \u001b[33mradiating_dof\u001b[0m=\u001b[32m'Heave'\u001b[0m, \u001b[33mrho\u001b[0m=\u001b[1;36m1023\u001b[0m\u001b[1;36m.0\u001b[0m\u001b[1m)\u001b[0m:  \n",
       "\u001b[2;36m           \u001b[0m         The resolution of the mesh of the body \u001b[1;35mFloatingBody\u001b[0m\u001b[1m(\u001b[0m\u001b[33m...\u001b[0m,                                       \n",
       "\u001b[2;36m           \u001b[0m         \u001b[33mname\u001b[0m=\u001b[32m\"axisymmetric_mesh\u001b[0m\u001b[32m+axisymmetric_mesh+axisymmetric_mesh+axisymmetric_mesh+axisymmetric_mesh\u001b[0m\n",
       "\u001b[2;36m           \u001b[0m         \u001b[32m+axisymmetric_mesh\"\u001b[0m\u001b[1m)\u001b[0m might be insufficient for \u001b[33mwavenumber\u001b[0m=\u001b[1;36m0\u001b[0m\u001b[1;36m.8105263157894737\u001b[0m.                  \n",
       "\u001b[2;36m           \u001b[0m         This warning appears because the largest panel of this mesh has radius \u001b[1;36m0.992\u001b[0m > wavelength/\u001b[1;36m8\u001b[0m.   \n"
      ]
     },
     "metadata": {},
     "output_type": "display_data"
    },
    {
     "name": "stdout",
     "output_type": "stream",
     "text": [
      "# of Panels:  2500\n"
     ]
    },
    {
     "data": {
      "text/html": [
       "<pre style=\"white-space:pre;overflow-x:auto;line-height:normal;font-family:Menlo,'DejaVu Sans Mono',consolas,'Courier New',monospace\"><span style=\"color: #7fbfbf; text-decoration-color: #7fbfbf\">[22:53:08] </span><span style=\"color: #808000; text-decoration-color: #808000\">WARNING </span> Mesh resolution for <span style=\"color: #800080; text-decoration-color: #800080; font-weight: bold\">RadiationProblem</span><span style=\"font-weight: bold\">(</span><span style=\"color: #808000; text-decoration-color: #808000\">body</span>=<span style=\"color: #800080; text-decoration-color: #800080; font-weight: bold\">FloatingBody</span><span style=\"font-weight: bold\">(</span><span style=\"color: #808000; text-decoration-color: #808000\">...</span>,                                    \n",
       "<span style=\"color: #7fbfbf; text-decoration-color: #7fbfbf\">           </span>         <span style=\"color: #808000; text-decoration-color: #808000\">name</span>=<span style=\"color: #008000; text-decoration-color: #008000\">\"axisymmetric_mesh+axisymmetric_mesh+axisymmetric_mesh+axisymmetric_mesh+axisymmetric_mesh</span>\n",
       "<span style=\"color: #7fbfbf; text-decoration-color: #7fbfbf\">           </span>         <span style=\"color: #008000; text-decoration-color: #008000\">+axisymmetric_mesh\"</span><span style=\"font-weight: bold\">)</span>, <span style=\"color: #808000; text-decoration-color: #808000\">wavenumber</span>=<span style=\"color: #008080; text-decoration-color: #008080; font-weight: bold\">0.858</span>, <span style=\"color: #808000; text-decoration-color: #808000\">water_depth</span>=<span style=\"color: #008080; text-decoration-color: #008080; font-weight: bold\">20.0</span>, <span style=\"color: #808000; text-decoration-color: #808000\">radiating_dof</span>=<span style=\"color: #008000; text-decoration-color: #008000\">'Heave'</span>, <span style=\"color: #808000; text-decoration-color: #808000\">rho</span>=<span style=\"color: #008080; text-decoration-color: #008080; font-weight: bold\">1023.0</span><span style=\"font-weight: bold\">)</span>:  \n",
       "<span style=\"color: #7fbfbf; text-decoration-color: #7fbfbf\">           </span>         The resolution of the mesh of the body <span style=\"color: #800080; text-decoration-color: #800080; font-weight: bold\">FloatingBody</span><span style=\"font-weight: bold\">(</span><span style=\"color: #808000; text-decoration-color: #808000\">...</span>,                                       \n",
       "<span style=\"color: #7fbfbf; text-decoration-color: #7fbfbf\">           </span>         <span style=\"color: #808000; text-decoration-color: #808000\">name</span>=<span style=\"color: #008000; text-decoration-color: #008000\">\"axisymmetric_mesh+axisymmetric_mesh+axisymmetric_mesh+axisymmetric_mesh+axisymmetric_mesh</span>\n",
       "<span style=\"color: #7fbfbf; text-decoration-color: #7fbfbf\">           </span>         <span style=\"color: #008000; text-decoration-color: #008000\">+axisymmetric_mesh\"</span><span style=\"font-weight: bold\">)</span> might be insufficient for <span style=\"color: #808000; text-decoration-color: #808000\">wavenumber</span>=<span style=\"color: #008080; text-decoration-color: #008080; font-weight: bold\">0.8578947368421053</span>.                  \n",
       "<span style=\"color: #7fbfbf; text-decoration-color: #7fbfbf\">           </span>         This warning appears because the largest panel of this mesh has radius <span style=\"color: #008080; text-decoration-color: #008080; font-weight: bold\">0.992</span> &gt; wavelength/<span style=\"color: #008080; text-decoration-color: #008080; font-weight: bold\">8</span>.   \n",
       "</pre>\n"
      ],
      "text/plain": [
       "\u001b[2;36m[22:53:08]\u001b[0m\u001b[2;36m \u001b[0m\u001b[33mWARNING \u001b[0m Mesh resolution for \u001b[1;35mRadiationProblem\u001b[0m\u001b[1m(\u001b[0m\u001b[33mbody\u001b[0m=\u001b[1;35mFloatingBody\u001b[0m\u001b[1m(\u001b[0m\u001b[33m...\u001b[0m,                                    \n",
       "\u001b[2;36m           \u001b[0m         \u001b[33mname\u001b[0m=\u001b[32m\"axisymmetric_mesh\u001b[0m\u001b[32m+axisymmetric_mesh+axisymmetric_mesh+axisymmetric_mesh+axisymmetric_mesh\u001b[0m\n",
       "\u001b[2;36m           \u001b[0m         \u001b[32m+axisymmetric_mesh\"\u001b[0m\u001b[1m)\u001b[0m, \u001b[33mwavenumber\u001b[0m=\u001b[1;36m0\u001b[0m\u001b[1;36m.858\u001b[0m, \u001b[33mwater_depth\u001b[0m=\u001b[1;36m20\u001b[0m\u001b[1;36m.0\u001b[0m, \u001b[33mradiating_dof\u001b[0m=\u001b[32m'Heave'\u001b[0m, \u001b[33mrho\u001b[0m=\u001b[1;36m1023\u001b[0m\u001b[1;36m.0\u001b[0m\u001b[1m)\u001b[0m:  \n",
       "\u001b[2;36m           \u001b[0m         The resolution of the mesh of the body \u001b[1;35mFloatingBody\u001b[0m\u001b[1m(\u001b[0m\u001b[33m...\u001b[0m,                                       \n",
       "\u001b[2;36m           \u001b[0m         \u001b[33mname\u001b[0m=\u001b[32m\"axisymmetric_mesh\u001b[0m\u001b[32m+axisymmetric_mesh+axisymmetric_mesh+axisymmetric_mesh+axisymmetric_mesh\u001b[0m\n",
       "\u001b[2;36m           \u001b[0m         \u001b[32m+axisymmetric_mesh\"\u001b[0m\u001b[1m)\u001b[0m might be insufficient for \u001b[33mwavenumber\u001b[0m=\u001b[1;36m0\u001b[0m\u001b[1;36m.8578947368421053\u001b[0m.                  \n",
       "\u001b[2;36m           \u001b[0m         This warning appears because the largest panel of this mesh has radius \u001b[1;36m0.992\u001b[0m > wavelength/\u001b[1;36m8\u001b[0m.   \n"
      ]
     },
     "metadata": {},
     "output_type": "display_data"
    },
    {
     "name": "stdout",
     "output_type": "stream",
     "text": [
      "# of Panels:  2500\n"
     ]
    },
    {
     "data": {
      "text/html": [
       "<pre style=\"white-space:pre;overflow-x:auto;line-height:normal;font-family:Menlo,'DejaVu Sans Mono',consolas,'Courier New',monospace\"><span style=\"color: #7fbfbf; text-decoration-color: #7fbfbf\">[22:53:17] </span><span style=\"color: #808000; text-decoration-color: #808000\">WARNING </span> Mesh resolution for <span style=\"color: #800080; text-decoration-color: #800080; font-weight: bold\">RadiationProblem</span><span style=\"font-weight: bold\">(</span><span style=\"color: #808000; text-decoration-color: #808000\">body</span>=<span style=\"color: #800080; text-decoration-color: #800080; font-weight: bold\">FloatingBody</span><span style=\"font-weight: bold\">(</span><span style=\"color: #808000; text-decoration-color: #808000\">...</span>,                                    \n",
       "<span style=\"color: #7fbfbf; text-decoration-color: #7fbfbf\">           </span>         <span style=\"color: #808000; text-decoration-color: #808000\">name</span>=<span style=\"color: #008000; text-decoration-color: #008000\">\"axisymmetric_mesh+axisymmetric_mesh+axisymmetric_mesh+axisymmetric_mesh+axisymmetric_mesh</span>\n",
       "<span style=\"color: #7fbfbf; text-decoration-color: #7fbfbf\">           </span>         <span style=\"color: #008000; text-decoration-color: #008000\">+axisymmetric_mesh\"</span><span style=\"font-weight: bold\">)</span>, <span style=\"color: #808000; text-decoration-color: #808000\">wavenumber</span>=<span style=\"color: #008080; text-decoration-color: #008080; font-weight: bold\">0.905</span>, <span style=\"color: #808000; text-decoration-color: #808000\">water_depth</span>=<span style=\"color: #008080; text-decoration-color: #008080; font-weight: bold\">20.0</span>, <span style=\"color: #808000; text-decoration-color: #808000\">radiating_dof</span>=<span style=\"color: #008000; text-decoration-color: #008000\">'Heave'</span>, <span style=\"color: #808000; text-decoration-color: #808000\">rho</span>=<span style=\"color: #008080; text-decoration-color: #008080; font-weight: bold\">1023.0</span><span style=\"font-weight: bold\">)</span>:  \n",
       "<span style=\"color: #7fbfbf; text-decoration-color: #7fbfbf\">           </span>         The resolution of the mesh of the body <span style=\"color: #800080; text-decoration-color: #800080; font-weight: bold\">FloatingBody</span><span style=\"font-weight: bold\">(</span><span style=\"color: #808000; text-decoration-color: #808000\">...</span>,                                       \n",
       "<span style=\"color: #7fbfbf; text-decoration-color: #7fbfbf\">           </span>         <span style=\"color: #808000; text-decoration-color: #808000\">name</span>=<span style=\"color: #008000; text-decoration-color: #008000\">\"axisymmetric_mesh+axisymmetric_mesh+axisymmetric_mesh+axisymmetric_mesh+axisymmetric_mesh</span>\n",
       "<span style=\"color: #7fbfbf; text-decoration-color: #7fbfbf\">           </span>         <span style=\"color: #008000; text-decoration-color: #008000\">+axisymmetric_mesh\"</span><span style=\"font-weight: bold\">)</span> might be insufficient for <span style=\"color: #808000; text-decoration-color: #808000\">wavenumber</span>=<span style=\"color: #008080; text-decoration-color: #008080; font-weight: bold\">0.9052631578947369</span>.                  \n",
       "<span style=\"color: #7fbfbf; text-decoration-color: #7fbfbf\">           </span>         This warning appears because the largest panel of this mesh has radius <span style=\"color: #008080; text-decoration-color: #008080; font-weight: bold\">0.992</span> &gt; wavelength/<span style=\"color: #008080; text-decoration-color: #008080; font-weight: bold\">8</span>.   \n",
       "</pre>\n"
      ],
      "text/plain": [
       "\u001b[2;36m[22:53:17]\u001b[0m\u001b[2;36m \u001b[0m\u001b[33mWARNING \u001b[0m Mesh resolution for \u001b[1;35mRadiationProblem\u001b[0m\u001b[1m(\u001b[0m\u001b[33mbody\u001b[0m=\u001b[1;35mFloatingBody\u001b[0m\u001b[1m(\u001b[0m\u001b[33m...\u001b[0m,                                    \n",
       "\u001b[2;36m           \u001b[0m         \u001b[33mname\u001b[0m=\u001b[32m\"axisymmetric_mesh\u001b[0m\u001b[32m+axisymmetric_mesh+axisymmetric_mesh+axisymmetric_mesh+axisymmetric_mesh\u001b[0m\n",
       "\u001b[2;36m           \u001b[0m         \u001b[32m+axisymmetric_mesh\"\u001b[0m\u001b[1m)\u001b[0m, \u001b[33mwavenumber\u001b[0m=\u001b[1;36m0\u001b[0m\u001b[1;36m.905\u001b[0m, \u001b[33mwater_depth\u001b[0m=\u001b[1;36m20\u001b[0m\u001b[1;36m.0\u001b[0m, \u001b[33mradiating_dof\u001b[0m=\u001b[32m'Heave'\u001b[0m, \u001b[33mrho\u001b[0m=\u001b[1;36m1023\u001b[0m\u001b[1;36m.0\u001b[0m\u001b[1m)\u001b[0m:  \n",
       "\u001b[2;36m           \u001b[0m         The resolution of the mesh of the body \u001b[1;35mFloatingBody\u001b[0m\u001b[1m(\u001b[0m\u001b[33m...\u001b[0m,                                       \n",
       "\u001b[2;36m           \u001b[0m         \u001b[33mname\u001b[0m=\u001b[32m\"axisymmetric_mesh\u001b[0m\u001b[32m+axisymmetric_mesh+axisymmetric_mesh+axisymmetric_mesh+axisymmetric_mesh\u001b[0m\n",
       "\u001b[2;36m           \u001b[0m         \u001b[32m+axisymmetric_mesh\"\u001b[0m\u001b[1m)\u001b[0m might be insufficient for \u001b[33mwavenumber\u001b[0m=\u001b[1;36m0\u001b[0m\u001b[1;36m.9052631578947369\u001b[0m.                  \n",
       "\u001b[2;36m           \u001b[0m         This warning appears because the largest panel of this mesh has radius \u001b[1;36m0.992\u001b[0m > wavelength/\u001b[1;36m8\u001b[0m.   \n"
      ]
     },
     "metadata": {},
     "output_type": "display_data"
    },
    {
     "name": "stdout",
     "output_type": "stream",
     "text": [
      "# of Panels:  2500\n"
     ]
    },
    {
     "data": {
      "text/html": [
       "<pre style=\"white-space:pre;overflow-x:auto;line-height:normal;font-family:Menlo,'DejaVu Sans Mono',consolas,'Courier New',monospace\"><span style=\"color: #7fbfbf; text-decoration-color: #7fbfbf\">[22:53:25] </span><span style=\"color: #808000; text-decoration-color: #808000\">WARNING </span> Mesh resolution for <span style=\"color: #800080; text-decoration-color: #800080; font-weight: bold\">RadiationProblem</span><span style=\"font-weight: bold\">(</span><span style=\"color: #808000; text-decoration-color: #808000\">body</span>=<span style=\"color: #800080; text-decoration-color: #800080; font-weight: bold\">FloatingBody</span><span style=\"font-weight: bold\">(</span><span style=\"color: #808000; text-decoration-color: #808000\">...</span>,                                    \n",
       "<span style=\"color: #7fbfbf; text-decoration-color: #7fbfbf\">           </span>         <span style=\"color: #808000; text-decoration-color: #808000\">name</span>=<span style=\"color: #008000; text-decoration-color: #008000\">\"axisymmetric_mesh+axisymmetric_mesh+axisymmetric_mesh+axisymmetric_mesh+axisymmetric_mesh</span>\n",
       "<span style=\"color: #7fbfbf; text-decoration-color: #7fbfbf\">           </span>         <span style=\"color: #008000; text-decoration-color: #008000\">+axisymmetric_mesh\"</span><span style=\"font-weight: bold\">)</span>, <span style=\"color: #808000; text-decoration-color: #808000\">wavenumber</span>=<span style=\"color: #008080; text-decoration-color: #008080; font-weight: bold\">0.953</span>, <span style=\"color: #808000; text-decoration-color: #808000\">water_depth</span>=<span style=\"color: #008080; text-decoration-color: #008080; font-weight: bold\">20.0</span>, <span style=\"color: #808000; text-decoration-color: #808000\">radiating_dof</span>=<span style=\"color: #008000; text-decoration-color: #008000\">'Heave'</span>, <span style=\"color: #808000; text-decoration-color: #808000\">rho</span>=<span style=\"color: #008080; text-decoration-color: #008080; font-weight: bold\">1023.0</span><span style=\"font-weight: bold\">)</span>:  \n",
       "<span style=\"color: #7fbfbf; text-decoration-color: #7fbfbf\">           </span>         The resolution of the mesh of the body <span style=\"color: #800080; text-decoration-color: #800080; font-weight: bold\">FloatingBody</span><span style=\"font-weight: bold\">(</span><span style=\"color: #808000; text-decoration-color: #808000\">...</span>,                                       \n",
       "<span style=\"color: #7fbfbf; text-decoration-color: #7fbfbf\">           </span>         <span style=\"color: #808000; text-decoration-color: #808000\">name</span>=<span style=\"color: #008000; text-decoration-color: #008000\">\"axisymmetric_mesh+axisymmetric_mesh+axisymmetric_mesh+axisymmetric_mesh+axisymmetric_mesh</span>\n",
       "<span style=\"color: #7fbfbf; text-decoration-color: #7fbfbf\">           </span>         <span style=\"color: #008000; text-decoration-color: #008000\">+axisymmetric_mesh\"</span><span style=\"font-weight: bold\">)</span> might be insufficient for <span style=\"color: #808000; text-decoration-color: #808000\">wavenumber</span>=<span style=\"color: #008080; text-decoration-color: #008080; font-weight: bold\">0.9526315789473684</span>.                  \n",
       "<span style=\"color: #7fbfbf; text-decoration-color: #7fbfbf\">           </span>         This warning appears because the largest panel of this mesh has radius <span style=\"color: #008080; text-decoration-color: #008080; font-weight: bold\">0.992</span> &gt; wavelength/<span style=\"color: #008080; text-decoration-color: #008080; font-weight: bold\">8</span>.   \n",
       "</pre>\n"
      ],
      "text/plain": [
       "\u001b[2;36m[22:53:25]\u001b[0m\u001b[2;36m \u001b[0m\u001b[33mWARNING \u001b[0m Mesh resolution for \u001b[1;35mRadiationProblem\u001b[0m\u001b[1m(\u001b[0m\u001b[33mbody\u001b[0m=\u001b[1;35mFloatingBody\u001b[0m\u001b[1m(\u001b[0m\u001b[33m...\u001b[0m,                                    \n",
       "\u001b[2;36m           \u001b[0m         \u001b[33mname\u001b[0m=\u001b[32m\"axisymmetric_mesh\u001b[0m\u001b[32m+axisymmetric_mesh+axisymmetric_mesh+axisymmetric_mesh+axisymmetric_mesh\u001b[0m\n",
       "\u001b[2;36m           \u001b[0m         \u001b[32m+axisymmetric_mesh\"\u001b[0m\u001b[1m)\u001b[0m, \u001b[33mwavenumber\u001b[0m=\u001b[1;36m0\u001b[0m\u001b[1;36m.953\u001b[0m, \u001b[33mwater_depth\u001b[0m=\u001b[1;36m20\u001b[0m\u001b[1;36m.0\u001b[0m, \u001b[33mradiating_dof\u001b[0m=\u001b[32m'Heave'\u001b[0m, \u001b[33mrho\u001b[0m=\u001b[1;36m1023\u001b[0m\u001b[1;36m.0\u001b[0m\u001b[1m)\u001b[0m:  \n",
       "\u001b[2;36m           \u001b[0m         The resolution of the mesh of the body \u001b[1;35mFloatingBody\u001b[0m\u001b[1m(\u001b[0m\u001b[33m...\u001b[0m,                                       \n",
       "\u001b[2;36m           \u001b[0m         \u001b[33mname\u001b[0m=\u001b[32m\"axisymmetric_mesh\u001b[0m\u001b[32m+axisymmetric_mesh+axisymmetric_mesh+axisymmetric_mesh+axisymmetric_mesh\u001b[0m\n",
       "\u001b[2;36m           \u001b[0m         \u001b[32m+axisymmetric_mesh\"\u001b[0m\u001b[1m)\u001b[0m might be insufficient for \u001b[33mwavenumber\u001b[0m=\u001b[1;36m0\u001b[0m\u001b[1;36m.9526315789473684\u001b[0m.                  \n",
       "\u001b[2;36m           \u001b[0m         This warning appears because the largest panel of this mesh has radius \u001b[1;36m0.992\u001b[0m > wavelength/\u001b[1;36m8\u001b[0m.   \n"
      ]
     },
     "metadata": {},
     "output_type": "display_data"
    },
    {
     "name": "stdout",
     "output_type": "stream",
     "text": [
      "# of Panels:  2500\n"
     ]
    },
    {
     "data": {
      "text/html": [
       "<pre style=\"white-space:pre;overflow-x:auto;line-height:normal;font-family:Menlo,'DejaVu Sans Mono',consolas,'Courier New',monospace\"><span style=\"color: #7fbfbf; text-decoration-color: #7fbfbf\">[22:53:34] </span><span style=\"color: #808000; text-decoration-color: #808000\">WARNING </span> Mesh resolution for <span style=\"color: #800080; text-decoration-color: #800080; font-weight: bold\">RadiationProblem</span><span style=\"font-weight: bold\">(</span><span style=\"color: #808000; text-decoration-color: #808000\">body</span>=<span style=\"color: #800080; text-decoration-color: #800080; font-weight: bold\">FloatingBody</span><span style=\"font-weight: bold\">(</span><span style=\"color: #808000; text-decoration-color: #808000\">...</span>,                                    \n",
       "<span style=\"color: #7fbfbf; text-decoration-color: #7fbfbf\">           </span>         <span style=\"color: #808000; text-decoration-color: #808000\">name</span>=<span style=\"color: #008000; text-decoration-color: #008000\">\"axisymmetric_mesh+axisymmetric_mesh+axisymmetric_mesh+axisymmetric_mesh+axisymmetric_mesh</span>\n",
       "<span style=\"color: #7fbfbf; text-decoration-color: #7fbfbf\">           </span>         <span style=\"color: #008000; text-decoration-color: #008000\">+axisymmetric_mesh\"</span><span style=\"font-weight: bold\">)</span>, <span style=\"color: #808000; text-decoration-color: #808000\">wavenumber</span>=<span style=\"color: #008080; text-decoration-color: #008080; font-weight: bold\">1.000</span>, <span style=\"color: #808000; text-decoration-color: #808000\">water_depth</span>=<span style=\"color: #008080; text-decoration-color: #008080; font-weight: bold\">20.0</span>, <span style=\"color: #808000; text-decoration-color: #808000\">radiating_dof</span>=<span style=\"color: #008000; text-decoration-color: #008000\">'Heave'</span>, <span style=\"color: #808000; text-decoration-color: #808000\">rho</span>=<span style=\"color: #008080; text-decoration-color: #008080; font-weight: bold\">1023.0</span><span style=\"font-weight: bold\">)</span>:  \n",
       "<span style=\"color: #7fbfbf; text-decoration-color: #7fbfbf\">           </span>         The resolution of the mesh of the body <span style=\"color: #800080; text-decoration-color: #800080; font-weight: bold\">FloatingBody</span><span style=\"font-weight: bold\">(</span><span style=\"color: #808000; text-decoration-color: #808000\">...</span>,                                       \n",
       "<span style=\"color: #7fbfbf; text-decoration-color: #7fbfbf\">           </span>         <span style=\"color: #808000; text-decoration-color: #808000\">name</span>=<span style=\"color: #008000; text-decoration-color: #008000\">\"axisymmetric_mesh+axisymmetric_mesh+axisymmetric_mesh+axisymmetric_mesh+axisymmetric_mesh</span>\n",
       "<span style=\"color: #7fbfbf; text-decoration-color: #7fbfbf\">           </span>         <span style=\"color: #008000; text-decoration-color: #008000\">+axisymmetric_mesh\"</span><span style=\"font-weight: bold\">)</span> might be insufficient for <span style=\"color: #808000; text-decoration-color: #808000\">wavenumber</span>=<span style=\"color: #008080; text-decoration-color: #008080; font-weight: bold\">1.0</span>.                                 \n",
       "<span style=\"color: #7fbfbf; text-decoration-color: #7fbfbf\">           </span>         This warning appears because the largest panel of this mesh has radius <span style=\"color: #008080; text-decoration-color: #008080; font-weight: bold\">0.992</span> &gt; wavelength/<span style=\"color: #008080; text-decoration-color: #008080; font-weight: bold\">8</span>.   \n",
       "</pre>\n"
      ],
      "text/plain": [
       "\u001b[2;36m[22:53:34]\u001b[0m\u001b[2;36m \u001b[0m\u001b[33mWARNING \u001b[0m Mesh resolution for \u001b[1;35mRadiationProblem\u001b[0m\u001b[1m(\u001b[0m\u001b[33mbody\u001b[0m=\u001b[1;35mFloatingBody\u001b[0m\u001b[1m(\u001b[0m\u001b[33m...\u001b[0m,                                    \n",
       "\u001b[2;36m           \u001b[0m         \u001b[33mname\u001b[0m=\u001b[32m\"axisymmetric_mesh\u001b[0m\u001b[32m+axisymmetric_mesh+axisymmetric_mesh+axisymmetric_mesh+axisymmetric_mesh\u001b[0m\n",
       "\u001b[2;36m           \u001b[0m         \u001b[32m+axisymmetric_mesh\"\u001b[0m\u001b[1m)\u001b[0m, \u001b[33mwavenumber\u001b[0m=\u001b[1;36m1\u001b[0m\u001b[1;36m.000\u001b[0m, \u001b[33mwater_depth\u001b[0m=\u001b[1;36m20\u001b[0m\u001b[1;36m.0\u001b[0m, \u001b[33mradiating_dof\u001b[0m=\u001b[32m'Heave'\u001b[0m, \u001b[33mrho\u001b[0m=\u001b[1;36m1023\u001b[0m\u001b[1;36m.0\u001b[0m\u001b[1m)\u001b[0m:  \n",
       "\u001b[2;36m           \u001b[0m         The resolution of the mesh of the body \u001b[1;35mFloatingBody\u001b[0m\u001b[1m(\u001b[0m\u001b[33m...\u001b[0m,                                       \n",
       "\u001b[2;36m           \u001b[0m         \u001b[33mname\u001b[0m=\u001b[32m\"axisymmetric_mesh\u001b[0m\u001b[32m+axisymmetric_mesh+axisymmetric_mesh+axisymmetric_mesh+axisymmetric_mesh\u001b[0m\n",
       "\u001b[2;36m           \u001b[0m         \u001b[32m+axisymmetric_mesh\"\u001b[0m\u001b[1m)\u001b[0m might be insufficient for \u001b[33mwavenumber\u001b[0m=\u001b[1;36m1\u001b[0m\u001b[1;36m.0\u001b[0m.                                 \n",
       "\u001b[2;36m           \u001b[0m         This warning appears because the largest panel of this mesh has radius \u001b[1;36m0.992\u001b[0m > wavelength/\u001b[1;36m8\u001b[0m.   \n"
      ]
     },
     "metadata": {},
     "output_type": "display_data"
    },
    {
     "name": "stdout",
     "output_type": "stream",
     "text": [
      "# of Panels:  2500\n"
     ]
    },
    {
     "data": {
      "text/html": [
       "<pre style=\"white-space:pre;overflow-x:auto;line-height:normal;font-family:Menlo,'DejaVu Sans Mono',consolas,'Courier New',monospace\"><span style=\"color: #7fbfbf; text-decoration-color: #7fbfbf\">[22:53:42] </span><span style=\"color: #808000; text-decoration-color: #808000\">WARNING </span> Mesh resolution for <span style=\"color: #800080; text-decoration-color: #800080; font-weight: bold\">RadiationProblem</span><span style=\"font-weight: bold\">(</span><span style=\"color: #808000; text-decoration-color: #808000\">body</span>=<span style=\"color: #800080; text-decoration-color: #800080; font-weight: bold\">FloatingBody</span><span style=\"font-weight: bold\">(</span><span style=\"color: #808000; text-decoration-color: #808000\">...</span>,                                    \n",
       "<span style=\"color: #7fbfbf; text-decoration-color: #7fbfbf\">           </span>         <span style=\"color: #808000; text-decoration-color: #808000\">name</span>=<span style=\"color: #008000; text-decoration-color: #008000\">\"axisymmetric_mesh+axisymmetric_mesh+axisymmetric_mesh+axisymmetric_mesh+axisymmetric_mesh</span>\n",
       "<span style=\"color: #7fbfbf; text-decoration-color: #7fbfbf\">           </span>         <span style=\"color: #008000; text-decoration-color: #008000\">+axisymmetric_mesh\"</span><span style=\"font-weight: bold\">)</span>, <span style=\"color: #808000; text-decoration-color: #808000\">wavenumber</span>=<span style=\"color: #008080; text-decoration-color: #008080; font-weight: bold\">1.000</span>, <span style=\"color: #808000; text-decoration-color: #808000\">water_depth</span>=<span style=\"color: #008080; text-decoration-color: #008080; font-weight: bold\">20.0</span>, <span style=\"color: #808000; text-decoration-color: #808000\">radiating_dof</span>=<span style=\"color: #008000; text-decoration-color: #008000\">'Heave'</span>, <span style=\"color: #808000; text-decoration-color: #808000\">rho</span>=<span style=\"color: #008080; text-decoration-color: #008080; font-weight: bold\">1023.0</span><span style=\"font-weight: bold\">)</span>:  \n",
       "<span style=\"color: #7fbfbf; text-decoration-color: #7fbfbf\">           </span>         The resolution of the mesh of the body <span style=\"color: #800080; text-decoration-color: #800080; font-weight: bold\">FloatingBody</span><span style=\"font-weight: bold\">(</span><span style=\"color: #808000; text-decoration-color: #808000\">...</span>,                                       \n",
       "<span style=\"color: #7fbfbf; text-decoration-color: #7fbfbf\">           </span>         <span style=\"color: #808000; text-decoration-color: #808000\">name</span>=<span style=\"color: #008000; text-decoration-color: #008000\">\"axisymmetric_mesh+axisymmetric_mesh+axisymmetric_mesh+axisymmetric_mesh+axisymmetric_mesh</span>\n",
       "<span style=\"color: #7fbfbf; text-decoration-color: #7fbfbf\">           </span>         <span style=\"color: #008000; text-decoration-color: #008000\">+axisymmetric_mesh\"</span><span style=\"font-weight: bold\">)</span> might be insufficient for <span style=\"color: #808000; text-decoration-color: #808000\">wavenumber</span>=<span style=\"color: #008080; text-decoration-color: #008080; font-weight: bold\">1.0</span>.                                 \n",
       "<span style=\"color: #7fbfbf; text-decoration-color: #7fbfbf\">           </span>         This warning appears because the largest panel of this mesh has radius <span style=\"color: #008080; text-decoration-color: #008080; font-weight: bold\">0.992</span> &gt; wavelength/<span style=\"color: #008080; text-decoration-color: #008080; font-weight: bold\">8</span>.   \n",
       "</pre>\n"
      ],
      "text/plain": [
       "\u001b[2;36m[22:53:42]\u001b[0m\u001b[2;36m \u001b[0m\u001b[33mWARNING \u001b[0m Mesh resolution for \u001b[1;35mRadiationProblem\u001b[0m\u001b[1m(\u001b[0m\u001b[33mbody\u001b[0m=\u001b[1;35mFloatingBody\u001b[0m\u001b[1m(\u001b[0m\u001b[33m...\u001b[0m,                                    \n",
       "\u001b[2;36m           \u001b[0m         \u001b[33mname\u001b[0m=\u001b[32m\"axisymmetric_mesh\u001b[0m\u001b[32m+axisymmetric_mesh+axisymmetric_mesh+axisymmetric_mesh+axisymmetric_mesh\u001b[0m\n",
       "\u001b[2;36m           \u001b[0m         \u001b[32m+axisymmetric_mesh\"\u001b[0m\u001b[1m)\u001b[0m, \u001b[33mwavenumber\u001b[0m=\u001b[1;36m1\u001b[0m\u001b[1;36m.000\u001b[0m, \u001b[33mwater_depth\u001b[0m=\u001b[1;36m20\u001b[0m\u001b[1;36m.0\u001b[0m, \u001b[33mradiating_dof\u001b[0m=\u001b[32m'Heave'\u001b[0m, \u001b[33mrho\u001b[0m=\u001b[1;36m1023\u001b[0m\u001b[1;36m.0\u001b[0m\u001b[1m)\u001b[0m:  \n",
       "\u001b[2;36m           \u001b[0m         The resolution of the mesh of the body \u001b[1;35mFloatingBody\u001b[0m\u001b[1m(\u001b[0m\u001b[33m...\u001b[0m,                                       \n",
       "\u001b[2;36m           \u001b[0m         \u001b[33mname\u001b[0m=\u001b[32m\"axisymmetric_mesh\u001b[0m\u001b[32m+axisymmetric_mesh+axisymmetric_mesh+axisymmetric_mesh+axisymmetric_mesh\u001b[0m\n",
       "\u001b[2;36m           \u001b[0m         \u001b[32m+axisymmetric_mesh\"\u001b[0m\u001b[1m)\u001b[0m might be insufficient for \u001b[33mwavenumber\u001b[0m=\u001b[1;36m1\u001b[0m\u001b[1;36m.0\u001b[0m.                                 \n",
       "\u001b[2;36m           \u001b[0m         This warning appears because the largest panel of this mesh has radius \u001b[1;36m0.992\u001b[0m > wavelength/\u001b[1;36m8\u001b[0m.   \n"
      ]
     },
     "metadata": {},
     "output_type": "display_data"
    },
    {
     "name": "stdout",
     "output_type": "stream",
     "text": [
      "# of Panels:  2500\n"
     ]
    },
    {
     "data": {
      "text/html": [
       "<pre style=\"white-space:pre;overflow-x:auto;line-height:normal;font-family:Menlo,'DejaVu Sans Mono',consolas,'Courier New',monospace\"><span style=\"color: #7fbfbf; text-decoration-color: #7fbfbf\">[22:53:47] </span><span style=\"color: #808000; text-decoration-color: #808000\">WARNING </span> Mesh resolution for <span style=\"color: #800080; text-decoration-color: #800080; font-weight: bold\">RadiationProblem</span><span style=\"font-weight: bold\">(</span><span style=\"color: #808000; text-decoration-color: #808000\">body</span>=<span style=\"color: #800080; text-decoration-color: #800080; font-weight: bold\">FloatingBody</span><span style=\"font-weight: bold\">(</span><span style=\"color: #808000; text-decoration-color: #808000\">...</span>,                                    \n",
       "<span style=\"color: #7fbfbf; text-decoration-color: #7fbfbf\">           </span>         <span style=\"color: #808000; text-decoration-color: #808000\">name</span>=<span style=\"color: #008000; text-decoration-color: #008000\">\"axisymmetric_mesh+axisymmetric_mesh+axisymmetric_mesh+axisymmetric_mesh+axisymmetric_mesh</span>\n",
       "<span style=\"color: #7fbfbf; text-decoration-color: #7fbfbf\">           </span>         <span style=\"color: #008000; text-decoration-color: #008000\">+axisymmetric_mesh\"</span><span style=\"font-weight: bold\">)</span>, <span style=\"color: #808000; text-decoration-color: #808000\">wavenumber</span>=<span style=\"color: #008080; text-decoration-color: #008080; font-weight: bold\">1.172</span>, <span style=\"color: #808000; text-decoration-color: #808000\">water_depth</span>=<span style=\"color: #008080; text-decoration-color: #008080; font-weight: bold\">20.0</span>, <span style=\"color: #808000; text-decoration-color: #808000\">radiating_dof</span>=<span style=\"color: #008000; text-decoration-color: #008000\">'Heave'</span>, <span style=\"color: #808000; text-decoration-color: #808000\">rho</span>=<span style=\"color: #008080; text-decoration-color: #008080; font-weight: bold\">1023.0</span><span style=\"font-weight: bold\">)</span>:  \n",
       "<span style=\"color: #7fbfbf; text-decoration-color: #7fbfbf\">           </span>         The resolution of the mesh of the body <span style=\"color: #800080; text-decoration-color: #800080; font-weight: bold\">FloatingBody</span><span style=\"font-weight: bold\">(</span><span style=\"color: #808000; text-decoration-color: #808000\">...</span>,                                       \n",
       "<span style=\"color: #7fbfbf; text-decoration-color: #7fbfbf\">           </span>         <span style=\"color: #808000; text-decoration-color: #808000\">name</span>=<span style=\"color: #008000; text-decoration-color: #008000\">\"axisymmetric_mesh+axisymmetric_mesh+axisymmetric_mesh+axisymmetric_mesh+axisymmetric_mesh</span>\n",
       "<span style=\"color: #7fbfbf; text-decoration-color: #7fbfbf\">           </span>         <span style=\"color: #008000; text-decoration-color: #008000\">+axisymmetric_mesh\"</span><span style=\"font-weight: bold\">)</span> might be insufficient for <span style=\"color: #808000; text-decoration-color: #808000\">wavenumber</span>=<span style=\"color: #008080; text-decoration-color: #008080; font-weight: bold\">1.1724137931034484</span>.                  \n",
       "<span style=\"color: #7fbfbf; text-decoration-color: #7fbfbf\">           </span>         This warning appears because the largest panel of this mesh has radius <span style=\"color: #008080; text-decoration-color: #008080; font-weight: bold\">0.992</span> &gt; wavelength/<span style=\"color: #008080; text-decoration-color: #008080; font-weight: bold\">8</span>.   \n",
       "</pre>\n"
      ],
      "text/plain": [
       "\u001b[2;36m[22:53:47]\u001b[0m\u001b[2;36m \u001b[0m\u001b[33mWARNING \u001b[0m Mesh resolution for \u001b[1;35mRadiationProblem\u001b[0m\u001b[1m(\u001b[0m\u001b[33mbody\u001b[0m=\u001b[1;35mFloatingBody\u001b[0m\u001b[1m(\u001b[0m\u001b[33m...\u001b[0m,                                    \n",
       "\u001b[2;36m           \u001b[0m         \u001b[33mname\u001b[0m=\u001b[32m\"axisymmetric_mesh\u001b[0m\u001b[32m+axisymmetric_mesh+axisymmetric_mesh+axisymmetric_mesh+axisymmetric_mesh\u001b[0m\n",
       "\u001b[2;36m           \u001b[0m         \u001b[32m+axisymmetric_mesh\"\u001b[0m\u001b[1m)\u001b[0m, \u001b[33mwavenumber\u001b[0m=\u001b[1;36m1\u001b[0m\u001b[1;36m.172\u001b[0m, \u001b[33mwater_depth\u001b[0m=\u001b[1;36m20\u001b[0m\u001b[1;36m.0\u001b[0m, \u001b[33mradiating_dof\u001b[0m=\u001b[32m'Heave'\u001b[0m, \u001b[33mrho\u001b[0m=\u001b[1;36m1023\u001b[0m\u001b[1;36m.0\u001b[0m\u001b[1m)\u001b[0m:  \n",
       "\u001b[2;36m           \u001b[0m         The resolution of the mesh of the body \u001b[1;35mFloatingBody\u001b[0m\u001b[1m(\u001b[0m\u001b[33m...\u001b[0m,                                       \n",
       "\u001b[2;36m           \u001b[0m         \u001b[33mname\u001b[0m=\u001b[32m\"axisymmetric_mesh\u001b[0m\u001b[32m+axisymmetric_mesh+axisymmetric_mesh+axisymmetric_mesh+axisymmetric_mesh\u001b[0m\n",
       "\u001b[2;36m           \u001b[0m         \u001b[32m+axisymmetric_mesh\"\u001b[0m\u001b[1m)\u001b[0m might be insufficient for \u001b[33mwavenumber\u001b[0m=\u001b[1;36m1\u001b[0m\u001b[1;36m.1724137931034484\u001b[0m.                  \n",
       "\u001b[2;36m           \u001b[0m         This warning appears because the largest panel of this mesh has radius \u001b[1;36m0.992\u001b[0m > wavelength/\u001b[1;36m8\u001b[0m.   \n"
      ]
     },
     "metadata": {},
     "output_type": "display_data"
    },
    {
     "name": "stdout",
     "output_type": "stream",
     "text": [
      "# of Panels:  2500\n"
     ]
    },
    {
     "data": {
      "text/html": [
       "<pre style=\"white-space:pre;overflow-x:auto;line-height:normal;font-family:Menlo,'DejaVu Sans Mono',consolas,'Courier New',monospace\"><span style=\"color: #7fbfbf; text-decoration-color: #7fbfbf\">[22:53:56] </span><span style=\"color: #808000; text-decoration-color: #808000\">WARNING </span> Mesh resolution for <span style=\"color: #800080; text-decoration-color: #800080; font-weight: bold\">RadiationProblem</span><span style=\"font-weight: bold\">(</span><span style=\"color: #808000; text-decoration-color: #808000\">body</span>=<span style=\"color: #800080; text-decoration-color: #800080; font-weight: bold\">FloatingBody</span><span style=\"font-weight: bold\">(</span><span style=\"color: #808000; text-decoration-color: #808000\">...</span>,                                    \n",
       "<span style=\"color: #7fbfbf; text-decoration-color: #7fbfbf\">           </span>         <span style=\"color: #808000; text-decoration-color: #808000\">name</span>=<span style=\"color: #008000; text-decoration-color: #008000\">\"axisymmetric_mesh+axisymmetric_mesh+axisymmetric_mesh+axisymmetric_mesh+axisymmetric_mesh</span>\n",
       "<span style=\"color: #7fbfbf; text-decoration-color: #7fbfbf\">           </span>         <span style=\"color: #008000; text-decoration-color: #008000\">+axisymmetric_mesh\"</span><span style=\"font-weight: bold\">)</span>, <span style=\"color: #808000; text-decoration-color: #808000\">wavenumber</span>=<span style=\"color: #008080; text-decoration-color: #008080; font-weight: bold\">1.345</span>, <span style=\"color: #808000; text-decoration-color: #808000\">water_depth</span>=<span style=\"color: #008080; text-decoration-color: #008080; font-weight: bold\">20.0</span>, <span style=\"color: #808000; text-decoration-color: #808000\">radiating_dof</span>=<span style=\"color: #008000; text-decoration-color: #008000\">'Heave'</span>, <span style=\"color: #808000; text-decoration-color: #808000\">rho</span>=<span style=\"color: #008080; text-decoration-color: #008080; font-weight: bold\">1023.0</span><span style=\"font-weight: bold\">)</span>:  \n",
       "<span style=\"color: #7fbfbf; text-decoration-color: #7fbfbf\">           </span>         The resolution of the mesh of the body <span style=\"color: #800080; text-decoration-color: #800080; font-weight: bold\">FloatingBody</span><span style=\"font-weight: bold\">(</span><span style=\"color: #808000; text-decoration-color: #808000\">...</span>,                                       \n",
       "<span style=\"color: #7fbfbf; text-decoration-color: #7fbfbf\">           </span>         <span style=\"color: #808000; text-decoration-color: #808000\">name</span>=<span style=\"color: #008000; text-decoration-color: #008000\">\"axisymmetric_mesh+axisymmetric_mesh+axisymmetric_mesh+axisymmetric_mesh+axisymmetric_mesh</span>\n",
       "<span style=\"color: #7fbfbf; text-decoration-color: #7fbfbf\">           </span>         <span style=\"color: #008000; text-decoration-color: #008000\">+axisymmetric_mesh\"</span><span style=\"font-weight: bold\">)</span> might be insufficient for <span style=\"color: #808000; text-decoration-color: #808000\">wavenumber</span>=<span style=\"color: #008080; text-decoration-color: #008080; font-weight: bold\">1.3448275862068966</span>.                  \n",
       "<span style=\"color: #7fbfbf; text-decoration-color: #7fbfbf\">           </span>         This warning appears because the largest panel of this mesh has radius <span style=\"color: #008080; text-decoration-color: #008080; font-weight: bold\">0.992</span> &gt; wavelength/<span style=\"color: #008080; text-decoration-color: #008080; font-weight: bold\">8</span>.   \n",
       "</pre>\n"
      ],
      "text/plain": [
       "\u001b[2;36m[22:53:56]\u001b[0m\u001b[2;36m \u001b[0m\u001b[33mWARNING \u001b[0m Mesh resolution for \u001b[1;35mRadiationProblem\u001b[0m\u001b[1m(\u001b[0m\u001b[33mbody\u001b[0m=\u001b[1;35mFloatingBody\u001b[0m\u001b[1m(\u001b[0m\u001b[33m...\u001b[0m,                                    \n",
       "\u001b[2;36m           \u001b[0m         \u001b[33mname\u001b[0m=\u001b[32m\"axisymmetric_mesh\u001b[0m\u001b[32m+axisymmetric_mesh+axisymmetric_mesh+axisymmetric_mesh+axisymmetric_mesh\u001b[0m\n",
       "\u001b[2;36m           \u001b[0m         \u001b[32m+axisymmetric_mesh\"\u001b[0m\u001b[1m)\u001b[0m, \u001b[33mwavenumber\u001b[0m=\u001b[1;36m1\u001b[0m\u001b[1;36m.345\u001b[0m, \u001b[33mwater_depth\u001b[0m=\u001b[1;36m20\u001b[0m\u001b[1;36m.0\u001b[0m, \u001b[33mradiating_dof\u001b[0m=\u001b[32m'Heave'\u001b[0m, \u001b[33mrho\u001b[0m=\u001b[1;36m1023\u001b[0m\u001b[1;36m.0\u001b[0m\u001b[1m)\u001b[0m:  \n",
       "\u001b[2;36m           \u001b[0m         The resolution of the mesh of the body \u001b[1;35mFloatingBody\u001b[0m\u001b[1m(\u001b[0m\u001b[33m...\u001b[0m,                                       \n",
       "\u001b[2;36m           \u001b[0m         \u001b[33mname\u001b[0m=\u001b[32m\"axisymmetric_mesh\u001b[0m\u001b[32m+axisymmetric_mesh+axisymmetric_mesh+axisymmetric_mesh+axisymmetric_mesh\u001b[0m\n",
       "\u001b[2;36m           \u001b[0m         \u001b[32m+axisymmetric_mesh\"\u001b[0m\u001b[1m)\u001b[0m might be insufficient for \u001b[33mwavenumber\u001b[0m=\u001b[1;36m1\u001b[0m\u001b[1;36m.3448275862068966\u001b[0m.                  \n",
       "\u001b[2;36m           \u001b[0m         This warning appears because the largest panel of this mesh has radius \u001b[1;36m0.992\u001b[0m > wavelength/\u001b[1;36m8\u001b[0m.   \n"
      ]
     },
     "metadata": {},
     "output_type": "display_data"
    },
    {
     "name": "stdout",
     "output_type": "stream",
     "text": [
      "# of Panels:  2500\n"
     ]
    },
    {
     "data": {
      "text/html": [
       "<pre style=\"white-space:pre;overflow-x:auto;line-height:normal;font-family:Menlo,'DejaVu Sans Mono',consolas,'Courier New',monospace\"><span style=\"color: #7fbfbf; text-decoration-color: #7fbfbf\">[22:54:04] </span><span style=\"color: #808000; text-decoration-color: #808000\">WARNING </span> Mesh resolution for <span style=\"color: #800080; text-decoration-color: #800080; font-weight: bold\">RadiationProblem</span><span style=\"font-weight: bold\">(</span><span style=\"color: #808000; text-decoration-color: #808000\">body</span>=<span style=\"color: #800080; text-decoration-color: #800080; font-weight: bold\">FloatingBody</span><span style=\"font-weight: bold\">(</span><span style=\"color: #808000; text-decoration-color: #808000\">...</span>,                                    \n",
       "<span style=\"color: #7fbfbf; text-decoration-color: #7fbfbf\">           </span>         <span style=\"color: #808000; text-decoration-color: #808000\">name</span>=<span style=\"color: #008000; text-decoration-color: #008000\">\"axisymmetric_mesh+axisymmetric_mesh+axisymmetric_mesh+axisymmetric_mesh+axisymmetric_mesh</span>\n",
       "<span style=\"color: #7fbfbf; text-decoration-color: #7fbfbf\">           </span>         <span style=\"color: #008000; text-decoration-color: #008000\">+axisymmetric_mesh\"</span><span style=\"font-weight: bold\">)</span>, <span style=\"color: #808000; text-decoration-color: #808000\">wavenumber</span>=<span style=\"color: #008080; text-decoration-color: #008080; font-weight: bold\">1.517</span>, <span style=\"color: #808000; text-decoration-color: #808000\">water_depth</span>=<span style=\"color: #008080; text-decoration-color: #008080; font-weight: bold\">20.0</span>, <span style=\"color: #808000; text-decoration-color: #808000\">radiating_dof</span>=<span style=\"color: #008000; text-decoration-color: #008000\">'Heave'</span>, <span style=\"color: #808000; text-decoration-color: #808000\">rho</span>=<span style=\"color: #008080; text-decoration-color: #008080; font-weight: bold\">1023.0</span><span style=\"font-weight: bold\">)</span>:  \n",
       "<span style=\"color: #7fbfbf; text-decoration-color: #7fbfbf\">           </span>         The resolution of the mesh of the body <span style=\"color: #800080; text-decoration-color: #800080; font-weight: bold\">FloatingBody</span><span style=\"font-weight: bold\">(</span><span style=\"color: #808000; text-decoration-color: #808000\">...</span>,                                       \n",
       "<span style=\"color: #7fbfbf; text-decoration-color: #7fbfbf\">           </span>         <span style=\"color: #808000; text-decoration-color: #808000\">name</span>=<span style=\"color: #008000; text-decoration-color: #008000\">\"axisymmetric_mesh+axisymmetric_mesh+axisymmetric_mesh+axisymmetric_mesh+axisymmetric_mesh</span>\n",
       "<span style=\"color: #7fbfbf; text-decoration-color: #7fbfbf\">           </span>         <span style=\"color: #008000; text-decoration-color: #008000\">+axisymmetric_mesh\"</span><span style=\"font-weight: bold\">)</span> might be insufficient for <span style=\"color: #808000; text-decoration-color: #808000\">wavenumber</span>=<span style=\"color: #008080; text-decoration-color: #008080; font-weight: bold\">1.5172413793103448</span>.                  \n",
       "<span style=\"color: #7fbfbf; text-decoration-color: #7fbfbf\">           </span>         This warning appears because the largest panel of this mesh has radius <span style=\"color: #008080; text-decoration-color: #008080; font-weight: bold\">0.992</span> &gt; wavelength/<span style=\"color: #008080; text-decoration-color: #008080; font-weight: bold\">8</span>.   \n",
       "</pre>\n"
      ],
      "text/plain": [
       "\u001b[2;36m[22:54:04]\u001b[0m\u001b[2;36m \u001b[0m\u001b[33mWARNING \u001b[0m Mesh resolution for \u001b[1;35mRadiationProblem\u001b[0m\u001b[1m(\u001b[0m\u001b[33mbody\u001b[0m=\u001b[1;35mFloatingBody\u001b[0m\u001b[1m(\u001b[0m\u001b[33m...\u001b[0m,                                    \n",
       "\u001b[2;36m           \u001b[0m         \u001b[33mname\u001b[0m=\u001b[32m\"axisymmetric_mesh\u001b[0m\u001b[32m+axisymmetric_mesh+axisymmetric_mesh+axisymmetric_mesh+axisymmetric_mesh\u001b[0m\n",
       "\u001b[2;36m           \u001b[0m         \u001b[32m+axisymmetric_mesh\"\u001b[0m\u001b[1m)\u001b[0m, \u001b[33mwavenumber\u001b[0m=\u001b[1;36m1\u001b[0m\u001b[1;36m.517\u001b[0m, \u001b[33mwater_depth\u001b[0m=\u001b[1;36m20\u001b[0m\u001b[1;36m.0\u001b[0m, \u001b[33mradiating_dof\u001b[0m=\u001b[32m'Heave'\u001b[0m, \u001b[33mrho\u001b[0m=\u001b[1;36m1023\u001b[0m\u001b[1;36m.0\u001b[0m\u001b[1m)\u001b[0m:  \n",
       "\u001b[2;36m           \u001b[0m         The resolution of the mesh of the body \u001b[1;35mFloatingBody\u001b[0m\u001b[1m(\u001b[0m\u001b[33m...\u001b[0m,                                       \n",
       "\u001b[2;36m           \u001b[0m         \u001b[33mname\u001b[0m=\u001b[32m\"axisymmetric_mesh\u001b[0m\u001b[32m+axisymmetric_mesh+axisymmetric_mesh+axisymmetric_mesh+axisymmetric_mesh\u001b[0m\n",
       "\u001b[2;36m           \u001b[0m         \u001b[32m+axisymmetric_mesh\"\u001b[0m\u001b[1m)\u001b[0m might be insufficient for \u001b[33mwavenumber\u001b[0m=\u001b[1;36m1\u001b[0m\u001b[1;36m.5172413793103448\u001b[0m.                  \n",
       "\u001b[2;36m           \u001b[0m         This warning appears because the largest panel of this mesh has radius \u001b[1;36m0.992\u001b[0m > wavelength/\u001b[1;36m8\u001b[0m.   \n"
      ]
     },
     "metadata": {},
     "output_type": "display_data"
    },
    {
     "name": "stdout",
     "output_type": "stream",
     "text": [
      "# of Panels:  2500\n"
     ]
    },
    {
     "data": {
      "text/html": [
       "<pre style=\"white-space:pre;overflow-x:auto;line-height:normal;font-family:Menlo,'DejaVu Sans Mono',consolas,'Courier New',monospace\"><span style=\"color: #7fbfbf; text-decoration-color: #7fbfbf\">[22:54:12] </span><span style=\"color: #808000; text-decoration-color: #808000\">WARNING </span> Mesh resolution for <span style=\"color: #800080; text-decoration-color: #800080; font-weight: bold\">RadiationProblem</span><span style=\"font-weight: bold\">(</span><span style=\"color: #808000; text-decoration-color: #808000\">body</span>=<span style=\"color: #800080; text-decoration-color: #800080; font-weight: bold\">FloatingBody</span><span style=\"font-weight: bold\">(</span><span style=\"color: #808000; text-decoration-color: #808000\">...</span>,                                    \n",
       "<span style=\"color: #7fbfbf; text-decoration-color: #7fbfbf\">           </span>         <span style=\"color: #808000; text-decoration-color: #808000\">name</span>=<span style=\"color: #008000; text-decoration-color: #008000\">\"axisymmetric_mesh+axisymmetric_mesh+axisymmetric_mesh+axisymmetric_mesh+axisymmetric_mesh</span>\n",
       "<span style=\"color: #7fbfbf; text-decoration-color: #7fbfbf\">           </span>         <span style=\"color: #008000; text-decoration-color: #008000\">+axisymmetric_mesh\"</span><span style=\"font-weight: bold\">)</span>, <span style=\"color: #808000; text-decoration-color: #808000\">wavenumber</span>=<span style=\"color: #008080; text-decoration-color: #008080; font-weight: bold\">1.690</span>, <span style=\"color: #808000; text-decoration-color: #808000\">water_depth</span>=<span style=\"color: #008080; text-decoration-color: #008080; font-weight: bold\">20.0</span>, <span style=\"color: #808000; text-decoration-color: #808000\">radiating_dof</span>=<span style=\"color: #008000; text-decoration-color: #008000\">'Heave'</span>, <span style=\"color: #808000; text-decoration-color: #808000\">rho</span>=<span style=\"color: #008080; text-decoration-color: #008080; font-weight: bold\">1023.0</span><span style=\"font-weight: bold\">)</span>:  \n",
       "<span style=\"color: #7fbfbf; text-decoration-color: #7fbfbf\">           </span>         The resolution of the mesh of the body <span style=\"color: #800080; text-decoration-color: #800080; font-weight: bold\">FloatingBody</span><span style=\"font-weight: bold\">(</span><span style=\"color: #808000; text-decoration-color: #808000\">...</span>,                                       \n",
       "<span style=\"color: #7fbfbf; text-decoration-color: #7fbfbf\">           </span>         <span style=\"color: #808000; text-decoration-color: #808000\">name</span>=<span style=\"color: #008000; text-decoration-color: #008000\">\"axisymmetric_mesh+axisymmetric_mesh+axisymmetric_mesh+axisymmetric_mesh+axisymmetric_mesh</span>\n",
       "<span style=\"color: #7fbfbf; text-decoration-color: #7fbfbf\">           </span>         <span style=\"color: #008000; text-decoration-color: #008000\">+axisymmetric_mesh\"</span><span style=\"font-weight: bold\">)</span> might be insufficient for <span style=\"color: #808000; text-decoration-color: #808000\">wavenumber</span>=<span style=\"color: #008080; text-decoration-color: #008080; font-weight: bold\">1.6896551724137931</span>.                  \n",
       "<span style=\"color: #7fbfbf; text-decoration-color: #7fbfbf\">           </span>         This warning appears because the largest panel of this mesh has radius <span style=\"color: #008080; text-decoration-color: #008080; font-weight: bold\">0.992</span> &gt; wavelength/<span style=\"color: #008080; text-decoration-color: #008080; font-weight: bold\">8</span>.   \n",
       "</pre>\n"
      ],
      "text/plain": [
       "\u001b[2;36m[22:54:12]\u001b[0m\u001b[2;36m \u001b[0m\u001b[33mWARNING \u001b[0m Mesh resolution for \u001b[1;35mRadiationProblem\u001b[0m\u001b[1m(\u001b[0m\u001b[33mbody\u001b[0m=\u001b[1;35mFloatingBody\u001b[0m\u001b[1m(\u001b[0m\u001b[33m...\u001b[0m,                                    \n",
       "\u001b[2;36m           \u001b[0m         \u001b[33mname\u001b[0m=\u001b[32m\"axisymmetric_mesh\u001b[0m\u001b[32m+axisymmetric_mesh+axisymmetric_mesh+axisymmetric_mesh+axisymmetric_mesh\u001b[0m\n",
       "\u001b[2;36m           \u001b[0m         \u001b[32m+axisymmetric_mesh\"\u001b[0m\u001b[1m)\u001b[0m, \u001b[33mwavenumber\u001b[0m=\u001b[1;36m1\u001b[0m\u001b[1;36m.690\u001b[0m, \u001b[33mwater_depth\u001b[0m=\u001b[1;36m20\u001b[0m\u001b[1;36m.0\u001b[0m, \u001b[33mradiating_dof\u001b[0m=\u001b[32m'Heave'\u001b[0m, \u001b[33mrho\u001b[0m=\u001b[1;36m1023\u001b[0m\u001b[1;36m.0\u001b[0m\u001b[1m)\u001b[0m:  \n",
       "\u001b[2;36m           \u001b[0m         The resolution of the mesh of the body \u001b[1;35mFloatingBody\u001b[0m\u001b[1m(\u001b[0m\u001b[33m...\u001b[0m,                                       \n",
       "\u001b[2;36m           \u001b[0m         \u001b[33mname\u001b[0m=\u001b[32m\"axisymmetric_mesh\u001b[0m\u001b[32m+axisymmetric_mesh+axisymmetric_mesh+axisymmetric_mesh+axisymmetric_mesh\u001b[0m\n",
       "\u001b[2;36m           \u001b[0m         \u001b[32m+axisymmetric_mesh\"\u001b[0m\u001b[1m)\u001b[0m might be insufficient for \u001b[33mwavenumber\u001b[0m=\u001b[1;36m1\u001b[0m\u001b[1;36m.6896551724137931\u001b[0m.                  \n",
       "\u001b[2;36m           \u001b[0m         This warning appears because the largest panel of this mesh has radius \u001b[1;36m0.992\u001b[0m > wavelength/\u001b[1;36m8\u001b[0m.   \n"
      ]
     },
     "metadata": {},
     "output_type": "display_data"
    },
    {
     "name": "stdout",
     "output_type": "stream",
     "text": [
      "# of Panels:  2500\n"
     ]
    },
    {
     "data": {
      "text/html": [
       "<pre style=\"white-space:pre;overflow-x:auto;line-height:normal;font-family:Menlo,'DejaVu Sans Mono',consolas,'Courier New',monospace\"><span style=\"color: #7fbfbf; text-decoration-color: #7fbfbf\">[22:54:20] </span><span style=\"color: #808000; text-decoration-color: #808000\">WARNING </span> Mesh resolution for <span style=\"color: #800080; text-decoration-color: #800080; font-weight: bold\">RadiationProblem</span><span style=\"font-weight: bold\">(</span><span style=\"color: #808000; text-decoration-color: #808000\">body</span>=<span style=\"color: #800080; text-decoration-color: #800080; font-weight: bold\">FloatingBody</span><span style=\"font-weight: bold\">(</span><span style=\"color: #808000; text-decoration-color: #808000\">...</span>,                                    \n",
       "<span style=\"color: #7fbfbf; text-decoration-color: #7fbfbf\">           </span>         <span style=\"color: #808000; text-decoration-color: #808000\">name</span>=<span style=\"color: #008000; text-decoration-color: #008000\">\"axisymmetric_mesh+axisymmetric_mesh+axisymmetric_mesh+axisymmetric_mesh+axisymmetric_mesh</span>\n",
       "<span style=\"color: #7fbfbf; text-decoration-color: #7fbfbf\">           </span>         <span style=\"color: #008000; text-decoration-color: #008000\">+axisymmetric_mesh\"</span><span style=\"font-weight: bold\">)</span>, <span style=\"color: #808000; text-decoration-color: #808000\">wavenumber</span>=<span style=\"color: #008080; text-decoration-color: #008080; font-weight: bold\">1.862</span>, <span style=\"color: #808000; text-decoration-color: #808000\">water_depth</span>=<span style=\"color: #008080; text-decoration-color: #008080; font-weight: bold\">20.0</span>, <span style=\"color: #808000; text-decoration-color: #808000\">radiating_dof</span>=<span style=\"color: #008000; text-decoration-color: #008000\">'Heave'</span>, <span style=\"color: #808000; text-decoration-color: #808000\">rho</span>=<span style=\"color: #008080; text-decoration-color: #008080; font-weight: bold\">1023.0</span><span style=\"font-weight: bold\">)</span>:  \n",
       "<span style=\"color: #7fbfbf; text-decoration-color: #7fbfbf\">           </span>         The resolution of the mesh of the body <span style=\"color: #800080; text-decoration-color: #800080; font-weight: bold\">FloatingBody</span><span style=\"font-weight: bold\">(</span><span style=\"color: #808000; text-decoration-color: #808000\">...</span>,                                       \n",
       "<span style=\"color: #7fbfbf; text-decoration-color: #7fbfbf\">           </span>         <span style=\"color: #808000; text-decoration-color: #808000\">name</span>=<span style=\"color: #008000; text-decoration-color: #008000\">\"axisymmetric_mesh+axisymmetric_mesh+axisymmetric_mesh+axisymmetric_mesh+axisymmetric_mesh</span>\n",
       "<span style=\"color: #7fbfbf; text-decoration-color: #7fbfbf\">           </span>         <span style=\"color: #008000; text-decoration-color: #008000\">+axisymmetric_mesh\"</span><span style=\"font-weight: bold\">)</span> might be insufficient for <span style=\"color: #808000; text-decoration-color: #808000\">wavenumber</span>=<span style=\"color: #008080; text-decoration-color: #008080; font-weight: bold\">1.8620689655172415</span>.                  \n",
       "<span style=\"color: #7fbfbf; text-decoration-color: #7fbfbf\">           </span>         This warning appears because the largest panel of this mesh has radius <span style=\"color: #008080; text-decoration-color: #008080; font-weight: bold\">0.992</span> &gt; wavelength/<span style=\"color: #008080; text-decoration-color: #008080; font-weight: bold\">8</span>.   \n",
       "</pre>\n"
      ],
      "text/plain": [
       "\u001b[2;36m[22:54:20]\u001b[0m\u001b[2;36m \u001b[0m\u001b[33mWARNING \u001b[0m Mesh resolution for \u001b[1;35mRadiationProblem\u001b[0m\u001b[1m(\u001b[0m\u001b[33mbody\u001b[0m=\u001b[1;35mFloatingBody\u001b[0m\u001b[1m(\u001b[0m\u001b[33m...\u001b[0m,                                    \n",
       "\u001b[2;36m           \u001b[0m         \u001b[33mname\u001b[0m=\u001b[32m\"axisymmetric_mesh\u001b[0m\u001b[32m+axisymmetric_mesh+axisymmetric_mesh+axisymmetric_mesh+axisymmetric_mesh\u001b[0m\n",
       "\u001b[2;36m           \u001b[0m         \u001b[32m+axisymmetric_mesh\"\u001b[0m\u001b[1m)\u001b[0m, \u001b[33mwavenumber\u001b[0m=\u001b[1;36m1\u001b[0m\u001b[1;36m.862\u001b[0m, \u001b[33mwater_depth\u001b[0m=\u001b[1;36m20\u001b[0m\u001b[1;36m.0\u001b[0m, \u001b[33mradiating_dof\u001b[0m=\u001b[32m'Heave'\u001b[0m, \u001b[33mrho\u001b[0m=\u001b[1;36m1023\u001b[0m\u001b[1;36m.0\u001b[0m\u001b[1m)\u001b[0m:  \n",
       "\u001b[2;36m           \u001b[0m         The resolution of the mesh of the body \u001b[1;35mFloatingBody\u001b[0m\u001b[1m(\u001b[0m\u001b[33m...\u001b[0m,                                       \n",
       "\u001b[2;36m           \u001b[0m         \u001b[33mname\u001b[0m=\u001b[32m\"axisymmetric_mesh\u001b[0m\u001b[32m+axisymmetric_mesh+axisymmetric_mesh+axisymmetric_mesh+axisymmetric_mesh\u001b[0m\n",
       "\u001b[2;36m           \u001b[0m         \u001b[32m+axisymmetric_mesh\"\u001b[0m\u001b[1m)\u001b[0m might be insufficient for \u001b[33mwavenumber\u001b[0m=\u001b[1;36m1\u001b[0m\u001b[1;36m.8620689655172415\u001b[0m.                  \n",
       "\u001b[2;36m           \u001b[0m         This warning appears because the largest panel of this mesh has radius \u001b[1;36m0.992\u001b[0m > wavelength/\u001b[1;36m8\u001b[0m.   \n"
      ]
     },
     "metadata": {},
     "output_type": "display_data"
    },
    {
     "name": "stdout",
     "output_type": "stream",
     "text": [
      "# of Panels:  2500\n"
     ]
    },
    {
     "data": {
      "text/html": [
       "<pre style=\"white-space:pre;overflow-x:auto;line-height:normal;font-family:Menlo,'DejaVu Sans Mono',consolas,'Courier New',monospace\"><span style=\"color: #7fbfbf; text-decoration-color: #7fbfbf\">[22:54:29] </span><span style=\"color: #808000; text-decoration-color: #808000\">WARNING </span> Mesh resolution for <span style=\"color: #800080; text-decoration-color: #800080; font-weight: bold\">RadiationProblem</span><span style=\"font-weight: bold\">(</span><span style=\"color: #808000; text-decoration-color: #808000\">body</span>=<span style=\"color: #800080; text-decoration-color: #800080; font-weight: bold\">FloatingBody</span><span style=\"font-weight: bold\">(</span><span style=\"color: #808000; text-decoration-color: #808000\">...</span>,                                    \n",
       "<span style=\"color: #7fbfbf; text-decoration-color: #7fbfbf\">           </span>         <span style=\"color: #808000; text-decoration-color: #808000\">name</span>=<span style=\"color: #008000; text-decoration-color: #008000\">\"axisymmetric_mesh+axisymmetric_mesh+axisymmetric_mesh+axisymmetric_mesh+axisymmetric_mesh</span>\n",
       "<span style=\"color: #7fbfbf; text-decoration-color: #7fbfbf\">           </span>         <span style=\"color: #008000; text-decoration-color: #008000\">+axisymmetric_mesh\"</span><span style=\"font-weight: bold\">)</span>, <span style=\"color: #808000; text-decoration-color: #808000\">wavenumber</span>=<span style=\"color: #008080; text-decoration-color: #008080; font-weight: bold\">2.034</span>, <span style=\"color: #808000; text-decoration-color: #808000\">water_depth</span>=<span style=\"color: #008080; text-decoration-color: #008080; font-weight: bold\">20.0</span>, <span style=\"color: #808000; text-decoration-color: #808000\">radiating_dof</span>=<span style=\"color: #008000; text-decoration-color: #008000\">'Heave'</span>, <span style=\"color: #808000; text-decoration-color: #808000\">rho</span>=<span style=\"color: #008080; text-decoration-color: #008080; font-weight: bold\">1023.0</span><span style=\"font-weight: bold\">)</span>:  \n",
       "<span style=\"color: #7fbfbf; text-decoration-color: #7fbfbf\">           </span>         The resolution of the mesh of the body <span style=\"color: #800080; text-decoration-color: #800080; font-weight: bold\">FloatingBody</span><span style=\"font-weight: bold\">(</span><span style=\"color: #808000; text-decoration-color: #808000\">...</span>,                                       \n",
       "<span style=\"color: #7fbfbf; text-decoration-color: #7fbfbf\">           </span>         <span style=\"color: #808000; text-decoration-color: #808000\">name</span>=<span style=\"color: #008000; text-decoration-color: #008000\">\"axisymmetric_mesh+axisymmetric_mesh+axisymmetric_mesh+axisymmetric_mesh+axisymmetric_mesh</span>\n",
       "<span style=\"color: #7fbfbf; text-decoration-color: #7fbfbf\">           </span>         <span style=\"color: #008000; text-decoration-color: #008000\">+axisymmetric_mesh\"</span><span style=\"font-weight: bold\">)</span> might be insufficient for <span style=\"color: #808000; text-decoration-color: #808000\">wavenumber</span>=<span style=\"color: #008080; text-decoration-color: #008080; font-weight: bold\">2.0344827586206895</span>.                  \n",
       "<span style=\"color: #7fbfbf; text-decoration-color: #7fbfbf\">           </span>         This warning appears because the largest panel of this mesh has radius <span style=\"color: #008080; text-decoration-color: #008080; font-weight: bold\">0.992</span> &gt; wavelength/<span style=\"color: #008080; text-decoration-color: #008080; font-weight: bold\">8</span>.   \n",
       "</pre>\n"
      ],
      "text/plain": [
       "\u001b[2;36m[22:54:29]\u001b[0m\u001b[2;36m \u001b[0m\u001b[33mWARNING \u001b[0m Mesh resolution for \u001b[1;35mRadiationProblem\u001b[0m\u001b[1m(\u001b[0m\u001b[33mbody\u001b[0m=\u001b[1;35mFloatingBody\u001b[0m\u001b[1m(\u001b[0m\u001b[33m...\u001b[0m,                                    \n",
       "\u001b[2;36m           \u001b[0m         \u001b[33mname\u001b[0m=\u001b[32m\"axisymmetric_mesh\u001b[0m\u001b[32m+axisymmetric_mesh+axisymmetric_mesh+axisymmetric_mesh+axisymmetric_mesh\u001b[0m\n",
       "\u001b[2;36m           \u001b[0m         \u001b[32m+axisymmetric_mesh\"\u001b[0m\u001b[1m)\u001b[0m, \u001b[33mwavenumber\u001b[0m=\u001b[1;36m2\u001b[0m\u001b[1;36m.034\u001b[0m, \u001b[33mwater_depth\u001b[0m=\u001b[1;36m20\u001b[0m\u001b[1;36m.0\u001b[0m, \u001b[33mradiating_dof\u001b[0m=\u001b[32m'Heave'\u001b[0m, \u001b[33mrho\u001b[0m=\u001b[1;36m1023\u001b[0m\u001b[1;36m.0\u001b[0m\u001b[1m)\u001b[0m:  \n",
       "\u001b[2;36m           \u001b[0m         The resolution of the mesh of the body \u001b[1;35mFloatingBody\u001b[0m\u001b[1m(\u001b[0m\u001b[33m...\u001b[0m,                                       \n",
       "\u001b[2;36m           \u001b[0m         \u001b[33mname\u001b[0m=\u001b[32m\"axisymmetric_mesh\u001b[0m\u001b[32m+axisymmetric_mesh+axisymmetric_mesh+axisymmetric_mesh+axisymmetric_mesh\u001b[0m\n",
       "\u001b[2;36m           \u001b[0m         \u001b[32m+axisymmetric_mesh\"\u001b[0m\u001b[1m)\u001b[0m might be insufficient for \u001b[33mwavenumber\u001b[0m=\u001b[1;36m2\u001b[0m\u001b[1;36m.0344827586206895\u001b[0m.                  \n",
       "\u001b[2;36m           \u001b[0m         This warning appears because the largest panel of this mesh has radius \u001b[1;36m0.992\u001b[0m > wavelength/\u001b[1;36m8\u001b[0m.   \n"
      ]
     },
     "metadata": {},
     "output_type": "display_data"
    },
    {
     "name": "stdout",
     "output_type": "stream",
     "text": [
      "# of Panels:  2500\n"
     ]
    },
    {
     "data": {
      "text/html": [
       "<pre style=\"white-space:pre;overflow-x:auto;line-height:normal;font-family:Menlo,'DejaVu Sans Mono',consolas,'Courier New',monospace\"><span style=\"color: #7fbfbf; text-decoration-color: #7fbfbf\">[22:54:38] </span><span style=\"color: #808000; text-decoration-color: #808000\">WARNING </span> Mesh resolution for <span style=\"color: #800080; text-decoration-color: #800080; font-weight: bold\">RadiationProblem</span><span style=\"font-weight: bold\">(</span><span style=\"color: #808000; text-decoration-color: #808000\">body</span>=<span style=\"color: #800080; text-decoration-color: #800080; font-weight: bold\">FloatingBody</span><span style=\"font-weight: bold\">(</span><span style=\"color: #808000; text-decoration-color: #808000\">...</span>,                                    \n",
       "<span style=\"color: #7fbfbf; text-decoration-color: #7fbfbf\">           </span>         <span style=\"color: #808000; text-decoration-color: #808000\">name</span>=<span style=\"color: #008000; text-decoration-color: #008000\">\"axisymmetric_mesh+axisymmetric_mesh+axisymmetric_mesh+axisymmetric_mesh+axisymmetric_mesh</span>\n",
       "<span style=\"color: #7fbfbf; text-decoration-color: #7fbfbf\">           </span>         <span style=\"color: #008000; text-decoration-color: #008000\">+axisymmetric_mesh\"</span><span style=\"font-weight: bold\">)</span>, <span style=\"color: #808000; text-decoration-color: #808000\">wavenumber</span>=<span style=\"color: #008080; text-decoration-color: #008080; font-weight: bold\">2.207</span>, <span style=\"color: #808000; text-decoration-color: #808000\">water_depth</span>=<span style=\"color: #008080; text-decoration-color: #008080; font-weight: bold\">20.0</span>, <span style=\"color: #808000; text-decoration-color: #808000\">radiating_dof</span>=<span style=\"color: #008000; text-decoration-color: #008000\">'Heave'</span>, <span style=\"color: #808000; text-decoration-color: #808000\">rho</span>=<span style=\"color: #008080; text-decoration-color: #008080; font-weight: bold\">1023.0</span><span style=\"font-weight: bold\">)</span>:  \n",
       "<span style=\"color: #7fbfbf; text-decoration-color: #7fbfbf\">           </span>         The resolution of the mesh of the body <span style=\"color: #800080; text-decoration-color: #800080; font-weight: bold\">FloatingBody</span><span style=\"font-weight: bold\">(</span><span style=\"color: #808000; text-decoration-color: #808000\">...</span>,                                       \n",
       "<span style=\"color: #7fbfbf; text-decoration-color: #7fbfbf\">           </span>         <span style=\"color: #808000; text-decoration-color: #808000\">name</span>=<span style=\"color: #008000; text-decoration-color: #008000\">\"axisymmetric_mesh+axisymmetric_mesh+axisymmetric_mesh+axisymmetric_mesh+axisymmetric_mesh</span>\n",
       "<span style=\"color: #7fbfbf; text-decoration-color: #7fbfbf\">           </span>         <span style=\"color: #008000; text-decoration-color: #008000\">+axisymmetric_mesh\"</span><span style=\"font-weight: bold\">)</span> might be insufficient for <span style=\"color: #808000; text-decoration-color: #808000\">wavenumber</span>=<span style=\"color: #008080; text-decoration-color: #008080; font-weight: bold\">2.206896551724138</span>.                   \n",
       "<span style=\"color: #7fbfbf; text-decoration-color: #7fbfbf\">           </span>         This warning appears because the largest panel of this mesh has radius <span style=\"color: #008080; text-decoration-color: #008080; font-weight: bold\">0.992</span> &gt; wavelength/<span style=\"color: #008080; text-decoration-color: #008080; font-weight: bold\">8</span>.   \n",
       "</pre>\n"
      ],
      "text/plain": [
       "\u001b[2;36m[22:54:38]\u001b[0m\u001b[2;36m \u001b[0m\u001b[33mWARNING \u001b[0m Mesh resolution for \u001b[1;35mRadiationProblem\u001b[0m\u001b[1m(\u001b[0m\u001b[33mbody\u001b[0m=\u001b[1;35mFloatingBody\u001b[0m\u001b[1m(\u001b[0m\u001b[33m...\u001b[0m,                                    \n",
       "\u001b[2;36m           \u001b[0m         \u001b[33mname\u001b[0m=\u001b[32m\"axisymmetric_mesh\u001b[0m\u001b[32m+axisymmetric_mesh+axisymmetric_mesh+axisymmetric_mesh+axisymmetric_mesh\u001b[0m\n",
       "\u001b[2;36m           \u001b[0m         \u001b[32m+axisymmetric_mesh\"\u001b[0m\u001b[1m)\u001b[0m, \u001b[33mwavenumber\u001b[0m=\u001b[1;36m2\u001b[0m\u001b[1;36m.207\u001b[0m, \u001b[33mwater_depth\u001b[0m=\u001b[1;36m20\u001b[0m\u001b[1;36m.0\u001b[0m, \u001b[33mradiating_dof\u001b[0m=\u001b[32m'Heave'\u001b[0m, \u001b[33mrho\u001b[0m=\u001b[1;36m1023\u001b[0m\u001b[1;36m.0\u001b[0m\u001b[1m)\u001b[0m:  \n",
       "\u001b[2;36m           \u001b[0m         The resolution of the mesh of the body \u001b[1;35mFloatingBody\u001b[0m\u001b[1m(\u001b[0m\u001b[33m...\u001b[0m,                                       \n",
       "\u001b[2;36m           \u001b[0m         \u001b[33mname\u001b[0m=\u001b[32m\"axisymmetric_mesh\u001b[0m\u001b[32m+axisymmetric_mesh+axisymmetric_mesh+axisymmetric_mesh+axisymmetric_mesh\u001b[0m\n",
       "\u001b[2;36m           \u001b[0m         \u001b[32m+axisymmetric_mesh\"\u001b[0m\u001b[1m)\u001b[0m might be insufficient for \u001b[33mwavenumber\u001b[0m=\u001b[1;36m2\u001b[0m\u001b[1;36m.206896551724138\u001b[0m.                   \n",
       "\u001b[2;36m           \u001b[0m         This warning appears because the largest panel of this mesh has radius \u001b[1;36m0.992\u001b[0m > wavelength/\u001b[1;36m8\u001b[0m.   \n"
      ]
     },
     "metadata": {},
     "output_type": "display_data"
    },
    {
     "name": "stdout",
     "output_type": "stream",
     "text": [
      "# of Panels:  2500\n"
     ]
    },
    {
     "data": {
      "text/html": [
       "<pre style=\"white-space:pre;overflow-x:auto;line-height:normal;font-family:Menlo,'DejaVu Sans Mono',consolas,'Courier New',monospace\"><span style=\"color: #7fbfbf; text-decoration-color: #7fbfbf\">[22:54:46] </span><span style=\"color: #808000; text-decoration-color: #808000\">WARNING </span> Mesh resolution for <span style=\"color: #800080; text-decoration-color: #800080; font-weight: bold\">RadiationProblem</span><span style=\"font-weight: bold\">(</span><span style=\"color: #808000; text-decoration-color: #808000\">body</span>=<span style=\"color: #800080; text-decoration-color: #800080; font-weight: bold\">FloatingBody</span><span style=\"font-weight: bold\">(</span><span style=\"color: #808000; text-decoration-color: #808000\">...</span>,                                    \n",
       "<span style=\"color: #7fbfbf; text-decoration-color: #7fbfbf\">           </span>         <span style=\"color: #808000; text-decoration-color: #808000\">name</span>=<span style=\"color: #008000; text-decoration-color: #008000\">\"axisymmetric_mesh+axisymmetric_mesh+axisymmetric_mesh+axisymmetric_mesh+axisymmetric_mesh</span>\n",
       "<span style=\"color: #7fbfbf; text-decoration-color: #7fbfbf\">           </span>         <span style=\"color: #008000; text-decoration-color: #008000\">+axisymmetric_mesh\"</span><span style=\"font-weight: bold\">)</span>, <span style=\"color: #808000; text-decoration-color: #808000\">wavenumber</span>=<span style=\"color: #008080; text-decoration-color: #008080; font-weight: bold\">2.379</span>, <span style=\"color: #808000; text-decoration-color: #808000\">water_depth</span>=<span style=\"color: #008080; text-decoration-color: #008080; font-weight: bold\">20.0</span>, <span style=\"color: #808000; text-decoration-color: #808000\">radiating_dof</span>=<span style=\"color: #008000; text-decoration-color: #008000\">'Heave'</span>, <span style=\"color: #808000; text-decoration-color: #808000\">rho</span>=<span style=\"color: #008080; text-decoration-color: #008080; font-weight: bold\">1023.0</span><span style=\"font-weight: bold\">)</span>:  \n",
       "<span style=\"color: #7fbfbf; text-decoration-color: #7fbfbf\">           </span>         The resolution of the mesh of the body <span style=\"color: #800080; text-decoration-color: #800080; font-weight: bold\">FloatingBody</span><span style=\"font-weight: bold\">(</span><span style=\"color: #808000; text-decoration-color: #808000\">...</span>,                                       \n",
       "<span style=\"color: #7fbfbf; text-decoration-color: #7fbfbf\">           </span>         <span style=\"color: #808000; text-decoration-color: #808000\">name</span>=<span style=\"color: #008000; text-decoration-color: #008000\">\"axisymmetric_mesh+axisymmetric_mesh+axisymmetric_mesh+axisymmetric_mesh+axisymmetric_mesh</span>\n",
       "<span style=\"color: #7fbfbf; text-decoration-color: #7fbfbf\">           </span>         <span style=\"color: #008000; text-decoration-color: #008000\">+axisymmetric_mesh\"</span><span style=\"font-weight: bold\">)</span> might be insufficient for <span style=\"color: #808000; text-decoration-color: #808000\">wavenumber</span>=<span style=\"color: #008080; text-decoration-color: #008080; font-weight: bold\">2.3793103448275863</span>.                  \n",
       "<span style=\"color: #7fbfbf; text-decoration-color: #7fbfbf\">           </span>         This warning appears because the largest panel of this mesh has radius <span style=\"color: #008080; text-decoration-color: #008080; font-weight: bold\">0.992</span> &gt; wavelength/<span style=\"color: #008080; text-decoration-color: #008080; font-weight: bold\">8</span>.   \n",
       "</pre>\n"
      ],
      "text/plain": [
       "\u001b[2;36m[22:54:46]\u001b[0m\u001b[2;36m \u001b[0m\u001b[33mWARNING \u001b[0m Mesh resolution for \u001b[1;35mRadiationProblem\u001b[0m\u001b[1m(\u001b[0m\u001b[33mbody\u001b[0m=\u001b[1;35mFloatingBody\u001b[0m\u001b[1m(\u001b[0m\u001b[33m...\u001b[0m,                                    \n",
       "\u001b[2;36m           \u001b[0m         \u001b[33mname\u001b[0m=\u001b[32m\"axisymmetric_mesh\u001b[0m\u001b[32m+axisymmetric_mesh+axisymmetric_mesh+axisymmetric_mesh+axisymmetric_mesh\u001b[0m\n",
       "\u001b[2;36m           \u001b[0m         \u001b[32m+axisymmetric_mesh\"\u001b[0m\u001b[1m)\u001b[0m, \u001b[33mwavenumber\u001b[0m=\u001b[1;36m2\u001b[0m\u001b[1;36m.379\u001b[0m, \u001b[33mwater_depth\u001b[0m=\u001b[1;36m20\u001b[0m\u001b[1;36m.0\u001b[0m, \u001b[33mradiating_dof\u001b[0m=\u001b[32m'Heave'\u001b[0m, \u001b[33mrho\u001b[0m=\u001b[1;36m1023\u001b[0m\u001b[1;36m.0\u001b[0m\u001b[1m)\u001b[0m:  \n",
       "\u001b[2;36m           \u001b[0m         The resolution of the mesh of the body \u001b[1;35mFloatingBody\u001b[0m\u001b[1m(\u001b[0m\u001b[33m...\u001b[0m,                                       \n",
       "\u001b[2;36m           \u001b[0m         \u001b[33mname\u001b[0m=\u001b[32m\"axisymmetric_mesh\u001b[0m\u001b[32m+axisymmetric_mesh+axisymmetric_mesh+axisymmetric_mesh+axisymmetric_mesh\u001b[0m\n",
       "\u001b[2;36m           \u001b[0m         \u001b[32m+axisymmetric_mesh\"\u001b[0m\u001b[1m)\u001b[0m might be insufficient for \u001b[33mwavenumber\u001b[0m=\u001b[1;36m2\u001b[0m\u001b[1;36m.3793103448275863\u001b[0m.                  \n",
       "\u001b[2;36m           \u001b[0m         This warning appears because the largest panel of this mesh has radius \u001b[1;36m0.992\u001b[0m > wavelength/\u001b[1;36m8\u001b[0m.   \n"
      ]
     },
     "metadata": {},
     "output_type": "display_data"
    },
    {
     "name": "stdout",
     "output_type": "stream",
     "text": [
      "# of Panels:  2500\n"
     ]
    },
    {
     "data": {
      "text/html": [
       "<pre style=\"white-space:pre;overflow-x:auto;line-height:normal;font-family:Menlo,'DejaVu Sans Mono',consolas,'Courier New',monospace\"><span style=\"color: #7fbfbf; text-decoration-color: #7fbfbf\">[22:54:55] </span><span style=\"color: #808000; text-decoration-color: #808000\">WARNING </span> Mesh resolution for <span style=\"color: #800080; text-decoration-color: #800080; font-weight: bold\">RadiationProblem</span><span style=\"font-weight: bold\">(</span><span style=\"color: #808000; text-decoration-color: #808000\">body</span>=<span style=\"color: #800080; text-decoration-color: #800080; font-weight: bold\">FloatingBody</span><span style=\"font-weight: bold\">(</span><span style=\"color: #808000; text-decoration-color: #808000\">...</span>,                                    \n",
       "<span style=\"color: #7fbfbf; text-decoration-color: #7fbfbf\">           </span>         <span style=\"color: #808000; text-decoration-color: #808000\">name</span>=<span style=\"color: #008000; text-decoration-color: #008000\">\"axisymmetric_mesh+axisymmetric_mesh+axisymmetric_mesh+axisymmetric_mesh+axisymmetric_mesh</span>\n",
       "<span style=\"color: #7fbfbf; text-decoration-color: #7fbfbf\">           </span>         <span style=\"color: #008000; text-decoration-color: #008000\">+axisymmetric_mesh\"</span><span style=\"font-weight: bold\">)</span>, <span style=\"color: #808000; text-decoration-color: #808000\">wavenumber</span>=<span style=\"color: #008080; text-decoration-color: #008080; font-weight: bold\">2.552</span>, <span style=\"color: #808000; text-decoration-color: #808000\">water_depth</span>=<span style=\"color: #008080; text-decoration-color: #008080; font-weight: bold\">20.0</span>, <span style=\"color: #808000; text-decoration-color: #808000\">radiating_dof</span>=<span style=\"color: #008000; text-decoration-color: #008000\">'Heave'</span>, <span style=\"color: #808000; text-decoration-color: #808000\">rho</span>=<span style=\"color: #008080; text-decoration-color: #008080; font-weight: bold\">1023.0</span><span style=\"font-weight: bold\">)</span>:  \n",
       "<span style=\"color: #7fbfbf; text-decoration-color: #7fbfbf\">           </span>         The resolution of the mesh of the body <span style=\"color: #800080; text-decoration-color: #800080; font-weight: bold\">FloatingBody</span><span style=\"font-weight: bold\">(</span><span style=\"color: #808000; text-decoration-color: #808000\">...</span>,                                       \n",
       "<span style=\"color: #7fbfbf; text-decoration-color: #7fbfbf\">           </span>         <span style=\"color: #808000; text-decoration-color: #808000\">name</span>=<span style=\"color: #008000; text-decoration-color: #008000\">\"axisymmetric_mesh+axisymmetric_mesh+axisymmetric_mesh+axisymmetric_mesh+axisymmetric_mesh</span>\n",
       "<span style=\"color: #7fbfbf; text-decoration-color: #7fbfbf\">           </span>         <span style=\"color: #008000; text-decoration-color: #008000\">+axisymmetric_mesh\"</span><span style=\"font-weight: bold\">)</span> might be insufficient for <span style=\"color: #808000; text-decoration-color: #808000\">wavenumber</span>=<span style=\"color: #008080; text-decoration-color: #008080; font-weight: bold\">2.5517241379310347</span>.                  \n",
       "<span style=\"color: #7fbfbf; text-decoration-color: #7fbfbf\">           </span>         This warning appears because the largest panel of this mesh has radius <span style=\"color: #008080; text-decoration-color: #008080; font-weight: bold\">0.992</span> &gt; wavelength/<span style=\"color: #008080; text-decoration-color: #008080; font-weight: bold\">8</span>.   \n",
       "</pre>\n"
      ],
      "text/plain": [
       "\u001b[2;36m[22:54:55]\u001b[0m\u001b[2;36m \u001b[0m\u001b[33mWARNING \u001b[0m Mesh resolution for \u001b[1;35mRadiationProblem\u001b[0m\u001b[1m(\u001b[0m\u001b[33mbody\u001b[0m=\u001b[1;35mFloatingBody\u001b[0m\u001b[1m(\u001b[0m\u001b[33m...\u001b[0m,                                    \n",
       "\u001b[2;36m           \u001b[0m         \u001b[33mname\u001b[0m=\u001b[32m\"axisymmetric_mesh\u001b[0m\u001b[32m+axisymmetric_mesh+axisymmetric_mesh+axisymmetric_mesh+axisymmetric_mesh\u001b[0m\n",
       "\u001b[2;36m           \u001b[0m         \u001b[32m+axisymmetric_mesh\"\u001b[0m\u001b[1m)\u001b[0m, \u001b[33mwavenumber\u001b[0m=\u001b[1;36m2\u001b[0m\u001b[1;36m.552\u001b[0m, \u001b[33mwater_depth\u001b[0m=\u001b[1;36m20\u001b[0m\u001b[1;36m.0\u001b[0m, \u001b[33mradiating_dof\u001b[0m=\u001b[32m'Heave'\u001b[0m, \u001b[33mrho\u001b[0m=\u001b[1;36m1023\u001b[0m\u001b[1;36m.0\u001b[0m\u001b[1m)\u001b[0m:  \n",
       "\u001b[2;36m           \u001b[0m         The resolution of the mesh of the body \u001b[1;35mFloatingBody\u001b[0m\u001b[1m(\u001b[0m\u001b[33m...\u001b[0m,                                       \n",
       "\u001b[2;36m           \u001b[0m         \u001b[33mname\u001b[0m=\u001b[32m\"axisymmetric_mesh\u001b[0m\u001b[32m+axisymmetric_mesh+axisymmetric_mesh+axisymmetric_mesh+axisymmetric_mesh\u001b[0m\n",
       "\u001b[2;36m           \u001b[0m         \u001b[32m+axisymmetric_mesh\"\u001b[0m\u001b[1m)\u001b[0m might be insufficient for \u001b[33mwavenumber\u001b[0m=\u001b[1;36m2\u001b[0m\u001b[1;36m.5517241379310347\u001b[0m.                  \n",
       "\u001b[2;36m           \u001b[0m         This warning appears because the largest panel of this mesh has radius \u001b[1;36m0.992\u001b[0m > wavelength/\u001b[1;36m8\u001b[0m.   \n"
      ]
     },
     "metadata": {},
     "output_type": "display_data"
    },
    {
     "name": "stdout",
     "output_type": "stream",
     "text": [
      "# of Panels:  2500\n"
     ]
    },
    {
     "data": {
      "text/html": [
       "<pre style=\"white-space:pre;overflow-x:auto;line-height:normal;font-family:Menlo,'DejaVu Sans Mono',consolas,'Courier New',monospace\"><span style=\"color: #7fbfbf; text-decoration-color: #7fbfbf\">[22:55:03] </span><span style=\"color: #808000; text-decoration-color: #808000\">WARNING </span> Mesh resolution for <span style=\"color: #800080; text-decoration-color: #800080; font-weight: bold\">RadiationProblem</span><span style=\"font-weight: bold\">(</span><span style=\"color: #808000; text-decoration-color: #808000\">body</span>=<span style=\"color: #800080; text-decoration-color: #800080; font-weight: bold\">FloatingBody</span><span style=\"font-weight: bold\">(</span><span style=\"color: #808000; text-decoration-color: #808000\">...</span>,                                    \n",
       "<span style=\"color: #7fbfbf; text-decoration-color: #7fbfbf\">           </span>         <span style=\"color: #808000; text-decoration-color: #808000\">name</span>=<span style=\"color: #008000; text-decoration-color: #008000\">\"axisymmetric_mesh+axisymmetric_mesh+axisymmetric_mesh+axisymmetric_mesh+axisymmetric_mesh</span>\n",
       "<span style=\"color: #7fbfbf; text-decoration-color: #7fbfbf\">           </span>         <span style=\"color: #008000; text-decoration-color: #008000\">+axisymmetric_mesh\"</span><span style=\"font-weight: bold\">)</span>, <span style=\"color: #808000; text-decoration-color: #808000\">wavenumber</span>=<span style=\"color: #008080; text-decoration-color: #008080; font-weight: bold\">2.724</span>, <span style=\"color: #808000; text-decoration-color: #808000\">water_depth</span>=<span style=\"color: #008080; text-decoration-color: #008080; font-weight: bold\">20.0</span>, <span style=\"color: #808000; text-decoration-color: #808000\">radiating_dof</span>=<span style=\"color: #008000; text-decoration-color: #008000\">'Heave'</span>, <span style=\"color: #808000; text-decoration-color: #808000\">rho</span>=<span style=\"color: #008080; text-decoration-color: #008080; font-weight: bold\">1023.0</span><span style=\"font-weight: bold\">)</span>:  \n",
       "<span style=\"color: #7fbfbf; text-decoration-color: #7fbfbf\">           </span>         The resolution of the mesh of the body <span style=\"color: #800080; text-decoration-color: #800080; font-weight: bold\">FloatingBody</span><span style=\"font-weight: bold\">(</span><span style=\"color: #808000; text-decoration-color: #808000\">...</span>,                                       \n",
       "<span style=\"color: #7fbfbf; text-decoration-color: #7fbfbf\">           </span>         <span style=\"color: #808000; text-decoration-color: #808000\">name</span>=<span style=\"color: #008000; text-decoration-color: #008000\">\"axisymmetric_mesh+axisymmetric_mesh+axisymmetric_mesh+axisymmetric_mesh+axisymmetric_mesh</span>\n",
       "<span style=\"color: #7fbfbf; text-decoration-color: #7fbfbf\">           </span>         <span style=\"color: #008000; text-decoration-color: #008000\">+axisymmetric_mesh\"</span><span style=\"font-weight: bold\">)</span> might be insufficient for <span style=\"color: #808000; text-decoration-color: #808000\">wavenumber</span>=<span style=\"color: #008080; text-decoration-color: #008080; font-weight: bold\">2.724137931034483</span>.                   \n",
       "<span style=\"color: #7fbfbf; text-decoration-color: #7fbfbf\">           </span>         This warning appears because the largest panel of this mesh has radius <span style=\"color: #008080; text-decoration-color: #008080; font-weight: bold\">0.992</span> &gt; wavelength/<span style=\"color: #008080; text-decoration-color: #008080; font-weight: bold\">8</span>.   \n",
       "</pre>\n"
      ],
      "text/plain": [
       "\u001b[2;36m[22:55:03]\u001b[0m\u001b[2;36m \u001b[0m\u001b[33mWARNING \u001b[0m Mesh resolution for \u001b[1;35mRadiationProblem\u001b[0m\u001b[1m(\u001b[0m\u001b[33mbody\u001b[0m=\u001b[1;35mFloatingBody\u001b[0m\u001b[1m(\u001b[0m\u001b[33m...\u001b[0m,                                    \n",
       "\u001b[2;36m           \u001b[0m         \u001b[33mname\u001b[0m=\u001b[32m\"axisymmetric_mesh\u001b[0m\u001b[32m+axisymmetric_mesh+axisymmetric_mesh+axisymmetric_mesh+axisymmetric_mesh\u001b[0m\n",
       "\u001b[2;36m           \u001b[0m         \u001b[32m+axisymmetric_mesh\"\u001b[0m\u001b[1m)\u001b[0m, \u001b[33mwavenumber\u001b[0m=\u001b[1;36m2\u001b[0m\u001b[1;36m.724\u001b[0m, \u001b[33mwater_depth\u001b[0m=\u001b[1;36m20\u001b[0m\u001b[1;36m.0\u001b[0m, \u001b[33mradiating_dof\u001b[0m=\u001b[32m'Heave'\u001b[0m, \u001b[33mrho\u001b[0m=\u001b[1;36m1023\u001b[0m\u001b[1;36m.0\u001b[0m\u001b[1m)\u001b[0m:  \n",
       "\u001b[2;36m           \u001b[0m         The resolution of the mesh of the body \u001b[1;35mFloatingBody\u001b[0m\u001b[1m(\u001b[0m\u001b[33m...\u001b[0m,                                       \n",
       "\u001b[2;36m           \u001b[0m         \u001b[33mname\u001b[0m=\u001b[32m\"axisymmetric_mesh\u001b[0m\u001b[32m+axisymmetric_mesh+axisymmetric_mesh+axisymmetric_mesh+axisymmetric_mesh\u001b[0m\n",
       "\u001b[2;36m           \u001b[0m         \u001b[32m+axisymmetric_mesh\"\u001b[0m\u001b[1m)\u001b[0m might be insufficient for \u001b[33mwavenumber\u001b[0m=\u001b[1;36m2\u001b[0m\u001b[1;36m.724137931034483\u001b[0m.                   \n",
       "\u001b[2;36m           \u001b[0m         This warning appears because the largest panel of this mesh has radius \u001b[1;36m0.992\u001b[0m > wavelength/\u001b[1;36m8\u001b[0m.   \n"
      ]
     },
     "metadata": {},
     "output_type": "display_data"
    },
    {
     "name": "stdout",
     "output_type": "stream",
     "text": [
      "# of Panels:  2500\n"
     ]
    },
    {
     "data": {
      "text/html": [
       "<pre style=\"white-space:pre;overflow-x:auto;line-height:normal;font-family:Menlo,'DejaVu Sans Mono',consolas,'Courier New',monospace\"><span style=\"color: #7fbfbf; text-decoration-color: #7fbfbf\">[22:55:12] </span><span style=\"color: #808000; text-decoration-color: #808000\">WARNING </span> Mesh resolution for <span style=\"color: #800080; text-decoration-color: #800080; font-weight: bold\">RadiationProblem</span><span style=\"font-weight: bold\">(</span><span style=\"color: #808000; text-decoration-color: #808000\">body</span>=<span style=\"color: #800080; text-decoration-color: #800080; font-weight: bold\">FloatingBody</span><span style=\"font-weight: bold\">(</span><span style=\"color: #808000; text-decoration-color: #808000\">...</span>,                                    \n",
       "<span style=\"color: #7fbfbf; text-decoration-color: #7fbfbf\">           </span>         <span style=\"color: #808000; text-decoration-color: #808000\">name</span>=<span style=\"color: #008000; text-decoration-color: #008000\">\"axisymmetric_mesh+axisymmetric_mesh+axisymmetric_mesh+axisymmetric_mesh+axisymmetric_mesh</span>\n",
       "<span style=\"color: #7fbfbf; text-decoration-color: #7fbfbf\">           </span>         <span style=\"color: #008000; text-decoration-color: #008000\">+axisymmetric_mesh\"</span><span style=\"font-weight: bold\">)</span>, <span style=\"color: #808000; text-decoration-color: #808000\">wavenumber</span>=<span style=\"color: #008080; text-decoration-color: #008080; font-weight: bold\">2.897</span>, <span style=\"color: #808000; text-decoration-color: #808000\">water_depth</span>=<span style=\"color: #008080; text-decoration-color: #008080; font-weight: bold\">20.0</span>, <span style=\"color: #808000; text-decoration-color: #808000\">radiating_dof</span>=<span style=\"color: #008000; text-decoration-color: #008000\">'Heave'</span>, <span style=\"color: #808000; text-decoration-color: #808000\">rho</span>=<span style=\"color: #008080; text-decoration-color: #008080; font-weight: bold\">1023.0</span><span style=\"font-weight: bold\">)</span>:  \n",
       "<span style=\"color: #7fbfbf; text-decoration-color: #7fbfbf\">           </span>         The resolution of the mesh of the body <span style=\"color: #800080; text-decoration-color: #800080; font-weight: bold\">FloatingBody</span><span style=\"font-weight: bold\">(</span><span style=\"color: #808000; text-decoration-color: #808000\">...</span>,                                       \n",
       "<span style=\"color: #7fbfbf; text-decoration-color: #7fbfbf\">           </span>         <span style=\"color: #808000; text-decoration-color: #808000\">name</span>=<span style=\"color: #008000; text-decoration-color: #008000\">\"axisymmetric_mesh+axisymmetric_mesh+axisymmetric_mesh+axisymmetric_mesh+axisymmetric_mesh</span>\n",
       "<span style=\"color: #7fbfbf; text-decoration-color: #7fbfbf\">           </span>         <span style=\"color: #008000; text-decoration-color: #008000\">+axisymmetric_mesh\"</span><span style=\"font-weight: bold\">)</span> might be insufficient for <span style=\"color: #808000; text-decoration-color: #808000\">wavenumber</span>=<span style=\"color: #008080; text-decoration-color: #008080; font-weight: bold\">2.896551724137931</span>.                   \n",
       "<span style=\"color: #7fbfbf; text-decoration-color: #7fbfbf\">           </span>         This warning appears because the largest panel of this mesh has radius <span style=\"color: #008080; text-decoration-color: #008080; font-weight: bold\">0.992</span> &gt; wavelength/<span style=\"color: #008080; text-decoration-color: #008080; font-weight: bold\">8</span>.   \n",
       "</pre>\n"
      ],
      "text/plain": [
       "\u001b[2;36m[22:55:12]\u001b[0m\u001b[2;36m \u001b[0m\u001b[33mWARNING \u001b[0m Mesh resolution for \u001b[1;35mRadiationProblem\u001b[0m\u001b[1m(\u001b[0m\u001b[33mbody\u001b[0m=\u001b[1;35mFloatingBody\u001b[0m\u001b[1m(\u001b[0m\u001b[33m...\u001b[0m,                                    \n",
       "\u001b[2;36m           \u001b[0m         \u001b[33mname\u001b[0m=\u001b[32m\"axisymmetric_mesh\u001b[0m\u001b[32m+axisymmetric_mesh+axisymmetric_mesh+axisymmetric_mesh+axisymmetric_mesh\u001b[0m\n",
       "\u001b[2;36m           \u001b[0m         \u001b[32m+axisymmetric_mesh\"\u001b[0m\u001b[1m)\u001b[0m, \u001b[33mwavenumber\u001b[0m=\u001b[1;36m2\u001b[0m\u001b[1;36m.897\u001b[0m, \u001b[33mwater_depth\u001b[0m=\u001b[1;36m20\u001b[0m\u001b[1;36m.0\u001b[0m, \u001b[33mradiating_dof\u001b[0m=\u001b[32m'Heave'\u001b[0m, \u001b[33mrho\u001b[0m=\u001b[1;36m1023\u001b[0m\u001b[1;36m.0\u001b[0m\u001b[1m)\u001b[0m:  \n",
       "\u001b[2;36m           \u001b[0m         The resolution of the mesh of the body \u001b[1;35mFloatingBody\u001b[0m\u001b[1m(\u001b[0m\u001b[33m...\u001b[0m,                                       \n",
       "\u001b[2;36m           \u001b[0m         \u001b[33mname\u001b[0m=\u001b[32m\"axisymmetric_mesh\u001b[0m\u001b[32m+axisymmetric_mesh+axisymmetric_mesh+axisymmetric_mesh+axisymmetric_mesh\u001b[0m\n",
       "\u001b[2;36m           \u001b[0m         \u001b[32m+axisymmetric_mesh\"\u001b[0m\u001b[1m)\u001b[0m might be insufficient for \u001b[33mwavenumber\u001b[0m=\u001b[1;36m2\u001b[0m\u001b[1;36m.896551724137931\u001b[0m.                   \n",
       "\u001b[2;36m           \u001b[0m         This warning appears because the largest panel of this mesh has radius \u001b[1;36m0.992\u001b[0m > wavelength/\u001b[1;36m8\u001b[0m.   \n"
      ]
     },
     "metadata": {},
     "output_type": "display_data"
    },
    {
     "name": "stdout",
     "output_type": "stream",
     "text": [
      "# of Panels:  2500\n"
     ]
    },
    {
     "data": {
      "text/html": [
       "<pre style=\"white-space:pre;overflow-x:auto;line-height:normal;font-family:Menlo,'DejaVu Sans Mono',consolas,'Courier New',monospace\"><span style=\"color: #7fbfbf; text-decoration-color: #7fbfbf\">[22:55:20] </span><span style=\"color: #808000; text-decoration-color: #808000\">WARNING </span> Mesh resolution for <span style=\"color: #800080; text-decoration-color: #800080; font-weight: bold\">RadiationProblem</span><span style=\"font-weight: bold\">(</span><span style=\"color: #808000; text-decoration-color: #808000\">body</span>=<span style=\"color: #800080; text-decoration-color: #800080; font-weight: bold\">FloatingBody</span><span style=\"font-weight: bold\">(</span><span style=\"color: #808000; text-decoration-color: #808000\">...</span>,                                    \n",
       "<span style=\"color: #7fbfbf; text-decoration-color: #7fbfbf\">           </span>         <span style=\"color: #808000; text-decoration-color: #808000\">name</span>=<span style=\"color: #008000; text-decoration-color: #008000\">\"axisymmetric_mesh+axisymmetric_mesh+axisymmetric_mesh+axisymmetric_mesh+axisymmetric_mesh</span>\n",
       "<span style=\"color: #7fbfbf; text-decoration-color: #7fbfbf\">           </span>         <span style=\"color: #008000; text-decoration-color: #008000\">+axisymmetric_mesh\"</span><span style=\"font-weight: bold\">)</span>, <span style=\"color: #808000; text-decoration-color: #808000\">wavenumber</span>=<span style=\"color: #008080; text-decoration-color: #008080; font-weight: bold\">3.069</span>, <span style=\"color: #808000; text-decoration-color: #808000\">water_depth</span>=<span style=\"color: #008080; text-decoration-color: #008080; font-weight: bold\">20.0</span>, <span style=\"color: #808000; text-decoration-color: #808000\">radiating_dof</span>=<span style=\"color: #008000; text-decoration-color: #008000\">'Heave'</span>, <span style=\"color: #808000; text-decoration-color: #808000\">rho</span>=<span style=\"color: #008080; text-decoration-color: #008080; font-weight: bold\">1023.0</span><span style=\"font-weight: bold\">)</span>:  \n",
       "<span style=\"color: #7fbfbf; text-decoration-color: #7fbfbf\">           </span>         The resolution of the mesh of the body <span style=\"color: #800080; text-decoration-color: #800080; font-weight: bold\">FloatingBody</span><span style=\"font-weight: bold\">(</span><span style=\"color: #808000; text-decoration-color: #808000\">...</span>,                                       \n",
       "<span style=\"color: #7fbfbf; text-decoration-color: #7fbfbf\">           </span>         <span style=\"color: #808000; text-decoration-color: #808000\">name</span>=<span style=\"color: #008000; text-decoration-color: #008000\">\"axisymmetric_mesh+axisymmetric_mesh+axisymmetric_mesh+axisymmetric_mesh+axisymmetric_mesh</span>\n",
       "<span style=\"color: #7fbfbf; text-decoration-color: #7fbfbf\">           </span>         <span style=\"color: #008000; text-decoration-color: #008000\">+axisymmetric_mesh\"</span><span style=\"font-weight: bold\">)</span> might be insufficient for <span style=\"color: #808000; text-decoration-color: #808000\">wavenumber</span>=<span style=\"color: #008080; text-decoration-color: #008080; font-weight: bold\">3.0689655172413794</span>.                  \n",
       "<span style=\"color: #7fbfbf; text-decoration-color: #7fbfbf\">           </span>         This warning appears because the largest panel of this mesh has radius <span style=\"color: #008080; text-decoration-color: #008080; font-weight: bold\">0.992</span> &gt; wavelength/<span style=\"color: #008080; text-decoration-color: #008080; font-weight: bold\">8</span>.   \n",
       "</pre>\n"
      ],
      "text/plain": [
       "\u001b[2;36m[22:55:20]\u001b[0m\u001b[2;36m \u001b[0m\u001b[33mWARNING \u001b[0m Mesh resolution for \u001b[1;35mRadiationProblem\u001b[0m\u001b[1m(\u001b[0m\u001b[33mbody\u001b[0m=\u001b[1;35mFloatingBody\u001b[0m\u001b[1m(\u001b[0m\u001b[33m...\u001b[0m,                                    \n",
       "\u001b[2;36m           \u001b[0m         \u001b[33mname\u001b[0m=\u001b[32m\"axisymmetric_mesh\u001b[0m\u001b[32m+axisymmetric_mesh+axisymmetric_mesh+axisymmetric_mesh+axisymmetric_mesh\u001b[0m\n",
       "\u001b[2;36m           \u001b[0m         \u001b[32m+axisymmetric_mesh\"\u001b[0m\u001b[1m)\u001b[0m, \u001b[33mwavenumber\u001b[0m=\u001b[1;36m3\u001b[0m\u001b[1;36m.069\u001b[0m, \u001b[33mwater_depth\u001b[0m=\u001b[1;36m20\u001b[0m\u001b[1;36m.0\u001b[0m, \u001b[33mradiating_dof\u001b[0m=\u001b[32m'Heave'\u001b[0m, \u001b[33mrho\u001b[0m=\u001b[1;36m1023\u001b[0m\u001b[1;36m.0\u001b[0m\u001b[1m)\u001b[0m:  \n",
       "\u001b[2;36m           \u001b[0m         The resolution of the mesh of the body \u001b[1;35mFloatingBody\u001b[0m\u001b[1m(\u001b[0m\u001b[33m...\u001b[0m,                                       \n",
       "\u001b[2;36m           \u001b[0m         \u001b[33mname\u001b[0m=\u001b[32m\"axisymmetric_mesh\u001b[0m\u001b[32m+axisymmetric_mesh+axisymmetric_mesh+axisymmetric_mesh+axisymmetric_mesh\u001b[0m\n",
       "\u001b[2;36m           \u001b[0m         \u001b[32m+axisymmetric_mesh\"\u001b[0m\u001b[1m)\u001b[0m might be insufficient for \u001b[33mwavenumber\u001b[0m=\u001b[1;36m3\u001b[0m\u001b[1;36m.0689655172413794\u001b[0m.                  \n",
       "\u001b[2;36m           \u001b[0m         This warning appears because the largest panel of this mesh has radius \u001b[1;36m0.992\u001b[0m > wavelength/\u001b[1;36m8\u001b[0m.   \n"
      ]
     },
     "metadata": {},
     "output_type": "display_data"
    },
    {
     "name": "stdout",
     "output_type": "stream",
     "text": [
      "# of Panels:  2500\n"
     ]
    },
    {
     "data": {
      "text/html": [
       "<pre style=\"white-space:pre;overflow-x:auto;line-height:normal;font-family:Menlo,'DejaVu Sans Mono',consolas,'Courier New',monospace\"><span style=\"color: #7fbfbf; text-decoration-color: #7fbfbf\">[22:55:29] </span><span style=\"color: #808000; text-decoration-color: #808000\">WARNING </span> Mesh resolution for <span style=\"color: #800080; text-decoration-color: #800080; font-weight: bold\">RadiationProblem</span><span style=\"font-weight: bold\">(</span><span style=\"color: #808000; text-decoration-color: #808000\">body</span>=<span style=\"color: #800080; text-decoration-color: #800080; font-weight: bold\">FloatingBody</span><span style=\"font-weight: bold\">(</span><span style=\"color: #808000; text-decoration-color: #808000\">...</span>,                                    \n",
       "<span style=\"color: #7fbfbf; text-decoration-color: #7fbfbf\">           </span>         <span style=\"color: #808000; text-decoration-color: #808000\">name</span>=<span style=\"color: #008000; text-decoration-color: #008000\">\"axisymmetric_mesh+axisymmetric_mesh+axisymmetric_mesh+axisymmetric_mesh+axisymmetric_mesh</span>\n",
       "<span style=\"color: #7fbfbf; text-decoration-color: #7fbfbf\">           </span>         <span style=\"color: #008000; text-decoration-color: #008000\">+axisymmetric_mesh\"</span><span style=\"font-weight: bold\">)</span>, <span style=\"color: #808000; text-decoration-color: #808000\">wavenumber</span>=<span style=\"color: #008080; text-decoration-color: #008080; font-weight: bold\">3.241</span>, <span style=\"color: #808000; text-decoration-color: #808000\">water_depth</span>=<span style=\"color: #008080; text-decoration-color: #008080; font-weight: bold\">20.0</span>, <span style=\"color: #808000; text-decoration-color: #808000\">radiating_dof</span>=<span style=\"color: #008000; text-decoration-color: #008000\">'Heave'</span>, <span style=\"color: #808000; text-decoration-color: #808000\">rho</span>=<span style=\"color: #008080; text-decoration-color: #008080; font-weight: bold\">1023.0</span><span style=\"font-weight: bold\">)</span>:  \n",
       "<span style=\"color: #7fbfbf; text-decoration-color: #7fbfbf\">           </span>         The resolution of the mesh of the body <span style=\"color: #800080; text-decoration-color: #800080; font-weight: bold\">FloatingBody</span><span style=\"font-weight: bold\">(</span><span style=\"color: #808000; text-decoration-color: #808000\">...</span>,                                       \n",
       "<span style=\"color: #7fbfbf; text-decoration-color: #7fbfbf\">           </span>         <span style=\"color: #808000; text-decoration-color: #808000\">name</span>=<span style=\"color: #008000; text-decoration-color: #008000\">\"axisymmetric_mesh+axisymmetric_mesh+axisymmetric_mesh+axisymmetric_mesh+axisymmetric_mesh</span>\n",
       "<span style=\"color: #7fbfbf; text-decoration-color: #7fbfbf\">           </span>         <span style=\"color: #008000; text-decoration-color: #008000\">+axisymmetric_mesh\"</span><span style=\"font-weight: bold\">)</span> might be insufficient for <span style=\"color: #808000; text-decoration-color: #808000\">wavenumber</span>=<span style=\"color: #008080; text-decoration-color: #008080; font-weight: bold\">3.241379310344828</span>.                   \n",
       "<span style=\"color: #7fbfbf; text-decoration-color: #7fbfbf\">           </span>         This warning appears because the largest panel of this mesh has radius <span style=\"color: #008080; text-decoration-color: #008080; font-weight: bold\">0.992</span> &gt; wavelength/<span style=\"color: #008080; text-decoration-color: #008080; font-weight: bold\">8</span>.   \n",
       "</pre>\n"
      ],
      "text/plain": [
       "\u001b[2;36m[22:55:29]\u001b[0m\u001b[2;36m \u001b[0m\u001b[33mWARNING \u001b[0m Mesh resolution for \u001b[1;35mRadiationProblem\u001b[0m\u001b[1m(\u001b[0m\u001b[33mbody\u001b[0m=\u001b[1;35mFloatingBody\u001b[0m\u001b[1m(\u001b[0m\u001b[33m...\u001b[0m,                                    \n",
       "\u001b[2;36m           \u001b[0m         \u001b[33mname\u001b[0m=\u001b[32m\"axisymmetric_mesh\u001b[0m\u001b[32m+axisymmetric_mesh+axisymmetric_mesh+axisymmetric_mesh+axisymmetric_mesh\u001b[0m\n",
       "\u001b[2;36m           \u001b[0m         \u001b[32m+axisymmetric_mesh\"\u001b[0m\u001b[1m)\u001b[0m, \u001b[33mwavenumber\u001b[0m=\u001b[1;36m3\u001b[0m\u001b[1;36m.241\u001b[0m, \u001b[33mwater_depth\u001b[0m=\u001b[1;36m20\u001b[0m\u001b[1;36m.0\u001b[0m, \u001b[33mradiating_dof\u001b[0m=\u001b[32m'Heave'\u001b[0m, \u001b[33mrho\u001b[0m=\u001b[1;36m1023\u001b[0m\u001b[1;36m.0\u001b[0m\u001b[1m)\u001b[0m:  \n",
       "\u001b[2;36m           \u001b[0m         The resolution of the mesh of the body \u001b[1;35mFloatingBody\u001b[0m\u001b[1m(\u001b[0m\u001b[33m...\u001b[0m,                                       \n",
       "\u001b[2;36m           \u001b[0m         \u001b[33mname\u001b[0m=\u001b[32m\"axisymmetric_mesh\u001b[0m\u001b[32m+axisymmetric_mesh+axisymmetric_mesh+axisymmetric_mesh+axisymmetric_mesh\u001b[0m\n",
       "\u001b[2;36m           \u001b[0m         \u001b[32m+axisymmetric_mesh\"\u001b[0m\u001b[1m)\u001b[0m might be insufficient for \u001b[33mwavenumber\u001b[0m=\u001b[1;36m3\u001b[0m\u001b[1;36m.241379310344828\u001b[0m.                   \n",
       "\u001b[2;36m           \u001b[0m         This warning appears because the largest panel of this mesh has radius \u001b[1;36m0.992\u001b[0m > wavelength/\u001b[1;36m8\u001b[0m.   \n"
      ]
     },
     "metadata": {},
     "output_type": "display_data"
    },
    {
     "name": "stdout",
     "output_type": "stream",
     "text": [
      "# of Panels:  2500\n"
     ]
    },
    {
     "data": {
      "text/html": [
       "<pre style=\"white-space:pre;overflow-x:auto;line-height:normal;font-family:Menlo,'DejaVu Sans Mono',consolas,'Courier New',monospace\"><span style=\"color: #7fbfbf; text-decoration-color: #7fbfbf\">[22:55:37] </span><span style=\"color: #808000; text-decoration-color: #808000\">WARNING </span> Mesh resolution for <span style=\"color: #800080; text-decoration-color: #800080; font-weight: bold\">RadiationProblem</span><span style=\"font-weight: bold\">(</span><span style=\"color: #808000; text-decoration-color: #808000\">body</span>=<span style=\"color: #800080; text-decoration-color: #800080; font-weight: bold\">FloatingBody</span><span style=\"font-weight: bold\">(</span><span style=\"color: #808000; text-decoration-color: #808000\">...</span>,                                    \n",
       "<span style=\"color: #7fbfbf; text-decoration-color: #7fbfbf\">           </span>         <span style=\"color: #808000; text-decoration-color: #808000\">name</span>=<span style=\"color: #008000; text-decoration-color: #008000\">\"axisymmetric_mesh+axisymmetric_mesh+axisymmetric_mesh+axisymmetric_mesh+axisymmetric_mesh</span>\n",
       "<span style=\"color: #7fbfbf; text-decoration-color: #7fbfbf\">           </span>         <span style=\"color: #008000; text-decoration-color: #008000\">+axisymmetric_mesh\"</span><span style=\"font-weight: bold\">)</span>, <span style=\"color: #808000; text-decoration-color: #808000\">wavenumber</span>=<span style=\"color: #008080; text-decoration-color: #008080; font-weight: bold\">3.414</span>, <span style=\"color: #808000; text-decoration-color: #808000\">water_depth</span>=<span style=\"color: #008080; text-decoration-color: #008080; font-weight: bold\">20.0</span>, <span style=\"color: #808000; text-decoration-color: #808000\">radiating_dof</span>=<span style=\"color: #008000; text-decoration-color: #008000\">'Heave'</span>, <span style=\"color: #808000; text-decoration-color: #808000\">rho</span>=<span style=\"color: #008080; text-decoration-color: #008080; font-weight: bold\">1023.0</span><span style=\"font-weight: bold\">)</span>:  \n",
       "<span style=\"color: #7fbfbf; text-decoration-color: #7fbfbf\">           </span>         The resolution of the mesh of the body <span style=\"color: #800080; text-decoration-color: #800080; font-weight: bold\">FloatingBody</span><span style=\"font-weight: bold\">(</span><span style=\"color: #808000; text-decoration-color: #808000\">...</span>,                                       \n",
       "<span style=\"color: #7fbfbf; text-decoration-color: #7fbfbf\">           </span>         <span style=\"color: #808000; text-decoration-color: #808000\">name</span>=<span style=\"color: #008000; text-decoration-color: #008000\">\"axisymmetric_mesh+axisymmetric_mesh+axisymmetric_mesh+axisymmetric_mesh+axisymmetric_mesh</span>\n",
       "<span style=\"color: #7fbfbf; text-decoration-color: #7fbfbf\">           </span>         <span style=\"color: #008000; text-decoration-color: #008000\">+axisymmetric_mesh\"</span><span style=\"font-weight: bold\">)</span> might be insufficient for <span style=\"color: #808000; text-decoration-color: #808000\">wavenumber</span>=<span style=\"color: #008080; text-decoration-color: #008080; font-weight: bold\">3.413793103448276</span>.                   \n",
       "<span style=\"color: #7fbfbf; text-decoration-color: #7fbfbf\">           </span>         This warning appears because the largest panel of this mesh has radius <span style=\"color: #008080; text-decoration-color: #008080; font-weight: bold\">0.992</span> &gt; wavelength/<span style=\"color: #008080; text-decoration-color: #008080; font-weight: bold\">8</span>.   \n",
       "</pre>\n"
      ],
      "text/plain": [
       "\u001b[2;36m[22:55:37]\u001b[0m\u001b[2;36m \u001b[0m\u001b[33mWARNING \u001b[0m Mesh resolution for \u001b[1;35mRadiationProblem\u001b[0m\u001b[1m(\u001b[0m\u001b[33mbody\u001b[0m=\u001b[1;35mFloatingBody\u001b[0m\u001b[1m(\u001b[0m\u001b[33m...\u001b[0m,                                    \n",
       "\u001b[2;36m           \u001b[0m         \u001b[33mname\u001b[0m=\u001b[32m\"axisymmetric_mesh\u001b[0m\u001b[32m+axisymmetric_mesh+axisymmetric_mesh+axisymmetric_mesh+axisymmetric_mesh\u001b[0m\n",
       "\u001b[2;36m           \u001b[0m         \u001b[32m+axisymmetric_mesh\"\u001b[0m\u001b[1m)\u001b[0m, \u001b[33mwavenumber\u001b[0m=\u001b[1;36m3\u001b[0m\u001b[1;36m.414\u001b[0m, \u001b[33mwater_depth\u001b[0m=\u001b[1;36m20\u001b[0m\u001b[1;36m.0\u001b[0m, \u001b[33mradiating_dof\u001b[0m=\u001b[32m'Heave'\u001b[0m, \u001b[33mrho\u001b[0m=\u001b[1;36m1023\u001b[0m\u001b[1;36m.0\u001b[0m\u001b[1m)\u001b[0m:  \n",
       "\u001b[2;36m           \u001b[0m         The resolution of the mesh of the body \u001b[1;35mFloatingBody\u001b[0m\u001b[1m(\u001b[0m\u001b[33m...\u001b[0m,                                       \n",
       "\u001b[2;36m           \u001b[0m         \u001b[33mname\u001b[0m=\u001b[32m\"axisymmetric_mesh\u001b[0m\u001b[32m+axisymmetric_mesh+axisymmetric_mesh+axisymmetric_mesh+axisymmetric_mesh\u001b[0m\n",
       "\u001b[2;36m           \u001b[0m         \u001b[32m+axisymmetric_mesh\"\u001b[0m\u001b[1m)\u001b[0m might be insufficient for \u001b[33mwavenumber\u001b[0m=\u001b[1;36m3\u001b[0m\u001b[1;36m.413793103448276\u001b[0m.                   \n",
       "\u001b[2;36m           \u001b[0m         This warning appears because the largest panel of this mesh has radius \u001b[1;36m0.992\u001b[0m > wavelength/\u001b[1;36m8\u001b[0m.   \n"
      ]
     },
     "metadata": {},
     "output_type": "display_data"
    },
    {
     "data": {
      "text/html": [
       "<pre style=\"white-space:pre;overflow-x:auto;line-height:normal;font-family:Menlo,'DejaVu Sans Mono',consolas,'Courier New',monospace\"><span style=\"color: #7fbfbf; text-decoration-color: #7fbfbf\">[22:55:42] </span><span style=\"color: #808000; text-decoration-color: #808000\">WARNING </span> Irregular frequencies for <span style=\"color: #800080; text-decoration-color: #800080; font-weight: bold\">RadiationProblem</span><span style=\"font-weight: bold\">(</span><span style=\"color: #808000; text-decoration-color: #808000\">body</span>=<span style=\"color: #800080; text-decoration-color: #800080; font-weight: bold\">FloatingBody</span><span style=\"font-weight: bold\">(</span><span style=\"color: #808000; text-decoration-color: #808000\">...</span>,                              \n",
       "<span style=\"color: #7fbfbf; text-decoration-color: #7fbfbf\">           </span>         <span style=\"color: #808000; text-decoration-color: #808000\">name</span>=<span style=\"color: #008000; text-decoration-color: #008000\">\"axisymmetric_mesh+axisymmetric_mesh+axisymmetric_mesh+axisymmetric_mesh+axisymmetric_mesh</span>\n",
       "<span style=\"color: #7fbfbf; text-decoration-color: #7fbfbf\">           </span>         <span style=\"color: #008000; text-decoration-color: #008000\">+axisymmetric_mesh\"</span><span style=\"font-weight: bold\">)</span>, <span style=\"color: #808000; text-decoration-color: #808000\">wavenumber</span>=<span style=\"color: #008080; text-decoration-color: #008080; font-weight: bold\">3.414</span>, <span style=\"color: #808000; text-decoration-color: #808000\">water_depth</span>=<span style=\"color: #008080; text-decoration-color: #008080; font-weight: bold\">20.0</span>, <span style=\"color: #808000; text-decoration-color: #808000\">radiating_dof</span>=<span style=\"color: #008000; text-decoration-color: #008000\">'Heave'</span>, <span style=\"color: #808000; text-decoration-color: #808000\">rho</span>=<span style=\"color: #008080; text-decoration-color: #008080; font-weight: bold\">1023.0</span><span style=\"font-weight: bold\">)</span>:  \n",
       "<span style=\"color: #7fbfbf; text-decoration-color: #7fbfbf\">           </span>         The body <span style=\"color: #800080; text-decoration-color: #800080; font-weight: bold\">FloatingBody</span><span style=\"font-weight: bold\">(</span><span style=\"color: #808000; text-decoration-color: #808000\">...</span>,                                                                     \n",
       "<span style=\"color: #7fbfbf; text-decoration-color: #7fbfbf\">           </span>         <span style=\"color: #808000; text-decoration-color: #808000\">name</span>=<span style=\"color: #008000; text-decoration-color: #008000\">\"axisymmetric_mesh+axisymmetric_mesh+axisymmetric_mesh+axisymmetric_mesh+axisymmetric_mesh</span>\n",
       "<span style=\"color: #7fbfbf; text-decoration-color: #7fbfbf\">           </span>         <span style=\"color: #008000; text-decoration-color: #008000\">+axisymmetric_mesh\"</span><span style=\"font-weight: bold\">)</span> might display irregular frequencies for <span style=\"color: #808000; text-decoration-color: #808000\">wavenumber</span>=<span style=\"color: #008080; text-decoration-color: #008080; font-weight: bold\">3.413793103448276</span>.     \n",
       "<span style=\"color: #7fbfbf; text-decoration-color: #7fbfbf\">           </span>         Setting a lid for the floating body is recommended.                                            \n",
       "</pre>\n"
      ],
      "text/plain": [
       "\u001b[2;36m[22:55:42]\u001b[0m\u001b[2;36m \u001b[0m\u001b[33mWARNING \u001b[0m Irregular frequencies for \u001b[1;35mRadiationProblem\u001b[0m\u001b[1m(\u001b[0m\u001b[33mbody\u001b[0m=\u001b[1;35mFloatingBody\u001b[0m\u001b[1m(\u001b[0m\u001b[33m...\u001b[0m,                              \n",
       "\u001b[2;36m           \u001b[0m         \u001b[33mname\u001b[0m=\u001b[32m\"axisymmetric_mesh\u001b[0m\u001b[32m+axisymmetric_mesh+axisymmetric_mesh+axisymmetric_mesh+axisymmetric_mesh\u001b[0m\n",
       "\u001b[2;36m           \u001b[0m         \u001b[32m+axisymmetric_mesh\"\u001b[0m\u001b[1m)\u001b[0m, \u001b[33mwavenumber\u001b[0m=\u001b[1;36m3\u001b[0m\u001b[1;36m.414\u001b[0m, \u001b[33mwater_depth\u001b[0m=\u001b[1;36m20\u001b[0m\u001b[1;36m.0\u001b[0m, \u001b[33mradiating_dof\u001b[0m=\u001b[32m'Heave'\u001b[0m, \u001b[33mrho\u001b[0m=\u001b[1;36m1023\u001b[0m\u001b[1;36m.0\u001b[0m\u001b[1m)\u001b[0m:  \n",
       "\u001b[2;36m           \u001b[0m         The body \u001b[1;35mFloatingBody\u001b[0m\u001b[1m(\u001b[0m\u001b[33m...\u001b[0m,                                                                     \n",
       "\u001b[2;36m           \u001b[0m         \u001b[33mname\u001b[0m=\u001b[32m\"axisymmetric_mesh\u001b[0m\u001b[32m+axisymmetric_mesh+axisymmetric_mesh+axisymmetric_mesh+axisymmetric_mesh\u001b[0m\n",
       "\u001b[2;36m           \u001b[0m         \u001b[32m+axisymmetric_mesh\"\u001b[0m\u001b[1m)\u001b[0m might display irregular frequencies for \u001b[33mwavenumber\u001b[0m=\u001b[1;36m3\u001b[0m\u001b[1;36m.413793103448276\u001b[0m.     \n",
       "\u001b[2;36m           \u001b[0m         Setting a lid for the floating body is recommended.                                            \n"
      ]
     },
     "metadata": {},
     "output_type": "display_data"
    },
    {
     "name": "stdout",
     "output_type": "stream",
     "text": [
      "# of Panels:  2500\n"
     ]
    },
    {
     "data": {
      "text/html": [
       "<pre style=\"white-space:pre;overflow-x:auto;line-height:normal;font-family:Menlo,'DejaVu Sans Mono',consolas,'Courier New',monospace\"><span style=\"color: #7fbfbf; text-decoration-color: #7fbfbf\">[22:55:46] </span><span style=\"color: #808000; text-decoration-color: #808000\">WARNING </span> Mesh resolution for <span style=\"color: #800080; text-decoration-color: #800080; font-weight: bold\">RadiationProblem</span><span style=\"font-weight: bold\">(</span><span style=\"color: #808000; text-decoration-color: #808000\">body</span>=<span style=\"color: #800080; text-decoration-color: #800080; font-weight: bold\">FloatingBody</span><span style=\"font-weight: bold\">(</span><span style=\"color: #808000; text-decoration-color: #808000\">...</span>,                                    \n",
       "<span style=\"color: #7fbfbf; text-decoration-color: #7fbfbf\">           </span>         <span style=\"color: #808000; text-decoration-color: #808000\">name</span>=<span style=\"color: #008000; text-decoration-color: #008000\">\"axisymmetric_mesh+axisymmetric_mesh+axisymmetric_mesh+axisymmetric_mesh+axisymmetric_mesh</span>\n",
       "<span style=\"color: #7fbfbf; text-decoration-color: #7fbfbf\">           </span>         <span style=\"color: #008000; text-decoration-color: #008000\">+axisymmetric_mesh\"</span><span style=\"font-weight: bold\">)</span>, <span style=\"color: #808000; text-decoration-color: #808000\">wavenumber</span>=<span style=\"color: #008080; text-decoration-color: #008080; font-weight: bold\">3.586</span>, <span style=\"color: #808000; text-decoration-color: #808000\">water_depth</span>=<span style=\"color: #008080; text-decoration-color: #008080; font-weight: bold\">20.0</span>, <span style=\"color: #808000; text-decoration-color: #808000\">radiating_dof</span>=<span style=\"color: #008000; text-decoration-color: #008000\">'Heave'</span>, <span style=\"color: #808000; text-decoration-color: #808000\">rho</span>=<span style=\"color: #008080; text-decoration-color: #008080; font-weight: bold\">1023.0</span><span style=\"font-weight: bold\">)</span>:  \n",
       "<span style=\"color: #7fbfbf; text-decoration-color: #7fbfbf\">           </span>         The resolution of the mesh of the body <span style=\"color: #800080; text-decoration-color: #800080; font-weight: bold\">FloatingBody</span><span style=\"font-weight: bold\">(</span><span style=\"color: #808000; text-decoration-color: #808000\">...</span>,                                       \n",
       "<span style=\"color: #7fbfbf; text-decoration-color: #7fbfbf\">           </span>         <span style=\"color: #808000; text-decoration-color: #808000\">name</span>=<span style=\"color: #008000; text-decoration-color: #008000\">\"axisymmetric_mesh+axisymmetric_mesh+axisymmetric_mesh+axisymmetric_mesh+axisymmetric_mesh</span>\n",
       "<span style=\"color: #7fbfbf; text-decoration-color: #7fbfbf\">           </span>         <span style=\"color: #008000; text-decoration-color: #008000\">+axisymmetric_mesh\"</span><span style=\"font-weight: bold\">)</span> might be insufficient for <span style=\"color: #808000; text-decoration-color: #808000\">wavenumber</span>=<span style=\"color: #008080; text-decoration-color: #008080; font-weight: bold\">3.586206896551724</span>.                   \n",
       "<span style=\"color: #7fbfbf; text-decoration-color: #7fbfbf\">           </span>         This warning appears because the largest panel of this mesh has radius <span style=\"color: #008080; text-decoration-color: #008080; font-weight: bold\">0.992</span> &gt; wavelength/<span style=\"color: #008080; text-decoration-color: #008080; font-weight: bold\">8</span>.   \n",
       "</pre>\n"
      ],
      "text/plain": [
       "\u001b[2;36m[22:55:46]\u001b[0m\u001b[2;36m \u001b[0m\u001b[33mWARNING \u001b[0m Mesh resolution for \u001b[1;35mRadiationProblem\u001b[0m\u001b[1m(\u001b[0m\u001b[33mbody\u001b[0m=\u001b[1;35mFloatingBody\u001b[0m\u001b[1m(\u001b[0m\u001b[33m...\u001b[0m,                                    \n",
       "\u001b[2;36m           \u001b[0m         \u001b[33mname\u001b[0m=\u001b[32m\"axisymmetric_mesh\u001b[0m\u001b[32m+axisymmetric_mesh+axisymmetric_mesh+axisymmetric_mesh+axisymmetric_mesh\u001b[0m\n",
       "\u001b[2;36m           \u001b[0m         \u001b[32m+axisymmetric_mesh\"\u001b[0m\u001b[1m)\u001b[0m, \u001b[33mwavenumber\u001b[0m=\u001b[1;36m3\u001b[0m\u001b[1;36m.586\u001b[0m, \u001b[33mwater_depth\u001b[0m=\u001b[1;36m20\u001b[0m\u001b[1;36m.0\u001b[0m, \u001b[33mradiating_dof\u001b[0m=\u001b[32m'Heave'\u001b[0m, \u001b[33mrho\u001b[0m=\u001b[1;36m1023\u001b[0m\u001b[1;36m.0\u001b[0m\u001b[1m)\u001b[0m:  \n",
       "\u001b[2;36m           \u001b[0m         The resolution of the mesh of the body \u001b[1;35mFloatingBody\u001b[0m\u001b[1m(\u001b[0m\u001b[33m...\u001b[0m,                                       \n",
       "\u001b[2;36m           \u001b[0m         \u001b[33mname\u001b[0m=\u001b[32m\"axisymmetric_mesh\u001b[0m\u001b[32m+axisymmetric_mesh+axisymmetric_mesh+axisymmetric_mesh+axisymmetric_mesh\u001b[0m\n",
       "\u001b[2;36m           \u001b[0m         \u001b[32m+axisymmetric_mesh\"\u001b[0m\u001b[1m)\u001b[0m might be insufficient for \u001b[33mwavenumber\u001b[0m=\u001b[1;36m3\u001b[0m\u001b[1;36m.586206896551724\u001b[0m.                   \n",
       "\u001b[2;36m           \u001b[0m         This warning appears because the largest panel of this mesh has radius \u001b[1;36m0.992\u001b[0m > wavelength/\u001b[1;36m8\u001b[0m.   \n"
      ]
     },
     "metadata": {},
     "output_type": "display_data"
    },
    {
     "data": {
      "text/html": [
       "<pre style=\"white-space:pre;overflow-x:auto;line-height:normal;font-family:Menlo,'DejaVu Sans Mono',consolas,'Courier New',monospace\"><span style=\"color: #7fbfbf; text-decoration-color: #7fbfbf\">[22:55:51] </span><span style=\"color: #808000; text-decoration-color: #808000\">WARNING </span> Irregular frequencies for <span style=\"color: #800080; text-decoration-color: #800080; font-weight: bold\">RadiationProblem</span><span style=\"font-weight: bold\">(</span><span style=\"color: #808000; text-decoration-color: #808000\">body</span>=<span style=\"color: #800080; text-decoration-color: #800080; font-weight: bold\">FloatingBody</span><span style=\"font-weight: bold\">(</span><span style=\"color: #808000; text-decoration-color: #808000\">...</span>,                              \n",
       "<span style=\"color: #7fbfbf; text-decoration-color: #7fbfbf\">           </span>         <span style=\"color: #808000; text-decoration-color: #808000\">name</span>=<span style=\"color: #008000; text-decoration-color: #008000\">\"axisymmetric_mesh+axisymmetric_mesh+axisymmetric_mesh+axisymmetric_mesh+axisymmetric_mesh</span>\n",
       "<span style=\"color: #7fbfbf; text-decoration-color: #7fbfbf\">           </span>         <span style=\"color: #008000; text-decoration-color: #008000\">+axisymmetric_mesh\"</span><span style=\"font-weight: bold\">)</span>, <span style=\"color: #808000; text-decoration-color: #808000\">wavenumber</span>=<span style=\"color: #008080; text-decoration-color: #008080; font-weight: bold\">3.586</span>, <span style=\"color: #808000; text-decoration-color: #808000\">water_depth</span>=<span style=\"color: #008080; text-decoration-color: #008080; font-weight: bold\">20.0</span>, <span style=\"color: #808000; text-decoration-color: #808000\">radiating_dof</span>=<span style=\"color: #008000; text-decoration-color: #008000\">'Heave'</span>, <span style=\"color: #808000; text-decoration-color: #808000\">rho</span>=<span style=\"color: #008080; text-decoration-color: #008080; font-weight: bold\">1023.0</span><span style=\"font-weight: bold\">)</span>:  \n",
       "<span style=\"color: #7fbfbf; text-decoration-color: #7fbfbf\">           </span>         The body <span style=\"color: #800080; text-decoration-color: #800080; font-weight: bold\">FloatingBody</span><span style=\"font-weight: bold\">(</span><span style=\"color: #808000; text-decoration-color: #808000\">...</span>,                                                                     \n",
       "<span style=\"color: #7fbfbf; text-decoration-color: #7fbfbf\">           </span>         <span style=\"color: #808000; text-decoration-color: #808000\">name</span>=<span style=\"color: #008000; text-decoration-color: #008000\">\"axisymmetric_mesh+axisymmetric_mesh+axisymmetric_mesh+axisymmetric_mesh+axisymmetric_mesh</span>\n",
       "<span style=\"color: #7fbfbf; text-decoration-color: #7fbfbf\">           </span>         <span style=\"color: #008000; text-decoration-color: #008000\">+axisymmetric_mesh\"</span><span style=\"font-weight: bold\">)</span> might display irregular frequencies for <span style=\"color: #808000; text-decoration-color: #808000\">wavenumber</span>=<span style=\"color: #008080; text-decoration-color: #008080; font-weight: bold\">3.586206896551724</span>.     \n",
       "<span style=\"color: #7fbfbf; text-decoration-color: #7fbfbf\">           </span>         Setting a lid for the floating body is recommended.                                            \n",
       "</pre>\n"
      ],
      "text/plain": [
       "\u001b[2;36m[22:55:51]\u001b[0m\u001b[2;36m \u001b[0m\u001b[33mWARNING \u001b[0m Irregular frequencies for \u001b[1;35mRadiationProblem\u001b[0m\u001b[1m(\u001b[0m\u001b[33mbody\u001b[0m=\u001b[1;35mFloatingBody\u001b[0m\u001b[1m(\u001b[0m\u001b[33m...\u001b[0m,                              \n",
       "\u001b[2;36m           \u001b[0m         \u001b[33mname\u001b[0m=\u001b[32m\"axisymmetric_mesh\u001b[0m\u001b[32m+axisymmetric_mesh+axisymmetric_mesh+axisymmetric_mesh+axisymmetric_mesh\u001b[0m\n",
       "\u001b[2;36m           \u001b[0m         \u001b[32m+axisymmetric_mesh\"\u001b[0m\u001b[1m)\u001b[0m, \u001b[33mwavenumber\u001b[0m=\u001b[1;36m3\u001b[0m\u001b[1;36m.586\u001b[0m, \u001b[33mwater_depth\u001b[0m=\u001b[1;36m20\u001b[0m\u001b[1;36m.0\u001b[0m, \u001b[33mradiating_dof\u001b[0m=\u001b[32m'Heave'\u001b[0m, \u001b[33mrho\u001b[0m=\u001b[1;36m1023\u001b[0m\u001b[1;36m.0\u001b[0m\u001b[1m)\u001b[0m:  \n",
       "\u001b[2;36m           \u001b[0m         The body \u001b[1;35mFloatingBody\u001b[0m\u001b[1m(\u001b[0m\u001b[33m...\u001b[0m,                                                                     \n",
       "\u001b[2;36m           \u001b[0m         \u001b[33mname\u001b[0m=\u001b[32m\"axisymmetric_mesh\u001b[0m\u001b[32m+axisymmetric_mesh+axisymmetric_mesh+axisymmetric_mesh+axisymmetric_mesh\u001b[0m\n",
       "\u001b[2;36m           \u001b[0m         \u001b[32m+axisymmetric_mesh\"\u001b[0m\u001b[1m)\u001b[0m might display irregular frequencies for \u001b[33mwavenumber\u001b[0m=\u001b[1;36m3\u001b[0m\u001b[1;36m.586206896551724\u001b[0m.     \n",
       "\u001b[2;36m           \u001b[0m         Setting a lid for the floating body is recommended.                                            \n"
      ]
     },
     "metadata": {},
     "output_type": "display_data"
    },
    {
     "name": "stdout",
     "output_type": "stream",
     "text": [
      "# of Panels:  2500\n"
     ]
    },
    {
     "data": {
      "text/html": [
       "<pre style=\"white-space:pre;overflow-x:auto;line-height:normal;font-family:Menlo,'DejaVu Sans Mono',consolas,'Courier New',monospace\"><span style=\"color: #7fbfbf; text-decoration-color: #7fbfbf\">[22:55:55] </span><span style=\"color: #808000; text-decoration-color: #808000\">WARNING </span> Mesh resolution for <span style=\"color: #800080; text-decoration-color: #800080; font-weight: bold\">RadiationProblem</span><span style=\"font-weight: bold\">(</span><span style=\"color: #808000; text-decoration-color: #808000\">body</span>=<span style=\"color: #800080; text-decoration-color: #800080; font-weight: bold\">FloatingBody</span><span style=\"font-weight: bold\">(</span><span style=\"color: #808000; text-decoration-color: #808000\">...</span>,                                    \n",
       "<span style=\"color: #7fbfbf; text-decoration-color: #7fbfbf\">           </span>         <span style=\"color: #808000; text-decoration-color: #808000\">name</span>=<span style=\"color: #008000; text-decoration-color: #008000\">\"axisymmetric_mesh+axisymmetric_mesh+axisymmetric_mesh+axisymmetric_mesh+axisymmetric_mesh</span>\n",
       "<span style=\"color: #7fbfbf; text-decoration-color: #7fbfbf\">           </span>         <span style=\"color: #008000; text-decoration-color: #008000\">+axisymmetric_mesh\"</span><span style=\"font-weight: bold\">)</span>, <span style=\"color: #808000; text-decoration-color: #808000\">wavenumber</span>=<span style=\"color: #008080; text-decoration-color: #008080; font-weight: bold\">3.759</span>, <span style=\"color: #808000; text-decoration-color: #808000\">water_depth</span>=<span style=\"color: #008080; text-decoration-color: #008080; font-weight: bold\">20.0</span>, <span style=\"color: #808000; text-decoration-color: #808000\">radiating_dof</span>=<span style=\"color: #008000; text-decoration-color: #008000\">'Heave'</span>, <span style=\"color: #808000; text-decoration-color: #808000\">rho</span>=<span style=\"color: #008080; text-decoration-color: #008080; font-weight: bold\">1023.0</span><span style=\"font-weight: bold\">)</span>:  \n",
       "<span style=\"color: #7fbfbf; text-decoration-color: #7fbfbf\">           </span>         The resolution of the mesh of the body <span style=\"color: #800080; text-decoration-color: #800080; font-weight: bold\">FloatingBody</span><span style=\"font-weight: bold\">(</span><span style=\"color: #808000; text-decoration-color: #808000\">...</span>,                                       \n",
       "<span style=\"color: #7fbfbf; text-decoration-color: #7fbfbf\">           </span>         <span style=\"color: #808000; text-decoration-color: #808000\">name</span>=<span style=\"color: #008000; text-decoration-color: #008000\">\"axisymmetric_mesh+axisymmetric_mesh+axisymmetric_mesh+axisymmetric_mesh+axisymmetric_mesh</span>\n",
       "<span style=\"color: #7fbfbf; text-decoration-color: #7fbfbf\">           </span>         <span style=\"color: #008000; text-decoration-color: #008000\">+axisymmetric_mesh\"</span><span style=\"font-weight: bold\">)</span> might be insufficient for <span style=\"color: #808000; text-decoration-color: #808000\">wavenumber</span>=<span style=\"color: #008080; text-decoration-color: #008080; font-weight: bold\">3.7586206896551726</span>.                  \n",
       "<span style=\"color: #7fbfbf; text-decoration-color: #7fbfbf\">           </span>         This warning appears because the largest panel of this mesh has radius <span style=\"color: #008080; text-decoration-color: #008080; font-weight: bold\">0.992</span> &gt; wavelength/<span style=\"color: #008080; text-decoration-color: #008080; font-weight: bold\">8</span>.   \n",
       "</pre>\n"
      ],
      "text/plain": [
       "\u001b[2;36m[22:55:55]\u001b[0m\u001b[2;36m \u001b[0m\u001b[33mWARNING \u001b[0m Mesh resolution for \u001b[1;35mRadiationProblem\u001b[0m\u001b[1m(\u001b[0m\u001b[33mbody\u001b[0m=\u001b[1;35mFloatingBody\u001b[0m\u001b[1m(\u001b[0m\u001b[33m...\u001b[0m,                                    \n",
       "\u001b[2;36m           \u001b[0m         \u001b[33mname\u001b[0m=\u001b[32m\"axisymmetric_mesh\u001b[0m\u001b[32m+axisymmetric_mesh+axisymmetric_mesh+axisymmetric_mesh+axisymmetric_mesh\u001b[0m\n",
       "\u001b[2;36m           \u001b[0m         \u001b[32m+axisymmetric_mesh\"\u001b[0m\u001b[1m)\u001b[0m, \u001b[33mwavenumber\u001b[0m=\u001b[1;36m3\u001b[0m\u001b[1;36m.759\u001b[0m, \u001b[33mwater_depth\u001b[0m=\u001b[1;36m20\u001b[0m\u001b[1;36m.0\u001b[0m, \u001b[33mradiating_dof\u001b[0m=\u001b[32m'Heave'\u001b[0m, \u001b[33mrho\u001b[0m=\u001b[1;36m1023\u001b[0m\u001b[1;36m.0\u001b[0m\u001b[1m)\u001b[0m:  \n",
       "\u001b[2;36m           \u001b[0m         The resolution of the mesh of the body \u001b[1;35mFloatingBody\u001b[0m\u001b[1m(\u001b[0m\u001b[33m...\u001b[0m,                                       \n",
       "\u001b[2;36m           \u001b[0m         \u001b[33mname\u001b[0m=\u001b[32m\"axisymmetric_mesh\u001b[0m\u001b[32m+axisymmetric_mesh+axisymmetric_mesh+axisymmetric_mesh+axisymmetric_mesh\u001b[0m\n",
       "\u001b[2;36m           \u001b[0m         \u001b[32m+axisymmetric_mesh\"\u001b[0m\u001b[1m)\u001b[0m might be insufficient for \u001b[33mwavenumber\u001b[0m=\u001b[1;36m3\u001b[0m\u001b[1;36m.7586206896551726\u001b[0m.                  \n",
       "\u001b[2;36m           \u001b[0m         This warning appears because the largest panel of this mesh has radius \u001b[1;36m0.992\u001b[0m > wavelength/\u001b[1;36m8\u001b[0m.   \n"
      ]
     },
     "metadata": {},
     "output_type": "display_data"
    },
    {
     "data": {
      "text/html": [
       "<pre style=\"white-space:pre;overflow-x:auto;line-height:normal;font-family:Menlo,'DejaVu Sans Mono',consolas,'Courier New',monospace\"><span style=\"color: #7fbfbf; text-decoration-color: #7fbfbf\">[22:55:59] </span><span style=\"color: #808000; text-decoration-color: #808000\">WARNING </span> Irregular frequencies for <span style=\"color: #800080; text-decoration-color: #800080; font-weight: bold\">RadiationProblem</span><span style=\"font-weight: bold\">(</span><span style=\"color: #808000; text-decoration-color: #808000\">body</span>=<span style=\"color: #800080; text-decoration-color: #800080; font-weight: bold\">FloatingBody</span><span style=\"font-weight: bold\">(</span><span style=\"color: #808000; text-decoration-color: #808000\">...</span>,                              \n",
       "<span style=\"color: #7fbfbf; text-decoration-color: #7fbfbf\">           </span>         <span style=\"color: #808000; text-decoration-color: #808000\">name</span>=<span style=\"color: #008000; text-decoration-color: #008000\">\"axisymmetric_mesh+axisymmetric_mesh+axisymmetric_mesh+axisymmetric_mesh+axisymmetric_mesh</span>\n",
       "<span style=\"color: #7fbfbf; text-decoration-color: #7fbfbf\">           </span>         <span style=\"color: #008000; text-decoration-color: #008000\">+axisymmetric_mesh\"</span><span style=\"font-weight: bold\">)</span>, <span style=\"color: #808000; text-decoration-color: #808000\">wavenumber</span>=<span style=\"color: #008080; text-decoration-color: #008080; font-weight: bold\">3.759</span>, <span style=\"color: #808000; text-decoration-color: #808000\">water_depth</span>=<span style=\"color: #008080; text-decoration-color: #008080; font-weight: bold\">20.0</span>, <span style=\"color: #808000; text-decoration-color: #808000\">radiating_dof</span>=<span style=\"color: #008000; text-decoration-color: #008000\">'Heave'</span>, <span style=\"color: #808000; text-decoration-color: #808000\">rho</span>=<span style=\"color: #008080; text-decoration-color: #008080; font-weight: bold\">1023.0</span><span style=\"font-weight: bold\">)</span>:  \n",
       "<span style=\"color: #7fbfbf; text-decoration-color: #7fbfbf\">           </span>         The body <span style=\"color: #800080; text-decoration-color: #800080; font-weight: bold\">FloatingBody</span><span style=\"font-weight: bold\">(</span><span style=\"color: #808000; text-decoration-color: #808000\">...</span>,                                                                     \n",
       "<span style=\"color: #7fbfbf; text-decoration-color: #7fbfbf\">           </span>         <span style=\"color: #808000; text-decoration-color: #808000\">name</span>=<span style=\"color: #008000; text-decoration-color: #008000\">\"axisymmetric_mesh+axisymmetric_mesh+axisymmetric_mesh+axisymmetric_mesh+axisymmetric_mesh</span>\n",
       "<span style=\"color: #7fbfbf; text-decoration-color: #7fbfbf\">           </span>         <span style=\"color: #008000; text-decoration-color: #008000\">+axisymmetric_mesh\"</span><span style=\"font-weight: bold\">)</span> might display irregular frequencies for <span style=\"color: #808000; text-decoration-color: #808000\">wavenumber</span>=<span style=\"color: #008080; text-decoration-color: #008080; font-weight: bold\">3.7586206896551726</span>.    \n",
       "<span style=\"color: #7fbfbf; text-decoration-color: #7fbfbf\">           </span>         Setting a lid for the floating body is recommended.                                            \n",
       "</pre>\n"
      ],
      "text/plain": [
       "\u001b[2;36m[22:55:59]\u001b[0m\u001b[2;36m \u001b[0m\u001b[33mWARNING \u001b[0m Irregular frequencies for \u001b[1;35mRadiationProblem\u001b[0m\u001b[1m(\u001b[0m\u001b[33mbody\u001b[0m=\u001b[1;35mFloatingBody\u001b[0m\u001b[1m(\u001b[0m\u001b[33m...\u001b[0m,                              \n",
       "\u001b[2;36m           \u001b[0m         \u001b[33mname\u001b[0m=\u001b[32m\"axisymmetric_mesh\u001b[0m\u001b[32m+axisymmetric_mesh+axisymmetric_mesh+axisymmetric_mesh+axisymmetric_mesh\u001b[0m\n",
       "\u001b[2;36m           \u001b[0m         \u001b[32m+axisymmetric_mesh\"\u001b[0m\u001b[1m)\u001b[0m, \u001b[33mwavenumber\u001b[0m=\u001b[1;36m3\u001b[0m\u001b[1;36m.759\u001b[0m, \u001b[33mwater_depth\u001b[0m=\u001b[1;36m20\u001b[0m\u001b[1;36m.0\u001b[0m, \u001b[33mradiating_dof\u001b[0m=\u001b[32m'Heave'\u001b[0m, \u001b[33mrho\u001b[0m=\u001b[1;36m1023\u001b[0m\u001b[1;36m.0\u001b[0m\u001b[1m)\u001b[0m:  \n",
       "\u001b[2;36m           \u001b[0m         The body \u001b[1;35mFloatingBody\u001b[0m\u001b[1m(\u001b[0m\u001b[33m...\u001b[0m,                                                                     \n",
       "\u001b[2;36m           \u001b[0m         \u001b[33mname\u001b[0m=\u001b[32m\"axisymmetric_mesh\u001b[0m\u001b[32m+axisymmetric_mesh+axisymmetric_mesh+axisymmetric_mesh+axisymmetric_mesh\u001b[0m\n",
       "\u001b[2;36m           \u001b[0m         \u001b[32m+axisymmetric_mesh\"\u001b[0m\u001b[1m)\u001b[0m might display irregular frequencies for \u001b[33mwavenumber\u001b[0m=\u001b[1;36m3\u001b[0m\u001b[1;36m.7586206896551726\u001b[0m.    \n",
       "\u001b[2;36m           \u001b[0m         Setting a lid for the floating body is recommended.                                            \n"
      ]
     },
     "metadata": {},
     "output_type": "display_data"
    },
    {
     "name": "stdout",
     "output_type": "stream",
     "text": [
      "# of Panels:  2500\n"
     ]
    },
    {
     "data": {
      "text/html": [
       "<pre style=\"white-space:pre;overflow-x:auto;line-height:normal;font-family:Menlo,'DejaVu Sans Mono',consolas,'Courier New',monospace\"><span style=\"color: #7fbfbf; text-decoration-color: #7fbfbf\">[22:56:04] </span><span style=\"color: #808000; text-decoration-color: #808000\">WARNING </span> Mesh resolution for <span style=\"color: #800080; text-decoration-color: #800080; font-weight: bold\">RadiationProblem</span><span style=\"font-weight: bold\">(</span><span style=\"color: #808000; text-decoration-color: #808000\">body</span>=<span style=\"color: #800080; text-decoration-color: #800080; font-weight: bold\">FloatingBody</span><span style=\"font-weight: bold\">(</span><span style=\"color: #808000; text-decoration-color: #808000\">...</span>,                                    \n",
       "<span style=\"color: #7fbfbf; text-decoration-color: #7fbfbf\">           </span>         <span style=\"color: #808000; text-decoration-color: #808000\">name</span>=<span style=\"color: #008000; text-decoration-color: #008000\">\"axisymmetric_mesh+axisymmetric_mesh+axisymmetric_mesh+axisymmetric_mesh+axisymmetric_mesh</span>\n",
       "<span style=\"color: #7fbfbf; text-decoration-color: #7fbfbf\">           </span>         <span style=\"color: #008000; text-decoration-color: #008000\">+axisymmetric_mesh\"</span><span style=\"font-weight: bold\">)</span>, <span style=\"color: #808000; text-decoration-color: #808000\">wavenumber</span>=<span style=\"color: #008080; text-decoration-color: #008080; font-weight: bold\">3.931</span>, <span style=\"color: #808000; text-decoration-color: #808000\">water_depth</span>=<span style=\"color: #008080; text-decoration-color: #008080; font-weight: bold\">20.0</span>, <span style=\"color: #808000; text-decoration-color: #808000\">radiating_dof</span>=<span style=\"color: #008000; text-decoration-color: #008000\">'Heave'</span>, <span style=\"color: #808000; text-decoration-color: #808000\">rho</span>=<span style=\"color: #008080; text-decoration-color: #008080; font-weight: bold\">1023.0</span><span style=\"font-weight: bold\">)</span>:  \n",
       "<span style=\"color: #7fbfbf; text-decoration-color: #7fbfbf\">           </span>         The resolution of the mesh of the body <span style=\"color: #800080; text-decoration-color: #800080; font-weight: bold\">FloatingBody</span><span style=\"font-weight: bold\">(</span><span style=\"color: #808000; text-decoration-color: #808000\">...</span>,                                       \n",
       "<span style=\"color: #7fbfbf; text-decoration-color: #7fbfbf\">           </span>         <span style=\"color: #808000; text-decoration-color: #808000\">name</span>=<span style=\"color: #008000; text-decoration-color: #008000\">\"axisymmetric_mesh+axisymmetric_mesh+axisymmetric_mesh+axisymmetric_mesh+axisymmetric_mesh</span>\n",
       "<span style=\"color: #7fbfbf; text-decoration-color: #7fbfbf\">           </span>         <span style=\"color: #008000; text-decoration-color: #008000\">+axisymmetric_mesh\"</span><span style=\"font-weight: bold\">)</span> might be insufficient for <span style=\"color: #808000; text-decoration-color: #808000\">wavenumber</span>=<span style=\"color: #008080; text-decoration-color: #008080; font-weight: bold\">3.931034482758621</span>.                   \n",
       "<span style=\"color: #7fbfbf; text-decoration-color: #7fbfbf\">           </span>         This warning appears because the largest panel of this mesh has radius <span style=\"color: #008080; text-decoration-color: #008080; font-weight: bold\">0.992</span> &gt; wavelength/<span style=\"color: #008080; text-decoration-color: #008080; font-weight: bold\">8</span>.   \n",
       "</pre>\n"
      ],
      "text/plain": [
       "\u001b[2;36m[22:56:04]\u001b[0m\u001b[2;36m \u001b[0m\u001b[33mWARNING \u001b[0m Mesh resolution for \u001b[1;35mRadiationProblem\u001b[0m\u001b[1m(\u001b[0m\u001b[33mbody\u001b[0m=\u001b[1;35mFloatingBody\u001b[0m\u001b[1m(\u001b[0m\u001b[33m...\u001b[0m,                                    \n",
       "\u001b[2;36m           \u001b[0m         \u001b[33mname\u001b[0m=\u001b[32m\"axisymmetric_mesh\u001b[0m\u001b[32m+axisymmetric_mesh+axisymmetric_mesh+axisymmetric_mesh+axisymmetric_mesh\u001b[0m\n",
       "\u001b[2;36m           \u001b[0m         \u001b[32m+axisymmetric_mesh\"\u001b[0m\u001b[1m)\u001b[0m, \u001b[33mwavenumber\u001b[0m=\u001b[1;36m3\u001b[0m\u001b[1;36m.931\u001b[0m, \u001b[33mwater_depth\u001b[0m=\u001b[1;36m20\u001b[0m\u001b[1;36m.0\u001b[0m, \u001b[33mradiating_dof\u001b[0m=\u001b[32m'Heave'\u001b[0m, \u001b[33mrho\u001b[0m=\u001b[1;36m1023\u001b[0m\u001b[1;36m.0\u001b[0m\u001b[1m)\u001b[0m:  \n",
       "\u001b[2;36m           \u001b[0m         The resolution of the mesh of the body \u001b[1;35mFloatingBody\u001b[0m\u001b[1m(\u001b[0m\u001b[33m...\u001b[0m,                                       \n",
       "\u001b[2;36m           \u001b[0m         \u001b[33mname\u001b[0m=\u001b[32m\"axisymmetric_mesh\u001b[0m\u001b[32m+axisymmetric_mesh+axisymmetric_mesh+axisymmetric_mesh+axisymmetric_mesh\u001b[0m\n",
       "\u001b[2;36m           \u001b[0m         \u001b[32m+axisymmetric_mesh\"\u001b[0m\u001b[1m)\u001b[0m might be insufficient for \u001b[33mwavenumber\u001b[0m=\u001b[1;36m3\u001b[0m\u001b[1;36m.931034482758621\u001b[0m.                   \n",
       "\u001b[2;36m           \u001b[0m         This warning appears because the largest panel of this mesh has radius \u001b[1;36m0.992\u001b[0m > wavelength/\u001b[1;36m8\u001b[0m.   \n"
      ]
     },
     "metadata": {},
     "output_type": "display_data"
    },
    {
     "data": {
      "text/html": [
       "<pre style=\"white-space:pre;overflow-x:auto;line-height:normal;font-family:Menlo,'DejaVu Sans Mono',consolas,'Courier New',monospace\"><span style=\"color: #7fbfbf; text-decoration-color: #7fbfbf\">[22:56:08] </span><span style=\"color: #808000; text-decoration-color: #808000\">WARNING </span> Irregular frequencies for <span style=\"color: #800080; text-decoration-color: #800080; font-weight: bold\">RadiationProblem</span><span style=\"font-weight: bold\">(</span><span style=\"color: #808000; text-decoration-color: #808000\">body</span>=<span style=\"color: #800080; text-decoration-color: #800080; font-weight: bold\">FloatingBody</span><span style=\"font-weight: bold\">(</span><span style=\"color: #808000; text-decoration-color: #808000\">...</span>,                              \n",
       "<span style=\"color: #7fbfbf; text-decoration-color: #7fbfbf\">           </span>         <span style=\"color: #808000; text-decoration-color: #808000\">name</span>=<span style=\"color: #008000; text-decoration-color: #008000\">\"axisymmetric_mesh+axisymmetric_mesh+axisymmetric_mesh+axisymmetric_mesh+axisymmetric_mesh</span>\n",
       "<span style=\"color: #7fbfbf; text-decoration-color: #7fbfbf\">           </span>         <span style=\"color: #008000; text-decoration-color: #008000\">+axisymmetric_mesh\"</span><span style=\"font-weight: bold\">)</span>, <span style=\"color: #808000; text-decoration-color: #808000\">wavenumber</span>=<span style=\"color: #008080; text-decoration-color: #008080; font-weight: bold\">3.931</span>, <span style=\"color: #808000; text-decoration-color: #808000\">water_depth</span>=<span style=\"color: #008080; text-decoration-color: #008080; font-weight: bold\">20.0</span>, <span style=\"color: #808000; text-decoration-color: #808000\">radiating_dof</span>=<span style=\"color: #008000; text-decoration-color: #008000\">'Heave'</span>, <span style=\"color: #808000; text-decoration-color: #808000\">rho</span>=<span style=\"color: #008080; text-decoration-color: #008080; font-weight: bold\">1023.0</span><span style=\"font-weight: bold\">)</span>:  \n",
       "<span style=\"color: #7fbfbf; text-decoration-color: #7fbfbf\">           </span>         The body <span style=\"color: #800080; text-decoration-color: #800080; font-weight: bold\">FloatingBody</span><span style=\"font-weight: bold\">(</span><span style=\"color: #808000; text-decoration-color: #808000\">...</span>,                                                                     \n",
       "<span style=\"color: #7fbfbf; text-decoration-color: #7fbfbf\">           </span>         <span style=\"color: #808000; text-decoration-color: #808000\">name</span>=<span style=\"color: #008000; text-decoration-color: #008000\">\"axisymmetric_mesh+axisymmetric_mesh+axisymmetric_mesh+axisymmetric_mesh+axisymmetric_mesh</span>\n",
       "<span style=\"color: #7fbfbf; text-decoration-color: #7fbfbf\">           </span>         <span style=\"color: #008000; text-decoration-color: #008000\">+axisymmetric_mesh\"</span><span style=\"font-weight: bold\">)</span> might display irregular frequencies for <span style=\"color: #808000; text-decoration-color: #808000\">wavenumber</span>=<span style=\"color: #008080; text-decoration-color: #008080; font-weight: bold\">3.931034482758621</span>.     \n",
       "<span style=\"color: #7fbfbf; text-decoration-color: #7fbfbf\">           </span>         Setting a lid for the floating body is recommended.                                            \n",
       "</pre>\n"
      ],
      "text/plain": [
       "\u001b[2;36m[22:56:08]\u001b[0m\u001b[2;36m \u001b[0m\u001b[33mWARNING \u001b[0m Irregular frequencies for \u001b[1;35mRadiationProblem\u001b[0m\u001b[1m(\u001b[0m\u001b[33mbody\u001b[0m=\u001b[1;35mFloatingBody\u001b[0m\u001b[1m(\u001b[0m\u001b[33m...\u001b[0m,                              \n",
       "\u001b[2;36m           \u001b[0m         \u001b[33mname\u001b[0m=\u001b[32m\"axisymmetric_mesh\u001b[0m\u001b[32m+axisymmetric_mesh+axisymmetric_mesh+axisymmetric_mesh+axisymmetric_mesh\u001b[0m\n",
       "\u001b[2;36m           \u001b[0m         \u001b[32m+axisymmetric_mesh\"\u001b[0m\u001b[1m)\u001b[0m, \u001b[33mwavenumber\u001b[0m=\u001b[1;36m3\u001b[0m\u001b[1;36m.931\u001b[0m, \u001b[33mwater_depth\u001b[0m=\u001b[1;36m20\u001b[0m\u001b[1;36m.0\u001b[0m, \u001b[33mradiating_dof\u001b[0m=\u001b[32m'Heave'\u001b[0m, \u001b[33mrho\u001b[0m=\u001b[1;36m1023\u001b[0m\u001b[1;36m.0\u001b[0m\u001b[1m)\u001b[0m:  \n",
       "\u001b[2;36m           \u001b[0m         The body \u001b[1;35mFloatingBody\u001b[0m\u001b[1m(\u001b[0m\u001b[33m...\u001b[0m,                                                                     \n",
       "\u001b[2;36m           \u001b[0m         \u001b[33mname\u001b[0m=\u001b[32m\"axisymmetric_mesh\u001b[0m\u001b[32m+axisymmetric_mesh+axisymmetric_mesh+axisymmetric_mesh+axisymmetric_mesh\u001b[0m\n",
       "\u001b[2;36m           \u001b[0m         \u001b[32m+axisymmetric_mesh\"\u001b[0m\u001b[1m)\u001b[0m might display irregular frequencies for \u001b[33mwavenumber\u001b[0m=\u001b[1;36m3\u001b[0m\u001b[1;36m.931034482758621\u001b[0m.     \n",
       "\u001b[2;36m           \u001b[0m         Setting a lid for the floating body is recommended.                                            \n"
      ]
     },
     "metadata": {},
     "output_type": "display_data"
    },
    {
     "name": "stdout",
     "output_type": "stream",
     "text": [
      "# of Panels:  2500\n"
     ]
    },
    {
     "data": {
      "text/html": [
       "<pre style=\"white-space:pre;overflow-x:auto;line-height:normal;font-family:Menlo,'DejaVu Sans Mono',consolas,'Courier New',monospace\"><span style=\"color: #7fbfbf; text-decoration-color: #7fbfbf\">[22:56:12] </span><span style=\"color: #808000; text-decoration-color: #808000\">WARNING </span> Mesh resolution for <span style=\"color: #800080; text-decoration-color: #800080; font-weight: bold\">RadiationProblem</span><span style=\"font-weight: bold\">(</span><span style=\"color: #808000; text-decoration-color: #808000\">body</span>=<span style=\"color: #800080; text-decoration-color: #800080; font-weight: bold\">FloatingBody</span><span style=\"font-weight: bold\">(</span><span style=\"color: #808000; text-decoration-color: #808000\">...</span>,                                    \n",
       "<span style=\"color: #7fbfbf; text-decoration-color: #7fbfbf\">           </span>         <span style=\"color: #808000; text-decoration-color: #808000\">name</span>=<span style=\"color: #008000; text-decoration-color: #008000\">\"axisymmetric_mesh+axisymmetric_mesh+axisymmetric_mesh+axisymmetric_mesh+axisymmetric_mesh</span>\n",
       "<span style=\"color: #7fbfbf; text-decoration-color: #7fbfbf\">           </span>         <span style=\"color: #008000; text-decoration-color: #008000\">+axisymmetric_mesh\"</span><span style=\"font-weight: bold\">)</span>, <span style=\"color: #808000; text-decoration-color: #808000\">wavenumber</span>=<span style=\"color: #008080; text-decoration-color: #008080; font-weight: bold\">4.103</span>, <span style=\"color: #808000; text-decoration-color: #808000\">water_depth</span>=<span style=\"color: #008080; text-decoration-color: #008080; font-weight: bold\">20.0</span>, <span style=\"color: #808000; text-decoration-color: #808000\">radiating_dof</span>=<span style=\"color: #008000; text-decoration-color: #008000\">'Heave'</span>, <span style=\"color: #808000; text-decoration-color: #808000\">rho</span>=<span style=\"color: #008080; text-decoration-color: #008080; font-weight: bold\">1023.0</span><span style=\"font-weight: bold\">)</span>:  \n",
       "<span style=\"color: #7fbfbf; text-decoration-color: #7fbfbf\">           </span>         The resolution of the mesh of the body <span style=\"color: #800080; text-decoration-color: #800080; font-weight: bold\">FloatingBody</span><span style=\"font-weight: bold\">(</span><span style=\"color: #808000; text-decoration-color: #808000\">...</span>,                                       \n",
       "<span style=\"color: #7fbfbf; text-decoration-color: #7fbfbf\">           </span>         <span style=\"color: #808000; text-decoration-color: #808000\">name</span>=<span style=\"color: #008000; text-decoration-color: #008000\">\"axisymmetric_mesh+axisymmetric_mesh+axisymmetric_mesh+axisymmetric_mesh+axisymmetric_mesh</span>\n",
       "<span style=\"color: #7fbfbf; text-decoration-color: #7fbfbf\">           </span>         <span style=\"color: #008000; text-decoration-color: #008000\">+axisymmetric_mesh\"</span><span style=\"font-weight: bold\">)</span> might be insufficient for <span style=\"color: #808000; text-decoration-color: #808000\">wavenumber</span>=<span style=\"color: #008080; text-decoration-color: #008080; font-weight: bold\">4.103448275862069</span>.                   \n",
       "<span style=\"color: #7fbfbf; text-decoration-color: #7fbfbf\">           </span>         This warning appears because the largest panel of this mesh has radius <span style=\"color: #008080; text-decoration-color: #008080; font-weight: bold\">0.992</span> &gt; wavelength/<span style=\"color: #008080; text-decoration-color: #008080; font-weight: bold\">8</span>.   \n",
       "</pre>\n"
      ],
      "text/plain": [
       "\u001b[2;36m[22:56:12]\u001b[0m\u001b[2;36m \u001b[0m\u001b[33mWARNING \u001b[0m Mesh resolution for \u001b[1;35mRadiationProblem\u001b[0m\u001b[1m(\u001b[0m\u001b[33mbody\u001b[0m=\u001b[1;35mFloatingBody\u001b[0m\u001b[1m(\u001b[0m\u001b[33m...\u001b[0m,                                    \n",
       "\u001b[2;36m           \u001b[0m         \u001b[33mname\u001b[0m=\u001b[32m\"axisymmetric_mesh\u001b[0m\u001b[32m+axisymmetric_mesh+axisymmetric_mesh+axisymmetric_mesh+axisymmetric_mesh\u001b[0m\n",
       "\u001b[2;36m           \u001b[0m         \u001b[32m+axisymmetric_mesh\"\u001b[0m\u001b[1m)\u001b[0m, \u001b[33mwavenumber\u001b[0m=\u001b[1;36m4\u001b[0m\u001b[1;36m.103\u001b[0m, \u001b[33mwater_depth\u001b[0m=\u001b[1;36m20\u001b[0m\u001b[1;36m.0\u001b[0m, \u001b[33mradiating_dof\u001b[0m=\u001b[32m'Heave'\u001b[0m, \u001b[33mrho\u001b[0m=\u001b[1;36m1023\u001b[0m\u001b[1;36m.0\u001b[0m\u001b[1m)\u001b[0m:  \n",
       "\u001b[2;36m           \u001b[0m         The resolution of the mesh of the body \u001b[1;35mFloatingBody\u001b[0m\u001b[1m(\u001b[0m\u001b[33m...\u001b[0m,                                       \n",
       "\u001b[2;36m           \u001b[0m         \u001b[33mname\u001b[0m=\u001b[32m\"axisymmetric_mesh\u001b[0m\u001b[32m+axisymmetric_mesh+axisymmetric_mesh+axisymmetric_mesh+axisymmetric_mesh\u001b[0m\n",
       "\u001b[2;36m           \u001b[0m         \u001b[32m+axisymmetric_mesh\"\u001b[0m\u001b[1m)\u001b[0m might be insufficient for \u001b[33mwavenumber\u001b[0m=\u001b[1;36m4\u001b[0m\u001b[1;36m.103448275862069\u001b[0m.                   \n",
       "\u001b[2;36m           \u001b[0m         This warning appears because the largest panel of this mesh has radius \u001b[1;36m0.992\u001b[0m > wavelength/\u001b[1;36m8\u001b[0m.   \n"
      ]
     },
     "metadata": {},
     "output_type": "display_data"
    },
    {
     "data": {
      "text/html": [
       "<pre style=\"white-space:pre;overflow-x:auto;line-height:normal;font-family:Menlo,'DejaVu Sans Mono',consolas,'Courier New',monospace\"><span style=\"color: #7fbfbf; text-decoration-color: #7fbfbf\">[22:56:17] </span><span style=\"color: #808000; text-decoration-color: #808000\">WARNING </span> Irregular frequencies for <span style=\"color: #800080; text-decoration-color: #800080; font-weight: bold\">RadiationProblem</span><span style=\"font-weight: bold\">(</span><span style=\"color: #808000; text-decoration-color: #808000\">body</span>=<span style=\"color: #800080; text-decoration-color: #800080; font-weight: bold\">FloatingBody</span><span style=\"font-weight: bold\">(</span><span style=\"color: #808000; text-decoration-color: #808000\">...</span>,                              \n",
       "<span style=\"color: #7fbfbf; text-decoration-color: #7fbfbf\">           </span>         <span style=\"color: #808000; text-decoration-color: #808000\">name</span>=<span style=\"color: #008000; text-decoration-color: #008000\">\"axisymmetric_mesh+axisymmetric_mesh+axisymmetric_mesh+axisymmetric_mesh+axisymmetric_mesh</span>\n",
       "<span style=\"color: #7fbfbf; text-decoration-color: #7fbfbf\">           </span>         <span style=\"color: #008000; text-decoration-color: #008000\">+axisymmetric_mesh\"</span><span style=\"font-weight: bold\">)</span>, <span style=\"color: #808000; text-decoration-color: #808000\">wavenumber</span>=<span style=\"color: #008080; text-decoration-color: #008080; font-weight: bold\">4.103</span>, <span style=\"color: #808000; text-decoration-color: #808000\">water_depth</span>=<span style=\"color: #008080; text-decoration-color: #008080; font-weight: bold\">20.0</span>, <span style=\"color: #808000; text-decoration-color: #808000\">radiating_dof</span>=<span style=\"color: #008000; text-decoration-color: #008000\">'Heave'</span>, <span style=\"color: #808000; text-decoration-color: #808000\">rho</span>=<span style=\"color: #008080; text-decoration-color: #008080; font-weight: bold\">1023.0</span><span style=\"font-weight: bold\">)</span>:  \n",
       "<span style=\"color: #7fbfbf; text-decoration-color: #7fbfbf\">           </span>         The body <span style=\"color: #800080; text-decoration-color: #800080; font-weight: bold\">FloatingBody</span><span style=\"font-weight: bold\">(</span><span style=\"color: #808000; text-decoration-color: #808000\">...</span>,                                                                     \n",
       "<span style=\"color: #7fbfbf; text-decoration-color: #7fbfbf\">           </span>         <span style=\"color: #808000; text-decoration-color: #808000\">name</span>=<span style=\"color: #008000; text-decoration-color: #008000\">\"axisymmetric_mesh+axisymmetric_mesh+axisymmetric_mesh+axisymmetric_mesh+axisymmetric_mesh</span>\n",
       "<span style=\"color: #7fbfbf; text-decoration-color: #7fbfbf\">           </span>         <span style=\"color: #008000; text-decoration-color: #008000\">+axisymmetric_mesh\"</span><span style=\"font-weight: bold\">)</span> might display irregular frequencies for <span style=\"color: #808000; text-decoration-color: #808000\">wavenumber</span>=<span style=\"color: #008080; text-decoration-color: #008080; font-weight: bold\">4.103448275862069</span>.     \n",
       "<span style=\"color: #7fbfbf; text-decoration-color: #7fbfbf\">           </span>         Setting a lid for the floating body is recommended.                                            \n",
       "</pre>\n"
      ],
      "text/plain": [
       "\u001b[2;36m[22:56:17]\u001b[0m\u001b[2;36m \u001b[0m\u001b[33mWARNING \u001b[0m Irregular frequencies for \u001b[1;35mRadiationProblem\u001b[0m\u001b[1m(\u001b[0m\u001b[33mbody\u001b[0m=\u001b[1;35mFloatingBody\u001b[0m\u001b[1m(\u001b[0m\u001b[33m...\u001b[0m,                              \n",
       "\u001b[2;36m           \u001b[0m         \u001b[33mname\u001b[0m=\u001b[32m\"axisymmetric_mesh\u001b[0m\u001b[32m+axisymmetric_mesh+axisymmetric_mesh+axisymmetric_mesh+axisymmetric_mesh\u001b[0m\n",
       "\u001b[2;36m           \u001b[0m         \u001b[32m+axisymmetric_mesh\"\u001b[0m\u001b[1m)\u001b[0m, \u001b[33mwavenumber\u001b[0m=\u001b[1;36m4\u001b[0m\u001b[1;36m.103\u001b[0m, \u001b[33mwater_depth\u001b[0m=\u001b[1;36m20\u001b[0m\u001b[1;36m.0\u001b[0m, \u001b[33mradiating_dof\u001b[0m=\u001b[32m'Heave'\u001b[0m, \u001b[33mrho\u001b[0m=\u001b[1;36m1023\u001b[0m\u001b[1;36m.0\u001b[0m\u001b[1m)\u001b[0m:  \n",
       "\u001b[2;36m           \u001b[0m         The body \u001b[1;35mFloatingBody\u001b[0m\u001b[1m(\u001b[0m\u001b[33m...\u001b[0m,                                                                     \n",
       "\u001b[2;36m           \u001b[0m         \u001b[33mname\u001b[0m=\u001b[32m\"axisymmetric_mesh\u001b[0m\u001b[32m+axisymmetric_mesh+axisymmetric_mesh+axisymmetric_mesh+axisymmetric_mesh\u001b[0m\n",
       "\u001b[2;36m           \u001b[0m         \u001b[32m+axisymmetric_mesh\"\u001b[0m\u001b[1m)\u001b[0m might display irregular frequencies for \u001b[33mwavenumber\u001b[0m=\u001b[1;36m4\u001b[0m\u001b[1;36m.103448275862069\u001b[0m.     \n",
       "\u001b[2;36m           \u001b[0m         Setting a lid for the floating body is recommended.                                            \n"
      ]
     },
     "metadata": {},
     "output_type": "display_data"
    },
    {
     "name": "stdout",
     "output_type": "stream",
     "text": [
      "# of Panels:  2500\n"
     ]
    },
    {
     "data": {
      "text/html": [
       "<pre style=\"white-space:pre;overflow-x:auto;line-height:normal;font-family:Menlo,'DejaVu Sans Mono',consolas,'Courier New',monospace\"><span style=\"color: #7fbfbf; text-decoration-color: #7fbfbf\">[22:56:21] </span><span style=\"color: #808000; text-decoration-color: #808000\">WARNING </span> Mesh resolution for <span style=\"color: #800080; text-decoration-color: #800080; font-weight: bold\">RadiationProblem</span><span style=\"font-weight: bold\">(</span><span style=\"color: #808000; text-decoration-color: #808000\">body</span>=<span style=\"color: #800080; text-decoration-color: #800080; font-weight: bold\">FloatingBody</span><span style=\"font-weight: bold\">(</span><span style=\"color: #808000; text-decoration-color: #808000\">...</span>,                                    \n",
       "<span style=\"color: #7fbfbf; text-decoration-color: #7fbfbf\">           </span>         <span style=\"color: #808000; text-decoration-color: #808000\">name</span>=<span style=\"color: #008000; text-decoration-color: #008000\">\"axisymmetric_mesh+axisymmetric_mesh+axisymmetric_mesh+axisymmetric_mesh+axisymmetric_mesh</span>\n",
       "<span style=\"color: #7fbfbf; text-decoration-color: #7fbfbf\">           </span>         <span style=\"color: #008000; text-decoration-color: #008000\">+axisymmetric_mesh\"</span><span style=\"font-weight: bold\">)</span>, <span style=\"color: #808000; text-decoration-color: #808000\">wavenumber</span>=<span style=\"color: #008080; text-decoration-color: #008080; font-weight: bold\">4.276</span>, <span style=\"color: #808000; text-decoration-color: #808000\">water_depth</span>=<span style=\"color: #008080; text-decoration-color: #008080; font-weight: bold\">20.0</span>, <span style=\"color: #808000; text-decoration-color: #808000\">radiating_dof</span>=<span style=\"color: #008000; text-decoration-color: #008000\">'Heave'</span>, <span style=\"color: #808000; text-decoration-color: #808000\">rho</span>=<span style=\"color: #008080; text-decoration-color: #008080; font-weight: bold\">1023.0</span><span style=\"font-weight: bold\">)</span>:  \n",
       "<span style=\"color: #7fbfbf; text-decoration-color: #7fbfbf\">           </span>         The resolution of the mesh of the body <span style=\"color: #800080; text-decoration-color: #800080; font-weight: bold\">FloatingBody</span><span style=\"font-weight: bold\">(</span><span style=\"color: #808000; text-decoration-color: #808000\">...</span>,                                       \n",
       "<span style=\"color: #7fbfbf; text-decoration-color: #7fbfbf\">           </span>         <span style=\"color: #808000; text-decoration-color: #808000\">name</span>=<span style=\"color: #008000; text-decoration-color: #008000\">\"axisymmetric_mesh+axisymmetric_mesh+axisymmetric_mesh+axisymmetric_mesh+axisymmetric_mesh</span>\n",
       "<span style=\"color: #7fbfbf; text-decoration-color: #7fbfbf\">           </span>         <span style=\"color: #008000; text-decoration-color: #008000\">+axisymmetric_mesh\"</span><span style=\"font-weight: bold\">)</span> might be insufficient for <span style=\"color: #808000; text-decoration-color: #808000\">wavenumber</span>=<span style=\"color: #008080; text-decoration-color: #008080; font-weight: bold\">4.275862068965518</span>.                   \n",
       "<span style=\"color: #7fbfbf; text-decoration-color: #7fbfbf\">           </span>         This warning appears because the largest panel of this mesh has radius <span style=\"color: #008080; text-decoration-color: #008080; font-weight: bold\">0.992</span> &gt; wavelength/<span style=\"color: #008080; text-decoration-color: #008080; font-weight: bold\">8</span>.   \n",
       "</pre>\n"
      ],
      "text/plain": [
       "\u001b[2;36m[22:56:21]\u001b[0m\u001b[2;36m \u001b[0m\u001b[33mWARNING \u001b[0m Mesh resolution for \u001b[1;35mRadiationProblem\u001b[0m\u001b[1m(\u001b[0m\u001b[33mbody\u001b[0m=\u001b[1;35mFloatingBody\u001b[0m\u001b[1m(\u001b[0m\u001b[33m...\u001b[0m,                                    \n",
       "\u001b[2;36m           \u001b[0m         \u001b[33mname\u001b[0m=\u001b[32m\"axisymmetric_mesh\u001b[0m\u001b[32m+axisymmetric_mesh+axisymmetric_mesh+axisymmetric_mesh+axisymmetric_mesh\u001b[0m\n",
       "\u001b[2;36m           \u001b[0m         \u001b[32m+axisymmetric_mesh\"\u001b[0m\u001b[1m)\u001b[0m, \u001b[33mwavenumber\u001b[0m=\u001b[1;36m4\u001b[0m\u001b[1;36m.276\u001b[0m, \u001b[33mwater_depth\u001b[0m=\u001b[1;36m20\u001b[0m\u001b[1;36m.0\u001b[0m, \u001b[33mradiating_dof\u001b[0m=\u001b[32m'Heave'\u001b[0m, \u001b[33mrho\u001b[0m=\u001b[1;36m1023\u001b[0m\u001b[1;36m.0\u001b[0m\u001b[1m)\u001b[0m:  \n",
       "\u001b[2;36m           \u001b[0m         The resolution of the mesh of the body \u001b[1;35mFloatingBody\u001b[0m\u001b[1m(\u001b[0m\u001b[33m...\u001b[0m,                                       \n",
       "\u001b[2;36m           \u001b[0m         \u001b[33mname\u001b[0m=\u001b[32m\"axisymmetric_mesh\u001b[0m\u001b[32m+axisymmetric_mesh+axisymmetric_mesh+axisymmetric_mesh+axisymmetric_mesh\u001b[0m\n",
       "\u001b[2;36m           \u001b[0m         \u001b[32m+axisymmetric_mesh\"\u001b[0m\u001b[1m)\u001b[0m might be insufficient for \u001b[33mwavenumber\u001b[0m=\u001b[1;36m4\u001b[0m\u001b[1;36m.275862068965518\u001b[0m.                   \n",
       "\u001b[2;36m           \u001b[0m         This warning appears because the largest panel of this mesh has radius \u001b[1;36m0.992\u001b[0m > wavelength/\u001b[1;36m8\u001b[0m.   \n"
      ]
     },
     "metadata": {},
     "output_type": "display_data"
    },
    {
     "data": {
      "text/html": [
       "<pre style=\"white-space:pre;overflow-x:auto;line-height:normal;font-family:Menlo,'DejaVu Sans Mono',consolas,'Courier New',monospace\"><span style=\"color: #7fbfbf; text-decoration-color: #7fbfbf\">[22:56:25] </span><span style=\"color: #808000; text-decoration-color: #808000\">WARNING </span> Irregular frequencies for <span style=\"color: #800080; text-decoration-color: #800080; font-weight: bold\">RadiationProblem</span><span style=\"font-weight: bold\">(</span><span style=\"color: #808000; text-decoration-color: #808000\">body</span>=<span style=\"color: #800080; text-decoration-color: #800080; font-weight: bold\">FloatingBody</span><span style=\"font-weight: bold\">(</span><span style=\"color: #808000; text-decoration-color: #808000\">...</span>,                              \n",
       "<span style=\"color: #7fbfbf; text-decoration-color: #7fbfbf\">           </span>         <span style=\"color: #808000; text-decoration-color: #808000\">name</span>=<span style=\"color: #008000; text-decoration-color: #008000\">\"axisymmetric_mesh+axisymmetric_mesh+axisymmetric_mesh+axisymmetric_mesh+axisymmetric_mesh</span>\n",
       "<span style=\"color: #7fbfbf; text-decoration-color: #7fbfbf\">           </span>         <span style=\"color: #008000; text-decoration-color: #008000\">+axisymmetric_mesh\"</span><span style=\"font-weight: bold\">)</span>, <span style=\"color: #808000; text-decoration-color: #808000\">wavenumber</span>=<span style=\"color: #008080; text-decoration-color: #008080; font-weight: bold\">4.276</span>, <span style=\"color: #808000; text-decoration-color: #808000\">water_depth</span>=<span style=\"color: #008080; text-decoration-color: #008080; font-weight: bold\">20.0</span>, <span style=\"color: #808000; text-decoration-color: #808000\">radiating_dof</span>=<span style=\"color: #008000; text-decoration-color: #008000\">'Heave'</span>, <span style=\"color: #808000; text-decoration-color: #808000\">rho</span>=<span style=\"color: #008080; text-decoration-color: #008080; font-weight: bold\">1023.0</span><span style=\"font-weight: bold\">)</span>:  \n",
       "<span style=\"color: #7fbfbf; text-decoration-color: #7fbfbf\">           </span>         The body <span style=\"color: #800080; text-decoration-color: #800080; font-weight: bold\">FloatingBody</span><span style=\"font-weight: bold\">(</span><span style=\"color: #808000; text-decoration-color: #808000\">...</span>,                                                                     \n",
       "<span style=\"color: #7fbfbf; text-decoration-color: #7fbfbf\">           </span>         <span style=\"color: #808000; text-decoration-color: #808000\">name</span>=<span style=\"color: #008000; text-decoration-color: #008000\">\"axisymmetric_mesh+axisymmetric_mesh+axisymmetric_mesh+axisymmetric_mesh+axisymmetric_mesh</span>\n",
       "<span style=\"color: #7fbfbf; text-decoration-color: #7fbfbf\">           </span>         <span style=\"color: #008000; text-decoration-color: #008000\">+axisymmetric_mesh\"</span><span style=\"font-weight: bold\">)</span> might display irregular frequencies for <span style=\"color: #808000; text-decoration-color: #808000\">wavenumber</span>=<span style=\"color: #008080; text-decoration-color: #008080; font-weight: bold\">4.275862068965518</span>.     \n",
       "<span style=\"color: #7fbfbf; text-decoration-color: #7fbfbf\">           </span>         Setting a lid for the floating body is recommended.                                            \n",
       "</pre>\n"
      ],
      "text/plain": [
       "\u001b[2;36m[22:56:25]\u001b[0m\u001b[2;36m \u001b[0m\u001b[33mWARNING \u001b[0m Irregular frequencies for \u001b[1;35mRadiationProblem\u001b[0m\u001b[1m(\u001b[0m\u001b[33mbody\u001b[0m=\u001b[1;35mFloatingBody\u001b[0m\u001b[1m(\u001b[0m\u001b[33m...\u001b[0m,                              \n",
       "\u001b[2;36m           \u001b[0m         \u001b[33mname\u001b[0m=\u001b[32m\"axisymmetric_mesh\u001b[0m\u001b[32m+axisymmetric_mesh+axisymmetric_mesh+axisymmetric_mesh+axisymmetric_mesh\u001b[0m\n",
       "\u001b[2;36m           \u001b[0m         \u001b[32m+axisymmetric_mesh\"\u001b[0m\u001b[1m)\u001b[0m, \u001b[33mwavenumber\u001b[0m=\u001b[1;36m4\u001b[0m\u001b[1;36m.276\u001b[0m, \u001b[33mwater_depth\u001b[0m=\u001b[1;36m20\u001b[0m\u001b[1;36m.0\u001b[0m, \u001b[33mradiating_dof\u001b[0m=\u001b[32m'Heave'\u001b[0m, \u001b[33mrho\u001b[0m=\u001b[1;36m1023\u001b[0m\u001b[1;36m.0\u001b[0m\u001b[1m)\u001b[0m:  \n",
       "\u001b[2;36m           \u001b[0m         The body \u001b[1;35mFloatingBody\u001b[0m\u001b[1m(\u001b[0m\u001b[33m...\u001b[0m,                                                                     \n",
       "\u001b[2;36m           \u001b[0m         \u001b[33mname\u001b[0m=\u001b[32m\"axisymmetric_mesh\u001b[0m\u001b[32m+axisymmetric_mesh+axisymmetric_mesh+axisymmetric_mesh+axisymmetric_mesh\u001b[0m\n",
       "\u001b[2;36m           \u001b[0m         \u001b[32m+axisymmetric_mesh\"\u001b[0m\u001b[1m)\u001b[0m might display irregular frequencies for \u001b[33mwavenumber\u001b[0m=\u001b[1;36m4\u001b[0m\u001b[1;36m.275862068965518\u001b[0m.     \n",
       "\u001b[2;36m           \u001b[0m         Setting a lid for the floating body is recommended.                                            \n"
      ]
     },
     "metadata": {},
     "output_type": "display_data"
    },
    {
     "name": "stdout",
     "output_type": "stream",
     "text": [
      "# of Panels:  2500\n"
     ]
    },
    {
     "data": {
      "text/html": [
       "<pre style=\"white-space:pre;overflow-x:auto;line-height:normal;font-family:Menlo,'DejaVu Sans Mono',consolas,'Courier New',monospace\"><span style=\"color: #7fbfbf; text-decoration-color: #7fbfbf\">[22:56:29] </span><span style=\"color: #808000; text-decoration-color: #808000\">WARNING </span> Mesh resolution for <span style=\"color: #800080; text-decoration-color: #800080; font-weight: bold\">RadiationProblem</span><span style=\"font-weight: bold\">(</span><span style=\"color: #808000; text-decoration-color: #808000\">body</span>=<span style=\"color: #800080; text-decoration-color: #800080; font-weight: bold\">FloatingBody</span><span style=\"font-weight: bold\">(</span><span style=\"color: #808000; text-decoration-color: #808000\">...</span>,                                    \n",
       "<span style=\"color: #7fbfbf; text-decoration-color: #7fbfbf\">           </span>         <span style=\"color: #808000; text-decoration-color: #808000\">name</span>=<span style=\"color: #008000; text-decoration-color: #008000\">\"axisymmetric_mesh+axisymmetric_mesh+axisymmetric_mesh+axisymmetric_mesh+axisymmetric_mesh</span>\n",
       "<span style=\"color: #7fbfbf; text-decoration-color: #7fbfbf\">           </span>         <span style=\"color: #008000; text-decoration-color: #008000\">+axisymmetric_mesh\"</span><span style=\"font-weight: bold\">)</span>, <span style=\"color: #808000; text-decoration-color: #808000\">wavenumber</span>=<span style=\"color: #008080; text-decoration-color: #008080; font-weight: bold\">4.448</span>, <span style=\"color: #808000; text-decoration-color: #808000\">water_depth</span>=<span style=\"color: #008080; text-decoration-color: #008080; font-weight: bold\">20.0</span>, <span style=\"color: #808000; text-decoration-color: #808000\">radiating_dof</span>=<span style=\"color: #008000; text-decoration-color: #008000\">'Heave'</span>, <span style=\"color: #808000; text-decoration-color: #808000\">rho</span>=<span style=\"color: #008080; text-decoration-color: #008080; font-weight: bold\">1023.0</span><span style=\"font-weight: bold\">)</span>:  \n",
       "<span style=\"color: #7fbfbf; text-decoration-color: #7fbfbf\">           </span>         The resolution of the mesh of the body <span style=\"color: #800080; text-decoration-color: #800080; font-weight: bold\">FloatingBody</span><span style=\"font-weight: bold\">(</span><span style=\"color: #808000; text-decoration-color: #808000\">...</span>,                                       \n",
       "<span style=\"color: #7fbfbf; text-decoration-color: #7fbfbf\">           </span>         <span style=\"color: #808000; text-decoration-color: #808000\">name</span>=<span style=\"color: #008000; text-decoration-color: #008000\">\"axisymmetric_mesh+axisymmetric_mesh+axisymmetric_mesh+axisymmetric_mesh+axisymmetric_mesh</span>\n",
       "<span style=\"color: #7fbfbf; text-decoration-color: #7fbfbf\">           </span>         <span style=\"color: #008000; text-decoration-color: #008000\">+axisymmetric_mesh\"</span><span style=\"font-weight: bold\">)</span> might be insufficient for <span style=\"color: #808000; text-decoration-color: #808000\">wavenumber</span>=<span style=\"color: #008080; text-decoration-color: #008080; font-weight: bold\">4.448275862068966</span>.                   \n",
       "<span style=\"color: #7fbfbf; text-decoration-color: #7fbfbf\">           </span>         This warning appears because the largest panel of this mesh has radius <span style=\"color: #008080; text-decoration-color: #008080; font-weight: bold\">0.992</span> &gt; wavelength/<span style=\"color: #008080; text-decoration-color: #008080; font-weight: bold\">8</span>.   \n",
       "</pre>\n"
      ],
      "text/plain": [
       "\u001b[2;36m[22:56:29]\u001b[0m\u001b[2;36m \u001b[0m\u001b[33mWARNING \u001b[0m Mesh resolution for \u001b[1;35mRadiationProblem\u001b[0m\u001b[1m(\u001b[0m\u001b[33mbody\u001b[0m=\u001b[1;35mFloatingBody\u001b[0m\u001b[1m(\u001b[0m\u001b[33m...\u001b[0m,                                    \n",
       "\u001b[2;36m           \u001b[0m         \u001b[33mname\u001b[0m=\u001b[32m\"axisymmetric_mesh\u001b[0m\u001b[32m+axisymmetric_mesh+axisymmetric_mesh+axisymmetric_mesh+axisymmetric_mesh\u001b[0m\n",
       "\u001b[2;36m           \u001b[0m         \u001b[32m+axisymmetric_mesh\"\u001b[0m\u001b[1m)\u001b[0m, \u001b[33mwavenumber\u001b[0m=\u001b[1;36m4\u001b[0m\u001b[1;36m.448\u001b[0m, \u001b[33mwater_depth\u001b[0m=\u001b[1;36m20\u001b[0m\u001b[1;36m.0\u001b[0m, \u001b[33mradiating_dof\u001b[0m=\u001b[32m'Heave'\u001b[0m, \u001b[33mrho\u001b[0m=\u001b[1;36m1023\u001b[0m\u001b[1;36m.0\u001b[0m\u001b[1m)\u001b[0m:  \n",
       "\u001b[2;36m           \u001b[0m         The resolution of the mesh of the body \u001b[1;35mFloatingBody\u001b[0m\u001b[1m(\u001b[0m\u001b[33m...\u001b[0m,                                       \n",
       "\u001b[2;36m           \u001b[0m         \u001b[33mname\u001b[0m=\u001b[32m\"axisymmetric_mesh\u001b[0m\u001b[32m+axisymmetric_mesh+axisymmetric_mesh+axisymmetric_mesh+axisymmetric_mesh\u001b[0m\n",
       "\u001b[2;36m           \u001b[0m         \u001b[32m+axisymmetric_mesh\"\u001b[0m\u001b[1m)\u001b[0m might be insufficient for \u001b[33mwavenumber\u001b[0m=\u001b[1;36m4\u001b[0m\u001b[1;36m.448275862068966\u001b[0m.                   \n",
       "\u001b[2;36m           \u001b[0m         This warning appears because the largest panel of this mesh has radius \u001b[1;36m0.992\u001b[0m > wavelength/\u001b[1;36m8\u001b[0m.   \n"
      ]
     },
     "metadata": {},
     "output_type": "display_data"
    },
    {
     "data": {
      "text/html": [
       "<pre style=\"white-space:pre;overflow-x:auto;line-height:normal;font-family:Menlo,'DejaVu Sans Mono',consolas,'Courier New',monospace\"><span style=\"color: #7fbfbf; text-decoration-color: #7fbfbf\">[22:56:34] </span><span style=\"color: #808000; text-decoration-color: #808000\">WARNING </span> Irregular frequencies for <span style=\"color: #800080; text-decoration-color: #800080; font-weight: bold\">RadiationProblem</span><span style=\"font-weight: bold\">(</span><span style=\"color: #808000; text-decoration-color: #808000\">body</span>=<span style=\"color: #800080; text-decoration-color: #800080; font-weight: bold\">FloatingBody</span><span style=\"font-weight: bold\">(</span><span style=\"color: #808000; text-decoration-color: #808000\">...</span>,                              \n",
       "<span style=\"color: #7fbfbf; text-decoration-color: #7fbfbf\">           </span>         <span style=\"color: #808000; text-decoration-color: #808000\">name</span>=<span style=\"color: #008000; text-decoration-color: #008000\">\"axisymmetric_mesh+axisymmetric_mesh+axisymmetric_mesh+axisymmetric_mesh+axisymmetric_mesh</span>\n",
       "<span style=\"color: #7fbfbf; text-decoration-color: #7fbfbf\">           </span>         <span style=\"color: #008000; text-decoration-color: #008000\">+axisymmetric_mesh\"</span><span style=\"font-weight: bold\">)</span>, <span style=\"color: #808000; text-decoration-color: #808000\">wavenumber</span>=<span style=\"color: #008080; text-decoration-color: #008080; font-weight: bold\">4.448</span>, <span style=\"color: #808000; text-decoration-color: #808000\">water_depth</span>=<span style=\"color: #008080; text-decoration-color: #008080; font-weight: bold\">20.0</span>, <span style=\"color: #808000; text-decoration-color: #808000\">radiating_dof</span>=<span style=\"color: #008000; text-decoration-color: #008000\">'Heave'</span>, <span style=\"color: #808000; text-decoration-color: #808000\">rho</span>=<span style=\"color: #008080; text-decoration-color: #008080; font-weight: bold\">1023.0</span><span style=\"font-weight: bold\">)</span>:  \n",
       "<span style=\"color: #7fbfbf; text-decoration-color: #7fbfbf\">           </span>         The body <span style=\"color: #800080; text-decoration-color: #800080; font-weight: bold\">FloatingBody</span><span style=\"font-weight: bold\">(</span><span style=\"color: #808000; text-decoration-color: #808000\">...</span>,                                                                     \n",
       "<span style=\"color: #7fbfbf; text-decoration-color: #7fbfbf\">           </span>         <span style=\"color: #808000; text-decoration-color: #808000\">name</span>=<span style=\"color: #008000; text-decoration-color: #008000\">\"axisymmetric_mesh+axisymmetric_mesh+axisymmetric_mesh+axisymmetric_mesh+axisymmetric_mesh</span>\n",
       "<span style=\"color: #7fbfbf; text-decoration-color: #7fbfbf\">           </span>         <span style=\"color: #008000; text-decoration-color: #008000\">+axisymmetric_mesh\"</span><span style=\"font-weight: bold\">)</span> might display irregular frequencies for <span style=\"color: #808000; text-decoration-color: #808000\">wavenumber</span>=<span style=\"color: #008080; text-decoration-color: #008080; font-weight: bold\">4.448275862068966</span>.     \n",
       "<span style=\"color: #7fbfbf; text-decoration-color: #7fbfbf\">           </span>         Setting a lid for the floating body is recommended.                                            \n",
       "</pre>\n"
      ],
      "text/plain": [
       "\u001b[2;36m[22:56:34]\u001b[0m\u001b[2;36m \u001b[0m\u001b[33mWARNING \u001b[0m Irregular frequencies for \u001b[1;35mRadiationProblem\u001b[0m\u001b[1m(\u001b[0m\u001b[33mbody\u001b[0m=\u001b[1;35mFloatingBody\u001b[0m\u001b[1m(\u001b[0m\u001b[33m...\u001b[0m,                              \n",
       "\u001b[2;36m           \u001b[0m         \u001b[33mname\u001b[0m=\u001b[32m\"axisymmetric_mesh\u001b[0m\u001b[32m+axisymmetric_mesh+axisymmetric_mesh+axisymmetric_mesh+axisymmetric_mesh\u001b[0m\n",
       "\u001b[2;36m           \u001b[0m         \u001b[32m+axisymmetric_mesh\"\u001b[0m\u001b[1m)\u001b[0m, \u001b[33mwavenumber\u001b[0m=\u001b[1;36m4\u001b[0m\u001b[1;36m.448\u001b[0m, \u001b[33mwater_depth\u001b[0m=\u001b[1;36m20\u001b[0m\u001b[1;36m.0\u001b[0m, \u001b[33mradiating_dof\u001b[0m=\u001b[32m'Heave'\u001b[0m, \u001b[33mrho\u001b[0m=\u001b[1;36m1023\u001b[0m\u001b[1;36m.0\u001b[0m\u001b[1m)\u001b[0m:  \n",
       "\u001b[2;36m           \u001b[0m         The body \u001b[1;35mFloatingBody\u001b[0m\u001b[1m(\u001b[0m\u001b[33m...\u001b[0m,                                                                     \n",
       "\u001b[2;36m           \u001b[0m         \u001b[33mname\u001b[0m=\u001b[32m\"axisymmetric_mesh\u001b[0m\u001b[32m+axisymmetric_mesh+axisymmetric_mesh+axisymmetric_mesh+axisymmetric_mesh\u001b[0m\n",
       "\u001b[2;36m           \u001b[0m         \u001b[32m+axisymmetric_mesh\"\u001b[0m\u001b[1m)\u001b[0m might display irregular frequencies for \u001b[33mwavenumber\u001b[0m=\u001b[1;36m4\u001b[0m\u001b[1;36m.448275862068966\u001b[0m.     \n",
       "\u001b[2;36m           \u001b[0m         Setting a lid for the floating body is recommended.                                            \n"
      ]
     },
     "metadata": {},
     "output_type": "display_data"
    },
    {
     "name": "stdout",
     "output_type": "stream",
     "text": [
      "# of Panels:  2500\n"
     ]
    },
    {
     "data": {
      "text/html": [
       "<pre style=\"white-space:pre;overflow-x:auto;line-height:normal;font-family:Menlo,'DejaVu Sans Mono',consolas,'Courier New',monospace\"><span style=\"color: #7fbfbf; text-decoration-color: #7fbfbf\">[22:56:38] </span><span style=\"color: #808000; text-decoration-color: #808000\">WARNING </span> Mesh resolution for <span style=\"color: #800080; text-decoration-color: #800080; font-weight: bold\">RadiationProblem</span><span style=\"font-weight: bold\">(</span><span style=\"color: #808000; text-decoration-color: #808000\">body</span>=<span style=\"color: #800080; text-decoration-color: #800080; font-weight: bold\">FloatingBody</span><span style=\"font-weight: bold\">(</span><span style=\"color: #808000; text-decoration-color: #808000\">...</span>,                                    \n",
       "<span style=\"color: #7fbfbf; text-decoration-color: #7fbfbf\">           </span>         <span style=\"color: #808000; text-decoration-color: #808000\">name</span>=<span style=\"color: #008000; text-decoration-color: #008000\">\"axisymmetric_mesh+axisymmetric_mesh+axisymmetric_mesh+axisymmetric_mesh+axisymmetric_mesh</span>\n",
       "<span style=\"color: #7fbfbf; text-decoration-color: #7fbfbf\">           </span>         <span style=\"color: #008000; text-decoration-color: #008000\">+axisymmetric_mesh\"</span><span style=\"font-weight: bold\">)</span>, <span style=\"color: #808000; text-decoration-color: #808000\">wavenumber</span>=<span style=\"color: #008080; text-decoration-color: #008080; font-weight: bold\">4.621</span>, <span style=\"color: #808000; text-decoration-color: #808000\">water_depth</span>=<span style=\"color: #008080; text-decoration-color: #008080; font-weight: bold\">20.0</span>, <span style=\"color: #808000; text-decoration-color: #808000\">radiating_dof</span>=<span style=\"color: #008000; text-decoration-color: #008000\">'Heave'</span>, <span style=\"color: #808000; text-decoration-color: #808000\">rho</span>=<span style=\"color: #008080; text-decoration-color: #008080; font-weight: bold\">1023.0</span><span style=\"font-weight: bold\">)</span>:  \n",
       "<span style=\"color: #7fbfbf; text-decoration-color: #7fbfbf\">           </span>         The resolution of the mesh of the body <span style=\"color: #800080; text-decoration-color: #800080; font-weight: bold\">FloatingBody</span><span style=\"font-weight: bold\">(</span><span style=\"color: #808000; text-decoration-color: #808000\">...</span>,                                       \n",
       "<span style=\"color: #7fbfbf; text-decoration-color: #7fbfbf\">           </span>         <span style=\"color: #808000; text-decoration-color: #808000\">name</span>=<span style=\"color: #008000; text-decoration-color: #008000\">\"axisymmetric_mesh+axisymmetric_mesh+axisymmetric_mesh+axisymmetric_mesh+axisymmetric_mesh</span>\n",
       "<span style=\"color: #7fbfbf; text-decoration-color: #7fbfbf\">           </span>         <span style=\"color: #008000; text-decoration-color: #008000\">+axisymmetric_mesh\"</span><span style=\"font-weight: bold\">)</span> might be insufficient for <span style=\"color: #808000; text-decoration-color: #808000\">wavenumber</span>=<span style=\"color: #008080; text-decoration-color: #008080; font-weight: bold\">4.620689655172415</span>.                   \n",
       "<span style=\"color: #7fbfbf; text-decoration-color: #7fbfbf\">           </span>         This warning appears because the largest panel of this mesh has radius <span style=\"color: #008080; text-decoration-color: #008080; font-weight: bold\">0.992</span> &gt; wavelength/<span style=\"color: #008080; text-decoration-color: #008080; font-weight: bold\">8</span>.   \n",
       "</pre>\n"
      ],
      "text/plain": [
       "\u001b[2;36m[22:56:38]\u001b[0m\u001b[2;36m \u001b[0m\u001b[33mWARNING \u001b[0m Mesh resolution for \u001b[1;35mRadiationProblem\u001b[0m\u001b[1m(\u001b[0m\u001b[33mbody\u001b[0m=\u001b[1;35mFloatingBody\u001b[0m\u001b[1m(\u001b[0m\u001b[33m...\u001b[0m,                                    \n",
       "\u001b[2;36m           \u001b[0m         \u001b[33mname\u001b[0m=\u001b[32m\"axisymmetric_mesh\u001b[0m\u001b[32m+axisymmetric_mesh+axisymmetric_mesh+axisymmetric_mesh+axisymmetric_mesh\u001b[0m\n",
       "\u001b[2;36m           \u001b[0m         \u001b[32m+axisymmetric_mesh\"\u001b[0m\u001b[1m)\u001b[0m, \u001b[33mwavenumber\u001b[0m=\u001b[1;36m4\u001b[0m\u001b[1;36m.621\u001b[0m, \u001b[33mwater_depth\u001b[0m=\u001b[1;36m20\u001b[0m\u001b[1;36m.0\u001b[0m, \u001b[33mradiating_dof\u001b[0m=\u001b[32m'Heave'\u001b[0m, \u001b[33mrho\u001b[0m=\u001b[1;36m1023\u001b[0m\u001b[1;36m.0\u001b[0m\u001b[1m)\u001b[0m:  \n",
       "\u001b[2;36m           \u001b[0m         The resolution of the mesh of the body \u001b[1;35mFloatingBody\u001b[0m\u001b[1m(\u001b[0m\u001b[33m...\u001b[0m,                                       \n",
       "\u001b[2;36m           \u001b[0m         \u001b[33mname\u001b[0m=\u001b[32m\"axisymmetric_mesh\u001b[0m\u001b[32m+axisymmetric_mesh+axisymmetric_mesh+axisymmetric_mesh+axisymmetric_mesh\u001b[0m\n",
       "\u001b[2;36m           \u001b[0m         \u001b[32m+axisymmetric_mesh\"\u001b[0m\u001b[1m)\u001b[0m might be insufficient for \u001b[33mwavenumber\u001b[0m=\u001b[1;36m4\u001b[0m\u001b[1;36m.620689655172415\u001b[0m.                   \n",
       "\u001b[2;36m           \u001b[0m         This warning appears because the largest panel of this mesh has radius \u001b[1;36m0.992\u001b[0m > wavelength/\u001b[1;36m8\u001b[0m.   \n"
      ]
     },
     "metadata": {},
     "output_type": "display_data"
    },
    {
     "data": {
      "text/html": [
       "<pre style=\"white-space:pre;overflow-x:auto;line-height:normal;font-family:Menlo,'DejaVu Sans Mono',consolas,'Courier New',monospace\"><span style=\"color: #7fbfbf; text-decoration-color: #7fbfbf\">[22:56:42] </span><span style=\"color: #808000; text-decoration-color: #808000\">WARNING </span> Irregular frequencies for <span style=\"color: #800080; text-decoration-color: #800080; font-weight: bold\">RadiationProblem</span><span style=\"font-weight: bold\">(</span><span style=\"color: #808000; text-decoration-color: #808000\">body</span>=<span style=\"color: #800080; text-decoration-color: #800080; font-weight: bold\">FloatingBody</span><span style=\"font-weight: bold\">(</span><span style=\"color: #808000; text-decoration-color: #808000\">...</span>,                              \n",
       "<span style=\"color: #7fbfbf; text-decoration-color: #7fbfbf\">           </span>         <span style=\"color: #808000; text-decoration-color: #808000\">name</span>=<span style=\"color: #008000; text-decoration-color: #008000\">\"axisymmetric_mesh+axisymmetric_mesh+axisymmetric_mesh+axisymmetric_mesh+axisymmetric_mesh</span>\n",
       "<span style=\"color: #7fbfbf; text-decoration-color: #7fbfbf\">           </span>         <span style=\"color: #008000; text-decoration-color: #008000\">+axisymmetric_mesh\"</span><span style=\"font-weight: bold\">)</span>, <span style=\"color: #808000; text-decoration-color: #808000\">wavenumber</span>=<span style=\"color: #008080; text-decoration-color: #008080; font-weight: bold\">4.621</span>, <span style=\"color: #808000; text-decoration-color: #808000\">water_depth</span>=<span style=\"color: #008080; text-decoration-color: #008080; font-weight: bold\">20.0</span>, <span style=\"color: #808000; text-decoration-color: #808000\">radiating_dof</span>=<span style=\"color: #008000; text-decoration-color: #008000\">'Heave'</span>, <span style=\"color: #808000; text-decoration-color: #808000\">rho</span>=<span style=\"color: #008080; text-decoration-color: #008080; font-weight: bold\">1023.0</span><span style=\"font-weight: bold\">)</span>:  \n",
       "<span style=\"color: #7fbfbf; text-decoration-color: #7fbfbf\">           </span>         The body <span style=\"color: #800080; text-decoration-color: #800080; font-weight: bold\">FloatingBody</span><span style=\"font-weight: bold\">(</span><span style=\"color: #808000; text-decoration-color: #808000\">...</span>,                                                                     \n",
       "<span style=\"color: #7fbfbf; text-decoration-color: #7fbfbf\">           </span>         <span style=\"color: #808000; text-decoration-color: #808000\">name</span>=<span style=\"color: #008000; text-decoration-color: #008000\">\"axisymmetric_mesh+axisymmetric_mesh+axisymmetric_mesh+axisymmetric_mesh+axisymmetric_mesh</span>\n",
       "<span style=\"color: #7fbfbf; text-decoration-color: #7fbfbf\">           </span>         <span style=\"color: #008000; text-decoration-color: #008000\">+axisymmetric_mesh\"</span><span style=\"font-weight: bold\">)</span> might display irregular frequencies for <span style=\"color: #808000; text-decoration-color: #808000\">wavenumber</span>=<span style=\"color: #008080; text-decoration-color: #008080; font-weight: bold\">4.620689655172415</span>.     \n",
       "<span style=\"color: #7fbfbf; text-decoration-color: #7fbfbf\">           </span>         Setting a lid for the floating body is recommended.                                            \n",
       "</pre>\n"
      ],
      "text/plain": [
       "\u001b[2;36m[22:56:42]\u001b[0m\u001b[2;36m \u001b[0m\u001b[33mWARNING \u001b[0m Irregular frequencies for \u001b[1;35mRadiationProblem\u001b[0m\u001b[1m(\u001b[0m\u001b[33mbody\u001b[0m=\u001b[1;35mFloatingBody\u001b[0m\u001b[1m(\u001b[0m\u001b[33m...\u001b[0m,                              \n",
       "\u001b[2;36m           \u001b[0m         \u001b[33mname\u001b[0m=\u001b[32m\"axisymmetric_mesh\u001b[0m\u001b[32m+axisymmetric_mesh+axisymmetric_mesh+axisymmetric_mesh+axisymmetric_mesh\u001b[0m\n",
       "\u001b[2;36m           \u001b[0m         \u001b[32m+axisymmetric_mesh\"\u001b[0m\u001b[1m)\u001b[0m, \u001b[33mwavenumber\u001b[0m=\u001b[1;36m4\u001b[0m\u001b[1;36m.621\u001b[0m, \u001b[33mwater_depth\u001b[0m=\u001b[1;36m20\u001b[0m\u001b[1;36m.0\u001b[0m, \u001b[33mradiating_dof\u001b[0m=\u001b[32m'Heave'\u001b[0m, \u001b[33mrho\u001b[0m=\u001b[1;36m1023\u001b[0m\u001b[1;36m.0\u001b[0m\u001b[1m)\u001b[0m:  \n",
       "\u001b[2;36m           \u001b[0m         The body \u001b[1;35mFloatingBody\u001b[0m\u001b[1m(\u001b[0m\u001b[33m...\u001b[0m,                                                                     \n",
       "\u001b[2;36m           \u001b[0m         \u001b[33mname\u001b[0m=\u001b[32m\"axisymmetric_mesh\u001b[0m\u001b[32m+axisymmetric_mesh+axisymmetric_mesh+axisymmetric_mesh+axisymmetric_mesh\u001b[0m\n",
       "\u001b[2;36m           \u001b[0m         \u001b[32m+axisymmetric_mesh\"\u001b[0m\u001b[1m)\u001b[0m might display irregular frequencies for \u001b[33mwavenumber\u001b[0m=\u001b[1;36m4\u001b[0m\u001b[1;36m.620689655172415\u001b[0m.     \n",
       "\u001b[2;36m           \u001b[0m         Setting a lid for the floating body is recommended.                                            \n"
      ]
     },
     "metadata": {},
     "output_type": "display_data"
    },
    {
     "name": "stdout",
     "output_type": "stream",
     "text": [
      "# of Panels:  2500\n"
     ]
    },
    {
     "data": {
      "text/html": [
       "<pre style=\"white-space:pre;overflow-x:auto;line-height:normal;font-family:Menlo,'DejaVu Sans Mono',consolas,'Courier New',monospace\"><span style=\"color: #7fbfbf; text-decoration-color: #7fbfbf\">[22:56:46] </span><span style=\"color: #808000; text-decoration-color: #808000\">WARNING </span> Mesh resolution for <span style=\"color: #800080; text-decoration-color: #800080; font-weight: bold\">RadiationProblem</span><span style=\"font-weight: bold\">(</span><span style=\"color: #808000; text-decoration-color: #808000\">body</span>=<span style=\"color: #800080; text-decoration-color: #800080; font-weight: bold\">FloatingBody</span><span style=\"font-weight: bold\">(</span><span style=\"color: #808000; text-decoration-color: #808000\">...</span>,                                    \n",
       "<span style=\"color: #7fbfbf; text-decoration-color: #7fbfbf\">           </span>         <span style=\"color: #808000; text-decoration-color: #808000\">name</span>=<span style=\"color: #008000; text-decoration-color: #008000\">\"axisymmetric_mesh+axisymmetric_mesh+axisymmetric_mesh+axisymmetric_mesh+axisymmetric_mesh</span>\n",
       "<span style=\"color: #7fbfbf; text-decoration-color: #7fbfbf\">           </span>         <span style=\"color: #008000; text-decoration-color: #008000\">+axisymmetric_mesh\"</span><span style=\"font-weight: bold\">)</span>, <span style=\"color: #808000; text-decoration-color: #808000\">wavenumber</span>=<span style=\"color: #008080; text-decoration-color: #008080; font-weight: bold\">4.793</span>, <span style=\"color: #808000; text-decoration-color: #808000\">water_depth</span>=<span style=\"color: #008080; text-decoration-color: #008080; font-weight: bold\">20.0</span>, <span style=\"color: #808000; text-decoration-color: #808000\">radiating_dof</span>=<span style=\"color: #008000; text-decoration-color: #008000\">'Heave'</span>, <span style=\"color: #808000; text-decoration-color: #808000\">rho</span>=<span style=\"color: #008080; text-decoration-color: #008080; font-weight: bold\">1023.0</span><span style=\"font-weight: bold\">)</span>:  \n",
       "<span style=\"color: #7fbfbf; text-decoration-color: #7fbfbf\">           </span>         The resolution of the mesh of the body <span style=\"color: #800080; text-decoration-color: #800080; font-weight: bold\">FloatingBody</span><span style=\"font-weight: bold\">(</span><span style=\"color: #808000; text-decoration-color: #808000\">...</span>,                                       \n",
       "<span style=\"color: #7fbfbf; text-decoration-color: #7fbfbf\">           </span>         <span style=\"color: #808000; text-decoration-color: #808000\">name</span>=<span style=\"color: #008000; text-decoration-color: #008000\">\"axisymmetric_mesh+axisymmetric_mesh+axisymmetric_mesh+axisymmetric_mesh+axisymmetric_mesh</span>\n",
       "<span style=\"color: #7fbfbf; text-decoration-color: #7fbfbf\">           </span>         <span style=\"color: #008000; text-decoration-color: #008000\">+axisymmetric_mesh\"</span><span style=\"font-weight: bold\">)</span> might be insufficient for <span style=\"color: #808000; text-decoration-color: #808000\">wavenumber</span>=<span style=\"color: #008080; text-decoration-color: #008080; font-weight: bold\">4.793103448275862</span>.                   \n",
       "<span style=\"color: #7fbfbf; text-decoration-color: #7fbfbf\">           </span>         This warning appears because the largest panel of this mesh has radius <span style=\"color: #008080; text-decoration-color: #008080; font-weight: bold\">0.992</span> &gt; wavelength/<span style=\"color: #008080; text-decoration-color: #008080; font-weight: bold\">8</span>.   \n",
       "</pre>\n"
      ],
      "text/plain": [
       "\u001b[2;36m[22:56:46]\u001b[0m\u001b[2;36m \u001b[0m\u001b[33mWARNING \u001b[0m Mesh resolution for \u001b[1;35mRadiationProblem\u001b[0m\u001b[1m(\u001b[0m\u001b[33mbody\u001b[0m=\u001b[1;35mFloatingBody\u001b[0m\u001b[1m(\u001b[0m\u001b[33m...\u001b[0m,                                    \n",
       "\u001b[2;36m           \u001b[0m         \u001b[33mname\u001b[0m=\u001b[32m\"axisymmetric_mesh\u001b[0m\u001b[32m+axisymmetric_mesh+axisymmetric_mesh+axisymmetric_mesh+axisymmetric_mesh\u001b[0m\n",
       "\u001b[2;36m           \u001b[0m         \u001b[32m+axisymmetric_mesh\"\u001b[0m\u001b[1m)\u001b[0m, \u001b[33mwavenumber\u001b[0m=\u001b[1;36m4\u001b[0m\u001b[1;36m.793\u001b[0m, \u001b[33mwater_depth\u001b[0m=\u001b[1;36m20\u001b[0m\u001b[1;36m.0\u001b[0m, \u001b[33mradiating_dof\u001b[0m=\u001b[32m'Heave'\u001b[0m, \u001b[33mrho\u001b[0m=\u001b[1;36m1023\u001b[0m\u001b[1;36m.0\u001b[0m\u001b[1m)\u001b[0m:  \n",
       "\u001b[2;36m           \u001b[0m         The resolution of the mesh of the body \u001b[1;35mFloatingBody\u001b[0m\u001b[1m(\u001b[0m\u001b[33m...\u001b[0m,                                       \n",
       "\u001b[2;36m           \u001b[0m         \u001b[33mname\u001b[0m=\u001b[32m\"axisymmetric_mesh\u001b[0m\u001b[32m+axisymmetric_mesh+axisymmetric_mesh+axisymmetric_mesh+axisymmetric_mesh\u001b[0m\n",
       "\u001b[2;36m           \u001b[0m         \u001b[32m+axisymmetric_mesh\"\u001b[0m\u001b[1m)\u001b[0m might be insufficient for \u001b[33mwavenumber\u001b[0m=\u001b[1;36m4\u001b[0m\u001b[1;36m.793103448275862\u001b[0m.                   \n",
       "\u001b[2;36m           \u001b[0m         This warning appears because the largest panel of this mesh has radius \u001b[1;36m0.992\u001b[0m > wavelength/\u001b[1;36m8\u001b[0m.   \n"
      ]
     },
     "metadata": {},
     "output_type": "display_data"
    },
    {
     "data": {
      "text/html": [
       "<pre style=\"white-space:pre;overflow-x:auto;line-height:normal;font-family:Menlo,'DejaVu Sans Mono',consolas,'Courier New',monospace\"><span style=\"color: #7fbfbf; text-decoration-color: #7fbfbf\">[22:56:51] </span><span style=\"color: #808000; text-decoration-color: #808000\">WARNING </span> Irregular frequencies for <span style=\"color: #800080; text-decoration-color: #800080; font-weight: bold\">RadiationProblem</span><span style=\"font-weight: bold\">(</span><span style=\"color: #808000; text-decoration-color: #808000\">body</span>=<span style=\"color: #800080; text-decoration-color: #800080; font-weight: bold\">FloatingBody</span><span style=\"font-weight: bold\">(</span><span style=\"color: #808000; text-decoration-color: #808000\">...</span>,                              \n",
       "<span style=\"color: #7fbfbf; text-decoration-color: #7fbfbf\">           </span>         <span style=\"color: #808000; text-decoration-color: #808000\">name</span>=<span style=\"color: #008000; text-decoration-color: #008000\">\"axisymmetric_mesh+axisymmetric_mesh+axisymmetric_mesh+axisymmetric_mesh+axisymmetric_mesh</span>\n",
       "<span style=\"color: #7fbfbf; text-decoration-color: #7fbfbf\">           </span>         <span style=\"color: #008000; text-decoration-color: #008000\">+axisymmetric_mesh\"</span><span style=\"font-weight: bold\">)</span>, <span style=\"color: #808000; text-decoration-color: #808000\">wavenumber</span>=<span style=\"color: #008080; text-decoration-color: #008080; font-weight: bold\">4.793</span>, <span style=\"color: #808000; text-decoration-color: #808000\">water_depth</span>=<span style=\"color: #008080; text-decoration-color: #008080; font-weight: bold\">20.0</span>, <span style=\"color: #808000; text-decoration-color: #808000\">radiating_dof</span>=<span style=\"color: #008000; text-decoration-color: #008000\">'Heave'</span>, <span style=\"color: #808000; text-decoration-color: #808000\">rho</span>=<span style=\"color: #008080; text-decoration-color: #008080; font-weight: bold\">1023.0</span><span style=\"font-weight: bold\">)</span>:  \n",
       "<span style=\"color: #7fbfbf; text-decoration-color: #7fbfbf\">           </span>         The body <span style=\"color: #800080; text-decoration-color: #800080; font-weight: bold\">FloatingBody</span><span style=\"font-weight: bold\">(</span><span style=\"color: #808000; text-decoration-color: #808000\">...</span>,                                                                     \n",
       "<span style=\"color: #7fbfbf; text-decoration-color: #7fbfbf\">           </span>         <span style=\"color: #808000; text-decoration-color: #808000\">name</span>=<span style=\"color: #008000; text-decoration-color: #008000\">\"axisymmetric_mesh+axisymmetric_mesh+axisymmetric_mesh+axisymmetric_mesh+axisymmetric_mesh</span>\n",
       "<span style=\"color: #7fbfbf; text-decoration-color: #7fbfbf\">           </span>         <span style=\"color: #008000; text-decoration-color: #008000\">+axisymmetric_mesh\"</span><span style=\"font-weight: bold\">)</span> might display irregular frequencies for <span style=\"color: #808000; text-decoration-color: #808000\">wavenumber</span>=<span style=\"color: #008080; text-decoration-color: #008080; font-weight: bold\">4.793103448275862</span>.     \n",
       "<span style=\"color: #7fbfbf; text-decoration-color: #7fbfbf\">           </span>         Setting a lid for the floating body is recommended.                                            \n",
       "</pre>\n"
      ],
      "text/plain": [
       "\u001b[2;36m[22:56:51]\u001b[0m\u001b[2;36m \u001b[0m\u001b[33mWARNING \u001b[0m Irregular frequencies for \u001b[1;35mRadiationProblem\u001b[0m\u001b[1m(\u001b[0m\u001b[33mbody\u001b[0m=\u001b[1;35mFloatingBody\u001b[0m\u001b[1m(\u001b[0m\u001b[33m...\u001b[0m,                              \n",
       "\u001b[2;36m           \u001b[0m         \u001b[33mname\u001b[0m=\u001b[32m\"axisymmetric_mesh\u001b[0m\u001b[32m+axisymmetric_mesh+axisymmetric_mesh+axisymmetric_mesh+axisymmetric_mesh\u001b[0m\n",
       "\u001b[2;36m           \u001b[0m         \u001b[32m+axisymmetric_mesh\"\u001b[0m\u001b[1m)\u001b[0m, \u001b[33mwavenumber\u001b[0m=\u001b[1;36m4\u001b[0m\u001b[1;36m.793\u001b[0m, \u001b[33mwater_depth\u001b[0m=\u001b[1;36m20\u001b[0m\u001b[1;36m.0\u001b[0m, \u001b[33mradiating_dof\u001b[0m=\u001b[32m'Heave'\u001b[0m, \u001b[33mrho\u001b[0m=\u001b[1;36m1023\u001b[0m\u001b[1;36m.0\u001b[0m\u001b[1m)\u001b[0m:  \n",
       "\u001b[2;36m           \u001b[0m         The body \u001b[1;35mFloatingBody\u001b[0m\u001b[1m(\u001b[0m\u001b[33m...\u001b[0m,                                                                     \n",
       "\u001b[2;36m           \u001b[0m         \u001b[33mname\u001b[0m=\u001b[32m\"axisymmetric_mesh\u001b[0m\u001b[32m+axisymmetric_mesh+axisymmetric_mesh+axisymmetric_mesh+axisymmetric_mesh\u001b[0m\n",
       "\u001b[2;36m           \u001b[0m         \u001b[32m+axisymmetric_mesh\"\u001b[0m\u001b[1m)\u001b[0m might display irregular frequencies for \u001b[33mwavenumber\u001b[0m=\u001b[1;36m4\u001b[0m\u001b[1;36m.793103448275862\u001b[0m.     \n",
       "\u001b[2;36m           \u001b[0m         Setting a lid for the floating body is recommended.                                            \n"
      ]
     },
     "metadata": {},
     "output_type": "display_data"
    },
    {
     "name": "stdout",
     "output_type": "stream",
     "text": [
      "# of Panels:  2500\n"
     ]
    },
    {
     "data": {
      "text/html": [
       "<pre style=\"white-space:pre;overflow-x:auto;line-height:normal;font-family:Menlo,'DejaVu Sans Mono',consolas,'Courier New',monospace\"><span style=\"color: #7fbfbf; text-decoration-color: #7fbfbf\">[22:56:54] </span><span style=\"color: #808000; text-decoration-color: #808000\">WARNING </span> Mesh resolution for <span style=\"color: #800080; text-decoration-color: #800080; font-weight: bold\">RadiationProblem</span><span style=\"font-weight: bold\">(</span><span style=\"color: #808000; text-decoration-color: #808000\">body</span>=<span style=\"color: #800080; text-decoration-color: #800080; font-weight: bold\">FloatingBody</span><span style=\"font-weight: bold\">(</span><span style=\"color: #808000; text-decoration-color: #808000\">...</span>,                                    \n",
       "<span style=\"color: #7fbfbf; text-decoration-color: #7fbfbf\">           </span>         <span style=\"color: #808000; text-decoration-color: #808000\">name</span>=<span style=\"color: #008000; text-decoration-color: #008000\">\"axisymmetric_mesh+axisymmetric_mesh+axisymmetric_mesh+axisymmetric_mesh+axisymmetric_mesh</span>\n",
       "<span style=\"color: #7fbfbf; text-decoration-color: #7fbfbf\">           </span>         <span style=\"color: #008000; text-decoration-color: #008000\">+axisymmetric_mesh\"</span><span style=\"font-weight: bold\">)</span>, <span style=\"color: #808000; text-decoration-color: #808000\">wavenumber</span>=<span style=\"color: #008080; text-decoration-color: #008080; font-weight: bold\">4.966</span>, <span style=\"color: #808000; text-decoration-color: #808000\">water_depth</span>=<span style=\"color: #008080; text-decoration-color: #008080; font-weight: bold\">20.0</span>, <span style=\"color: #808000; text-decoration-color: #808000\">radiating_dof</span>=<span style=\"color: #008000; text-decoration-color: #008000\">'Heave'</span>, <span style=\"color: #808000; text-decoration-color: #808000\">rho</span>=<span style=\"color: #008080; text-decoration-color: #008080; font-weight: bold\">1023.0</span><span style=\"font-weight: bold\">)</span>:  \n",
       "<span style=\"color: #7fbfbf; text-decoration-color: #7fbfbf\">           </span>         The resolution of the mesh of the body <span style=\"color: #800080; text-decoration-color: #800080; font-weight: bold\">FloatingBody</span><span style=\"font-weight: bold\">(</span><span style=\"color: #808000; text-decoration-color: #808000\">...</span>,                                       \n",
       "<span style=\"color: #7fbfbf; text-decoration-color: #7fbfbf\">           </span>         <span style=\"color: #808000; text-decoration-color: #808000\">name</span>=<span style=\"color: #008000; text-decoration-color: #008000\">\"axisymmetric_mesh+axisymmetric_mesh+axisymmetric_mesh+axisymmetric_mesh+axisymmetric_mesh</span>\n",
       "<span style=\"color: #7fbfbf; text-decoration-color: #7fbfbf\">           </span>         <span style=\"color: #008000; text-decoration-color: #008000\">+axisymmetric_mesh\"</span><span style=\"font-weight: bold\">)</span> might be insufficient for <span style=\"color: #808000; text-decoration-color: #808000\">wavenumber</span>=<span style=\"color: #008080; text-decoration-color: #008080; font-weight: bold\">4.9655172413793105</span>.                  \n",
       "<span style=\"color: #7fbfbf; text-decoration-color: #7fbfbf\">           </span>         This warning appears because the largest panel of this mesh has radius <span style=\"color: #008080; text-decoration-color: #008080; font-weight: bold\">0.992</span> &gt; wavelength/<span style=\"color: #008080; text-decoration-color: #008080; font-weight: bold\">8</span>.   \n",
       "</pre>\n"
      ],
      "text/plain": [
       "\u001b[2;36m[22:56:54]\u001b[0m\u001b[2;36m \u001b[0m\u001b[33mWARNING \u001b[0m Mesh resolution for \u001b[1;35mRadiationProblem\u001b[0m\u001b[1m(\u001b[0m\u001b[33mbody\u001b[0m=\u001b[1;35mFloatingBody\u001b[0m\u001b[1m(\u001b[0m\u001b[33m...\u001b[0m,                                    \n",
       "\u001b[2;36m           \u001b[0m         \u001b[33mname\u001b[0m=\u001b[32m\"axisymmetric_mesh\u001b[0m\u001b[32m+axisymmetric_mesh+axisymmetric_mesh+axisymmetric_mesh+axisymmetric_mesh\u001b[0m\n",
       "\u001b[2;36m           \u001b[0m         \u001b[32m+axisymmetric_mesh\"\u001b[0m\u001b[1m)\u001b[0m, \u001b[33mwavenumber\u001b[0m=\u001b[1;36m4\u001b[0m\u001b[1;36m.966\u001b[0m, \u001b[33mwater_depth\u001b[0m=\u001b[1;36m20\u001b[0m\u001b[1;36m.0\u001b[0m, \u001b[33mradiating_dof\u001b[0m=\u001b[32m'Heave'\u001b[0m, \u001b[33mrho\u001b[0m=\u001b[1;36m1023\u001b[0m\u001b[1;36m.0\u001b[0m\u001b[1m)\u001b[0m:  \n",
       "\u001b[2;36m           \u001b[0m         The resolution of the mesh of the body \u001b[1;35mFloatingBody\u001b[0m\u001b[1m(\u001b[0m\u001b[33m...\u001b[0m,                                       \n",
       "\u001b[2;36m           \u001b[0m         \u001b[33mname\u001b[0m=\u001b[32m\"axisymmetric_mesh\u001b[0m\u001b[32m+axisymmetric_mesh+axisymmetric_mesh+axisymmetric_mesh+axisymmetric_mesh\u001b[0m\n",
       "\u001b[2;36m           \u001b[0m         \u001b[32m+axisymmetric_mesh\"\u001b[0m\u001b[1m)\u001b[0m might be insufficient for \u001b[33mwavenumber\u001b[0m=\u001b[1;36m4\u001b[0m\u001b[1;36m.9655172413793105\u001b[0m.                  \n",
       "\u001b[2;36m           \u001b[0m         This warning appears because the largest panel of this mesh has radius \u001b[1;36m0.992\u001b[0m > wavelength/\u001b[1;36m8\u001b[0m.   \n"
      ]
     },
     "metadata": {},
     "output_type": "display_data"
    },
    {
     "data": {
      "text/html": [
       "<pre style=\"white-space:pre;overflow-x:auto;line-height:normal;font-family:Menlo,'DejaVu Sans Mono',consolas,'Courier New',monospace\"><span style=\"color: #7fbfbf; text-decoration-color: #7fbfbf\">[22:56:59] </span><span style=\"color: #808000; text-decoration-color: #808000\">WARNING </span> Irregular frequencies for <span style=\"color: #800080; text-decoration-color: #800080; font-weight: bold\">RadiationProblem</span><span style=\"font-weight: bold\">(</span><span style=\"color: #808000; text-decoration-color: #808000\">body</span>=<span style=\"color: #800080; text-decoration-color: #800080; font-weight: bold\">FloatingBody</span><span style=\"font-weight: bold\">(</span><span style=\"color: #808000; text-decoration-color: #808000\">...</span>,                              \n",
       "<span style=\"color: #7fbfbf; text-decoration-color: #7fbfbf\">           </span>         <span style=\"color: #808000; text-decoration-color: #808000\">name</span>=<span style=\"color: #008000; text-decoration-color: #008000\">\"axisymmetric_mesh+axisymmetric_mesh+axisymmetric_mesh+axisymmetric_mesh+axisymmetric_mesh</span>\n",
       "<span style=\"color: #7fbfbf; text-decoration-color: #7fbfbf\">           </span>         <span style=\"color: #008000; text-decoration-color: #008000\">+axisymmetric_mesh\"</span><span style=\"font-weight: bold\">)</span>, <span style=\"color: #808000; text-decoration-color: #808000\">wavenumber</span>=<span style=\"color: #008080; text-decoration-color: #008080; font-weight: bold\">4.966</span>, <span style=\"color: #808000; text-decoration-color: #808000\">water_depth</span>=<span style=\"color: #008080; text-decoration-color: #008080; font-weight: bold\">20.0</span>, <span style=\"color: #808000; text-decoration-color: #808000\">radiating_dof</span>=<span style=\"color: #008000; text-decoration-color: #008000\">'Heave'</span>, <span style=\"color: #808000; text-decoration-color: #808000\">rho</span>=<span style=\"color: #008080; text-decoration-color: #008080; font-weight: bold\">1023.0</span><span style=\"font-weight: bold\">)</span>:  \n",
       "<span style=\"color: #7fbfbf; text-decoration-color: #7fbfbf\">           </span>         The body <span style=\"color: #800080; text-decoration-color: #800080; font-weight: bold\">FloatingBody</span><span style=\"font-weight: bold\">(</span><span style=\"color: #808000; text-decoration-color: #808000\">...</span>,                                                                     \n",
       "<span style=\"color: #7fbfbf; text-decoration-color: #7fbfbf\">           </span>         <span style=\"color: #808000; text-decoration-color: #808000\">name</span>=<span style=\"color: #008000; text-decoration-color: #008000\">\"axisymmetric_mesh+axisymmetric_mesh+axisymmetric_mesh+axisymmetric_mesh+axisymmetric_mesh</span>\n",
       "<span style=\"color: #7fbfbf; text-decoration-color: #7fbfbf\">           </span>         <span style=\"color: #008000; text-decoration-color: #008000\">+axisymmetric_mesh\"</span><span style=\"font-weight: bold\">)</span> might display irregular frequencies for <span style=\"color: #808000; text-decoration-color: #808000\">wavenumber</span>=<span style=\"color: #008080; text-decoration-color: #008080; font-weight: bold\">4.9655172413793105</span>.    \n",
       "<span style=\"color: #7fbfbf; text-decoration-color: #7fbfbf\">           </span>         Setting a lid for the floating body is recommended.                                            \n",
       "</pre>\n"
      ],
      "text/plain": [
       "\u001b[2;36m[22:56:59]\u001b[0m\u001b[2;36m \u001b[0m\u001b[33mWARNING \u001b[0m Irregular frequencies for \u001b[1;35mRadiationProblem\u001b[0m\u001b[1m(\u001b[0m\u001b[33mbody\u001b[0m=\u001b[1;35mFloatingBody\u001b[0m\u001b[1m(\u001b[0m\u001b[33m...\u001b[0m,                              \n",
       "\u001b[2;36m           \u001b[0m         \u001b[33mname\u001b[0m=\u001b[32m\"axisymmetric_mesh\u001b[0m\u001b[32m+axisymmetric_mesh+axisymmetric_mesh+axisymmetric_mesh+axisymmetric_mesh\u001b[0m\n",
       "\u001b[2;36m           \u001b[0m         \u001b[32m+axisymmetric_mesh\"\u001b[0m\u001b[1m)\u001b[0m, \u001b[33mwavenumber\u001b[0m=\u001b[1;36m4\u001b[0m\u001b[1;36m.966\u001b[0m, \u001b[33mwater_depth\u001b[0m=\u001b[1;36m20\u001b[0m\u001b[1;36m.0\u001b[0m, \u001b[33mradiating_dof\u001b[0m=\u001b[32m'Heave'\u001b[0m, \u001b[33mrho\u001b[0m=\u001b[1;36m1023\u001b[0m\u001b[1;36m.0\u001b[0m\u001b[1m)\u001b[0m:  \n",
       "\u001b[2;36m           \u001b[0m         The body \u001b[1;35mFloatingBody\u001b[0m\u001b[1m(\u001b[0m\u001b[33m...\u001b[0m,                                                                     \n",
       "\u001b[2;36m           \u001b[0m         \u001b[33mname\u001b[0m=\u001b[32m\"axisymmetric_mesh\u001b[0m\u001b[32m+axisymmetric_mesh+axisymmetric_mesh+axisymmetric_mesh+axisymmetric_mesh\u001b[0m\n",
       "\u001b[2;36m           \u001b[0m         \u001b[32m+axisymmetric_mesh\"\u001b[0m\u001b[1m)\u001b[0m might display irregular frequencies for \u001b[33mwavenumber\u001b[0m=\u001b[1;36m4\u001b[0m\u001b[1;36m.9655172413793105\u001b[0m.    \n",
       "\u001b[2;36m           \u001b[0m         Setting a lid for the floating body is recommended.                                            \n"
      ]
     },
     "metadata": {},
     "output_type": "display_data"
    },
    {
     "name": "stdout",
     "output_type": "stream",
     "text": [
      "# of Panels:  2500\n"
     ]
    },
    {
     "data": {
      "text/html": [
       "<pre style=\"white-space:pre;overflow-x:auto;line-height:normal;font-family:Menlo,'DejaVu Sans Mono',consolas,'Courier New',monospace\"><span style=\"color: #7fbfbf; text-decoration-color: #7fbfbf\">[22:57:02] </span><span style=\"color: #808000; text-decoration-color: #808000\">WARNING </span> Mesh resolution for <span style=\"color: #800080; text-decoration-color: #800080; font-weight: bold\">RadiationProblem</span><span style=\"font-weight: bold\">(</span><span style=\"color: #808000; text-decoration-color: #808000\">body</span>=<span style=\"color: #800080; text-decoration-color: #800080; font-weight: bold\">FloatingBody</span><span style=\"font-weight: bold\">(</span><span style=\"color: #808000; text-decoration-color: #808000\">...</span>,                                    \n",
       "<span style=\"color: #7fbfbf; text-decoration-color: #7fbfbf\">           </span>         <span style=\"color: #808000; text-decoration-color: #808000\">name</span>=<span style=\"color: #008000; text-decoration-color: #008000\">\"axisymmetric_mesh+axisymmetric_mesh+axisymmetric_mesh+axisymmetric_mesh+axisymmetric_mesh</span>\n",
       "<span style=\"color: #7fbfbf; text-decoration-color: #7fbfbf\">           </span>         <span style=\"color: #008000; text-decoration-color: #008000\">+axisymmetric_mesh\"</span><span style=\"font-weight: bold\">)</span>, <span style=\"color: #808000; text-decoration-color: #808000\">wavenumber</span>=<span style=\"color: #008080; text-decoration-color: #008080; font-weight: bold\">5.138</span>, <span style=\"color: #808000; text-decoration-color: #808000\">water_depth</span>=<span style=\"color: #008080; text-decoration-color: #008080; font-weight: bold\">20.0</span>, <span style=\"color: #808000; text-decoration-color: #808000\">radiating_dof</span>=<span style=\"color: #008000; text-decoration-color: #008000\">'Heave'</span>, <span style=\"color: #808000; text-decoration-color: #808000\">rho</span>=<span style=\"color: #008080; text-decoration-color: #008080; font-weight: bold\">1023.0</span><span style=\"font-weight: bold\">)</span>:  \n",
       "<span style=\"color: #7fbfbf; text-decoration-color: #7fbfbf\">           </span>         The resolution of the mesh of the body <span style=\"color: #800080; text-decoration-color: #800080; font-weight: bold\">FloatingBody</span><span style=\"font-weight: bold\">(</span><span style=\"color: #808000; text-decoration-color: #808000\">...</span>,                                       \n",
       "<span style=\"color: #7fbfbf; text-decoration-color: #7fbfbf\">           </span>         <span style=\"color: #808000; text-decoration-color: #808000\">name</span>=<span style=\"color: #008000; text-decoration-color: #008000\">\"axisymmetric_mesh+axisymmetric_mesh+axisymmetric_mesh+axisymmetric_mesh+axisymmetric_mesh</span>\n",
       "<span style=\"color: #7fbfbf; text-decoration-color: #7fbfbf\">           </span>         <span style=\"color: #008000; text-decoration-color: #008000\">+axisymmetric_mesh\"</span><span style=\"font-weight: bold\">)</span> might be insufficient for <span style=\"color: #808000; text-decoration-color: #808000\">wavenumber</span>=<span style=\"color: #008080; text-decoration-color: #008080; font-weight: bold\">5.137931034482759</span>.                   \n",
       "<span style=\"color: #7fbfbf; text-decoration-color: #7fbfbf\">           </span>         This warning appears because the largest panel of this mesh has radius <span style=\"color: #008080; text-decoration-color: #008080; font-weight: bold\">0.992</span> &gt; wavelength/<span style=\"color: #008080; text-decoration-color: #008080; font-weight: bold\">8</span>.   \n",
       "</pre>\n"
      ],
      "text/plain": [
       "\u001b[2;36m[22:57:02]\u001b[0m\u001b[2;36m \u001b[0m\u001b[33mWARNING \u001b[0m Mesh resolution for \u001b[1;35mRadiationProblem\u001b[0m\u001b[1m(\u001b[0m\u001b[33mbody\u001b[0m=\u001b[1;35mFloatingBody\u001b[0m\u001b[1m(\u001b[0m\u001b[33m...\u001b[0m,                                    \n",
       "\u001b[2;36m           \u001b[0m         \u001b[33mname\u001b[0m=\u001b[32m\"axisymmetric_mesh\u001b[0m\u001b[32m+axisymmetric_mesh+axisymmetric_mesh+axisymmetric_mesh+axisymmetric_mesh\u001b[0m\n",
       "\u001b[2;36m           \u001b[0m         \u001b[32m+axisymmetric_mesh\"\u001b[0m\u001b[1m)\u001b[0m, \u001b[33mwavenumber\u001b[0m=\u001b[1;36m5\u001b[0m\u001b[1;36m.138\u001b[0m, \u001b[33mwater_depth\u001b[0m=\u001b[1;36m20\u001b[0m\u001b[1;36m.0\u001b[0m, \u001b[33mradiating_dof\u001b[0m=\u001b[32m'Heave'\u001b[0m, \u001b[33mrho\u001b[0m=\u001b[1;36m1023\u001b[0m\u001b[1;36m.0\u001b[0m\u001b[1m)\u001b[0m:  \n",
       "\u001b[2;36m           \u001b[0m         The resolution of the mesh of the body \u001b[1;35mFloatingBody\u001b[0m\u001b[1m(\u001b[0m\u001b[33m...\u001b[0m,                                       \n",
       "\u001b[2;36m           \u001b[0m         \u001b[33mname\u001b[0m=\u001b[32m\"axisymmetric_mesh\u001b[0m\u001b[32m+axisymmetric_mesh+axisymmetric_mesh+axisymmetric_mesh+axisymmetric_mesh\u001b[0m\n",
       "\u001b[2;36m           \u001b[0m         \u001b[32m+axisymmetric_mesh\"\u001b[0m\u001b[1m)\u001b[0m might be insufficient for \u001b[33mwavenumber\u001b[0m=\u001b[1;36m5\u001b[0m\u001b[1;36m.137931034482759\u001b[0m.                   \n",
       "\u001b[2;36m           \u001b[0m         This warning appears because the largest panel of this mesh has radius \u001b[1;36m0.992\u001b[0m > wavelength/\u001b[1;36m8\u001b[0m.   \n"
      ]
     },
     "metadata": {},
     "output_type": "display_data"
    },
    {
     "data": {
      "text/html": [
       "<pre style=\"white-space:pre;overflow-x:auto;line-height:normal;font-family:Menlo,'DejaVu Sans Mono',consolas,'Courier New',monospace\"><span style=\"color: #7fbfbf; text-decoration-color: #7fbfbf\">[22:57:07] </span><span style=\"color: #808000; text-decoration-color: #808000\">WARNING </span> Irregular frequencies for <span style=\"color: #800080; text-decoration-color: #800080; font-weight: bold\">RadiationProblem</span><span style=\"font-weight: bold\">(</span><span style=\"color: #808000; text-decoration-color: #808000\">body</span>=<span style=\"color: #800080; text-decoration-color: #800080; font-weight: bold\">FloatingBody</span><span style=\"font-weight: bold\">(</span><span style=\"color: #808000; text-decoration-color: #808000\">...</span>,                              \n",
       "<span style=\"color: #7fbfbf; text-decoration-color: #7fbfbf\">           </span>         <span style=\"color: #808000; text-decoration-color: #808000\">name</span>=<span style=\"color: #008000; text-decoration-color: #008000\">\"axisymmetric_mesh+axisymmetric_mesh+axisymmetric_mesh+axisymmetric_mesh+axisymmetric_mesh</span>\n",
       "<span style=\"color: #7fbfbf; text-decoration-color: #7fbfbf\">           </span>         <span style=\"color: #008000; text-decoration-color: #008000\">+axisymmetric_mesh\"</span><span style=\"font-weight: bold\">)</span>, <span style=\"color: #808000; text-decoration-color: #808000\">wavenumber</span>=<span style=\"color: #008080; text-decoration-color: #008080; font-weight: bold\">5.138</span>, <span style=\"color: #808000; text-decoration-color: #808000\">water_depth</span>=<span style=\"color: #008080; text-decoration-color: #008080; font-weight: bold\">20.0</span>, <span style=\"color: #808000; text-decoration-color: #808000\">radiating_dof</span>=<span style=\"color: #008000; text-decoration-color: #008000\">'Heave'</span>, <span style=\"color: #808000; text-decoration-color: #808000\">rho</span>=<span style=\"color: #008080; text-decoration-color: #008080; font-weight: bold\">1023.0</span><span style=\"font-weight: bold\">)</span>:  \n",
       "<span style=\"color: #7fbfbf; text-decoration-color: #7fbfbf\">           </span>         The body <span style=\"color: #800080; text-decoration-color: #800080; font-weight: bold\">FloatingBody</span><span style=\"font-weight: bold\">(</span><span style=\"color: #808000; text-decoration-color: #808000\">...</span>,                                                                     \n",
       "<span style=\"color: #7fbfbf; text-decoration-color: #7fbfbf\">           </span>         <span style=\"color: #808000; text-decoration-color: #808000\">name</span>=<span style=\"color: #008000; text-decoration-color: #008000\">\"axisymmetric_mesh+axisymmetric_mesh+axisymmetric_mesh+axisymmetric_mesh+axisymmetric_mesh</span>\n",
       "<span style=\"color: #7fbfbf; text-decoration-color: #7fbfbf\">           </span>         <span style=\"color: #008000; text-decoration-color: #008000\">+axisymmetric_mesh\"</span><span style=\"font-weight: bold\">)</span> might display irregular frequencies for <span style=\"color: #808000; text-decoration-color: #808000\">wavenumber</span>=<span style=\"color: #008080; text-decoration-color: #008080; font-weight: bold\">5.137931034482759</span>.     \n",
       "<span style=\"color: #7fbfbf; text-decoration-color: #7fbfbf\">           </span>         Setting a lid for the floating body is recommended.                                            \n",
       "</pre>\n"
      ],
      "text/plain": [
       "\u001b[2;36m[22:57:07]\u001b[0m\u001b[2;36m \u001b[0m\u001b[33mWARNING \u001b[0m Irregular frequencies for \u001b[1;35mRadiationProblem\u001b[0m\u001b[1m(\u001b[0m\u001b[33mbody\u001b[0m=\u001b[1;35mFloatingBody\u001b[0m\u001b[1m(\u001b[0m\u001b[33m...\u001b[0m,                              \n",
       "\u001b[2;36m           \u001b[0m         \u001b[33mname\u001b[0m=\u001b[32m\"axisymmetric_mesh\u001b[0m\u001b[32m+axisymmetric_mesh+axisymmetric_mesh+axisymmetric_mesh+axisymmetric_mesh\u001b[0m\n",
       "\u001b[2;36m           \u001b[0m         \u001b[32m+axisymmetric_mesh\"\u001b[0m\u001b[1m)\u001b[0m, \u001b[33mwavenumber\u001b[0m=\u001b[1;36m5\u001b[0m\u001b[1;36m.138\u001b[0m, \u001b[33mwater_depth\u001b[0m=\u001b[1;36m20\u001b[0m\u001b[1;36m.0\u001b[0m, \u001b[33mradiating_dof\u001b[0m=\u001b[32m'Heave'\u001b[0m, \u001b[33mrho\u001b[0m=\u001b[1;36m1023\u001b[0m\u001b[1;36m.0\u001b[0m\u001b[1m)\u001b[0m:  \n",
       "\u001b[2;36m           \u001b[0m         The body \u001b[1;35mFloatingBody\u001b[0m\u001b[1m(\u001b[0m\u001b[33m...\u001b[0m,                                                                     \n",
       "\u001b[2;36m           \u001b[0m         \u001b[33mname\u001b[0m=\u001b[32m\"axisymmetric_mesh\u001b[0m\u001b[32m+axisymmetric_mesh+axisymmetric_mesh+axisymmetric_mesh+axisymmetric_mesh\u001b[0m\n",
       "\u001b[2;36m           \u001b[0m         \u001b[32m+axisymmetric_mesh\"\u001b[0m\u001b[1m)\u001b[0m might display irregular frequencies for \u001b[33mwavenumber\u001b[0m=\u001b[1;36m5\u001b[0m\u001b[1;36m.137931034482759\u001b[0m.     \n",
       "\u001b[2;36m           \u001b[0m         Setting a lid for the floating body is recommended.                                            \n"
      ]
     },
     "metadata": {},
     "output_type": "display_data"
    },
    {
     "name": "stdout",
     "output_type": "stream",
     "text": [
      "# of Panels:  2500\n"
     ]
    },
    {
     "data": {
      "text/html": [
       "<pre style=\"white-space:pre;overflow-x:auto;line-height:normal;font-family:Menlo,'DejaVu Sans Mono',consolas,'Courier New',monospace\"><span style=\"color: #7fbfbf; text-decoration-color: #7fbfbf\">[22:57:10] </span><span style=\"color: #808000; text-decoration-color: #808000\">WARNING </span> Mesh resolution for <span style=\"color: #800080; text-decoration-color: #800080; font-weight: bold\">RadiationProblem</span><span style=\"font-weight: bold\">(</span><span style=\"color: #808000; text-decoration-color: #808000\">body</span>=<span style=\"color: #800080; text-decoration-color: #800080; font-weight: bold\">FloatingBody</span><span style=\"font-weight: bold\">(</span><span style=\"color: #808000; text-decoration-color: #808000\">...</span>,                                    \n",
       "<span style=\"color: #7fbfbf; text-decoration-color: #7fbfbf\">           </span>         <span style=\"color: #808000; text-decoration-color: #808000\">name</span>=<span style=\"color: #008000; text-decoration-color: #008000\">\"axisymmetric_mesh+axisymmetric_mesh+axisymmetric_mesh+axisymmetric_mesh+axisymmetric_mesh</span>\n",
       "<span style=\"color: #7fbfbf; text-decoration-color: #7fbfbf\">           </span>         <span style=\"color: #008000; text-decoration-color: #008000\">+axisymmetric_mesh\"</span><span style=\"font-weight: bold\">)</span>, <span style=\"color: #808000; text-decoration-color: #808000\">wavenumber</span>=<span style=\"color: #008080; text-decoration-color: #008080; font-weight: bold\">5.310</span>, <span style=\"color: #808000; text-decoration-color: #808000\">water_depth</span>=<span style=\"color: #008080; text-decoration-color: #008080; font-weight: bold\">20.0</span>, <span style=\"color: #808000; text-decoration-color: #808000\">radiating_dof</span>=<span style=\"color: #008000; text-decoration-color: #008000\">'Heave'</span>, <span style=\"color: #808000; text-decoration-color: #808000\">rho</span>=<span style=\"color: #008080; text-decoration-color: #008080; font-weight: bold\">1023.0</span><span style=\"font-weight: bold\">)</span>:  \n",
       "<span style=\"color: #7fbfbf; text-decoration-color: #7fbfbf\">           </span>         The resolution of the mesh of the body <span style=\"color: #800080; text-decoration-color: #800080; font-weight: bold\">FloatingBody</span><span style=\"font-weight: bold\">(</span><span style=\"color: #808000; text-decoration-color: #808000\">...</span>,                                       \n",
       "<span style=\"color: #7fbfbf; text-decoration-color: #7fbfbf\">           </span>         <span style=\"color: #808000; text-decoration-color: #808000\">name</span>=<span style=\"color: #008000; text-decoration-color: #008000\">\"axisymmetric_mesh+axisymmetric_mesh+axisymmetric_mesh+axisymmetric_mesh+axisymmetric_mesh</span>\n",
       "<span style=\"color: #7fbfbf; text-decoration-color: #7fbfbf\">           </span>         <span style=\"color: #008000; text-decoration-color: #008000\">+axisymmetric_mesh\"</span><span style=\"font-weight: bold\">)</span> might be insufficient for <span style=\"color: #808000; text-decoration-color: #808000\">wavenumber</span>=<span style=\"color: #008080; text-decoration-color: #008080; font-weight: bold\">5.310344827586207</span>.                   \n",
       "<span style=\"color: #7fbfbf; text-decoration-color: #7fbfbf\">           </span>         This warning appears because the largest panel of this mesh has radius <span style=\"color: #008080; text-decoration-color: #008080; font-weight: bold\">0.992</span> &gt; wavelength/<span style=\"color: #008080; text-decoration-color: #008080; font-weight: bold\">8</span>.   \n",
       "</pre>\n"
      ],
      "text/plain": [
       "\u001b[2;36m[22:57:10]\u001b[0m\u001b[2;36m \u001b[0m\u001b[33mWARNING \u001b[0m Mesh resolution for \u001b[1;35mRadiationProblem\u001b[0m\u001b[1m(\u001b[0m\u001b[33mbody\u001b[0m=\u001b[1;35mFloatingBody\u001b[0m\u001b[1m(\u001b[0m\u001b[33m...\u001b[0m,                                    \n",
       "\u001b[2;36m           \u001b[0m         \u001b[33mname\u001b[0m=\u001b[32m\"axisymmetric_mesh\u001b[0m\u001b[32m+axisymmetric_mesh+axisymmetric_mesh+axisymmetric_mesh+axisymmetric_mesh\u001b[0m\n",
       "\u001b[2;36m           \u001b[0m         \u001b[32m+axisymmetric_mesh\"\u001b[0m\u001b[1m)\u001b[0m, \u001b[33mwavenumber\u001b[0m=\u001b[1;36m5\u001b[0m\u001b[1;36m.310\u001b[0m, \u001b[33mwater_depth\u001b[0m=\u001b[1;36m20\u001b[0m\u001b[1;36m.0\u001b[0m, \u001b[33mradiating_dof\u001b[0m=\u001b[32m'Heave'\u001b[0m, \u001b[33mrho\u001b[0m=\u001b[1;36m1023\u001b[0m\u001b[1;36m.0\u001b[0m\u001b[1m)\u001b[0m:  \n",
       "\u001b[2;36m           \u001b[0m         The resolution of the mesh of the body \u001b[1;35mFloatingBody\u001b[0m\u001b[1m(\u001b[0m\u001b[33m...\u001b[0m,                                       \n",
       "\u001b[2;36m           \u001b[0m         \u001b[33mname\u001b[0m=\u001b[32m\"axisymmetric_mesh\u001b[0m\u001b[32m+axisymmetric_mesh+axisymmetric_mesh+axisymmetric_mesh+axisymmetric_mesh\u001b[0m\n",
       "\u001b[2;36m           \u001b[0m         \u001b[32m+axisymmetric_mesh\"\u001b[0m\u001b[1m)\u001b[0m might be insufficient for \u001b[33mwavenumber\u001b[0m=\u001b[1;36m5\u001b[0m\u001b[1;36m.310344827586207\u001b[0m.                   \n",
       "\u001b[2;36m           \u001b[0m         This warning appears because the largest panel of this mesh has radius \u001b[1;36m0.992\u001b[0m > wavelength/\u001b[1;36m8\u001b[0m.   \n"
      ]
     },
     "metadata": {},
     "output_type": "display_data"
    },
    {
     "data": {
      "text/html": [
       "<pre style=\"white-space:pre;overflow-x:auto;line-height:normal;font-family:Menlo,'DejaVu Sans Mono',consolas,'Courier New',monospace\"><span style=\"color: #7fbfbf; text-decoration-color: #7fbfbf\">[22:57:15] </span><span style=\"color: #808000; text-decoration-color: #808000\">WARNING </span> Irregular frequencies for <span style=\"color: #800080; text-decoration-color: #800080; font-weight: bold\">RadiationProblem</span><span style=\"font-weight: bold\">(</span><span style=\"color: #808000; text-decoration-color: #808000\">body</span>=<span style=\"color: #800080; text-decoration-color: #800080; font-weight: bold\">FloatingBody</span><span style=\"font-weight: bold\">(</span><span style=\"color: #808000; text-decoration-color: #808000\">...</span>,                              \n",
       "<span style=\"color: #7fbfbf; text-decoration-color: #7fbfbf\">           </span>         <span style=\"color: #808000; text-decoration-color: #808000\">name</span>=<span style=\"color: #008000; text-decoration-color: #008000\">\"axisymmetric_mesh+axisymmetric_mesh+axisymmetric_mesh+axisymmetric_mesh+axisymmetric_mesh</span>\n",
       "<span style=\"color: #7fbfbf; text-decoration-color: #7fbfbf\">           </span>         <span style=\"color: #008000; text-decoration-color: #008000\">+axisymmetric_mesh\"</span><span style=\"font-weight: bold\">)</span>, <span style=\"color: #808000; text-decoration-color: #808000\">wavenumber</span>=<span style=\"color: #008080; text-decoration-color: #008080; font-weight: bold\">5.310</span>, <span style=\"color: #808000; text-decoration-color: #808000\">water_depth</span>=<span style=\"color: #008080; text-decoration-color: #008080; font-weight: bold\">20.0</span>, <span style=\"color: #808000; text-decoration-color: #808000\">radiating_dof</span>=<span style=\"color: #008000; text-decoration-color: #008000\">'Heave'</span>, <span style=\"color: #808000; text-decoration-color: #808000\">rho</span>=<span style=\"color: #008080; text-decoration-color: #008080; font-weight: bold\">1023.0</span><span style=\"font-weight: bold\">)</span>:  \n",
       "<span style=\"color: #7fbfbf; text-decoration-color: #7fbfbf\">           </span>         The body <span style=\"color: #800080; text-decoration-color: #800080; font-weight: bold\">FloatingBody</span><span style=\"font-weight: bold\">(</span><span style=\"color: #808000; text-decoration-color: #808000\">...</span>,                                                                     \n",
       "<span style=\"color: #7fbfbf; text-decoration-color: #7fbfbf\">           </span>         <span style=\"color: #808000; text-decoration-color: #808000\">name</span>=<span style=\"color: #008000; text-decoration-color: #008000\">\"axisymmetric_mesh+axisymmetric_mesh+axisymmetric_mesh+axisymmetric_mesh+axisymmetric_mesh</span>\n",
       "<span style=\"color: #7fbfbf; text-decoration-color: #7fbfbf\">           </span>         <span style=\"color: #008000; text-decoration-color: #008000\">+axisymmetric_mesh\"</span><span style=\"font-weight: bold\">)</span> might display irregular frequencies for <span style=\"color: #808000; text-decoration-color: #808000\">wavenumber</span>=<span style=\"color: #008080; text-decoration-color: #008080; font-weight: bold\">5.310344827586207</span>.     \n",
       "<span style=\"color: #7fbfbf; text-decoration-color: #7fbfbf\">           </span>         Setting a lid for the floating body is recommended.                                            \n",
       "</pre>\n"
      ],
      "text/plain": [
       "\u001b[2;36m[22:57:15]\u001b[0m\u001b[2;36m \u001b[0m\u001b[33mWARNING \u001b[0m Irregular frequencies for \u001b[1;35mRadiationProblem\u001b[0m\u001b[1m(\u001b[0m\u001b[33mbody\u001b[0m=\u001b[1;35mFloatingBody\u001b[0m\u001b[1m(\u001b[0m\u001b[33m...\u001b[0m,                              \n",
       "\u001b[2;36m           \u001b[0m         \u001b[33mname\u001b[0m=\u001b[32m\"axisymmetric_mesh\u001b[0m\u001b[32m+axisymmetric_mesh+axisymmetric_mesh+axisymmetric_mesh+axisymmetric_mesh\u001b[0m\n",
       "\u001b[2;36m           \u001b[0m         \u001b[32m+axisymmetric_mesh\"\u001b[0m\u001b[1m)\u001b[0m, \u001b[33mwavenumber\u001b[0m=\u001b[1;36m5\u001b[0m\u001b[1;36m.310\u001b[0m, \u001b[33mwater_depth\u001b[0m=\u001b[1;36m20\u001b[0m\u001b[1;36m.0\u001b[0m, \u001b[33mradiating_dof\u001b[0m=\u001b[32m'Heave'\u001b[0m, \u001b[33mrho\u001b[0m=\u001b[1;36m1023\u001b[0m\u001b[1;36m.0\u001b[0m\u001b[1m)\u001b[0m:  \n",
       "\u001b[2;36m           \u001b[0m         The body \u001b[1;35mFloatingBody\u001b[0m\u001b[1m(\u001b[0m\u001b[33m...\u001b[0m,                                                                     \n",
       "\u001b[2;36m           \u001b[0m         \u001b[33mname\u001b[0m=\u001b[32m\"axisymmetric_mesh\u001b[0m\u001b[32m+axisymmetric_mesh+axisymmetric_mesh+axisymmetric_mesh+axisymmetric_mesh\u001b[0m\n",
       "\u001b[2;36m           \u001b[0m         \u001b[32m+axisymmetric_mesh\"\u001b[0m\u001b[1m)\u001b[0m might display irregular frequencies for \u001b[33mwavenumber\u001b[0m=\u001b[1;36m5\u001b[0m\u001b[1;36m.310344827586207\u001b[0m.     \n",
       "\u001b[2;36m           \u001b[0m         Setting a lid for the floating body is recommended.                                            \n"
      ]
     },
     "metadata": {},
     "output_type": "display_data"
    },
    {
     "name": "stdout",
     "output_type": "stream",
     "text": [
      "# of Panels:  2500\n"
     ]
    },
    {
     "data": {
      "text/html": [
       "<pre style=\"white-space:pre;overflow-x:auto;line-height:normal;font-family:Menlo,'DejaVu Sans Mono',consolas,'Courier New',monospace\"><span style=\"color: #7fbfbf; text-decoration-color: #7fbfbf\">[22:57:18] </span><span style=\"color: #808000; text-decoration-color: #808000\">WARNING </span> Mesh resolution for <span style=\"color: #800080; text-decoration-color: #800080; font-weight: bold\">RadiationProblem</span><span style=\"font-weight: bold\">(</span><span style=\"color: #808000; text-decoration-color: #808000\">body</span>=<span style=\"color: #800080; text-decoration-color: #800080; font-weight: bold\">FloatingBody</span><span style=\"font-weight: bold\">(</span><span style=\"color: #808000; text-decoration-color: #808000\">...</span>,                                    \n",
       "<span style=\"color: #7fbfbf; text-decoration-color: #7fbfbf\">           </span>         <span style=\"color: #808000; text-decoration-color: #808000\">name</span>=<span style=\"color: #008000; text-decoration-color: #008000\">\"axisymmetric_mesh+axisymmetric_mesh+axisymmetric_mesh+axisymmetric_mesh+axisymmetric_mesh</span>\n",
       "<span style=\"color: #7fbfbf; text-decoration-color: #7fbfbf\">           </span>         <span style=\"color: #008000; text-decoration-color: #008000\">+axisymmetric_mesh\"</span><span style=\"font-weight: bold\">)</span>, <span style=\"color: #808000; text-decoration-color: #808000\">wavenumber</span>=<span style=\"color: #008080; text-decoration-color: #008080; font-weight: bold\">5.483</span>, <span style=\"color: #808000; text-decoration-color: #808000\">water_depth</span>=<span style=\"color: #008080; text-decoration-color: #008080; font-weight: bold\">20.0</span>, <span style=\"color: #808000; text-decoration-color: #808000\">radiating_dof</span>=<span style=\"color: #008000; text-decoration-color: #008000\">'Heave'</span>, <span style=\"color: #808000; text-decoration-color: #808000\">rho</span>=<span style=\"color: #008080; text-decoration-color: #008080; font-weight: bold\">1023.0</span><span style=\"font-weight: bold\">)</span>:  \n",
       "<span style=\"color: #7fbfbf; text-decoration-color: #7fbfbf\">           </span>         The resolution of the mesh of the body <span style=\"color: #800080; text-decoration-color: #800080; font-weight: bold\">FloatingBody</span><span style=\"font-weight: bold\">(</span><span style=\"color: #808000; text-decoration-color: #808000\">...</span>,                                       \n",
       "<span style=\"color: #7fbfbf; text-decoration-color: #7fbfbf\">           </span>         <span style=\"color: #808000; text-decoration-color: #808000\">name</span>=<span style=\"color: #008000; text-decoration-color: #008000\">\"axisymmetric_mesh+axisymmetric_mesh+axisymmetric_mesh+axisymmetric_mesh+axisymmetric_mesh</span>\n",
       "<span style=\"color: #7fbfbf; text-decoration-color: #7fbfbf\">           </span>         <span style=\"color: #008000; text-decoration-color: #008000\">+axisymmetric_mesh\"</span><span style=\"font-weight: bold\">)</span> might be insufficient for <span style=\"color: #808000; text-decoration-color: #808000\">wavenumber</span>=<span style=\"color: #008080; text-decoration-color: #008080; font-weight: bold\">5.482758620689656</span>.                   \n",
       "<span style=\"color: #7fbfbf; text-decoration-color: #7fbfbf\">           </span>         This warning appears because the largest panel of this mesh has radius <span style=\"color: #008080; text-decoration-color: #008080; font-weight: bold\">0.992</span> &gt; wavelength/<span style=\"color: #008080; text-decoration-color: #008080; font-weight: bold\">8</span>.   \n",
       "</pre>\n"
      ],
      "text/plain": [
       "\u001b[2;36m[22:57:18]\u001b[0m\u001b[2;36m \u001b[0m\u001b[33mWARNING \u001b[0m Mesh resolution for \u001b[1;35mRadiationProblem\u001b[0m\u001b[1m(\u001b[0m\u001b[33mbody\u001b[0m=\u001b[1;35mFloatingBody\u001b[0m\u001b[1m(\u001b[0m\u001b[33m...\u001b[0m,                                    \n",
       "\u001b[2;36m           \u001b[0m         \u001b[33mname\u001b[0m=\u001b[32m\"axisymmetric_mesh\u001b[0m\u001b[32m+axisymmetric_mesh+axisymmetric_mesh+axisymmetric_mesh+axisymmetric_mesh\u001b[0m\n",
       "\u001b[2;36m           \u001b[0m         \u001b[32m+axisymmetric_mesh\"\u001b[0m\u001b[1m)\u001b[0m, \u001b[33mwavenumber\u001b[0m=\u001b[1;36m5\u001b[0m\u001b[1;36m.483\u001b[0m, \u001b[33mwater_depth\u001b[0m=\u001b[1;36m20\u001b[0m\u001b[1;36m.0\u001b[0m, \u001b[33mradiating_dof\u001b[0m=\u001b[32m'Heave'\u001b[0m, \u001b[33mrho\u001b[0m=\u001b[1;36m1023\u001b[0m\u001b[1;36m.0\u001b[0m\u001b[1m)\u001b[0m:  \n",
       "\u001b[2;36m           \u001b[0m         The resolution of the mesh of the body \u001b[1;35mFloatingBody\u001b[0m\u001b[1m(\u001b[0m\u001b[33m...\u001b[0m,                                       \n",
       "\u001b[2;36m           \u001b[0m         \u001b[33mname\u001b[0m=\u001b[32m\"axisymmetric_mesh\u001b[0m\u001b[32m+axisymmetric_mesh+axisymmetric_mesh+axisymmetric_mesh+axisymmetric_mesh\u001b[0m\n",
       "\u001b[2;36m           \u001b[0m         \u001b[32m+axisymmetric_mesh\"\u001b[0m\u001b[1m)\u001b[0m might be insufficient for \u001b[33mwavenumber\u001b[0m=\u001b[1;36m5\u001b[0m\u001b[1;36m.482758620689656\u001b[0m.                   \n",
       "\u001b[2;36m           \u001b[0m         This warning appears because the largest panel of this mesh has radius \u001b[1;36m0.992\u001b[0m > wavelength/\u001b[1;36m8\u001b[0m.   \n"
      ]
     },
     "metadata": {},
     "output_type": "display_data"
    },
    {
     "data": {
      "text/html": [
       "<pre style=\"white-space:pre;overflow-x:auto;line-height:normal;font-family:Menlo,'DejaVu Sans Mono',consolas,'Courier New',monospace\"><span style=\"color: #7fbfbf; text-decoration-color: #7fbfbf\">[22:57:23] </span><span style=\"color: #808000; text-decoration-color: #808000\">WARNING </span> Irregular frequencies for <span style=\"color: #800080; text-decoration-color: #800080; font-weight: bold\">RadiationProblem</span><span style=\"font-weight: bold\">(</span><span style=\"color: #808000; text-decoration-color: #808000\">body</span>=<span style=\"color: #800080; text-decoration-color: #800080; font-weight: bold\">FloatingBody</span><span style=\"font-weight: bold\">(</span><span style=\"color: #808000; text-decoration-color: #808000\">...</span>,                              \n",
       "<span style=\"color: #7fbfbf; text-decoration-color: #7fbfbf\">           </span>         <span style=\"color: #808000; text-decoration-color: #808000\">name</span>=<span style=\"color: #008000; text-decoration-color: #008000\">\"axisymmetric_mesh+axisymmetric_mesh+axisymmetric_mesh+axisymmetric_mesh+axisymmetric_mesh</span>\n",
       "<span style=\"color: #7fbfbf; text-decoration-color: #7fbfbf\">           </span>         <span style=\"color: #008000; text-decoration-color: #008000\">+axisymmetric_mesh\"</span><span style=\"font-weight: bold\">)</span>, <span style=\"color: #808000; text-decoration-color: #808000\">wavenumber</span>=<span style=\"color: #008080; text-decoration-color: #008080; font-weight: bold\">5.483</span>, <span style=\"color: #808000; text-decoration-color: #808000\">water_depth</span>=<span style=\"color: #008080; text-decoration-color: #008080; font-weight: bold\">20.0</span>, <span style=\"color: #808000; text-decoration-color: #808000\">radiating_dof</span>=<span style=\"color: #008000; text-decoration-color: #008000\">'Heave'</span>, <span style=\"color: #808000; text-decoration-color: #808000\">rho</span>=<span style=\"color: #008080; text-decoration-color: #008080; font-weight: bold\">1023.0</span><span style=\"font-weight: bold\">)</span>:  \n",
       "<span style=\"color: #7fbfbf; text-decoration-color: #7fbfbf\">           </span>         The body <span style=\"color: #800080; text-decoration-color: #800080; font-weight: bold\">FloatingBody</span><span style=\"font-weight: bold\">(</span><span style=\"color: #808000; text-decoration-color: #808000\">...</span>,                                                                     \n",
       "<span style=\"color: #7fbfbf; text-decoration-color: #7fbfbf\">           </span>         <span style=\"color: #808000; text-decoration-color: #808000\">name</span>=<span style=\"color: #008000; text-decoration-color: #008000\">\"axisymmetric_mesh+axisymmetric_mesh+axisymmetric_mesh+axisymmetric_mesh+axisymmetric_mesh</span>\n",
       "<span style=\"color: #7fbfbf; text-decoration-color: #7fbfbf\">           </span>         <span style=\"color: #008000; text-decoration-color: #008000\">+axisymmetric_mesh\"</span><span style=\"font-weight: bold\">)</span> might display irregular frequencies for <span style=\"color: #808000; text-decoration-color: #808000\">wavenumber</span>=<span style=\"color: #008080; text-decoration-color: #008080; font-weight: bold\">5.482758620689656</span>.     \n",
       "<span style=\"color: #7fbfbf; text-decoration-color: #7fbfbf\">           </span>         Setting a lid for the floating body is recommended.                                            \n",
       "</pre>\n"
      ],
      "text/plain": [
       "\u001b[2;36m[22:57:23]\u001b[0m\u001b[2;36m \u001b[0m\u001b[33mWARNING \u001b[0m Irregular frequencies for \u001b[1;35mRadiationProblem\u001b[0m\u001b[1m(\u001b[0m\u001b[33mbody\u001b[0m=\u001b[1;35mFloatingBody\u001b[0m\u001b[1m(\u001b[0m\u001b[33m...\u001b[0m,                              \n",
       "\u001b[2;36m           \u001b[0m         \u001b[33mname\u001b[0m=\u001b[32m\"axisymmetric_mesh\u001b[0m\u001b[32m+axisymmetric_mesh+axisymmetric_mesh+axisymmetric_mesh+axisymmetric_mesh\u001b[0m\n",
       "\u001b[2;36m           \u001b[0m         \u001b[32m+axisymmetric_mesh\"\u001b[0m\u001b[1m)\u001b[0m, \u001b[33mwavenumber\u001b[0m=\u001b[1;36m5\u001b[0m\u001b[1;36m.483\u001b[0m, \u001b[33mwater_depth\u001b[0m=\u001b[1;36m20\u001b[0m\u001b[1;36m.0\u001b[0m, \u001b[33mradiating_dof\u001b[0m=\u001b[32m'Heave'\u001b[0m, \u001b[33mrho\u001b[0m=\u001b[1;36m1023\u001b[0m\u001b[1;36m.0\u001b[0m\u001b[1m)\u001b[0m:  \n",
       "\u001b[2;36m           \u001b[0m         The body \u001b[1;35mFloatingBody\u001b[0m\u001b[1m(\u001b[0m\u001b[33m...\u001b[0m,                                                                     \n",
       "\u001b[2;36m           \u001b[0m         \u001b[33mname\u001b[0m=\u001b[32m\"axisymmetric_mesh\u001b[0m\u001b[32m+axisymmetric_mesh+axisymmetric_mesh+axisymmetric_mesh+axisymmetric_mesh\u001b[0m\n",
       "\u001b[2;36m           \u001b[0m         \u001b[32m+axisymmetric_mesh\"\u001b[0m\u001b[1m)\u001b[0m might display irregular frequencies for \u001b[33mwavenumber\u001b[0m=\u001b[1;36m5\u001b[0m\u001b[1;36m.482758620689656\u001b[0m.     \n",
       "\u001b[2;36m           \u001b[0m         Setting a lid for the floating body is recommended.                                            \n"
      ]
     },
     "metadata": {},
     "output_type": "display_data"
    },
    {
     "name": "stdout",
     "output_type": "stream",
     "text": [
      "# of Panels:  2500\n"
     ]
    },
    {
     "data": {
      "text/html": [
       "<pre style=\"white-space:pre;overflow-x:auto;line-height:normal;font-family:Menlo,'DejaVu Sans Mono',consolas,'Courier New',monospace\"><span style=\"color: #7fbfbf; text-decoration-color: #7fbfbf\">[22:57:27] </span><span style=\"color: #808000; text-decoration-color: #808000\">WARNING </span> Mesh resolution for <span style=\"color: #800080; text-decoration-color: #800080; font-weight: bold\">RadiationProblem</span><span style=\"font-weight: bold\">(</span><span style=\"color: #808000; text-decoration-color: #808000\">body</span>=<span style=\"color: #800080; text-decoration-color: #800080; font-weight: bold\">FloatingBody</span><span style=\"font-weight: bold\">(</span><span style=\"color: #808000; text-decoration-color: #808000\">...</span>,                                    \n",
       "<span style=\"color: #7fbfbf; text-decoration-color: #7fbfbf\">           </span>         <span style=\"color: #808000; text-decoration-color: #808000\">name</span>=<span style=\"color: #008000; text-decoration-color: #008000\">\"axisymmetric_mesh+axisymmetric_mesh+axisymmetric_mesh+axisymmetric_mesh+axisymmetric_mesh</span>\n",
       "<span style=\"color: #7fbfbf; text-decoration-color: #7fbfbf\">           </span>         <span style=\"color: #008000; text-decoration-color: #008000\">+axisymmetric_mesh\"</span><span style=\"font-weight: bold\">)</span>, <span style=\"color: #808000; text-decoration-color: #808000\">wavenumber</span>=<span style=\"color: #008080; text-decoration-color: #008080; font-weight: bold\">5.655</span>, <span style=\"color: #808000; text-decoration-color: #808000\">water_depth</span>=<span style=\"color: #008080; text-decoration-color: #008080; font-weight: bold\">20.0</span>, <span style=\"color: #808000; text-decoration-color: #808000\">radiating_dof</span>=<span style=\"color: #008000; text-decoration-color: #008000\">'Heave'</span>, <span style=\"color: #808000; text-decoration-color: #808000\">rho</span>=<span style=\"color: #008080; text-decoration-color: #008080; font-weight: bold\">1023.0</span><span style=\"font-weight: bold\">)</span>:  \n",
       "<span style=\"color: #7fbfbf; text-decoration-color: #7fbfbf\">           </span>         The resolution of the mesh of the body <span style=\"color: #800080; text-decoration-color: #800080; font-weight: bold\">FloatingBody</span><span style=\"font-weight: bold\">(</span><span style=\"color: #808000; text-decoration-color: #808000\">...</span>,                                       \n",
       "<span style=\"color: #7fbfbf; text-decoration-color: #7fbfbf\">           </span>         <span style=\"color: #808000; text-decoration-color: #808000\">name</span>=<span style=\"color: #008000; text-decoration-color: #008000\">\"axisymmetric_mesh+axisymmetric_mesh+axisymmetric_mesh+axisymmetric_mesh+axisymmetric_mesh</span>\n",
       "<span style=\"color: #7fbfbf; text-decoration-color: #7fbfbf\">           </span>         <span style=\"color: #008000; text-decoration-color: #008000\">+axisymmetric_mesh\"</span><span style=\"font-weight: bold\">)</span> might be insufficient for <span style=\"color: #808000; text-decoration-color: #808000\">wavenumber</span>=<span style=\"color: #008080; text-decoration-color: #008080; font-weight: bold\">5.655172413793104</span>.                   \n",
       "<span style=\"color: #7fbfbf; text-decoration-color: #7fbfbf\">           </span>         This warning appears because the largest panel of this mesh has radius <span style=\"color: #008080; text-decoration-color: #008080; font-weight: bold\">0.992</span> &gt; wavelength/<span style=\"color: #008080; text-decoration-color: #008080; font-weight: bold\">8</span>.   \n",
       "</pre>\n"
      ],
      "text/plain": [
       "\u001b[2;36m[22:57:27]\u001b[0m\u001b[2;36m \u001b[0m\u001b[33mWARNING \u001b[0m Mesh resolution for \u001b[1;35mRadiationProblem\u001b[0m\u001b[1m(\u001b[0m\u001b[33mbody\u001b[0m=\u001b[1;35mFloatingBody\u001b[0m\u001b[1m(\u001b[0m\u001b[33m...\u001b[0m,                                    \n",
       "\u001b[2;36m           \u001b[0m         \u001b[33mname\u001b[0m=\u001b[32m\"axisymmetric_mesh\u001b[0m\u001b[32m+axisymmetric_mesh+axisymmetric_mesh+axisymmetric_mesh+axisymmetric_mesh\u001b[0m\n",
       "\u001b[2;36m           \u001b[0m         \u001b[32m+axisymmetric_mesh\"\u001b[0m\u001b[1m)\u001b[0m, \u001b[33mwavenumber\u001b[0m=\u001b[1;36m5\u001b[0m\u001b[1;36m.655\u001b[0m, \u001b[33mwater_depth\u001b[0m=\u001b[1;36m20\u001b[0m\u001b[1;36m.0\u001b[0m, \u001b[33mradiating_dof\u001b[0m=\u001b[32m'Heave'\u001b[0m, \u001b[33mrho\u001b[0m=\u001b[1;36m1023\u001b[0m\u001b[1;36m.0\u001b[0m\u001b[1m)\u001b[0m:  \n",
       "\u001b[2;36m           \u001b[0m         The resolution of the mesh of the body \u001b[1;35mFloatingBody\u001b[0m\u001b[1m(\u001b[0m\u001b[33m...\u001b[0m,                                       \n",
       "\u001b[2;36m           \u001b[0m         \u001b[33mname\u001b[0m=\u001b[32m\"axisymmetric_mesh\u001b[0m\u001b[32m+axisymmetric_mesh+axisymmetric_mesh+axisymmetric_mesh+axisymmetric_mesh\u001b[0m\n",
       "\u001b[2;36m           \u001b[0m         \u001b[32m+axisymmetric_mesh\"\u001b[0m\u001b[1m)\u001b[0m might be insufficient for \u001b[33mwavenumber\u001b[0m=\u001b[1;36m5\u001b[0m\u001b[1;36m.655172413793104\u001b[0m.                   \n",
       "\u001b[2;36m           \u001b[0m         This warning appears because the largest panel of this mesh has radius \u001b[1;36m0.992\u001b[0m > wavelength/\u001b[1;36m8\u001b[0m.   \n"
      ]
     },
     "metadata": {},
     "output_type": "display_data"
    },
    {
     "data": {
      "text/html": [
       "<pre style=\"white-space:pre;overflow-x:auto;line-height:normal;font-family:Menlo,'DejaVu Sans Mono',consolas,'Courier New',monospace\"><span style=\"color: #7fbfbf; text-decoration-color: #7fbfbf\">[22:57:32] </span><span style=\"color: #808000; text-decoration-color: #808000\">WARNING </span> Irregular frequencies for <span style=\"color: #800080; text-decoration-color: #800080; font-weight: bold\">RadiationProblem</span><span style=\"font-weight: bold\">(</span><span style=\"color: #808000; text-decoration-color: #808000\">body</span>=<span style=\"color: #800080; text-decoration-color: #800080; font-weight: bold\">FloatingBody</span><span style=\"font-weight: bold\">(</span><span style=\"color: #808000; text-decoration-color: #808000\">...</span>,                              \n",
       "<span style=\"color: #7fbfbf; text-decoration-color: #7fbfbf\">           </span>         <span style=\"color: #808000; text-decoration-color: #808000\">name</span>=<span style=\"color: #008000; text-decoration-color: #008000\">\"axisymmetric_mesh+axisymmetric_mesh+axisymmetric_mesh+axisymmetric_mesh+axisymmetric_mesh</span>\n",
       "<span style=\"color: #7fbfbf; text-decoration-color: #7fbfbf\">           </span>         <span style=\"color: #008000; text-decoration-color: #008000\">+axisymmetric_mesh\"</span><span style=\"font-weight: bold\">)</span>, <span style=\"color: #808000; text-decoration-color: #808000\">wavenumber</span>=<span style=\"color: #008080; text-decoration-color: #008080; font-weight: bold\">5.655</span>, <span style=\"color: #808000; text-decoration-color: #808000\">water_depth</span>=<span style=\"color: #008080; text-decoration-color: #008080; font-weight: bold\">20.0</span>, <span style=\"color: #808000; text-decoration-color: #808000\">radiating_dof</span>=<span style=\"color: #008000; text-decoration-color: #008000\">'Heave'</span>, <span style=\"color: #808000; text-decoration-color: #808000\">rho</span>=<span style=\"color: #008080; text-decoration-color: #008080; font-weight: bold\">1023.0</span><span style=\"font-weight: bold\">)</span>:  \n",
       "<span style=\"color: #7fbfbf; text-decoration-color: #7fbfbf\">           </span>         The body <span style=\"color: #800080; text-decoration-color: #800080; font-weight: bold\">FloatingBody</span><span style=\"font-weight: bold\">(</span><span style=\"color: #808000; text-decoration-color: #808000\">...</span>,                                                                     \n",
       "<span style=\"color: #7fbfbf; text-decoration-color: #7fbfbf\">           </span>         <span style=\"color: #808000; text-decoration-color: #808000\">name</span>=<span style=\"color: #008000; text-decoration-color: #008000\">\"axisymmetric_mesh+axisymmetric_mesh+axisymmetric_mesh+axisymmetric_mesh+axisymmetric_mesh</span>\n",
       "<span style=\"color: #7fbfbf; text-decoration-color: #7fbfbf\">           </span>         <span style=\"color: #008000; text-decoration-color: #008000\">+axisymmetric_mesh\"</span><span style=\"font-weight: bold\">)</span> might display irregular frequencies for <span style=\"color: #808000; text-decoration-color: #808000\">wavenumber</span>=<span style=\"color: #008080; text-decoration-color: #008080; font-weight: bold\">5.655172413793104</span>.     \n",
       "<span style=\"color: #7fbfbf; text-decoration-color: #7fbfbf\">           </span>         Setting a lid for the floating body is recommended.                                            \n",
       "</pre>\n"
      ],
      "text/plain": [
       "\u001b[2;36m[22:57:32]\u001b[0m\u001b[2;36m \u001b[0m\u001b[33mWARNING \u001b[0m Irregular frequencies for \u001b[1;35mRadiationProblem\u001b[0m\u001b[1m(\u001b[0m\u001b[33mbody\u001b[0m=\u001b[1;35mFloatingBody\u001b[0m\u001b[1m(\u001b[0m\u001b[33m...\u001b[0m,                              \n",
       "\u001b[2;36m           \u001b[0m         \u001b[33mname\u001b[0m=\u001b[32m\"axisymmetric_mesh\u001b[0m\u001b[32m+axisymmetric_mesh+axisymmetric_mesh+axisymmetric_mesh+axisymmetric_mesh\u001b[0m\n",
       "\u001b[2;36m           \u001b[0m         \u001b[32m+axisymmetric_mesh\"\u001b[0m\u001b[1m)\u001b[0m, \u001b[33mwavenumber\u001b[0m=\u001b[1;36m5\u001b[0m\u001b[1;36m.655\u001b[0m, \u001b[33mwater_depth\u001b[0m=\u001b[1;36m20\u001b[0m\u001b[1;36m.0\u001b[0m, \u001b[33mradiating_dof\u001b[0m=\u001b[32m'Heave'\u001b[0m, \u001b[33mrho\u001b[0m=\u001b[1;36m1023\u001b[0m\u001b[1;36m.0\u001b[0m\u001b[1m)\u001b[0m:  \n",
       "\u001b[2;36m           \u001b[0m         The body \u001b[1;35mFloatingBody\u001b[0m\u001b[1m(\u001b[0m\u001b[33m...\u001b[0m,                                                                     \n",
       "\u001b[2;36m           \u001b[0m         \u001b[33mname\u001b[0m=\u001b[32m\"axisymmetric_mesh\u001b[0m\u001b[32m+axisymmetric_mesh+axisymmetric_mesh+axisymmetric_mesh+axisymmetric_mesh\u001b[0m\n",
       "\u001b[2;36m           \u001b[0m         \u001b[32m+axisymmetric_mesh\"\u001b[0m\u001b[1m)\u001b[0m might display irregular frequencies for \u001b[33mwavenumber\u001b[0m=\u001b[1;36m5\u001b[0m\u001b[1;36m.655172413793104\u001b[0m.     \n",
       "\u001b[2;36m           \u001b[0m         Setting a lid for the floating body is recommended.                                            \n"
      ]
     },
     "metadata": {},
     "output_type": "display_data"
    },
    {
     "name": "stdout",
     "output_type": "stream",
     "text": [
      "# of Panels:  2500\n"
     ]
    },
    {
     "data": {
      "text/html": [
       "<pre style=\"white-space:pre;overflow-x:auto;line-height:normal;font-family:Menlo,'DejaVu Sans Mono',consolas,'Courier New',monospace\"><span style=\"color: #7fbfbf; text-decoration-color: #7fbfbf\">[22:57:35] </span><span style=\"color: #808000; text-decoration-color: #808000\">WARNING </span> Mesh resolution for <span style=\"color: #800080; text-decoration-color: #800080; font-weight: bold\">RadiationProblem</span><span style=\"font-weight: bold\">(</span><span style=\"color: #808000; text-decoration-color: #808000\">body</span>=<span style=\"color: #800080; text-decoration-color: #800080; font-weight: bold\">FloatingBody</span><span style=\"font-weight: bold\">(</span><span style=\"color: #808000; text-decoration-color: #808000\">...</span>,                                    \n",
       "<span style=\"color: #7fbfbf; text-decoration-color: #7fbfbf\">           </span>         <span style=\"color: #808000; text-decoration-color: #808000\">name</span>=<span style=\"color: #008000; text-decoration-color: #008000\">\"axisymmetric_mesh+axisymmetric_mesh+axisymmetric_mesh+axisymmetric_mesh+axisymmetric_mesh</span>\n",
       "<span style=\"color: #7fbfbf; text-decoration-color: #7fbfbf\">           </span>         <span style=\"color: #008000; text-decoration-color: #008000\">+axisymmetric_mesh\"</span><span style=\"font-weight: bold\">)</span>, <span style=\"color: #808000; text-decoration-color: #808000\">wavenumber</span>=<span style=\"color: #008080; text-decoration-color: #008080; font-weight: bold\">5.828</span>, <span style=\"color: #808000; text-decoration-color: #808000\">water_depth</span>=<span style=\"color: #008080; text-decoration-color: #008080; font-weight: bold\">20.0</span>, <span style=\"color: #808000; text-decoration-color: #808000\">radiating_dof</span>=<span style=\"color: #008000; text-decoration-color: #008000\">'Heave'</span>, <span style=\"color: #808000; text-decoration-color: #808000\">rho</span>=<span style=\"color: #008080; text-decoration-color: #008080; font-weight: bold\">1023.0</span><span style=\"font-weight: bold\">)</span>:  \n",
       "<span style=\"color: #7fbfbf; text-decoration-color: #7fbfbf\">           </span>         The resolution of the mesh of the body <span style=\"color: #800080; text-decoration-color: #800080; font-weight: bold\">FloatingBody</span><span style=\"font-weight: bold\">(</span><span style=\"color: #808000; text-decoration-color: #808000\">...</span>,                                       \n",
       "<span style=\"color: #7fbfbf; text-decoration-color: #7fbfbf\">           </span>         <span style=\"color: #808000; text-decoration-color: #808000\">name</span>=<span style=\"color: #008000; text-decoration-color: #008000\">\"axisymmetric_mesh+axisymmetric_mesh+axisymmetric_mesh+axisymmetric_mesh+axisymmetric_mesh</span>\n",
       "<span style=\"color: #7fbfbf; text-decoration-color: #7fbfbf\">           </span>         <span style=\"color: #008000; text-decoration-color: #008000\">+axisymmetric_mesh\"</span><span style=\"font-weight: bold\">)</span> might be insufficient for <span style=\"color: #808000; text-decoration-color: #808000\">wavenumber</span>=<span style=\"color: #008080; text-decoration-color: #008080; font-weight: bold\">5.827586206896552</span>.                   \n",
       "<span style=\"color: #7fbfbf; text-decoration-color: #7fbfbf\">           </span>         This warning appears because the largest panel of this mesh has radius <span style=\"color: #008080; text-decoration-color: #008080; font-weight: bold\">0.992</span> &gt; wavelength/<span style=\"color: #008080; text-decoration-color: #008080; font-weight: bold\">8</span>.   \n",
       "</pre>\n"
      ],
      "text/plain": [
       "\u001b[2;36m[22:57:35]\u001b[0m\u001b[2;36m \u001b[0m\u001b[33mWARNING \u001b[0m Mesh resolution for \u001b[1;35mRadiationProblem\u001b[0m\u001b[1m(\u001b[0m\u001b[33mbody\u001b[0m=\u001b[1;35mFloatingBody\u001b[0m\u001b[1m(\u001b[0m\u001b[33m...\u001b[0m,                                    \n",
       "\u001b[2;36m           \u001b[0m         \u001b[33mname\u001b[0m=\u001b[32m\"axisymmetric_mesh\u001b[0m\u001b[32m+axisymmetric_mesh+axisymmetric_mesh+axisymmetric_mesh+axisymmetric_mesh\u001b[0m\n",
       "\u001b[2;36m           \u001b[0m         \u001b[32m+axisymmetric_mesh\"\u001b[0m\u001b[1m)\u001b[0m, \u001b[33mwavenumber\u001b[0m=\u001b[1;36m5\u001b[0m\u001b[1;36m.828\u001b[0m, \u001b[33mwater_depth\u001b[0m=\u001b[1;36m20\u001b[0m\u001b[1;36m.0\u001b[0m, \u001b[33mradiating_dof\u001b[0m=\u001b[32m'Heave'\u001b[0m, \u001b[33mrho\u001b[0m=\u001b[1;36m1023\u001b[0m\u001b[1;36m.0\u001b[0m\u001b[1m)\u001b[0m:  \n",
       "\u001b[2;36m           \u001b[0m         The resolution of the mesh of the body \u001b[1;35mFloatingBody\u001b[0m\u001b[1m(\u001b[0m\u001b[33m...\u001b[0m,                                       \n",
       "\u001b[2;36m           \u001b[0m         \u001b[33mname\u001b[0m=\u001b[32m\"axisymmetric_mesh\u001b[0m\u001b[32m+axisymmetric_mesh+axisymmetric_mesh+axisymmetric_mesh+axisymmetric_mesh\u001b[0m\n",
       "\u001b[2;36m           \u001b[0m         \u001b[32m+axisymmetric_mesh\"\u001b[0m\u001b[1m)\u001b[0m might be insufficient for \u001b[33mwavenumber\u001b[0m=\u001b[1;36m5\u001b[0m\u001b[1;36m.827586206896552\u001b[0m.                   \n",
       "\u001b[2;36m           \u001b[0m         This warning appears because the largest panel of this mesh has radius \u001b[1;36m0.992\u001b[0m > wavelength/\u001b[1;36m8\u001b[0m.   \n"
      ]
     },
     "metadata": {},
     "output_type": "display_data"
    },
    {
     "data": {
      "text/html": [
       "<pre style=\"white-space:pre;overflow-x:auto;line-height:normal;font-family:Menlo,'DejaVu Sans Mono',consolas,'Courier New',monospace\"><span style=\"color: #7fbfbf; text-decoration-color: #7fbfbf\">[22:57:40] </span><span style=\"color: #808000; text-decoration-color: #808000\">WARNING </span> Irregular frequencies for <span style=\"color: #800080; text-decoration-color: #800080; font-weight: bold\">RadiationProblem</span><span style=\"font-weight: bold\">(</span><span style=\"color: #808000; text-decoration-color: #808000\">body</span>=<span style=\"color: #800080; text-decoration-color: #800080; font-weight: bold\">FloatingBody</span><span style=\"font-weight: bold\">(</span><span style=\"color: #808000; text-decoration-color: #808000\">...</span>,                              \n",
       "<span style=\"color: #7fbfbf; text-decoration-color: #7fbfbf\">           </span>         <span style=\"color: #808000; text-decoration-color: #808000\">name</span>=<span style=\"color: #008000; text-decoration-color: #008000\">\"axisymmetric_mesh+axisymmetric_mesh+axisymmetric_mesh+axisymmetric_mesh+axisymmetric_mesh</span>\n",
       "<span style=\"color: #7fbfbf; text-decoration-color: #7fbfbf\">           </span>         <span style=\"color: #008000; text-decoration-color: #008000\">+axisymmetric_mesh\"</span><span style=\"font-weight: bold\">)</span>, <span style=\"color: #808000; text-decoration-color: #808000\">wavenumber</span>=<span style=\"color: #008080; text-decoration-color: #008080; font-weight: bold\">5.828</span>, <span style=\"color: #808000; text-decoration-color: #808000\">water_depth</span>=<span style=\"color: #008080; text-decoration-color: #008080; font-weight: bold\">20.0</span>, <span style=\"color: #808000; text-decoration-color: #808000\">radiating_dof</span>=<span style=\"color: #008000; text-decoration-color: #008000\">'Heave'</span>, <span style=\"color: #808000; text-decoration-color: #808000\">rho</span>=<span style=\"color: #008080; text-decoration-color: #008080; font-weight: bold\">1023.0</span><span style=\"font-weight: bold\">)</span>:  \n",
       "<span style=\"color: #7fbfbf; text-decoration-color: #7fbfbf\">           </span>         The body <span style=\"color: #800080; text-decoration-color: #800080; font-weight: bold\">FloatingBody</span><span style=\"font-weight: bold\">(</span><span style=\"color: #808000; text-decoration-color: #808000\">...</span>,                                                                     \n",
       "<span style=\"color: #7fbfbf; text-decoration-color: #7fbfbf\">           </span>         <span style=\"color: #808000; text-decoration-color: #808000\">name</span>=<span style=\"color: #008000; text-decoration-color: #008000\">\"axisymmetric_mesh+axisymmetric_mesh+axisymmetric_mesh+axisymmetric_mesh+axisymmetric_mesh</span>\n",
       "<span style=\"color: #7fbfbf; text-decoration-color: #7fbfbf\">           </span>         <span style=\"color: #008000; text-decoration-color: #008000\">+axisymmetric_mesh\"</span><span style=\"font-weight: bold\">)</span> might display irregular frequencies for <span style=\"color: #808000; text-decoration-color: #808000\">wavenumber</span>=<span style=\"color: #008080; text-decoration-color: #008080; font-weight: bold\">5.827586206896552</span>.     \n",
       "<span style=\"color: #7fbfbf; text-decoration-color: #7fbfbf\">           </span>         Setting a lid for the floating body is recommended.                                            \n",
       "</pre>\n"
      ],
      "text/plain": [
       "\u001b[2;36m[22:57:40]\u001b[0m\u001b[2;36m \u001b[0m\u001b[33mWARNING \u001b[0m Irregular frequencies for \u001b[1;35mRadiationProblem\u001b[0m\u001b[1m(\u001b[0m\u001b[33mbody\u001b[0m=\u001b[1;35mFloatingBody\u001b[0m\u001b[1m(\u001b[0m\u001b[33m...\u001b[0m,                              \n",
       "\u001b[2;36m           \u001b[0m         \u001b[33mname\u001b[0m=\u001b[32m\"axisymmetric_mesh\u001b[0m\u001b[32m+axisymmetric_mesh+axisymmetric_mesh+axisymmetric_mesh+axisymmetric_mesh\u001b[0m\n",
       "\u001b[2;36m           \u001b[0m         \u001b[32m+axisymmetric_mesh\"\u001b[0m\u001b[1m)\u001b[0m, \u001b[33mwavenumber\u001b[0m=\u001b[1;36m5\u001b[0m\u001b[1;36m.828\u001b[0m, \u001b[33mwater_depth\u001b[0m=\u001b[1;36m20\u001b[0m\u001b[1;36m.0\u001b[0m, \u001b[33mradiating_dof\u001b[0m=\u001b[32m'Heave'\u001b[0m, \u001b[33mrho\u001b[0m=\u001b[1;36m1023\u001b[0m\u001b[1;36m.0\u001b[0m\u001b[1m)\u001b[0m:  \n",
       "\u001b[2;36m           \u001b[0m         The body \u001b[1;35mFloatingBody\u001b[0m\u001b[1m(\u001b[0m\u001b[33m...\u001b[0m,                                                                     \n",
       "\u001b[2;36m           \u001b[0m         \u001b[33mname\u001b[0m=\u001b[32m\"axisymmetric_mesh\u001b[0m\u001b[32m+axisymmetric_mesh+axisymmetric_mesh+axisymmetric_mesh+axisymmetric_mesh\u001b[0m\n",
       "\u001b[2;36m           \u001b[0m         \u001b[32m+axisymmetric_mesh\"\u001b[0m\u001b[1m)\u001b[0m might display irregular frequencies for \u001b[33mwavenumber\u001b[0m=\u001b[1;36m5\u001b[0m\u001b[1;36m.827586206896552\u001b[0m.     \n",
       "\u001b[2;36m           \u001b[0m         Setting a lid for the floating body is recommended.                                            \n"
      ]
     },
     "metadata": {},
     "output_type": "display_data"
    },
    {
     "name": "stdout",
     "output_type": "stream",
     "text": [
      "# of Panels:  2500\n"
     ]
    },
    {
     "data": {
      "text/html": [
       "<pre style=\"white-space:pre;overflow-x:auto;line-height:normal;font-family:Menlo,'DejaVu Sans Mono',consolas,'Courier New',monospace\"><span style=\"color: #7fbfbf; text-decoration-color: #7fbfbf\">[22:57:44] </span><span style=\"color: #808000; text-decoration-color: #808000\">WARNING </span> Mesh resolution for <span style=\"color: #800080; text-decoration-color: #800080; font-weight: bold\">RadiationProblem</span><span style=\"font-weight: bold\">(</span><span style=\"color: #808000; text-decoration-color: #808000\">body</span>=<span style=\"color: #800080; text-decoration-color: #800080; font-weight: bold\">FloatingBody</span><span style=\"font-weight: bold\">(</span><span style=\"color: #808000; text-decoration-color: #808000\">...</span>,                                    \n",
       "<span style=\"color: #7fbfbf; text-decoration-color: #7fbfbf\">           </span>         <span style=\"color: #808000; text-decoration-color: #808000\">name</span>=<span style=\"color: #008000; text-decoration-color: #008000\">\"axisymmetric_mesh+axisymmetric_mesh+axisymmetric_mesh+axisymmetric_mesh+axisymmetric_mesh</span>\n",
       "<span style=\"color: #7fbfbf; text-decoration-color: #7fbfbf\">           </span>         <span style=\"color: #008000; text-decoration-color: #008000\">+axisymmetric_mesh\"</span><span style=\"font-weight: bold\">)</span>, <span style=\"color: #808000; text-decoration-color: #808000\">wavenumber</span>=<span style=\"color: #008080; text-decoration-color: #008080; font-weight: bold\">6.000</span>, <span style=\"color: #808000; text-decoration-color: #808000\">water_depth</span>=<span style=\"color: #008080; text-decoration-color: #008080; font-weight: bold\">20.0</span>, <span style=\"color: #808000; text-decoration-color: #808000\">radiating_dof</span>=<span style=\"color: #008000; text-decoration-color: #008000\">'Heave'</span>, <span style=\"color: #808000; text-decoration-color: #808000\">rho</span>=<span style=\"color: #008080; text-decoration-color: #008080; font-weight: bold\">1023.0</span><span style=\"font-weight: bold\">)</span>:  \n",
       "<span style=\"color: #7fbfbf; text-decoration-color: #7fbfbf\">           </span>         The resolution of the mesh of the body <span style=\"color: #800080; text-decoration-color: #800080; font-weight: bold\">FloatingBody</span><span style=\"font-weight: bold\">(</span><span style=\"color: #808000; text-decoration-color: #808000\">...</span>,                                       \n",
       "<span style=\"color: #7fbfbf; text-decoration-color: #7fbfbf\">           </span>         <span style=\"color: #808000; text-decoration-color: #808000\">name</span>=<span style=\"color: #008000; text-decoration-color: #008000\">\"axisymmetric_mesh+axisymmetric_mesh+axisymmetric_mesh+axisymmetric_mesh+axisymmetric_mesh</span>\n",
       "<span style=\"color: #7fbfbf; text-decoration-color: #7fbfbf\">           </span>         <span style=\"color: #008000; text-decoration-color: #008000\">+axisymmetric_mesh\"</span><span style=\"font-weight: bold\">)</span> might be insufficient for <span style=\"color: #808000; text-decoration-color: #808000\">wavenumber</span>=<span style=\"color: #008080; text-decoration-color: #008080; font-weight: bold\">6.0</span>.                                 \n",
       "<span style=\"color: #7fbfbf; text-decoration-color: #7fbfbf\">           </span>         This warning appears because the largest panel of this mesh has radius <span style=\"color: #008080; text-decoration-color: #008080; font-weight: bold\">0.992</span> &gt; wavelength/<span style=\"color: #008080; text-decoration-color: #008080; font-weight: bold\">8</span>.   \n",
       "</pre>\n"
      ],
      "text/plain": [
       "\u001b[2;36m[22:57:44]\u001b[0m\u001b[2;36m \u001b[0m\u001b[33mWARNING \u001b[0m Mesh resolution for \u001b[1;35mRadiationProblem\u001b[0m\u001b[1m(\u001b[0m\u001b[33mbody\u001b[0m=\u001b[1;35mFloatingBody\u001b[0m\u001b[1m(\u001b[0m\u001b[33m...\u001b[0m,                                    \n",
       "\u001b[2;36m           \u001b[0m         \u001b[33mname\u001b[0m=\u001b[32m\"axisymmetric_mesh\u001b[0m\u001b[32m+axisymmetric_mesh+axisymmetric_mesh+axisymmetric_mesh+axisymmetric_mesh\u001b[0m\n",
       "\u001b[2;36m           \u001b[0m         \u001b[32m+axisymmetric_mesh\"\u001b[0m\u001b[1m)\u001b[0m, \u001b[33mwavenumber\u001b[0m=\u001b[1;36m6\u001b[0m\u001b[1;36m.000\u001b[0m, \u001b[33mwater_depth\u001b[0m=\u001b[1;36m20\u001b[0m\u001b[1;36m.0\u001b[0m, \u001b[33mradiating_dof\u001b[0m=\u001b[32m'Heave'\u001b[0m, \u001b[33mrho\u001b[0m=\u001b[1;36m1023\u001b[0m\u001b[1;36m.0\u001b[0m\u001b[1m)\u001b[0m:  \n",
       "\u001b[2;36m           \u001b[0m         The resolution of the mesh of the body \u001b[1;35mFloatingBody\u001b[0m\u001b[1m(\u001b[0m\u001b[33m...\u001b[0m,                                       \n",
       "\u001b[2;36m           \u001b[0m         \u001b[33mname\u001b[0m=\u001b[32m\"axisymmetric_mesh\u001b[0m\u001b[32m+axisymmetric_mesh+axisymmetric_mesh+axisymmetric_mesh+axisymmetric_mesh\u001b[0m\n",
       "\u001b[2;36m           \u001b[0m         \u001b[32m+axisymmetric_mesh\"\u001b[0m\u001b[1m)\u001b[0m might be insufficient for \u001b[33mwavenumber\u001b[0m=\u001b[1;36m6\u001b[0m\u001b[1;36m.0\u001b[0m.                                 \n",
       "\u001b[2;36m           \u001b[0m         This warning appears because the largest panel of this mesh has radius \u001b[1;36m0.992\u001b[0m > wavelength/\u001b[1;36m8\u001b[0m.   \n"
      ]
     },
     "metadata": {},
     "output_type": "display_data"
    },
    {
     "data": {
      "text/html": [
       "<pre style=\"white-space:pre;overflow-x:auto;line-height:normal;font-family:Menlo,'DejaVu Sans Mono',consolas,'Courier New',monospace\"><span style=\"color: #7fbfbf; text-decoration-color: #7fbfbf\">[22:57:48] </span><span style=\"color: #808000; text-decoration-color: #808000\">WARNING </span> Irregular frequencies for <span style=\"color: #800080; text-decoration-color: #800080; font-weight: bold\">RadiationProblem</span><span style=\"font-weight: bold\">(</span><span style=\"color: #808000; text-decoration-color: #808000\">body</span>=<span style=\"color: #800080; text-decoration-color: #800080; font-weight: bold\">FloatingBody</span><span style=\"font-weight: bold\">(</span><span style=\"color: #808000; text-decoration-color: #808000\">...</span>,                              \n",
       "<span style=\"color: #7fbfbf; text-decoration-color: #7fbfbf\">           </span>         <span style=\"color: #808000; text-decoration-color: #808000\">name</span>=<span style=\"color: #008000; text-decoration-color: #008000\">\"axisymmetric_mesh+axisymmetric_mesh+axisymmetric_mesh+axisymmetric_mesh+axisymmetric_mesh</span>\n",
       "<span style=\"color: #7fbfbf; text-decoration-color: #7fbfbf\">           </span>         <span style=\"color: #008000; text-decoration-color: #008000\">+axisymmetric_mesh\"</span><span style=\"font-weight: bold\">)</span>, <span style=\"color: #808000; text-decoration-color: #808000\">wavenumber</span>=<span style=\"color: #008080; text-decoration-color: #008080; font-weight: bold\">6.000</span>, <span style=\"color: #808000; text-decoration-color: #808000\">water_depth</span>=<span style=\"color: #008080; text-decoration-color: #008080; font-weight: bold\">20.0</span>, <span style=\"color: #808000; text-decoration-color: #808000\">radiating_dof</span>=<span style=\"color: #008000; text-decoration-color: #008000\">'Heave'</span>, <span style=\"color: #808000; text-decoration-color: #808000\">rho</span>=<span style=\"color: #008080; text-decoration-color: #008080; font-weight: bold\">1023.0</span><span style=\"font-weight: bold\">)</span>:  \n",
       "<span style=\"color: #7fbfbf; text-decoration-color: #7fbfbf\">           </span>         The body <span style=\"color: #800080; text-decoration-color: #800080; font-weight: bold\">FloatingBody</span><span style=\"font-weight: bold\">(</span><span style=\"color: #808000; text-decoration-color: #808000\">...</span>,                                                                     \n",
       "<span style=\"color: #7fbfbf; text-decoration-color: #7fbfbf\">           </span>         <span style=\"color: #808000; text-decoration-color: #808000\">name</span>=<span style=\"color: #008000; text-decoration-color: #008000\">\"axisymmetric_mesh+axisymmetric_mesh+axisymmetric_mesh+axisymmetric_mesh+axisymmetric_mesh</span>\n",
       "<span style=\"color: #7fbfbf; text-decoration-color: #7fbfbf\">           </span>         <span style=\"color: #008000; text-decoration-color: #008000\">+axisymmetric_mesh\"</span><span style=\"font-weight: bold\">)</span> might display irregular frequencies for <span style=\"color: #808000; text-decoration-color: #808000\">wavenumber</span>=<span style=\"color: #008080; text-decoration-color: #008080; font-weight: bold\">6.0</span>.                   \n",
       "<span style=\"color: #7fbfbf; text-decoration-color: #7fbfbf\">           </span>         Setting a lid for the floating body is recommended.                                            \n",
       "</pre>\n"
      ],
      "text/plain": [
       "\u001b[2;36m[22:57:48]\u001b[0m\u001b[2;36m \u001b[0m\u001b[33mWARNING \u001b[0m Irregular frequencies for \u001b[1;35mRadiationProblem\u001b[0m\u001b[1m(\u001b[0m\u001b[33mbody\u001b[0m=\u001b[1;35mFloatingBody\u001b[0m\u001b[1m(\u001b[0m\u001b[33m...\u001b[0m,                              \n",
       "\u001b[2;36m           \u001b[0m         \u001b[33mname\u001b[0m=\u001b[32m\"axisymmetric_mesh\u001b[0m\u001b[32m+axisymmetric_mesh+axisymmetric_mesh+axisymmetric_mesh+axisymmetric_mesh\u001b[0m\n",
       "\u001b[2;36m           \u001b[0m         \u001b[32m+axisymmetric_mesh\"\u001b[0m\u001b[1m)\u001b[0m, \u001b[33mwavenumber\u001b[0m=\u001b[1;36m6\u001b[0m\u001b[1;36m.000\u001b[0m, \u001b[33mwater_depth\u001b[0m=\u001b[1;36m20\u001b[0m\u001b[1;36m.0\u001b[0m, \u001b[33mradiating_dof\u001b[0m=\u001b[32m'Heave'\u001b[0m, \u001b[33mrho\u001b[0m=\u001b[1;36m1023\u001b[0m\u001b[1;36m.0\u001b[0m\u001b[1m)\u001b[0m:  \n",
       "\u001b[2;36m           \u001b[0m         The body \u001b[1;35mFloatingBody\u001b[0m\u001b[1m(\u001b[0m\u001b[33m...\u001b[0m,                                                                     \n",
       "\u001b[2;36m           \u001b[0m         \u001b[33mname\u001b[0m=\u001b[32m\"axisymmetric_mesh\u001b[0m\u001b[32m+axisymmetric_mesh+axisymmetric_mesh+axisymmetric_mesh+axisymmetric_mesh\u001b[0m\n",
       "\u001b[2;36m           \u001b[0m         \u001b[32m+axisymmetric_mesh\"\u001b[0m\u001b[1m)\u001b[0m might display irregular frequencies for \u001b[33mwavenumber\u001b[0m=\u001b[1;36m6\u001b[0m\u001b[1;36m.0\u001b[0m.                   \n",
       "\u001b[2;36m           \u001b[0m         Setting a lid for the floating body is recommended.                                            \n"
      ]
     },
     "metadata": {},
     "output_type": "display_data"
    },
    {
     "name": "stdout",
     "output_type": "stream",
     "text": [
      "# of Panels:  2500\n"
     ]
    }
   ],
   "source": [
    "# # Mini Bicylinder\n",
    "# h = 1.001\n",
    "# d = [0.25, 0.125]\n",
    "# a = [0.125, 0.25]\n",
    "# heaving = [1, 1]\n",
    "\n",
    "# # Small Bicylinder\n",
    "# h = 1.001\n",
    "# d = [0.5, 0.25]\n",
    "# a = [0.5, 1.0]\n",
    "# heaving = [1, 1]\n",
    "\n",
    "# # Big Bicylinder\n",
    "# h = 1.001\n",
    "# d = [0.75, 0.5]\n",
    "# a = [0.5, 0.75]\n",
    "# heaving = [1, 1]\n",
    "\n",
    "# # Mini Tricylinder\n",
    "# h = 2.001\n",
    "# d = [1.0, 0.5, 0.25]\n",
    "# a = [0.25, 0.5, 1.0]\n",
    "# heaving =[1, 1, 1]\n",
    "\n",
    "# Small Tricylinder\n",
    "h = 20.0\n",
    "d = [15, 10, 5]\n",
    "a = [5, 10, 15]\n",
    "heaving =[1, 1, 1]\n",
    "\n",
    "# # Big Tricylinder\n",
    "# h = 25.0\n",
    "# d = [20, 15, 10]\n",
    "# a = [10, 15, 20]\n",
    "# heaving =[1, 1, 1]\n",
    "\n",
    "# # Some Bicylinder\n",
    "# h = 1.001\n",
    "# d = [0.75, 0.25]\n",
    "# a = [0.25, 0.75]\n",
    "# heaving = [1, 1]\n",
    "\n",
    "t_densities = [50, 50, 50] # number of panels around each cylinder\n",
    "face_units = 50 # number of panels along the outline of the configuration\n",
    "m0 = 1\n",
    "rho = 1023 # density of our special material\n",
    "config = \"config0\"\n",
    "\n",
    "m0_nums = np.concatenate((np.linspace(0.1, 1, 20), np.linspace(1, 6, 30)))\n",
    "\n",
    "results = [rb_solve(a, d, heaving, t_densities, face_units, m0, h, rho) for m0 in m0_nums]\n",
    "# results = rb_solve(a, d, heaving, t_densities, face_units, m0, h, rho)\n",
    "\n",
    "hydro_collector_real_CPT = [res[2].flatten() for res in results]\n",
    "hydro_collector_imag_CPT = [res[3].flatten() for res in results]\n",
    "\n",
    "# plt.figure()\n",
    "# plt.plot(m0_nums,A_nondim, m0_nums,B_nondim, '*-')\n",
    "# plt.xlabel(\"Wavenumber m0\")\n",
    "# plt.ylabel(\"Added mass (kg)\")\n",
    "# plt.show()\n",
    "\n",
    "# panel_mult = [20,30,40]\n",
    "# results = [rb_solve(a, d, heaving, t_densities*i, face_units*i, 2, h, rho) for i in panel_mult]\n",
    "\n",
    "# A_nondim = [res[2].flatten() for res in results]\n",
    "# B_nondim = [res[3].flatten() for res in results]\n",
    "\n",
    "# plt.figure()\n",
    "# plt.plot(panel_mult,A_nondim, panel_mult,B_nondim, '*-')\n",
    "# plt.xlabel(\"resolution multiplier\")\n",
    "# plt.ylabel(\"Added mass (kg)\")\n",
    "# plt.show()\n",
    "\n"
   ]
  },
  {
   "cell_type": "code",
   "execution_count": 10,
   "metadata": {},
   "outputs": [
    {
     "data": {
      "image/png": "[encoded data removed]",
      "text/plain": [
       "<Figure size 500x500 with 1 Axes>"
      ]
     },
     "metadata": {},
     "output_type": "display_data"
    }
   ],
   "source": [
    "# Create the plots\n",
    "plt.figure(figsize=(5,5))\n",
    "plt.plot(m0_nums, hydro_collector_real_CPT, label='A-Mass Capytaine',  linestyle=':')\n",
    "plt.plot(m0_nums, hydro_collector_imag_CPT, label='Damping Capytaine',  linestyle=':') \n",
    "\n",
    "plt.xlabel('m0')\n",
    "plt.ylabel('')\n",
    "plt.title('Slant Hydro Coeffs MEEM vs Capytaine ')\n",
    "plt.legend(loc='best')\n",
    "plt.grid(True)\n",
    "# plt.ylim(-0.02, 1.5)\n",
    "\n",
    "plt.tight_layout()\n",
    "plt.show()"
   ]
  },
  {
   "cell_type": "code",
   "execution_count": null,
   "metadata": {},
   "outputs": [],
   "source": [
    "plt.figure()\n",
    "plt.plot(panel_mult,A_nondim)\n",
    "plt.xlabel(\"resolution multiplier\")\n",
    "plt.ylabel(\"Added mass (kg)\")\n",
    "plt.show()\n"
   ]
  },
  {
   "cell_type": "code",
   "execution_count": 33,
   "metadata": {},
   "outputs": [
    {
     "name": "stdout",
     "output_type": "stream",
     "text": [
      "pyCapytaine_mu_nondim = [2.830145849023367 0.9612560526812186 0.8905066241476098 0.8359458082233631 0.7912857868071146 0.7533229802963917 0.7204698827928295 0.6916910312622299 0.6661552619787712 0.6421106760245646 0.6223137557048558 0.6030660839465698 0.5855513266401267 0.5694765724760519 0.554979382443524 0.5415464053207449 0.5287830790940118 0.5173816249796778 0.5068599399987725 0.4969994841801853 0.49699948418018536 0.4667635957623288 0.4437117570764719 0.4270109908279275 0.4142350105253891 0.4049580699850535 0.39869461087013514 0.39521584839375407 0.3923597835658513 0.3918483461850354 0.392026154471042 0.3930295113051248 0.39531194843794637 0.3976387451187765 0.4003451873995892 0.40333605084418994 0.40636894734830675 0.40974943492730914 0.41309994091103014 0.41640497920705927 0.4200291288568071 0.42369734357250677 0.4279653204864854 0.4318256362224606 0.44033761471307736 0.451403429950912 0.31216588589121524 0.4107556300502315 0.4263371597329694 0.429720394605228];\n",
      "pyCapytaine_lambda_nondim = [0.042322713261741425 0.062378041764722544 0.08135187391079421 0.09958009394330077 0.11698313580280882 0.13349840884932224 0.14907832373538693 0.16367794157473367 0.17730833279474936 0.18997356024911258 0.20157101385439277 0.21225137936444077 0.22196508819179778 0.2307668641621142 0.23865288513630004 0.24562042733203018 0.2517592517640627 0.25713738204397374 0.2616802258763816 0.2654748935155518 0.2654748935155518 0.27387060527799717 0.2750103191427231 0.27014584256487684 0.2613678707250369 0.24955029279070823 0.23594035106037592 0.22073433786858826 0.20609366655414318 0.19069152036870055 0.17613288287592757 0.16224068090133725 0.1481594218907305 0.13544972752484913 0.12373922349030803 0.11226044430160206 0.10272409353037334 0.09332198048460603 0.08404833254132955 0.07550125714158772 0.06851789253274532 0.061503178499887845 0.05526734058960116 0.04773113049002249 0.04092273713436367 0.020882761221550326 -0.09956317399856218 0.03559143592281631 0.03479412801731934 0.030540063692536843];\n"
     ]
    }
   ],
   "source": [
    "# print(A_nondim)\n",
    "# print(B_nondim)\n",
    "\n",
    "# Extract values from NumPy arrays\n",
    "flat_list1 = [x.item() for x in A_nondim]\n",
    "flat_list2 = [x.item() for x in B_nondim]\n",
    "\n",
    "# Convert to MATLAB-style string\n",
    "matlab_list1 = \"pyCapytaine_mu_nondim = [\" + \" \".join(map(str, flat_list1)) + \"];\"\n",
    "matlab_list2 = \"pyCapytaine_lambda_nondim = [\" + \" \".join(map(str, flat_list2)) + \"];\"\n",
    "\n",
    "# Print MATLAB code\n",
    "print(matlab_list1)\n",
    "print(matlab_list2)\n",
    "\n",
    "\n"
   ]
  },
  {
   "cell_type": "code",
   "execution_count": null,
   "metadata": {},
   "outputs": [],
   "source": [
    "list1 = np.linspace(0.1, 1, 20)\n",
    "list2 = np.linspace(1, 3, 10)\n",
    "list3 = np.concatenate((list1, list2))\n",
    "print(list1)\n",
    "print(list2)\n",
    "print(list3)"
   ]
  },
  {
   "cell_type": "code",
   "execution_count": null,
   "metadata": {},
   "outputs": [],
   "source": [
    "\n",
    "print(m0_nums)"
   ]
  },
  {
   "cell_type": "code",
   "execution_count": null,
   "metadata": {},
   "outputs": [],
   "source": [
    "#staircase  - compound cylinder\n",
    "h = 1.5\n",
    "d = [1.1, 0.85, 0.75, 0.4, 0.15]\n",
    "a = [0.3, 0.5, 1, 1.2, 1.6]\n",
    "heaving = [1, 1, 1, 1, 1]\n",
    "t_densities = [30, 50, 100, 120, 160]\n",
    "face_units = 93\n",
    "m0 = 1\n",
    "rho = 1023\n",
    "config = \"config1\"\n",
    "\n",
    "\n",
    "result, panel_count = rb_solve(a, d, heaving, t_densities, face_units, m0, h, rho)"
   ]
  },
  {
   "cell_type": "code",
   "execution_count": null,
   "metadata": {},
   "outputs": [],
   "source": [
    "#tall  - compound cylinder\n",
    "h = 100\n",
    "d = [29, 7, 4]\n",
    "a = [3, 5, 10]\n",
    "heaving = [1, 1, 1]\n",
    "t_densities = [30, 50, 100]\n",
    "face_units = 110\n",
    "m0 = 1\n",
    "rho = 1023\n",
    "config = \"config2\"\n",
    "\n",
    "result, panel_count = rb_solve(a, d, heaving, t_densities, face_units, m0, h, rho)"
   ]
  },
  {
   "cell_type": "code",
   "execution_count": null,
   "metadata": {},
   "outputs": [],
   "source": [
    "#indents  - compound cylinder\n",
    "h = 1.9\n",
    "d = [0.5, 0.7, 0.8, 0.2, 0.5]\n",
    "a = [0.3, 0.5, 1, 1.2, 1.6]\n",
    "heaving = [1, 1, 1, 1, 1]\n",
    "t_densities = [30, 50, 100, 120, 160]\n",
    "face_units = 105\n",
    "m0 = 1\n",
    "rho = 1023\n",
    "config = \"config3\"\n",
    "\n",
    "result, panel_count = rb_solve(a, d, heaving, t_densities, face_units, m0, h, rho)"
   ]
  },
  {
   "cell_type": "code",
   "execution_count": null,
   "metadata": {},
   "outputs": [],
   "source": [
    "#original - only outer heaving\n",
    "h = 1.001\n",
    "d = [0.5, 0.25]\n",
    "a = [0.5, 1]\n",
    "heaving = [0, 1]\n",
    "t_densities = [50, 100]\n",
    "face_units = 90\n",
    "m0 = 1\n",
    "rho = 1023\n",
    "config = \"config4\"\n",
    "\n",
    "result, panel_count = rb_solve(a, d, heaving, t_densities, face_units, m0, h, rho)"
   ]
  },
  {
   "cell_type": "code",
   "execution_count": null,
   "metadata": {},
   "outputs": [],
   "source": [
    "#original - only inner heaving\n",
    "h = 1.001\n",
    "d = [0.5, 0.25]\n",
    "a = [0.5, 1]\n",
    "heaving = [1, 0]\n",
    "t_densities = [50, 100]\n",
    "face_units = 90\n",
    "m0 = 1\n",
    "rho = 1023\n",
    "config = \"config5\"\n",
    "\n",
    "result, panel_count = rb_solve(a, d, heaving, t_densities, face_units, m0, h, rho)"
   ]
  },
  {
   "cell_type": "code",
   "execution_count": null,
   "metadata": {},
   "outputs": [],
   "source": [
    "#tall  - spar not heaving\n",
    "h = 100\n",
    "d = [29, 7, 4]\n",
    "a = [3, 5, 10]\n",
    "heaving = [0, 1, 1]\n",
    "t_densities = [30, 50, 100]\n",
    "face_units = 110\n",
    "m0 = 1\n",
    "rho = 1023\n",
    "config = \"config6\"\n",
    "\n",
    "result, panel_count = rb_solve(a, d, heaving, t_densities, face_units, m0, h, rho)"
   ]
  },
  {
   "cell_type": "code",
   "execution_count": null,
   "metadata": {
    "id": "Y__0sy0z_D-7"
   },
   "outputs": [],
   "source": [
    "# Get potentials\n",
    "# Define the ranges for R and Z\n",
    "R_range = np.linspace(0.0, 2*a[-1], num=50)\n",
    "theta_range = np.linspace(-np.pi, np.pi, num=4)\n",
    "Z_range = np.linspace(0, -h, num=50) #h\n",
    "\n",
    "# Create mesh grids for R, theta, and Z\n",
    "R, theta, Z = np.meshgrid(R_range, theta_range, Z_range, indexing='ij')\n",
    "\n",
    "# Convert cylindrical coordinates to Cartesian coordinates for capytaine\n",
    "X = R * np.cos(theta)\n",
    "Y = R * np.sin(theta)\n",
    "Z = Z\n",
    "# Create an array of shape (N, 3)\n",
    "points = np.zeros((R.size, 3))\n",
    "\n",
    "# Assign the values of R, Z, and y to the array\n",
    "points[:, 0] = X.ravel()\n",
    "points[:, 1] = Y.ravel()\n",
    "points[:, 2] = Z.ravel()\n",
    "#need cartesian here\n",
    "phi_inc = solver.compute_potential(points,result) #rad problem\n",
    "\n",
    "regions = []\n",
    "regions.append((R <= a[0]) & (Z > -d[0]))\n",
    "for i in range(1, len(a)):\n",
    "    regions.append((R > a[i-1]) & (R <= a[i]) & (Z > -d[i]))\n",
    "regions.append(R > a[-1])\n",
    "\n",
    "# Apply masks to create a blank plot in specified regions\n",
    "phi_inc = phi_inc.reshape((50,4,50))\n",
    "\n",
    "for i in range(len(a)):\n",
    "  phi_inc[regions[i]] = np.nan\n",
    "\n"
   ]
  },
  {
   "cell_type": "code",
   "execution_count": null,
   "metadata": {
    "id": "rNvMTwcSHgNT"
   },
   "outputs": [],
   "source": [
    "# Get velocities\n",
    "vel_inc = solver.compute_velocity(points,result)\n",
    "velx_inc = vel_inc[:,0].reshape((50,4,50))\n",
    "vely_inc = vel_inc[:,1].reshape((50,4,50))\n",
    "velz_inc = vel_inc[:,2].reshape((50,4,50))\n",
    "for i in range(len(a)):\n",
    "  velx_inc[regions[i]] = np.nan\n",
    "  vely_inc[regions[i]] = np.nan\n",
    "  velz_inc[regions[i]] = np.nan"
   ]
  },
  {
   "cell_type": "code",
   "execution_count": null,
   "metadata": {
    "colab": {
     "base_uri": "https://localhost:8080/",
     "height": 1000
    },
    "id": "-7Zut1alw6zS",
    "outputId": "5cf0dff0-4741-408a-864a-e37a20e9caef"
   },
   "outputs": [],
   "source": [
    "# Plot potentials and velocities\n",
    "# The slicing limits the y-value to 0 because we only care about the x-z (r-z) plane.\n",
    "plt.contourf(R[:, 0, :], Z[:, 0, :], phi_inc[:, 0, :], cmap='viridis', levels = 50)\n",
    "plt.colorbar(label='Potential')\n",
    "plt.contour(R[:, 0, :], Z[:, 0, :], phi_inc[:, 0, :], colors='black', linestyles='solid', linewidths=0.05,levels=50)\n",
    "\n",
    "# Add labels and title\n",
    "plt.xlabel('R')\n",
    "plt.ylabel('Z')\n",
    "plt.title('Contour Plot of Re(Potential) using BEM')\n",
    "\n",
    "plt.show()\n",
    "\n",
    "imag_phi_inc = np.imag(phi_inc[:, 0, :])\n",
    "\n",
    "nan_mask = np.isnan(np.real(phi_inc[:, 0, :]))\n",
    "\n",
    "np.imag(phi_inc[:, 0, :])[nan_mask] = np.nan\n",
    "\n",
    "plt.contourf(R[:, 0, :], Z[:, 0, :], imag_phi_inc, cmap='viridis', levels = 50)\n",
    "plt.colorbar(label='Potential')\n",
    "plt.contour(R[:, 0, :], Z[:, 0, :], imag_phi_inc, colors='black', linestyles='solid', linewidths=0.05,levels=50)\n",
    "\n",
    "\n",
    "# Add labels and title\n",
    "plt.xlabel('R')\n",
    "plt.ylabel('Z')\n",
    "plt.title('Contour Plot of Im(Potential) using BEM')\n",
    "\n",
    "plt.show()\n",
    "\n",
    "def plot_vel(data, title):\n",
    "  plt.contourf(R[:, 0, :], Z[:, 0, :], data[:, 0, :], cmap='viridis', levels = 50)\n",
    "  plt.colorbar(label='V')\n",
    "  plt.contour(R[:, 0, :], Z[:, 0, :], data[:, 0, :], colors='black', linestyles='solid', linewidths=0.05,levels=50)\n",
    "\n",
    "  # Add labels and title\n",
    "  plt.xlabel('R')\n",
    "  plt.ylabel('Z')\n",
    "  plt.title(title)\n",
    "\n",
    "  plt.show()\n",
    "\n",
    "nan_mask = np.isnan(np.real(velx_inc))\n",
    "\n",
    "velx_imag = np.imag(velx_inc)\n",
    "velz_imag = np.imag(velz_inc)\n",
    "\n",
    "velx_imag[nan_mask] = np.nan\n",
    "velz_imag[nan_mask] = np.nan\n",
    "\n",
    "plot_vel(velx_inc, \"Contour Plot of Re(Vx) using BEM\")\n",
    "plot_vel(velx_imag, \"Contour Plot of Im(Vx) using BEM\")\n",
    "plot_vel(velz_inc, \"Contour Plot of Re(Vz) using BEM\")\n",
    "plot_vel(velz_imag, \"Contour Plot of Im(Vz) using BEM\")\n"
   ]
  },
  {
   "cell_type": "code",
   "execution_count": null,
   "metadata": {
    "colab": {
     "base_uri": "https://localhost:8080/"
    },
    "id": "sa0mkZllZw_V",
    "outputId": "b67eb2b3-636d-4bcb-b73a-74f5f7a5e070"
   },
   "outputs": [],
   "source": [
    "save_potential_array(config, phi_inc[:, 0, :])\n",
    "# WARNING: This overwrites existing files with the same name. Ensure that <config> is correct before running."
   ]
  }
 ],
 "metadata": {
  "colab": {
   "provenance": []
  },
  "kernelspec": {
   "display_name": "MEEM",
   "language": "python",
   "name": "python3"
  },
  "language_info": {
   "codemirror_mode": {
    "name": "ipython",
    "version": 3
   },
   "file_extension": ".py",
   "mimetype": "text/x-python",
   "name": "python",
   "nbconvert_exporter": "python",
   "pygments_lexer": "ipython3",
   "version": "3.10.16"
  }
 },
 "nbformat": 4,
 "nbformat_minor": 4
}
